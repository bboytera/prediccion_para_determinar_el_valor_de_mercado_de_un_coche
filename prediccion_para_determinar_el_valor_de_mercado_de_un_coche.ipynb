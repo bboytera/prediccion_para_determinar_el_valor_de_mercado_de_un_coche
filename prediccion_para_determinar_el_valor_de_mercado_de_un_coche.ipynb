{
 "cells": [
  {
   "cell_type": "markdown",
   "metadata": {},
   "source": [
    "# Descripción del proyecto"
   ]
  },
  {
   "cell_type": "markdown",
   "metadata": {},
   "source": [
    "Rusty Bargain es un servicio de venta de coches de segunda mano que está desarrollando una app para atraer a nuevos clientes. Gracias a esta app, podemos averiguar rápidamente el valor de mercado de un coche. Tenemos acceso al historial, especificaciones técnicas, versiones de equipamiento y precios. La tarea es crear un modelo que determine el valor del mercado.\n",
    "\n",
    "A Rusty Bargain le interesa:\n",
    "\n",
    "- **La calidad de la predicción**\n",
    "- **La velocidad de la predicción**\n",
    "- **El tiempo requerido para el entrenamiento**"
   ]
  },
  {
   "cell_type": "markdown",
   "metadata": {},
   "source": [
    "# Descripción de los datos"
   ]
  },
  {
   "cell_type": "markdown",
   "metadata": {},
   "source": [
    "El dataset está almacenado en el archivo /datasets/car_data.csv\n",
    "\n",
    "**Características:**\n",
    "\n",
    "- `DateCrawled` — fecha en la que se descargó el perfil de la base de datos\n",
    "- `VehicleType` — tipo de carrocería del vehículo\n",
    "- `RegistrationYear` — año de matriculación del vehículo\n",
    "- `Gearbox` — tipo de caja de cambios\n",
    "- `Power`— potencia (CV)\n",
    "- `Model` — modelo del vehículo\n",
    "- `Mileage` — kilometraje (medido en km de acuerdo con las especificidades regionales del conjunto de datos)\n",
    "- `RegistrationMonth`  — mes de matriculación del vehículo\n",
    "- `FuelType`  — tipo de combustible\n",
    "- `Brand` — marca del vehículo\n",
    "- `NotRepaired`  — vehículo con o sin reparación\n",
    "- `DateCreated` — fecha de creación del perfil\n",
    "- `NumberOfPictures` — número de fotos del vehículo\n",
    "- `PostalCode` — código postal del propietario del perfil (usuario)\n",
    "- `LastSeen` — fecha de la última vez que el usuario estuvo activo\n",
    "\n",
    "**Objetivo:**\n",
    "\n",
    "- `Price` — precio (en euros)"
   ]
  },
  {
   "cell_type": "markdown",
   "metadata": {},
   "source": [
    "# Importamos librerias y cargamos datos"
   ]
  },
  {
   "cell_type": "code",
   "execution_count": 13,
   "metadata": {},
   "outputs": [],
   "source": [
    "#Importamos las librerias\n",
    "import pandas as pd\n",
    "import numpy as np\n",
    "import matplotlib.pyplot as plt\n",
    "\n",
    "from datetime import datetime\n",
    "from sklearn.model_selection import train_test_split\n",
    "from sklearn.tree import DecisionTreeRegressor\n",
    "from sklearn.ensemble import RandomForestRegressor, GradientBoostingRegressor\n",
    "from sklearn.linear_model import LinearRegression\n",
    "from sklearn.metrics import mean_squared_error\n",
    "import time\n",
    "from sklearn.preprocessing import OneHotEncoder\n",
    "import lightgbm as lgb\n",
    "import xgboost as xgb\n",
    "from catboost import CatBoostRegressor\n"
   ]
  },
  {
   "cell_type": "code",
   "execution_count": 5,
   "metadata": {},
   "outputs": [],
   "source": [
    "# Cargamos el dataset\n",
    "df = pd.read_csv('https://practicum-content.s3.us-west-1.amazonaws.com/datasets/car_data.csv')"
   ]
  },
  {
   "cell_type": "code",
   "execution_count": 6,
   "metadata": {},
   "outputs": [
    {
     "data": {
      "text/html": [
       "<div>\n",
       "<style scoped>\n",
       "    .dataframe tbody tr th:only-of-type {\n",
       "        vertical-align: middle;\n",
       "    }\n",
       "\n",
       "    .dataframe tbody tr th {\n",
       "        vertical-align: top;\n",
       "    }\n",
       "\n",
       "    .dataframe thead th {\n",
       "        text-align: right;\n",
       "    }\n",
       "</style>\n",
       "<table border=\"1\" class=\"dataframe\">\n",
       "  <thead>\n",
       "    <tr style=\"text-align: right;\">\n",
       "      <th></th>\n",
       "      <th>DateCrawled</th>\n",
       "      <th>Price</th>\n",
       "      <th>VehicleType</th>\n",
       "      <th>RegistrationYear</th>\n",
       "      <th>Gearbox</th>\n",
       "      <th>Power</th>\n",
       "      <th>Model</th>\n",
       "      <th>Mileage</th>\n",
       "      <th>RegistrationMonth</th>\n",
       "      <th>FuelType</th>\n",
       "      <th>Brand</th>\n",
       "      <th>NotRepaired</th>\n",
       "      <th>DateCreated</th>\n",
       "      <th>NumberOfPictures</th>\n",
       "      <th>PostalCode</th>\n",
       "      <th>LastSeen</th>\n",
       "    </tr>\n",
       "  </thead>\n",
       "  <tbody>\n",
       "    <tr>\n",
       "      <th>0</th>\n",
       "      <td>24/03/2016 11:52</td>\n",
       "      <td>480</td>\n",
       "      <td>NaN</td>\n",
       "      <td>1993</td>\n",
       "      <td>manual</td>\n",
       "      <td>0</td>\n",
       "      <td>golf</td>\n",
       "      <td>150000</td>\n",
       "      <td>0</td>\n",
       "      <td>petrol</td>\n",
       "      <td>volkswagen</td>\n",
       "      <td>NaN</td>\n",
       "      <td>24/03/2016 00:00</td>\n",
       "      <td>0</td>\n",
       "      <td>70435</td>\n",
       "      <td>07/04/2016 03:16</td>\n",
       "    </tr>\n",
       "    <tr>\n",
       "      <th>1</th>\n",
       "      <td>24/03/2016 10:58</td>\n",
       "      <td>18300</td>\n",
       "      <td>coupe</td>\n",
       "      <td>2011</td>\n",
       "      <td>manual</td>\n",
       "      <td>190</td>\n",
       "      <td>NaN</td>\n",
       "      <td>125000</td>\n",
       "      <td>5</td>\n",
       "      <td>gasoline</td>\n",
       "      <td>audi</td>\n",
       "      <td>yes</td>\n",
       "      <td>24/03/2016 00:00</td>\n",
       "      <td>0</td>\n",
       "      <td>66954</td>\n",
       "      <td>07/04/2016 01:46</td>\n",
       "    </tr>\n",
       "    <tr>\n",
       "      <th>2</th>\n",
       "      <td>14/03/2016 12:52</td>\n",
       "      <td>9800</td>\n",
       "      <td>suv</td>\n",
       "      <td>2004</td>\n",
       "      <td>auto</td>\n",
       "      <td>163</td>\n",
       "      <td>grand</td>\n",
       "      <td>125000</td>\n",
       "      <td>8</td>\n",
       "      <td>gasoline</td>\n",
       "      <td>jeep</td>\n",
       "      <td>NaN</td>\n",
       "      <td>14/03/2016 00:00</td>\n",
       "      <td>0</td>\n",
       "      <td>90480</td>\n",
       "      <td>05/04/2016 12:47</td>\n",
       "    </tr>\n",
       "  </tbody>\n",
       "</table>\n",
       "</div>"
      ],
      "text/plain": [
       "        DateCrawled  Price VehicleType  RegistrationYear Gearbox  Power  \\\n",
       "0  24/03/2016 11:52    480         NaN              1993  manual      0   \n",
       "1  24/03/2016 10:58  18300       coupe              2011  manual    190   \n",
       "2  14/03/2016 12:52   9800         suv              2004    auto    163   \n",
       "\n",
       "   Model  Mileage  RegistrationMonth  FuelType       Brand NotRepaired  \\\n",
       "0   golf   150000                  0    petrol  volkswagen         NaN   \n",
       "1    NaN   125000                  5  gasoline        audi         yes   \n",
       "2  grand   125000                  8  gasoline        jeep         NaN   \n",
       "\n",
       "        DateCreated  NumberOfPictures  PostalCode          LastSeen  \n",
       "0  24/03/2016 00:00                 0       70435  07/04/2016 03:16  \n",
       "1  24/03/2016 00:00                 0       66954  07/04/2016 01:46  \n",
       "2  14/03/2016 00:00                 0       90480  05/04/2016 12:47  "
      ]
     },
     "execution_count": 6,
     "metadata": {},
     "output_type": "execute_result"
    }
   ],
   "source": [
    "#Imprimimos una muestra de datos\n",
    "df.head(3)"
   ]
  },
  {
   "cell_type": "code",
   "execution_count": 7,
   "metadata": {},
   "outputs": [
    {
     "name": "stdout",
     "output_type": "stream",
     "text": [
      "<class 'pandas.core.frame.DataFrame'>\n",
      "RangeIndex: 354369 entries, 0 to 354368\n",
      "Data columns (total 16 columns):\n",
      " #   Column             Non-Null Count   Dtype \n",
      "---  ------             --------------   ----- \n",
      " 0   DateCrawled        354369 non-null  object\n",
      " 1   Price              354369 non-null  int64 \n",
      " 2   VehicleType        316879 non-null  object\n",
      " 3   RegistrationYear   354369 non-null  int64 \n",
      " 4   Gearbox            334536 non-null  object\n",
      " 5   Power              354369 non-null  int64 \n",
      " 6   Model              334664 non-null  object\n",
      " 7   Mileage            354369 non-null  int64 \n",
      " 8   RegistrationMonth  354369 non-null  int64 \n",
      " 9   FuelType           321474 non-null  object\n",
      " 10  Brand              354369 non-null  object\n",
      " 11  NotRepaired        283215 non-null  object\n",
      " 12  DateCreated        354369 non-null  object\n",
      " 13  NumberOfPictures   354369 non-null  int64 \n",
      " 14  PostalCode         354369 non-null  int64 \n",
      " 15  LastSeen           354369 non-null  object\n",
      "dtypes: int64(7), object(9)\n",
      "memory usage: 43.3+ MB\n"
     ]
    }
   ],
   "source": [
    "#vemos una informacion general de los datos\n",
    "df.info()"
   ]
  },
  {
   "cell_type": "code",
   "execution_count": 8,
   "metadata": {},
   "outputs": [
    {
     "data": {
      "text/plain": [
       "262"
      ]
     },
     "execution_count": 8,
     "metadata": {},
     "output_type": "execute_result"
    }
   ],
   "source": [
    "#contabilizamos los valores duplicados\n",
    "df.duplicated().sum()"
   ]
  },
  {
   "cell_type": "code",
   "execution_count": 9,
   "metadata": {},
   "outputs": [
    {
     "data": {
      "text/plain": [
       "(354107, 16)"
      ]
     },
     "execution_count": 9,
     "metadata": {},
     "output_type": "execute_result"
    }
   ],
   "source": [
    "#eliminamos valores duplicados y reseteamos el indice\n",
    "df = df.drop_duplicates().reset_index(drop=True)\n",
    "df.shape"
   ]
  },
  {
   "cell_type": "code",
   "execution_count": 10,
   "metadata": {},
   "outputs": [
    {
     "data": {
      "text/plain": [
       "DateCrawled              0\n",
       "Price                    0\n",
       "VehicleType          37484\n",
       "RegistrationYear         0\n",
       "Gearbox              19830\n",
       "Power                    0\n",
       "Model                19701\n",
       "Mileage                  0\n",
       "RegistrationMonth        0\n",
       "FuelType             32889\n",
       "Brand                    0\n",
       "NotRepaired          71145\n",
       "DateCreated              0\n",
       "NumberOfPictures         0\n",
       "PostalCode               0\n",
       "LastSeen                 0\n",
       "dtype: int64"
      ]
     },
     "execution_count": 10,
     "metadata": {},
     "output_type": "execute_result"
    }
   ],
   "source": [
    "df.isna().sum()"
   ]
  },
  {
   "cell_type": "markdown",
   "metadata": {},
   "source": [
    "### Vamos a ver los porcentajes de las columnas con valores nulos para ver como proceder posteriormente"
   ]
  },
  {
   "cell_type": "code",
   "execution_count": 7,
   "metadata": {},
   "outputs": [
    {
     "name": "stdout",
     "output_type": "stream",
     "text": [
      "NotRepaired:  % 20.09138480741697\n"
     ]
    }
   ],
   "source": [
    "porcentaje_nulos_not_repaired = df['NotRepaired'].isnull().sum() / len(df['NotRepaired']) * 100\n",
    "print('NotRepaired:', ' %', porcentaje_nulos_not_repaired )"
   ]
  },
  {
   "cell_type": "code",
   "execution_count": 8,
   "metadata": {},
   "outputs": [
    {
     "name": "stdout",
     "output_type": "stream",
     "text": [
      "VehicleType :  % 10.585500992637819\n"
     ]
    }
   ],
   "source": [
    "porcentaje_nulos_vehicle_type = df['VehicleType'].isnull().sum() / len(df['VehicleType']) * 100\n",
    "print('VehicleType :', ' %', porcentaje_nulos_vehicle_type )"
   ]
  },
  {
   "cell_type": "code",
   "execution_count": 9,
   "metadata": {},
   "outputs": [
    {
     "name": "stdout",
     "output_type": "stream",
     "text": [
      " FuelType:  % 9.287870615378967\n"
     ]
    }
   ],
   "source": [
    "porcentaje_nulos_fueltype = df['FuelType'].isnull().sum() / len(df['FuelType']) * 100\n",
    "print(' FuelType:', ' %', porcentaje_nulos_fueltype )"
   ]
  },
  {
   "cell_type": "code",
   "execution_count": 10,
   "metadata": {},
   "outputs": [
    {
     "name": "stdout",
     "output_type": "stream",
     "text": [
      "Gearbox:  % 5.600002259204139\n"
     ]
    }
   ],
   "source": [
    "porcentaje_nulos_gearbox = df['Gearbox'].isnull().sum() / len(df['Gearbox']) * 100\n",
    "print('Gearbox:', ' %', porcentaje_nulos_gearbox )"
   ]
  },
  {
   "cell_type": "code",
   "execution_count": 11,
   "metadata": {},
   "outputs": [
    {
     "name": "stdout",
     "output_type": "stream",
     "text": [
      "Model:  % 5.56357259246499\n"
     ]
    }
   ],
   "source": [
    "porcentaje_nulos_model = df['Model'].isnull().sum() / len(df['Model']) * 100\n",
    "print('Model:', ' %', porcentaje_nulos_model )"
   ]
  },
  {
   "cell_type": "markdown",
   "metadata": {},
   "source": [
    "#  Imputacion de valores nulos"
   ]
  },
  {
   "cell_type": "markdown",
   "metadata": {},
   "source": [
    "procederemos a rellenar los valores nulos de las columnas con la moda ya que son columnas de clasificacion"
   ]
  },
  {
   "cell_type": "code",
   "execution_count": 12,
   "metadata": {},
   "outputs": [
    {
     "data": {
      "text/plain": [
       "no     246927\n",
       "yes     36035\n",
       "Name: NotRepaired, dtype: int64"
      ]
     },
     "execution_count": 12,
     "metadata": {},
     "output_type": "execute_result"
    }
   ],
   "source": [
    "#Columna NotRepaired\n",
    "df['NotRepaired'].value_counts()"
   ]
  },
  {
   "cell_type": "code",
   "execution_count": 13,
   "metadata": {},
   "outputs": [],
   "source": [
    "# Rellenar los valores nulos con la moda ('no')\n",
    "df['NotRepaired'].fillna('no', inplace=True)"
   ]
  },
  {
   "cell_type": "code",
   "execution_count": 14,
   "metadata": {},
   "outputs": [
    {
     "data": {
      "text/plain": [
       "0"
      ]
     },
     "execution_count": 14,
     "metadata": {},
     "output_type": "execute_result"
    }
   ],
   "source": [
    "#Comprobamos que ya no hay valores nulos\n",
    "df['NotRepaired'].isna().sum()"
   ]
  },
  {
   "cell_type": "code",
   "execution_count": 15,
   "metadata": {},
   "outputs": [
    {
     "data": {
      "text/plain": [
       "array([nan, 'coupe', 'suv', 'small', 'sedan', 'convertible', 'bus',\n",
       "       'wagon', 'other'], dtype=object)"
      ]
     },
     "execution_count": 15,
     "metadata": {},
     "output_type": "execute_result"
    }
   ],
   "source": [
    "#Columna VehicleType\n",
    "df['VehicleType'].unique()"
   ]
  },
  {
   "cell_type": "code",
   "execution_count": 16,
   "metadata": {},
   "outputs": [
    {
     "data": {
      "text/plain": [
       "sedan          91399\n",
       "small          79753\n",
       "wagon          65115\n",
       "bus            28752\n",
       "convertible    20180\n",
       "coupe          16147\n",
       "suv            11991\n",
       "other           3286\n",
       "Name: VehicleType, dtype: int64"
      ]
     },
     "execution_count": 16,
     "metadata": {},
     "output_type": "execute_result"
    }
   ],
   "source": [
    "df['VehicleType'].value_counts()"
   ]
  },
  {
   "cell_type": "code",
   "execution_count": 17,
   "metadata": {},
   "outputs": [],
   "source": [
    "# Rellenar los valores nulos con la moda ('sedan')\n",
    "df['VehicleType'].fillna('sedan', inplace=True)"
   ]
  },
  {
   "cell_type": "code",
   "execution_count": 18,
   "metadata": {},
   "outputs": [
    {
     "data": {
      "text/plain": [
       "0"
      ]
     },
     "execution_count": 18,
     "metadata": {},
     "output_type": "execute_result"
    }
   ],
   "source": [
    "#Comprobamos que ya no hay valores nulos\n",
    "df['VehicleType'].isna().sum()"
   ]
  },
  {
   "cell_type": "code",
   "execution_count": 19,
   "metadata": {},
   "outputs": [
    {
     "data": {
      "text/plain": [
       "array(['petrol', 'gasoline', nan, 'lpg', 'other', 'hybrid', 'cng',\n",
       "       'electric'], dtype=object)"
      ]
     },
     "execution_count": 19,
     "metadata": {},
     "output_type": "execute_result"
    }
   ],
   "source": [
    "#Columna FuelType\n",
    "df['FuelType'].unique()"
   ]
  },
  {
   "cell_type": "code",
   "execution_count": 20,
   "metadata": {},
   "outputs": [
    {
     "data": {
      "text/plain": [
       "petrol      216161\n",
       "gasoline     98658\n",
       "lpg           5307\n",
       "cng            565\n",
       "hybrid         233\n",
       "other          204\n",
       "electric        90\n",
       "Name: FuelType, dtype: int64"
      ]
     },
     "execution_count": 20,
     "metadata": {},
     "output_type": "execute_result"
    }
   ],
   "source": [
    "df['FuelType'].value_counts()"
   ]
  },
  {
   "cell_type": "code",
   "execution_count": 21,
   "metadata": {},
   "outputs": [],
   "source": [
    "# Rellenar los valores nulos con la moda ('sedan')\n",
    "df['FuelType'].fillna('petrol', inplace=True)"
   ]
  },
  {
   "cell_type": "code",
   "execution_count": 22,
   "metadata": {},
   "outputs": [
    {
     "data": {
      "text/plain": [
       "0"
      ]
     },
     "execution_count": 22,
     "metadata": {},
     "output_type": "execute_result"
    }
   ],
   "source": [
    "#Comprobamos que ya no hay valores nulos\n",
    "df['FuelType'].isna().sum()"
   ]
  },
  {
   "cell_type": "code",
   "execution_count": 23,
   "metadata": {},
   "outputs": [
    {
     "data": {
      "text/plain": [
       "array(['manual', 'auto', nan], dtype=object)"
      ]
     },
     "execution_count": 23,
     "metadata": {},
     "output_type": "execute_result"
    }
   ],
   "source": [
    "#Columna Gearbox\n",
    "df['Gearbox'].unique()"
   ]
  },
  {
   "cell_type": "code",
   "execution_count": 24,
   "metadata": {},
   "outputs": [
    {
     "data": {
      "text/plain": [
       "manual    268034\n",
       "auto       66243\n",
       "Name: Gearbox, dtype: int64"
      ]
     },
     "execution_count": 24,
     "metadata": {},
     "output_type": "execute_result"
    }
   ],
   "source": [
    "df['Gearbox'].value_counts()"
   ]
  },
  {
   "cell_type": "code",
   "execution_count": 25,
   "metadata": {},
   "outputs": [],
   "source": [
    "# Rellenar los valores nulos con la moda ('sedan')\n",
    "df['Gearbox'].fillna('manual', inplace=True)"
   ]
  },
  {
   "cell_type": "code",
   "execution_count": 26,
   "metadata": {},
   "outputs": [
    {
     "data": {
      "text/plain": [
       "0"
      ]
     },
     "execution_count": 26,
     "metadata": {},
     "output_type": "execute_result"
    }
   ],
   "source": [
    "#Comprobamos que ya no hay valores nulos\n",
    "df['Gearbox'].isna().sum()"
   ]
  },
  {
   "cell_type": "code",
   "execution_count": 27,
   "metadata": {},
   "outputs": [
    {
     "data": {
      "text/plain": [
       "array(['golf', nan, 'grand', 'fabia', '3er', '2_reihe', 'other', 'c_max',\n",
       "       '3_reihe', 'passat', 'navara', 'ka', 'polo', 'twingo', 'a_klasse',\n",
       "       'scirocco', '5er', 'meriva', 'arosa', 'c4', 'civic', 'transporter',\n",
       "       'punto', 'e_klasse', 'clio', 'kadett', 'kangoo', 'corsa', 'one',\n",
       "       'fortwo', '1er', 'b_klasse', 'signum', 'astra', 'a8', 'jetta',\n",
       "       'fiesta', 'c_klasse', 'micra', 'vito', 'sprinter', '156', 'escort',\n",
       "       'forester', 'xc_reihe', 'scenic', 'a4', 'a1', 'insignia', 'combo',\n",
       "       'focus', 'tt', 'a6', 'jazz', 'omega', 'slk', '7er', '80', '147',\n",
       "       '100', 'z_reihe', 'sportage', 'sorento', 'v40', 'ibiza', 'mustang',\n",
       "       'eos', 'touran', 'getz', 'a3', 'almera', 'megane', 'lupo', 'r19',\n",
       "       'zafira', 'caddy', 'mondeo', 'cordoba', 'colt', 'impreza',\n",
       "       'vectra', 'berlingo', 'tiguan', 'i_reihe', 'espace', 'sharan',\n",
       "       '6_reihe', 'panda', 'up', 'seicento', 'ceed', '5_reihe', 'yeti',\n",
       "       'octavia', 'mii', 'rx_reihe', '6er', 'modus', 'fox', 'matiz',\n",
       "       'beetle', 'c1', 'rio', 'touareg', 'logan', 'spider', 'cuore',\n",
       "       's_max', 'a2', 'galaxy', 'c3', 'viano', 's_klasse', '1_reihe',\n",
       "       'avensis', 'roomster', 'sl', 'kaefer', 'santa', 'cooper', 'leon',\n",
       "       '4_reihe', 'a5', '500', 'laguna', 'ptcruiser', 'clk', 'primera',\n",
       "       'x_reihe', 'exeo', '159', 'transit', 'juke', 'qashqai', 'carisma',\n",
       "       'accord', 'corolla', 'lanos', 'phaeton', 'verso', 'swift', 'rav',\n",
       "       'picanto', 'boxster', 'kalos', 'superb', 'stilo', 'alhambra',\n",
       "       'mx_reihe', 'roadster', 'ypsilon', 'cayenne', 'galant', 'justy',\n",
       "       '90', 'sirion', 'crossfire', 'agila', 'duster', 'cr_reihe', 'v50',\n",
       "       'c_reihe', 'v_klasse', 'm_klasse', 'yaris', 'c5', 'aygo', 'cc',\n",
       "       'carnival', 'fusion', '911', 'bora', 'forfour', 'm_reihe', 'cl',\n",
       "       'tigra', '300c', 'spark', 'v70', 'kuga', 'x_type', 'ducato',\n",
       "       's_type', 'x_trail', 'toledo', 'altea', 'voyager', 'calibra',\n",
       "       'bravo', 'antara', 'tucson', 'citigo', 'jimny', 'wrangler',\n",
       "       'lybra', 'q7', 'lancer', 'captiva', 'c2', 'discovery',\n",
       "       'freelander', 'sandero', 'note', '900', 'cherokee', 'clubman',\n",
       "       'samara', 'defender', '601', 'cx_reihe', 'legacy', 'pajero',\n",
       "       'auris', 'niva', 's60', 'nubira', 'vivaro', 'g_klasse', 'lodgy',\n",
       "       '850', 'range_rover', 'q3', 'serie_2', 'glk', 'charade', 'croma',\n",
       "       'outlander', 'doblo', 'musa', 'move', '9000', 'v60', '145', 'aveo',\n",
       "       '200', 'b_max', 'range_rover_sport', 'terios', 'rangerover', 'q5',\n",
       "       'range_rover_evoque', 'materia', 'delta', 'gl', 'kalina', 'amarok',\n",
       "       'elefantino', 'i3', 'kappa', 'serie_3', 'serie_1'], dtype=object)"
      ]
     },
     "execution_count": 27,
     "metadata": {},
     "output_type": "execute_result"
    }
   ],
   "source": [
    "#Columna Model\n",
    "df['Model'].unique()"
   ]
  },
  {
   "cell_type": "code",
   "execution_count": 28,
   "metadata": {},
   "outputs": [
    {
     "data": {
      "text/plain": [
       "golf                  29215\n",
       "other                 24402\n",
       "3er                   19744\n",
       "polo                  13057\n",
       "corsa                 12559\n",
       "                      ...  \n",
       "serie_2                   8\n",
       "rangerover                4\n",
       "serie_3                   4\n",
       "serie_1                   2\n",
       "range_rover_evoque        2\n",
       "Name: Model, Length: 250, dtype: int64"
      ]
     },
     "execution_count": 28,
     "metadata": {},
     "output_type": "execute_result"
    }
   ],
   "source": [
    "df['Model'].value_counts()"
   ]
  },
  {
   "cell_type": "code",
   "execution_count": 29,
   "metadata": {},
   "outputs": [],
   "source": [
    "# Rellenar los valores nulos con la moda ('golf')\n",
    "df['Model'].fillna('golf', inplace=True)"
   ]
  },
  {
   "cell_type": "code",
   "execution_count": 30,
   "metadata": {},
   "outputs": [
    {
     "data": {
      "text/plain": [
       "0"
      ]
     },
     "execution_count": 30,
     "metadata": {},
     "output_type": "execute_result"
    }
   ],
   "source": [
    "#Comprobamos que ya no hay valores nulos\n",
    "df['Model'].isna().sum()"
   ]
  },
  {
   "cell_type": "code",
   "execution_count": 31,
   "metadata": {},
   "outputs": [
    {
     "name": "stdout",
     "output_type": "stream",
     "text": [
      "<class 'pandas.core.frame.DataFrame'>\n",
      "RangeIndex: 354107 entries, 0 to 354106\n",
      "Data columns (total 16 columns):\n",
      " #   Column             Non-Null Count   Dtype \n",
      "---  ------             --------------   ----- \n",
      " 0   DateCrawled        354107 non-null  object\n",
      " 1   Price              354107 non-null  int64 \n",
      " 2   VehicleType        354107 non-null  object\n",
      " 3   RegistrationYear   354107 non-null  int64 \n",
      " 4   Gearbox            354107 non-null  object\n",
      " 5   Power              354107 non-null  int64 \n",
      " 6   Model              354107 non-null  object\n",
      " 7   Mileage            354107 non-null  int64 \n",
      " 8   RegistrationMonth  354107 non-null  int64 \n",
      " 9   FuelType           354107 non-null  object\n",
      " 10  Brand              354107 non-null  object\n",
      " 11  NotRepaired        354107 non-null  object\n",
      " 12  DateCreated        354107 non-null  object\n",
      " 13  NumberOfPictures   354107 non-null  int64 \n",
      " 14  PostalCode         354107 non-null  int64 \n",
      " 15  LastSeen           354107 non-null  object\n",
      "dtypes: int64(7), object(9)\n",
      "memory usage: 43.2+ MB\n"
     ]
    }
   ],
   "source": [
    "\n",
    "\n",
    "df.info()"
   ]
  },
  {
   "cell_type": "markdown",
   "metadata": {},
   "source": [
    "# Eliminación de ciertas caracteristicas"
   ]
  },
  {
   "cell_type": "code",
   "execution_count": 32,
   "metadata": {},
   "outputs": [
    {
     "data": {
      "text/html": [
       "<div>\n",
       "<style scoped>\n",
       "    .dataframe tbody tr th:only-of-type {\n",
       "        vertical-align: middle;\n",
       "    }\n",
       "\n",
       "    .dataframe tbody tr th {\n",
       "        vertical-align: top;\n",
       "    }\n",
       "\n",
       "    .dataframe thead th {\n",
       "        text-align: right;\n",
       "    }\n",
       "</style>\n",
       "<table border=\"1\" class=\"dataframe\">\n",
       "  <thead>\n",
       "    <tr style=\"text-align: right;\">\n",
       "      <th></th>\n",
       "      <th>Price</th>\n",
       "      <th>VehicleType</th>\n",
       "      <th>RegistrationYear</th>\n",
       "      <th>Gearbox</th>\n",
       "      <th>Power</th>\n",
       "      <th>Model</th>\n",
       "      <th>Mileage</th>\n",
       "      <th>FuelType</th>\n",
       "      <th>Brand</th>\n",
       "      <th>NotRepaired</th>\n",
       "    </tr>\n",
       "  </thead>\n",
       "  <tbody>\n",
       "    <tr>\n",
       "      <th>0</th>\n",
       "      <td>480</td>\n",
       "      <td>sedan</td>\n",
       "      <td>1993</td>\n",
       "      <td>manual</td>\n",
       "      <td>0</td>\n",
       "      <td>golf</td>\n",
       "      <td>150000</td>\n",
       "      <td>petrol</td>\n",
       "      <td>volkswagen</td>\n",
       "      <td>no</td>\n",
       "    </tr>\n",
       "    <tr>\n",
       "      <th>1</th>\n",
       "      <td>18300</td>\n",
       "      <td>coupe</td>\n",
       "      <td>2011</td>\n",
       "      <td>manual</td>\n",
       "      <td>190</td>\n",
       "      <td>golf</td>\n",
       "      <td>125000</td>\n",
       "      <td>gasoline</td>\n",
       "      <td>audi</td>\n",
       "      <td>yes</td>\n",
       "    </tr>\n",
       "    <tr>\n",
       "      <th>2</th>\n",
       "      <td>9800</td>\n",
       "      <td>suv</td>\n",
       "      <td>2004</td>\n",
       "      <td>auto</td>\n",
       "      <td>163</td>\n",
       "      <td>grand</td>\n",
       "      <td>125000</td>\n",
       "      <td>gasoline</td>\n",
       "      <td>jeep</td>\n",
       "      <td>no</td>\n",
       "    </tr>\n",
       "    <tr>\n",
       "      <th>3</th>\n",
       "      <td>1500</td>\n",
       "      <td>small</td>\n",
       "      <td>2001</td>\n",
       "      <td>manual</td>\n",
       "      <td>75</td>\n",
       "      <td>golf</td>\n",
       "      <td>150000</td>\n",
       "      <td>petrol</td>\n",
       "      <td>volkswagen</td>\n",
       "      <td>no</td>\n",
       "    </tr>\n",
       "    <tr>\n",
       "      <th>4</th>\n",
       "      <td>3600</td>\n",
       "      <td>small</td>\n",
       "      <td>2008</td>\n",
       "      <td>manual</td>\n",
       "      <td>69</td>\n",
       "      <td>fabia</td>\n",
       "      <td>90000</td>\n",
       "      <td>gasoline</td>\n",
       "      <td>skoda</td>\n",
       "      <td>no</td>\n",
       "    </tr>\n",
       "  </tbody>\n",
       "</table>\n",
       "</div>"
      ],
      "text/plain": [
       "   Price VehicleType  RegistrationYear Gearbox  Power  Model  Mileage  \\\n",
       "0    480       sedan              1993  manual      0   golf   150000   \n",
       "1  18300       coupe              2011  manual    190   golf   125000   \n",
       "2   9800         suv              2004    auto    163  grand   125000   \n",
       "3   1500       small              2001  manual     75   golf   150000   \n",
       "4   3600       small              2008  manual     69  fabia    90000   \n",
       "\n",
       "   FuelType       Brand NotRepaired  \n",
       "0    petrol  volkswagen          no  \n",
       "1  gasoline        audi         yes  \n",
       "2  gasoline        jeep          no  \n",
       "3    petrol  volkswagen          no  \n",
       "4  gasoline       skoda          no  "
      ]
     },
     "execution_count": 32,
     "metadata": {},
     "output_type": "execute_result"
    }
   ],
   "source": [
    "#Vamos a eliminar algunas columnas que no nos aportan información a la prediccion de nuestro modelo!!\n",
    "df_new =  df.drop(columns= ['DateCrawled', 'DateCreated', 'NumberOfPictures', 'PostalCode', 'RegistrationMonth','LastSeen' ])\n",
    "df_new.head()"
   ]
  },
  {
   "cell_type": "code",
   "execution_count": 33,
   "metadata": {},
   "outputs": [],
   "source": [
    "del df"
   ]
  },
  {
   "cell_type": "markdown",
   "metadata": {},
   "source": [
    "## Revisando algunos valores de ciertas columnas"
   ]
  },
  {
   "cell_type": "code",
   "execution_count": 34,
   "metadata": {},
   "outputs": [
    {
     "data": {
      "text/plain": [
       "array([1993, 2011, 2004, 2001, 2008, 1995, 1980, 2014, 1998, 2005, 1910,\n",
       "       2016, 2007, 2009, 2002, 2018, 1997, 1990, 2017, 1981, 2003, 1994,\n",
       "       1991, 1984, 2006, 1999, 2012, 2010, 2000, 1992, 2013, 1996, 1985,\n",
       "       1989, 2015, 1982, 1976, 1983, 1973, 1111, 1969, 1971, 1987, 1986,\n",
       "       1988, 1970, 1965, 1945, 1925, 1974, 1979, 1955, 1978, 1972, 1968,\n",
       "       1977, 1961, 1960, 1966, 1975, 1963, 1964, 5000, 1954, 1958, 1967,\n",
       "       1959, 9999, 1956, 3200, 1000, 1941, 8888, 1500, 2200, 4100, 1962,\n",
       "       1929, 1957, 1940, 3000, 2066, 1949, 2019, 1937, 1951, 1800, 1953,\n",
       "       1234, 8000, 5300, 9000, 2900, 6000, 5900, 5911, 1933, 1400, 1950,\n",
       "       4000, 1948, 1952, 1200, 8500, 1932, 1255, 3700, 3800, 4800, 1942,\n",
       "       7000, 1935, 1936, 6500, 1923, 2290, 2500, 1930, 1001, 9450, 1944,\n",
       "       1943, 1934, 1938, 1688, 2800, 1253, 1928, 1919, 5555, 5600, 1600,\n",
       "       2222, 1039, 9996, 1300, 8455, 1931, 1915, 4500, 1920, 1602, 7800,\n",
       "       9229, 1947, 1927, 7100, 8200, 1946, 7500, 3500])"
      ]
     },
     "execution_count": 34,
     "metadata": {},
     "output_type": "execute_result"
    }
   ],
   "source": [
    "df_new['RegistrationYear'].unique()"
   ]
  },
  {
   "cell_type": "code",
   "execution_count": 35,
   "metadata": {},
   "outputs": [
    {
     "data": {
      "text/plain": [
       "2024"
      ]
     },
     "execution_count": 35,
     "metadata": {},
     "output_type": "execute_result"
    }
   ],
   "source": [
    "# Obtener el año actual\n",
    "current_year = datetime.now().year\n",
    "current_year"
   ]
  },
  {
   "cell_type": "code",
   "execution_count": 36,
   "metadata": {},
   "outputs": [
    {
     "data": {
      "text/plain": [
       "2000    24476\n",
       "1999    22703\n",
       "2005    22094\n",
       "2001    20107\n",
       "2006    19874\n",
       "        ...  \n",
       "4100        1\n",
       "1200        1\n",
       "5300        1\n",
       "8888        1\n",
       "2290        1\n",
       "Name: RegistrationYear, Length: 151, dtype: int64"
      ]
     },
     "execution_count": 36,
     "metadata": {},
     "output_type": "execute_result"
    }
   ],
   "source": [
    "# Calcular el valor más frecuente de la columna\n",
    "df_new['RegistrationYear'].value_counts()"
   ]
  },
  {
   "cell_type": "code",
   "execution_count": 37,
   "metadata": {},
   "outputs": [],
   "source": [
    "# Reemplazar los valores menores a 1893, y los mayores al año actual con el valor más frecuente\n",
    "df_new.loc[(df_new['RegistrationYear'] > current_year) | (df_new['RegistrationYear'] < 1893), 'RegistrationYear'] = 2000\n"
   ]
  },
  {
   "cell_type": "code",
   "execution_count": 38,
   "metadata": {},
   "outputs": [
    {
     "data": {
      "text/plain": [
       "0"
      ]
     },
     "execution_count": 38,
     "metadata": {},
     "output_type": "execute_result"
    }
   ],
   "source": [
    "(df_new['RegistrationYear'] < 1893).sum()"
   ]
  },
  {
   "cell_type": "code",
   "execution_count": 39,
   "metadata": {},
   "outputs": [
    {
     "data": {
      "text/plain": [
       "0"
      ]
     },
     "execution_count": 39,
     "metadata": {},
     "output_type": "execute_result"
    }
   ],
   "source": [
    "(df_new['RegistrationYear'] > current_year).sum()"
   ]
  },
  {
   "cell_type": "markdown",
   "metadata": {},
   "source": [
    "# Distribución de los precios (de nuestra variable a predecir)"
   ]
  },
  {
   "cell_type": "code",
   "execution_count": 40,
   "metadata": {
    "scrolled": true
   },
   "outputs": [
    {
     "data": {
      "image/png": "[encoded data removed]",
      "text/plain": [
       "<Figure size 400x300 with 1 Axes>"
      ]
     },
     "metadata": {},
     "output_type": "display_data"
    }
   ],
   "source": [
    "# Gráfica de histograma para visualizar la distribución de los precios\n",
    "plt.figure(figsize=(4, 3))\n",
    "plt.hist(df_new['Price'], bins=10, edgecolor='black')\n",
    "plt.xlabel('Precio')\n",
    "plt.ylabel('Frecuencia')\n",
    "plt.title('Distribución de Precios')\n",
    "plt.grid(True)\n",
    "plt.show()"
   ]
  },
  {
   "cell_type": "markdown",
   "metadata": {},
   "source": [
    "parece que la mayoría de los precios de los vehículos se encuentran en el rango de 0 a 5000 unidades. Esto indica que la distribución de los precios es muy sesgada hacia la izquierda (positivamente sesgada), con muchos valores bajos y pocos valores altos. Vamos a manejar los outliers en los datos los valores extremadamente altos pueden afectar negativamente el rendimiento del modelo."
   ]
  },
  {
   "cell_type": "markdown",
   "metadata": {},
   "source": [
    "# Eliminación de Outliers"
   ]
  },
  {
   "cell_type": "code",
   "execution_count": 41,
   "metadata": {},
   "outputs": [
    {
     "data": {
      "image/png": "[encoded data removed]",
      "text/plain": [
       "<Figure size 400x300 with 1 Axes>"
      ]
     },
     "metadata": {},
     "output_type": "display_data"
    }
   ],
   "source": [
    "# Umbral para los outliers (por ejemplo, percentil 95)\n",
    "upper_limit = np.percentile(df_new['Price'], 95)\n",
    "\n",
    "# Filtrar los outliers\n",
    "df_filtered = df_new[df_new['Price'] <= upper_limit]\n",
    "\n",
    "# Visualizar la distribución después de eliminar los outliers\n",
    "plt.figure(figsize=(4, 3))\n",
    "plt.hist(df_filtered['Price'], bins=10, edgecolor='black')\n",
    "plt.xlabel('Precio')\n",
    "plt.ylabel('Frecuencia')\n",
    "plt.title('Distribución de Precios Sin Outliers')\n",
    "plt.grid(True)\n",
    "plt.show()\n"
   ]
  },
  {
   "cell_type": "code",
   "execution_count": 42,
   "metadata": {},
   "outputs": [
    {
     "data": {
      "text/plain": [
       "(336466, 10)"
      ]
     },
     "execution_count": 42,
     "metadata": {},
     "output_type": "execute_result"
    }
   ],
   "source": [
    "df_filtered.shape"
   ]
  },
  {
   "cell_type": "markdown",
   "metadata": {},
   "source": [
    "\n",
    "Podemos ver un dataframe de 336466 filas y 10 columnas ya no hay valores nulos, eliminamos las filas duplicadas, reseteamos los indices, ya no cambiamos  las columnas de fecha a formato datetime ya que las  eliminamos; no nos aportan nada a la prediccion de nuestro modelo.Tambien reemplazamos los valores menores a 1893 que fue la primera matrícula de coche que se emitió en el mundo fue en Francia, en el año 1893, tras la Ordenanza de París y los valores mayores al año actual (2024) por el valor que más se repitio que fue el año 2000, asi como eliminamos los outliers de la variable a predecir!! Ahora si quedaron limpios nuestros datos para trabajarlos!!"
   ]
  },
  {
   "cell_type": "code",
   "execution_count": 43,
   "metadata": {},
   "outputs": [],
   "source": [
    "del df_new"
   ]
  },
  {
   "cell_type": "markdown",
   "metadata": {},
   "source": [
    "# Convirtiendo variables categoricas en numericas"
   ]
  },
  {
   "cell_type": "code",
   "execution_count": 44,
   "metadata": {},
   "outputs": [],
   "source": [
    "# Convertir variables categóricas usando pd.get_dummies()\n",
    "df_encoded = pd.get_dummies(df_filtered, columns=['VehicleType', 'Gearbox',  'FuelType', 'Brand', 'NotRepaired'])"
   ]
  },
  {
   "cell_type": "code",
   "execution_count": 45,
   "metadata": {},
   "outputs": [
    {
     "data": {
      "text/html": [
       "<div>\n",
       "<style scoped>\n",
       "    .dataframe tbody tr th:only-of-type {\n",
       "        vertical-align: middle;\n",
       "    }\n",
       "\n",
       "    .dataframe tbody tr th {\n",
       "        vertical-align: top;\n",
       "    }\n",
       "\n",
       "    .dataframe thead th {\n",
       "        text-align: right;\n",
       "    }\n",
       "</style>\n",
       "<table border=\"1\" class=\"dataframe\">\n",
       "  <thead>\n",
       "    <tr style=\"text-align: right;\">\n",
       "      <th></th>\n",
       "      <th>Price</th>\n",
       "      <th>RegistrationYear</th>\n",
       "      <th>Power</th>\n",
       "      <th>Model</th>\n",
       "      <th>Mileage</th>\n",
       "      <th>VehicleType_bus</th>\n",
       "      <th>VehicleType_convertible</th>\n",
       "      <th>VehicleType_coupe</th>\n",
       "      <th>VehicleType_other</th>\n",
       "      <th>VehicleType_sedan</th>\n",
       "      <th>...</th>\n",
       "      <th>Brand_smart</th>\n",
       "      <th>Brand_sonstige_autos</th>\n",
       "      <th>Brand_subaru</th>\n",
       "      <th>Brand_suzuki</th>\n",
       "      <th>Brand_toyota</th>\n",
       "      <th>Brand_trabant</th>\n",
       "      <th>Brand_volkswagen</th>\n",
       "      <th>Brand_volvo</th>\n",
       "      <th>NotRepaired_no</th>\n",
       "      <th>NotRepaired_yes</th>\n",
       "    </tr>\n",
       "  </thead>\n",
       "  <tbody>\n",
       "    <tr>\n",
       "      <th>0</th>\n",
       "      <td>480</td>\n",
       "      <td>1993</td>\n",
       "      <td>0</td>\n",
       "      <td>golf</td>\n",
       "      <td>150000</td>\n",
       "      <td>0</td>\n",
       "      <td>0</td>\n",
       "      <td>0</td>\n",
       "      <td>0</td>\n",
       "      <td>1</td>\n",
       "      <td>...</td>\n",
       "      <td>0</td>\n",
       "      <td>0</td>\n",
       "      <td>0</td>\n",
       "      <td>0</td>\n",
       "      <td>0</td>\n",
       "      <td>0</td>\n",
       "      <td>1</td>\n",
       "      <td>0</td>\n",
       "      <td>1</td>\n",
       "      <td>0</td>\n",
       "    </tr>\n",
       "    <tr>\n",
       "      <th>2</th>\n",
       "      <td>9800</td>\n",
       "      <td>2004</td>\n",
       "      <td>163</td>\n",
       "      <td>grand</td>\n",
       "      <td>125000</td>\n",
       "      <td>0</td>\n",
       "      <td>0</td>\n",
       "      <td>0</td>\n",
       "      <td>0</td>\n",
       "      <td>0</td>\n",
       "      <td>...</td>\n",
       "      <td>0</td>\n",
       "      <td>0</td>\n",
       "      <td>0</td>\n",
       "      <td>0</td>\n",
       "      <td>0</td>\n",
       "      <td>0</td>\n",
       "      <td>0</td>\n",
       "      <td>0</td>\n",
       "      <td>1</td>\n",
       "      <td>0</td>\n",
       "    </tr>\n",
       "    <tr>\n",
       "      <th>3</th>\n",
       "      <td>1500</td>\n",
       "      <td>2001</td>\n",
       "      <td>75</td>\n",
       "      <td>golf</td>\n",
       "      <td>150000</td>\n",
       "      <td>0</td>\n",
       "      <td>0</td>\n",
       "      <td>0</td>\n",
       "      <td>0</td>\n",
       "      <td>0</td>\n",
       "      <td>...</td>\n",
       "      <td>0</td>\n",
       "      <td>0</td>\n",
       "      <td>0</td>\n",
       "      <td>0</td>\n",
       "      <td>0</td>\n",
       "      <td>0</td>\n",
       "      <td>1</td>\n",
       "      <td>0</td>\n",
       "      <td>1</td>\n",
       "      <td>0</td>\n",
       "    </tr>\n",
       "  </tbody>\n",
       "</table>\n",
       "<p>3 rows × 64 columns</p>\n",
       "</div>"
      ],
      "text/plain": [
       "   Price  RegistrationYear  Power  Model  Mileage  VehicleType_bus  \\\n",
       "0    480              1993      0   golf   150000                0   \n",
       "2   9800              2004    163  grand   125000                0   \n",
       "3   1500              2001     75   golf   150000                0   \n",
       "\n",
       "   VehicleType_convertible  VehicleType_coupe  VehicleType_other  \\\n",
       "0                        0                  0                  0   \n",
       "2                        0                  0                  0   \n",
       "3                        0                  0                  0   \n",
       "\n",
       "   VehicleType_sedan  ...  Brand_smart  Brand_sonstige_autos  Brand_subaru  \\\n",
       "0                  1  ...            0                     0             0   \n",
       "2                  0  ...            0                     0             0   \n",
       "3                  0  ...            0                     0             0   \n",
       "\n",
       "   Brand_suzuki  Brand_toyota  Brand_trabant  Brand_volkswagen  Brand_volvo  \\\n",
       "0             0             0              0                 1            0   \n",
       "2             0             0              0                 0            0   \n",
       "3             0             0              0                 1            0   \n",
       "\n",
       "   NotRepaired_no  NotRepaired_yes  \n",
       "0               1                0  \n",
       "2               1                0  \n",
       "3               1                0  \n",
       "\n",
       "[3 rows x 64 columns]"
      ]
     },
     "execution_count": 45,
     "metadata": {},
     "output_type": "execute_result"
    }
   ],
   "source": [
    "df_encoded.head(3)"
   ]
  },
  {
   "cell_type": "code",
   "execution_count": 46,
   "metadata": {},
   "outputs": [],
   "source": [
    "df_encoded = df_encoded.drop(columns=['Model'])"
   ]
  },
  {
   "cell_type": "markdown",
   "metadata": {},
   "source": [
    "Hemos transformado aquellas columnas categoricas a nÚmericas binarias para que el modeLo pueda aceptarlo."
   ]
  },
  {
   "cell_type": "code",
   "execution_count": 47,
   "metadata": {},
   "outputs": [],
   "source": [
    "del df_filtered"
   ]
  },
  {
   "cell_type": "markdown",
   "metadata": {},
   "source": [
    "# División de nuestros datos"
   ]
  },
  {
   "cell_type": "code",
   "execution_count": 48,
   "metadata": {},
   "outputs": [],
   "source": [
    "# Separar características y objetivo\n",
    "X = df_encoded.drop('Price', axis=1)\n",
    "y = df_encoded['Price']\n"
   ]
  },
  {
   "cell_type": "code",
   "execution_count": 49,
   "metadata": {},
   "outputs": [],
   "source": [
    "# Dividir los datos en conjunto de entrenamiento y prueba\n",
    "X_train, X_test, y_train, y_test = train_test_split(X, y, test_size=0.2, random_state=123456)"
   ]
  },
  {
   "cell_type": "markdown",
   "metadata": {},
   "source": [
    "# Entrenamiento y Evaluación de Modelos Adicionales"
   ]
  },
  {
   "cell_type": "markdown",
   "metadata": {},
   "source": [
    "## RandomForestRegressor"
   ]
  },
  {
   "cell_type": "code",
   "execution_count": 50,
   "metadata": {},
   "outputs": [],
   "source": [
    "rf = RandomForestRegressor(n_estimators=100, random_state=123456)"
   ]
  },
  {
   "cell_type": "code",
   "execution_count": 51,
   "metadata": {},
   "outputs": [
    {
     "name": "stdout",
     "output_type": "stream",
     "text": [
      "CPU times: user 3 µs, sys: 0 ns, total: 3 µs\n",
      "Wall time: 6.44 µs\n"
     ]
    },
    {
     "data": {
      "text/plain": [
       "RandomForestRegressor(random_state=123456)"
      ]
     },
     "execution_count": 51,
     "metadata": {},
     "output_type": "execute_result"
    }
   ],
   "source": [
    "%time\n",
    "rf.fit(X_train, y_train)"
   ]
  },
  {
   "cell_type": "code",
   "execution_count": 52,
   "metadata": {},
   "outputs": [
    {
     "name": "stdout",
     "output_type": "stream",
     "text": [
      "CPU times: user 4 µs, sys: 0 ns, total: 4 µs\n",
      "Wall time: 6.68 µs\n"
     ]
    }
   ],
   "source": [
    "%time\n",
    "y_pred_rf = rf.predict(X_test)"
   ]
  },
  {
   "cell_type": "code",
   "execution_count": 53,
   "metadata": {},
   "outputs": [
    {
     "name": "stdout",
     "output_type": "stream",
     "text": [
      "RMSE RandomForest: 1527.1081011319188\n"
     ]
    }
   ],
   "source": [
    "rmse_rf = np.sqrt(mean_squared_error(y_test, y_pred_rf))\n",
    "print(f'RMSE RandomForest: {rmse_rf}')"
   ]
  },
  {
   "cell_type": "markdown",
   "metadata": {},
   "source": [
    "## DecisionTreeRegressor"
   ]
  },
  {
   "cell_type": "code",
   "execution_count": 54,
   "metadata": {},
   "outputs": [],
   "source": [
    "dt = DecisionTreeRegressor(random_state=123456)"
   ]
  },
  {
   "cell_type": "code",
   "execution_count": 55,
   "metadata": {},
   "outputs": [
    {
     "name": "stdout",
     "output_type": "stream",
     "text": [
      "CPU times: user 4 µs, sys: 0 ns, total: 4 µs\n",
      "Wall time: 6.2 µs\n"
     ]
    },
    {
     "data": {
      "text/plain": [
       "DecisionTreeRegressor(random_state=123456)"
      ]
     },
     "execution_count": 55,
     "metadata": {},
     "output_type": "execute_result"
    }
   ],
   "source": [
    "%time\n",
    "dt.fit(X_train, y_train)"
   ]
  },
  {
   "cell_type": "code",
   "execution_count": 56,
   "metadata": {},
   "outputs": [
    {
     "name": "stdout",
     "output_type": "stream",
     "text": [
      "CPU times: user 3 µs, sys: 0 ns, total: 3 µs\n",
      "Wall time: 6.44 µs\n"
     ]
    }
   ],
   "source": [
    "%time\n",
    "y_pred_dt = dt.predict(X_test)"
   ]
  },
  {
   "cell_type": "code",
   "execution_count": 57,
   "metadata": {},
   "outputs": [
    {
     "name": "stdout",
     "output_type": "stream",
     "text": [
      "RMSE DecisionTree: 1746.1536295078208\n"
     ]
    }
   ],
   "source": [
    "rmse_dt = np.sqrt(mean_squared_error(y_test, y_pred_dt))\n",
    "print(f'RMSE DecisionTree: {rmse_dt}')"
   ]
  },
  {
   "cell_type": "markdown",
   "metadata": {},
   "source": [
    "## LinearRegression"
   ]
  },
  {
   "cell_type": "code",
   "execution_count": 58,
   "metadata": {},
   "outputs": [],
   "source": [
    "lr = LinearRegression()"
   ]
  },
  {
   "cell_type": "code",
   "execution_count": 59,
   "metadata": {},
   "outputs": [
    {
     "name": "stdout",
     "output_type": "stream",
     "text": [
      "CPU times: user 4 µs, sys: 0 ns, total: 4 µs\n",
      "Wall time: 6.2 µs\n"
     ]
    },
    {
     "data": {
      "text/plain": [
       "LinearRegression()"
      ]
     },
     "execution_count": 59,
     "metadata": {},
     "output_type": "execute_result"
    }
   ],
   "source": [
    "%time\n",
    "lr.fit(X_train, y_train)"
   ]
  },
  {
   "cell_type": "code",
   "execution_count": 60,
   "metadata": {},
   "outputs": [
    {
     "name": "stdout",
     "output_type": "stream",
     "text": [
      "CPU times: user 11 µs, sys: 0 ns, total: 11 µs\n",
      "Wall time: 7.39 µs\n"
     ]
    }
   ],
   "source": [
    "%time\n",
    "y_pred_lr = lr.predict(X_test)"
   ]
  },
  {
   "cell_type": "code",
   "execution_count": 61,
   "metadata": {},
   "outputs": [
    {
     "name": "stdout",
     "output_type": "stream",
     "text": [
      "RMSE LinearRegression: 2630.941334106587\n"
     ]
    }
   ],
   "source": [
    "rmse_lr = np.sqrt(mean_squared_error(y_test, y_pred_lr))\n",
    "print(f'RMSE LinearRegression: {rmse_lr}')"
   ]
  },
  {
   "cell_type": "markdown",
   "metadata": {},
   "source": [
    "# Modelos de potenciacion de gradiente"
   ]
  },
  {
   "cell_type": "markdown",
   "metadata": {},
   "source": [
    "## XGBoost"
   ]
  },
  {
   "cell_type": "code",
   "execution_count": 62,
   "metadata": {},
   "outputs": [],
   "source": [
    "# Crear un dataset de DMatrix para XGBoost\n",
    "train_data_xgb = xgb.DMatrix(X_train, y_train)\n",
    "test_data_xgb = xgb.DMatrix(X_test, y_test)"
   ]
  },
  {
   "cell_type": "code",
   "execution_count": 63,
   "metadata": {},
   "outputs": [],
   "source": [
    "\n",
    "params_xgb = {\n",
    "    'objective': 'reg:squarederror',\n",
    "    'eval_metric': 'rmse',\n",
    "    'eta': 0.05,\n",
    "    'max_depth': 6\n",
    "}"
   ]
  },
  {
   "cell_type": "code",
   "execution_count": 64,
   "metadata": {},
   "outputs": [],
   "source": [
    "# Lista de evaluación\n",
    "evallist = [(train_data_xgb, 'train'), (test_data_xgb, 'eval')]\n",
    "num_round = 1000"
   ]
  },
  {
   "cell_type": "code",
   "execution_count": 65,
   "metadata": {},
   "outputs": [
    {
     "name": "stdout",
     "output_type": "stream",
     "text": [
      "CPU times: user 3 µs, sys: 0 ns, total: 3 µs\n",
      "Wall time: 6.44 µs\n",
      "[0]\ttrain-rmse:4936.14453\teval-rmse:4942.51855\n",
      "[1]\ttrain-rmse:4732.07861\teval-rmse:4737.86523\n",
      "[2]\ttrain-rmse:4538.72314\teval-rmse:4544.46289\n",
      "[3]\ttrain-rmse:4356.22949\teval-rmse:4361.79932\n",
      "[4]\ttrain-rmse:4186.47607\teval-rmse:4191.65430\n",
      "[5]\ttrain-rmse:4024.67969\teval-rmse:4029.76416\n",
      "[6]\ttrain-rmse:3872.52661\teval-rmse:3877.54272\n",
      "[7]\ttrain-rmse:3730.10449\teval-rmse:3734.69605\n",
      "[8]\ttrain-rmse:3595.90894\teval-rmse:3600.46875\n",
      "[9]\ttrain-rmse:3470.19556\teval-rmse:3474.49829\n",
      "[10]\ttrain-rmse:3351.75903\teval-rmse:3356.18262\n",
      "[11]\ttrain-rmse:3240.42481\teval-rmse:3245.01733\n",
      "[12]\ttrain-rmse:3137.08691\teval-rmse:3141.41943\n",
      "[13]\ttrain-rmse:3038.15137\teval-rmse:3042.90747\n",
      "[14]\ttrain-rmse:2945.89380\teval-rmse:2951.05444\n",
      "[15]\ttrain-rmse:2859.55225\teval-rmse:2864.94116\n",
      "[16]\ttrain-rmse:2779.25439\teval-rmse:2784.83887\n",
      "[17]\ttrain-rmse:2703.92065\teval-rmse:2709.78931\n",
      "[18]\ttrain-rmse:2634.36304\teval-rmse:2640.42871\n",
      "[19]\ttrain-rmse:2569.36792\teval-rmse:2575.57861\n",
      "[20]\ttrain-rmse:2508.79370\teval-rmse:2515.25855\n",
      "[21]\ttrain-rmse:2452.71484\teval-rmse:2459.30835\n",
      "[22]\ttrain-rmse:2400.39136\teval-rmse:2407.16919\n",
      "[23]\ttrain-rmse:2351.04004\teval-rmse:2358.09839\n",
      "[24]\ttrain-rmse:2305.54004\teval-rmse:2312.64331\n",
      "[25]\ttrain-rmse:2263.43433\teval-rmse:2270.66455\n",
      "[26]\ttrain-rmse:2223.46997\teval-rmse:2230.82349\n",
      "[27]\ttrain-rmse:2186.98682\teval-rmse:2194.23462\n",
      "[28]\ttrain-rmse:2153.24316\teval-rmse:2160.65283\n",
      "[29]\ttrain-rmse:2121.30811\teval-rmse:2129.10742\n",
      "[30]\ttrain-rmse:2092.16894\teval-rmse:2100.07105\n",
      "[31]\ttrain-rmse:2064.30395\teval-rmse:2072.49780\n",
      "[32]\ttrain-rmse:2038.85803\teval-rmse:2047.34228\n",
      "[33]\ttrain-rmse:2014.92310\teval-rmse:2023.65051\n",
      "[34]\ttrain-rmse:1992.96204\teval-rmse:2002.02307\n",
      "[35]\ttrain-rmse:1972.21387\teval-rmse:1981.52759\n",
      "[36]\ttrain-rmse:1952.91748\teval-rmse:1962.35864\n",
      "[37]\ttrain-rmse:1934.36548\teval-rmse:1944.08374\n",
      "[38]\ttrain-rmse:1916.87573\teval-rmse:1926.73645\n",
      "[39]\ttrain-rmse:1900.29993\teval-rmse:1910.27722\n",
      "[40]\ttrain-rmse:1886.18164\teval-rmse:1896.27954\n",
      "[41]\ttrain-rmse:1871.45679\teval-rmse:1881.81970\n",
      "[42]\ttrain-rmse:1858.79810\teval-rmse:1869.22473\n",
      "[43]\ttrain-rmse:1846.88574\teval-rmse:1857.35034\n",
      "[44]\ttrain-rmse:1834.45142\teval-rmse:1844.76953\n",
      "[45]\ttrain-rmse:1823.78320\teval-rmse:1834.34119\n",
      "[46]\ttrain-rmse:1813.96362\teval-rmse:1824.48120\n",
      "[47]\ttrain-rmse:1804.49255\teval-rmse:1815.11975\n",
      "[48]\ttrain-rmse:1794.85657\teval-rmse:1805.64465\n",
      "[49]\ttrain-rmse:1787.13599\teval-rmse:1798.09302\n",
      "[50]\ttrain-rmse:1778.72058\teval-rmse:1789.88562\n",
      "[51]\ttrain-rmse:1771.33276\teval-rmse:1782.71851\n",
      "[52]\ttrain-rmse:1764.55029\teval-rmse:1775.96692\n",
      "[53]\ttrain-rmse:1757.62451\teval-rmse:1769.22790\n",
      "[54]\ttrain-rmse:1750.96326\teval-rmse:1762.79053\n",
      "[55]\ttrain-rmse:1745.36450\teval-rmse:1757.41626\n",
      "[56]\ttrain-rmse:1739.72302\teval-rmse:1751.93262\n",
      "[57]\ttrain-rmse:1733.96936\teval-rmse:1746.54102\n",
      "[58]\ttrain-rmse:1727.96313\teval-rmse:1740.69177\n",
      "[59]\ttrain-rmse:1723.22449\teval-rmse:1736.13623\n",
      "[60]\ttrain-rmse:1718.84534\teval-rmse:1731.95190\n",
      "[61]\ttrain-rmse:1715.10181\teval-rmse:1728.37073\n",
      "[62]\ttrain-rmse:1710.10181\teval-rmse:1723.39917\n",
      "[63]\ttrain-rmse:1706.65735\teval-rmse:1720.14294\n",
      "[64]\ttrain-rmse:1702.56970\teval-rmse:1716.12805\n",
      "[65]\ttrain-rmse:1699.30151\teval-rmse:1713.01856\n",
      "[66]\ttrain-rmse:1695.28223\teval-rmse:1709.07422\n",
      "[67]\ttrain-rmse:1691.64331\teval-rmse:1705.62683\n",
      "[68]\ttrain-rmse:1688.14856\teval-rmse:1702.28259\n",
      "[69]\ttrain-rmse:1685.00854\teval-rmse:1699.31482\n",
      "[70]\ttrain-rmse:1681.66834\teval-rmse:1695.98694\n",
      "[71]\ttrain-rmse:1679.27844\teval-rmse:1693.80896\n",
      "[72]\ttrain-rmse:1676.28894\teval-rmse:1690.96667\n",
      "[73]\ttrain-rmse:1673.39099\teval-rmse:1688.09766\n",
      "[74]\ttrain-rmse:1671.42395\teval-rmse:1686.35193\n",
      "[75]\ttrain-rmse:1668.87622\teval-rmse:1683.79871\n",
      "[76]\ttrain-rmse:1666.72400\teval-rmse:1681.73975\n",
      "[77]\ttrain-rmse:1664.58484\teval-rmse:1679.67700\n",
      "[78]\ttrain-rmse:1662.30688\teval-rmse:1677.56555\n",
      "[79]\ttrain-rmse:1659.50989\teval-rmse:1674.77039\n",
      "[80]\ttrain-rmse:1657.55383\teval-rmse:1673.00171\n",
      "[81]\ttrain-rmse:1655.92163\teval-rmse:1671.54346\n",
      "[82]\ttrain-rmse:1653.67773\teval-rmse:1669.34045\n",
      "[83]\ttrain-rmse:1651.88965\teval-rmse:1667.68884\n",
      "[84]\ttrain-rmse:1650.02563\teval-rmse:1666.01758\n",
      "[85]\ttrain-rmse:1648.56091\teval-rmse:1664.71399\n",
      "[86]\ttrain-rmse:1646.98535\teval-rmse:1663.28894\n",
      "[87]\ttrain-rmse:1645.58911\teval-rmse:1662.07373\n",
      "[88]\ttrain-rmse:1643.73474\teval-rmse:1660.27832\n",
      "[89]\ttrain-rmse:1642.44751\teval-rmse:1659.15930\n",
      "[90]\ttrain-rmse:1641.40552\teval-rmse:1658.27368\n",
      "[91]\ttrain-rmse:1640.12280\teval-rmse:1657.13635\n",
      "[92]\ttrain-rmse:1638.95544\teval-rmse:1656.11853\n",
      "[93]\ttrain-rmse:1637.46667\teval-rmse:1654.71228\n",
      "[94]\ttrain-rmse:1636.40576\teval-rmse:1653.63574\n",
      "[95]\ttrain-rmse:1635.22742\teval-rmse:1652.55212\n",
      "[96]\ttrain-rmse:1633.98804\teval-rmse:1651.39148\n",
      "[97]\ttrain-rmse:1632.40735\teval-rmse:1649.92444\n",
      "[98]\ttrain-rmse:1631.21130\teval-rmse:1648.77124\n",
      "[99]\ttrain-rmse:1630.45825\teval-rmse:1648.16858\n",
      "[100]\ttrain-rmse:1629.30969\teval-rmse:1647.18066\n",
      "[101]\ttrain-rmse:1628.28088\teval-rmse:1646.17859\n",
      "[102]\ttrain-rmse:1627.04663\teval-rmse:1645.09338\n",
      "[103]\ttrain-rmse:1625.55310\teval-rmse:1643.78247\n",
      "[104]\ttrain-rmse:1624.69653\teval-rmse:1642.95996\n",
      "[105]\ttrain-rmse:1623.88257\teval-rmse:1642.23828\n",
      "[106]\ttrain-rmse:1622.95727\teval-rmse:1641.41797\n",
      "[107]\ttrain-rmse:1621.86047\teval-rmse:1640.39258\n",
      "[108]\ttrain-rmse:1621.20972\teval-rmse:1639.70972\n",
      "[109]\ttrain-rmse:1620.38892\teval-rmse:1638.93396\n",
      "[110]\ttrain-rmse:1619.48132\teval-rmse:1638.14136\n",
      "[111]\ttrain-rmse:1618.36316\teval-rmse:1637.03345\n",
      "[112]\ttrain-rmse:1617.62305\teval-rmse:1636.46814\n",
      "[113]\ttrain-rmse:1616.89685\teval-rmse:1635.79626\n",
      "[114]\ttrain-rmse:1616.19031\teval-rmse:1635.21851\n",
      "[115]\ttrain-rmse:1615.24219\teval-rmse:1634.27344\n",
      "[116]\ttrain-rmse:1614.33679\teval-rmse:1633.44470\n",
      "[117]\ttrain-rmse:1613.51587\teval-rmse:1632.75806\n",
      "[118]\ttrain-rmse:1612.96228\teval-rmse:1632.29968\n",
      "[119]\ttrain-rmse:1612.36890\teval-rmse:1631.82165\n",
      "[120]\ttrain-rmse:1611.35352\teval-rmse:1631.01758\n",
      "[121]\ttrain-rmse:1610.63696\teval-rmse:1630.45972\n",
      "[122]\ttrain-rmse:1609.83008\teval-rmse:1629.73059\n",
      "[123]\ttrain-rmse:1609.29785\teval-rmse:1629.31238\n",
      "[124]\ttrain-rmse:1608.74158\teval-rmse:1628.81702\n",
      "[125]\ttrain-rmse:1607.95666\teval-rmse:1628.04285\n",
      "[126]\ttrain-rmse:1607.34619\teval-rmse:1627.52771\n",
      "[127]\ttrain-rmse:1606.65845\teval-rmse:1626.95691\n",
      "[128]\ttrain-rmse:1606.11108\teval-rmse:1626.48059\n",
      "[129]\ttrain-rmse:1605.61316\teval-rmse:1626.07153\n",
      "[130]\ttrain-rmse:1605.04785\teval-rmse:1625.61658\n",
      "[131]\ttrain-rmse:1604.41785\teval-rmse:1625.04602\n",
      "[132]\ttrain-rmse:1603.84473\teval-rmse:1624.62561\n",
      "[133]\ttrain-rmse:1603.30872\teval-rmse:1624.02795\n",
      "[134]\ttrain-rmse:1602.48059\teval-rmse:1623.44104\n",
      "[135]\ttrain-rmse:1601.95581\teval-rmse:1622.97400\n",
      "[136]\ttrain-rmse:1601.44653\teval-rmse:1622.52832\n",
      "[137]\ttrain-rmse:1600.79468\teval-rmse:1621.97790\n",
      "[138]\ttrain-rmse:1599.92908\teval-rmse:1621.13342\n",
      "[139]\ttrain-rmse:1599.42102\teval-rmse:1620.77039\n",
      "[140]\ttrain-rmse:1598.81653\teval-rmse:1620.37353\n",
      "[141]\ttrain-rmse:1598.26746\teval-rmse:1619.94287\n",
      "[142]\ttrain-rmse:1597.81445\teval-rmse:1619.56702\n",
      "[143]\ttrain-rmse:1597.43201\teval-rmse:1619.20898\n",
      "[144]\ttrain-rmse:1597.02917\teval-rmse:1618.88806\n",
      "[145]\ttrain-rmse:1596.61938\teval-rmse:1618.55444\n",
      "[146]\ttrain-rmse:1596.10657\teval-rmse:1618.04407\n",
      "[147]\ttrain-rmse:1595.75317\teval-rmse:1617.77625\n",
      "[148]\ttrain-rmse:1595.19019\teval-rmse:1617.28784\n",
      "[149]\ttrain-rmse:1594.80920\teval-rmse:1616.97876\n",
      "[150]\ttrain-rmse:1594.25464\teval-rmse:1616.52930\n",
      "[151]\ttrain-rmse:1593.75378\teval-rmse:1616.06128\n",
      "[152]\ttrain-rmse:1593.44702\teval-rmse:1615.80737\n",
      "[153]\ttrain-rmse:1593.03723\teval-rmse:1615.46936\n",
      "[154]\ttrain-rmse:1592.60413\teval-rmse:1615.13550\n",
      "[155]\ttrain-rmse:1592.15356\teval-rmse:1614.82019\n",
      "[156]\ttrain-rmse:1591.72888\teval-rmse:1614.44153\n",
      "[157]\ttrain-rmse:1591.24963\teval-rmse:1614.06567\n",
      "[158]\ttrain-rmse:1591.00867\teval-rmse:1613.81360\n",
      "[159]\ttrain-rmse:1590.72998\teval-rmse:1613.55322\n",
      "[160]\ttrain-rmse:1590.23572\teval-rmse:1613.12781\n",
      "[161]\ttrain-rmse:1589.86499\teval-rmse:1612.78198\n",
      "[162]\ttrain-rmse:1589.57459\teval-rmse:1612.53247\n",
      "[163]\ttrain-rmse:1589.07361\teval-rmse:1612.11560\n",
      "[164]\ttrain-rmse:1588.47632\teval-rmse:1611.57800\n",
      "[165]\ttrain-rmse:1588.14062\teval-rmse:1611.23376\n",
      "[166]\ttrain-rmse:1587.85449\teval-rmse:1610.96948\n",
      "[167]\ttrain-rmse:1587.35840\teval-rmse:1610.43127\n",
      "[168]\ttrain-rmse:1587.07800\teval-rmse:1610.14600\n"
     ]
    },
    {
     "name": "stdout",
     "output_type": "stream",
     "text": [
      "[169]\ttrain-rmse:1586.84070\teval-rmse:1609.93848\n",
      "[170]\ttrain-rmse:1586.50476\teval-rmse:1609.66272\n",
      "[171]\ttrain-rmse:1586.03564\teval-rmse:1609.27295\n",
      "[172]\ttrain-rmse:1585.67639\teval-rmse:1608.92639\n",
      "[173]\ttrain-rmse:1585.32312\teval-rmse:1608.68835\n",
      "[174]\ttrain-rmse:1584.93347\teval-rmse:1608.38696\n",
      "[175]\ttrain-rmse:1584.43359\teval-rmse:1607.90137\n",
      "[176]\ttrain-rmse:1583.98706\teval-rmse:1607.53528\n",
      "[177]\ttrain-rmse:1583.28296\teval-rmse:1607.02966\n",
      "[178]\ttrain-rmse:1582.85388\teval-rmse:1606.70947\n",
      "[179]\ttrain-rmse:1582.61670\teval-rmse:1606.56567\n",
      "[180]\ttrain-rmse:1582.32019\teval-rmse:1606.33606\n",
      "[181]\ttrain-rmse:1582.12854\teval-rmse:1606.17468\n",
      "[182]\ttrain-rmse:1581.38464\teval-rmse:1605.63135\n",
      "[183]\ttrain-rmse:1580.78919\teval-rmse:1605.11633\n",
      "[184]\ttrain-rmse:1580.59509\teval-rmse:1604.98694\n",
      "[185]\ttrain-rmse:1580.27295\teval-rmse:1604.72070\n",
      "[186]\ttrain-rmse:1579.98731\teval-rmse:1604.55591\n",
      "[187]\ttrain-rmse:1579.40515\teval-rmse:1604.06091\n",
      "[188]\ttrain-rmse:1578.99243\teval-rmse:1603.67432\n",
      "[189]\ttrain-rmse:1578.81616\teval-rmse:1603.52478\n",
      "[190]\ttrain-rmse:1578.63440\teval-rmse:1603.33362\n",
      "[191]\ttrain-rmse:1578.43213\teval-rmse:1603.23401\n",
      "[192]\ttrain-rmse:1578.01709\teval-rmse:1602.90247\n",
      "[193]\ttrain-rmse:1577.84802\teval-rmse:1602.79126\n",
      "[194]\ttrain-rmse:1577.38940\teval-rmse:1602.48889\n",
      "[195]\ttrain-rmse:1577.19263\teval-rmse:1602.34595\n",
      "[196]\ttrain-rmse:1576.93982\teval-rmse:1602.20410\n",
      "[197]\ttrain-rmse:1576.56799\teval-rmse:1601.88196\n",
      "[198]\ttrain-rmse:1576.41455\teval-rmse:1601.77210\n",
      "[199]\ttrain-rmse:1575.84583\teval-rmse:1601.22607\n",
      "[200]\ttrain-rmse:1575.60999\teval-rmse:1601.05212\n",
      "[201]\ttrain-rmse:1575.10644\teval-rmse:1600.62024\n",
      "[202]\ttrain-rmse:1574.69019\teval-rmse:1600.28015\n",
      "[203]\ttrain-rmse:1574.49646\teval-rmse:1600.15588\n",
      "[204]\ttrain-rmse:1574.16492\teval-rmse:1599.88477\n",
      "[205]\ttrain-rmse:1573.91602\teval-rmse:1599.71960\n",
      "[206]\ttrain-rmse:1573.37366\teval-rmse:1599.28821\n",
      "[207]\ttrain-rmse:1573.19458\teval-rmse:1599.13709\n",
      "[208]\ttrain-rmse:1572.99512\teval-rmse:1598.98450\n",
      "[209]\ttrain-rmse:1572.66553\teval-rmse:1598.73157\n",
      "[210]\ttrain-rmse:1572.48035\teval-rmse:1598.57764\n",
      "[211]\ttrain-rmse:1571.88391\teval-rmse:1598.15796\n",
      "[212]\ttrain-rmse:1571.67468\teval-rmse:1598.00574\n",
      "[213]\ttrain-rmse:1571.18152\teval-rmse:1597.66614\n",
      "[214]\ttrain-rmse:1570.95093\teval-rmse:1597.57666\n",
      "[215]\ttrain-rmse:1570.65845\teval-rmse:1597.37329\n",
      "[216]\ttrain-rmse:1570.16968\teval-rmse:1597.01318\n",
      "[217]\ttrain-rmse:1569.69092\teval-rmse:1596.59534\n",
      "[218]\ttrain-rmse:1569.41260\teval-rmse:1596.37427\n",
      "[219]\ttrain-rmse:1569.01453\teval-rmse:1596.06079\n",
      "[220]\ttrain-rmse:1568.78052\teval-rmse:1595.91003\n",
      "[221]\ttrain-rmse:1568.57349\teval-rmse:1595.76880\n",
      "[222]\ttrain-rmse:1568.42615\teval-rmse:1595.72253\n",
      "[223]\ttrain-rmse:1568.22314\teval-rmse:1595.58130\n",
      "[224]\ttrain-rmse:1567.85095\teval-rmse:1595.28503\n",
      "[225]\ttrain-rmse:1567.54614\teval-rmse:1595.00964\n",
      "[226]\ttrain-rmse:1567.40759\teval-rmse:1594.90137\n",
      "[227]\ttrain-rmse:1567.07104\teval-rmse:1594.55359\n",
      "[228]\ttrain-rmse:1566.95410\teval-rmse:1594.46899\n",
      "[229]\ttrain-rmse:1566.70398\teval-rmse:1594.27722\n",
      "[230]\ttrain-rmse:1566.52124\teval-rmse:1594.15063\n",
      "[231]\ttrain-rmse:1566.14954\teval-rmse:1593.89062\n",
      "[232]\ttrain-rmse:1565.99768\teval-rmse:1593.75000\n",
      "[233]\ttrain-rmse:1565.83264\teval-rmse:1593.67505\n",
      "[234]\ttrain-rmse:1565.69202\teval-rmse:1593.57434\n",
      "[235]\ttrain-rmse:1565.30005\teval-rmse:1593.37561\n",
      "[236]\ttrain-rmse:1565.02380\teval-rmse:1593.17700\n",
      "[237]\ttrain-rmse:1564.87463\teval-rmse:1593.08801\n",
      "[238]\ttrain-rmse:1564.72302\teval-rmse:1593.03760\n",
      "[239]\ttrain-rmse:1564.60498\teval-rmse:1592.96106\n",
      "[240]\ttrain-rmse:1564.37659\teval-rmse:1592.73462\n",
      "[241]\ttrain-rmse:1563.96753\teval-rmse:1592.42541\n",
      "[242]\ttrain-rmse:1563.75635\teval-rmse:1592.36853\n",
      "[243]\ttrain-rmse:1563.58557\teval-rmse:1592.26148\n",
      "[244]\ttrain-rmse:1563.36877\teval-rmse:1592.06506\n",
      "[245]\ttrain-rmse:1563.15869\teval-rmse:1591.92859\n",
      "[246]\ttrain-rmse:1563.04273\teval-rmse:1591.87207\n",
      "[247]\ttrain-rmse:1562.87891\teval-rmse:1591.76685\n",
      "[248]\ttrain-rmse:1562.67481\teval-rmse:1591.55957\n",
      "[249]\ttrain-rmse:1562.30164\teval-rmse:1591.24121\n",
      "[250]\ttrain-rmse:1562.10913\teval-rmse:1591.20410\n",
      "[251]\ttrain-rmse:1561.75110\teval-rmse:1590.88123\n",
      "[252]\ttrain-rmse:1561.47852\teval-rmse:1590.80164\n",
      "[253]\ttrain-rmse:1561.16284\teval-rmse:1590.61340\n",
      "[254]\ttrain-rmse:1560.86438\teval-rmse:1590.41846\n",
      "[255]\ttrain-rmse:1560.75476\teval-rmse:1590.35486\n",
      "[256]\ttrain-rmse:1560.60449\teval-rmse:1590.23804\n",
      "[257]\ttrain-rmse:1560.29346\teval-rmse:1589.94446\n",
      "[258]\ttrain-rmse:1560.16138\teval-rmse:1589.84863\n",
      "[259]\ttrain-rmse:1559.78479\teval-rmse:1589.53418\n",
      "[260]\ttrain-rmse:1559.52100\teval-rmse:1589.32617\n",
      "[261]\ttrain-rmse:1559.16528\teval-rmse:1589.20886\n",
      "[262]\ttrain-rmse:1558.88599\teval-rmse:1588.93066\n",
      "[263]\ttrain-rmse:1558.71155\teval-rmse:1588.88415\n",
      "[264]\ttrain-rmse:1558.48975\teval-rmse:1588.69604\n",
      "[265]\ttrain-rmse:1558.41211\teval-rmse:1588.64539\n",
      "[266]\ttrain-rmse:1557.91040\teval-rmse:1588.19751\n",
      "[267]\ttrain-rmse:1557.59424\teval-rmse:1587.99475\n",
      "[268]\ttrain-rmse:1557.18518\teval-rmse:1587.68103\n",
      "[269]\ttrain-rmse:1556.81262\teval-rmse:1587.41980\n",
      "[270]\ttrain-rmse:1556.63147\teval-rmse:1587.28088\n",
      "[271]\ttrain-rmse:1556.47717\teval-rmse:1587.25073\n",
      "[272]\ttrain-rmse:1556.31287\teval-rmse:1587.15710\n",
      "[273]\ttrain-rmse:1556.17944\teval-rmse:1587.08752\n",
      "[274]\ttrain-rmse:1555.81653\teval-rmse:1586.78491\n",
      "[275]\ttrain-rmse:1555.69849\teval-rmse:1586.68408\n",
      "[276]\ttrain-rmse:1555.53479\teval-rmse:1586.58521\n",
      "[277]\ttrain-rmse:1555.46741\teval-rmse:1586.54004\n",
      "[278]\ttrain-rmse:1555.09949\teval-rmse:1586.32459\n",
      "[279]\ttrain-rmse:1554.80505\teval-rmse:1586.11401\n",
      "[280]\ttrain-rmse:1554.54480\teval-rmse:1585.95813\n",
      "[281]\ttrain-rmse:1554.24597\teval-rmse:1585.86780\n",
      "[282]\ttrain-rmse:1553.96582\teval-rmse:1585.60925\n",
      "[283]\ttrain-rmse:1553.63745\teval-rmse:1585.31433\n",
      "[284]\ttrain-rmse:1553.47278\teval-rmse:1585.22314\n",
      "[285]\ttrain-rmse:1552.79321\teval-rmse:1584.68005\n",
      "[286]\ttrain-rmse:1552.62598\teval-rmse:1584.55518\n",
      "[287]\ttrain-rmse:1552.48108\teval-rmse:1584.54114\n",
      "[288]\ttrain-rmse:1552.25244\teval-rmse:1584.36877\n",
      "[289]\ttrain-rmse:1551.98413\teval-rmse:1584.16016\n",
      "[290]\ttrain-rmse:1551.90588\teval-rmse:1584.11475\n",
      "[291]\ttrain-rmse:1551.72729\teval-rmse:1584.00854\n",
      "[292]\ttrain-rmse:1551.45935\teval-rmse:1583.80420\n",
      "[293]\ttrain-rmse:1551.28418\teval-rmse:1583.74890\n",
      "[294]\ttrain-rmse:1551.08191\teval-rmse:1583.57117\n",
      "[295]\ttrain-rmse:1550.79968\teval-rmse:1583.50500\n",
      "[296]\ttrain-rmse:1550.64844\teval-rmse:1583.38525\n",
      "[297]\ttrain-rmse:1550.58984\teval-rmse:1583.33972\n",
      "[298]\ttrain-rmse:1550.41748\teval-rmse:1583.19214\n",
      "[299]\ttrain-rmse:1550.28882\teval-rmse:1583.15503\n",
      "[300]\ttrain-rmse:1549.72363\teval-rmse:1582.70630\n",
      "[301]\ttrain-rmse:1549.44849\teval-rmse:1582.47375\n",
      "[302]\ttrain-rmse:1549.23389\teval-rmse:1582.31689\n",
      "[303]\ttrain-rmse:1548.87683\teval-rmse:1582.12170\n",
      "[304]\ttrain-rmse:1548.76343\teval-rmse:1582.03748\n",
      "[305]\ttrain-rmse:1548.67468\teval-rmse:1581.95715\n",
      "[306]\ttrain-rmse:1548.53418\teval-rmse:1581.85754\n",
      "[307]\ttrain-rmse:1548.25854\teval-rmse:1581.60974\n",
      "[308]\ttrain-rmse:1548.15686\teval-rmse:1581.52319\n",
      "[309]\ttrain-rmse:1548.05115\teval-rmse:1581.44898\n",
      "[310]\ttrain-rmse:1547.85034\teval-rmse:1581.29285\n",
      "[311]\ttrain-rmse:1547.76807\teval-rmse:1581.21667\n",
      "[312]\ttrain-rmse:1547.64856\teval-rmse:1581.21143\n",
      "[313]\ttrain-rmse:1547.16223\teval-rmse:1580.87976\n",
      "[314]\ttrain-rmse:1547.05945\teval-rmse:1580.81433\n",
      "[315]\ttrain-rmse:1546.97571\teval-rmse:1580.77869\n",
      "[316]\ttrain-rmse:1546.69763\teval-rmse:1580.58264\n",
      "[317]\ttrain-rmse:1546.57495\teval-rmse:1580.51685\n",
      "[318]\ttrain-rmse:1546.41064\teval-rmse:1580.37024\n",
      "[319]\ttrain-rmse:1546.01892\teval-rmse:1580.05212\n",
      "[320]\ttrain-rmse:1545.92395\teval-rmse:1579.99829\n",
      "[321]\ttrain-rmse:1545.68103\teval-rmse:1579.80945\n",
      "[322]\ttrain-rmse:1545.44385\teval-rmse:1579.59070\n",
      "[323]\ttrain-rmse:1545.35559\teval-rmse:1579.51294\n",
      "[324]\ttrain-rmse:1545.00867\teval-rmse:1579.19128\n",
      "[325]\ttrain-rmse:1544.89197\teval-rmse:1579.08899\n",
      "[326]\ttrain-rmse:1544.77808\teval-rmse:1579.08801\n",
      "[327]\ttrain-rmse:1544.70569\teval-rmse:1579.04248\n",
      "[328]\ttrain-rmse:1544.42041\teval-rmse:1578.73987\n",
      "[329]\ttrain-rmse:1544.35144\teval-rmse:1578.68506\n",
      "[330]\ttrain-rmse:1544.00183\teval-rmse:1578.45190\n",
      "[331]\ttrain-rmse:1543.87378\teval-rmse:1578.35767\n",
      "[332]\ttrain-rmse:1543.79285\teval-rmse:1578.32825\n",
      "[333]\ttrain-rmse:1543.49487\teval-rmse:1578.12280\n",
      "[334]\ttrain-rmse:1543.34180\teval-rmse:1578.00549\n",
      "[335]\ttrain-rmse:1542.91992\teval-rmse:1577.74536\n",
      "[336]\ttrain-rmse:1542.80688\teval-rmse:1577.66113\n"
     ]
    },
    {
     "name": "stdout",
     "output_type": "stream",
     "text": [
      "[337]\ttrain-rmse:1542.62439\teval-rmse:1577.55102\n",
      "[338]\ttrain-rmse:1542.48975\teval-rmse:1577.46362\n",
      "[339]\ttrain-rmse:1542.41284\teval-rmse:1577.42273\n",
      "[340]\ttrain-rmse:1542.33398\teval-rmse:1577.35986\n",
      "[341]\ttrain-rmse:1542.22913\teval-rmse:1577.31665\n",
      "[342]\ttrain-rmse:1541.97790\teval-rmse:1577.09607\n",
      "[343]\ttrain-rmse:1541.70117\teval-rmse:1576.89453\n",
      "[344]\ttrain-rmse:1541.63294\teval-rmse:1576.85132\n",
      "[345]\ttrain-rmse:1541.43384\teval-rmse:1576.69421\n",
      "[346]\ttrain-rmse:1541.34717\teval-rmse:1576.60400\n",
      "[347]\ttrain-rmse:1541.27881\teval-rmse:1576.58008\n",
      "[348]\ttrain-rmse:1540.89661\teval-rmse:1576.23901\n",
      "[349]\ttrain-rmse:1540.73804\teval-rmse:1576.17090\n",
      "[350]\ttrain-rmse:1540.65320\teval-rmse:1576.11780\n",
      "[351]\ttrain-rmse:1540.40015\teval-rmse:1575.92114\n",
      "[352]\ttrain-rmse:1540.02393\teval-rmse:1575.67065\n",
      "[353]\ttrain-rmse:1539.80017\teval-rmse:1575.52783\n",
      "[354]\ttrain-rmse:1539.33728\teval-rmse:1575.13379\n",
      "[355]\ttrain-rmse:1539.20508\teval-rmse:1575.01294\n",
      "[356]\ttrain-rmse:1539.12109\teval-rmse:1574.95972\n",
      "[357]\ttrain-rmse:1538.82947\teval-rmse:1574.74023\n",
      "[358]\ttrain-rmse:1538.14661\teval-rmse:1574.15515\n",
      "[359]\ttrain-rmse:1538.03906\teval-rmse:1574.11755\n",
      "[360]\ttrain-rmse:1537.96069\teval-rmse:1574.06262\n",
      "[361]\ttrain-rmse:1537.78577\teval-rmse:1573.91650\n",
      "[362]\ttrain-rmse:1537.57068\teval-rmse:1573.81689\n",
      "[363]\ttrain-rmse:1537.44531\teval-rmse:1573.74780\n",
      "[364]\ttrain-rmse:1537.21960\teval-rmse:1573.59814\n",
      "[365]\ttrain-rmse:1537.10876\teval-rmse:1573.53101\n",
      "[366]\ttrain-rmse:1537.00427\teval-rmse:1573.45825\n",
      "[367]\ttrain-rmse:1536.90845\teval-rmse:1573.38391\n",
      "[368]\ttrain-rmse:1536.68469\teval-rmse:1573.28284\n",
      "[369]\ttrain-rmse:1536.57495\teval-rmse:1573.21887\n",
      "[370]\ttrain-rmse:1536.41626\teval-rmse:1573.12488\n",
      "[371]\ttrain-rmse:1536.21130\teval-rmse:1572.93372\n",
      "[372]\ttrain-rmse:1535.84802\teval-rmse:1572.59558\n",
      "[373]\ttrain-rmse:1535.69312\teval-rmse:1572.56494\n",
      "[374]\ttrain-rmse:1535.62720\teval-rmse:1572.52698\n",
      "[375]\ttrain-rmse:1535.51904\teval-rmse:1572.52466\n",
      "[376]\ttrain-rmse:1535.35535\teval-rmse:1572.38477\n",
      "[377]\ttrain-rmse:1535.30335\teval-rmse:1572.33679\n",
      "[378]\ttrain-rmse:1534.99548\teval-rmse:1572.08630\n",
      "[379]\ttrain-rmse:1534.88660\teval-rmse:1572.05225\n",
      "[380]\ttrain-rmse:1534.49927\teval-rmse:1571.76038\n",
      "[381]\ttrain-rmse:1534.34265\teval-rmse:1571.62488\n",
      "[382]\ttrain-rmse:1534.10681\teval-rmse:1571.51428\n",
      "[383]\ttrain-rmse:1534.03296\teval-rmse:1571.45837\n",
      "[384]\ttrain-rmse:1533.73572\teval-rmse:1571.27612\n",
      "[385]\ttrain-rmse:1533.57349\teval-rmse:1571.17664\n",
      "[386]\ttrain-rmse:1533.45056\teval-rmse:1571.10437\n",
      "[387]\ttrain-rmse:1533.35510\teval-rmse:1571.06079\n",
      "[388]\ttrain-rmse:1533.20569\teval-rmse:1570.94592\n",
      "[389]\ttrain-rmse:1532.59570\teval-rmse:1570.42346\n",
      "[390]\ttrain-rmse:1532.33887\teval-rmse:1570.22717\n",
      "[391]\ttrain-rmse:1532.24707\teval-rmse:1570.14844\n",
      "[392]\ttrain-rmse:1532.02832\teval-rmse:1569.94312\n",
      "[393]\ttrain-rmse:1531.82874\teval-rmse:1569.82812\n",
      "[394]\ttrain-rmse:1531.78162\teval-rmse:1569.80310\n",
      "[395]\ttrain-rmse:1531.51050\teval-rmse:1569.64099\n",
      "[396]\ttrain-rmse:1531.11035\teval-rmse:1569.23242\n",
      "[397]\ttrain-rmse:1530.72900\teval-rmse:1569.03357\n",
      "[398]\ttrain-rmse:1530.56860\teval-rmse:1568.90723\n",
      "[399]\ttrain-rmse:1530.22180\teval-rmse:1568.66650\n",
      "[400]\ttrain-rmse:1529.69678\teval-rmse:1568.23023\n",
      "[401]\ttrain-rmse:1529.52417\teval-rmse:1568.11743\n",
      "[402]\ttrain-rmse:1529.28833\teval-rmse:1567.98731\n",
      "[403]\ttrain-rmse:1529.00305\teval-rmse:1567.77124\n",
      "[404]\ttrain-rmse:1528.80456\teval-rmse:1567.64819\n",
      "[405]\ttrain-rmse:1528.34522\teval-rmse:1567.20886\n",
      "[406]\ttrain-rmse:1528.18835\teval-rmse:1567.16309\n",
      "[407]\ttrain-rmse:1528.04297\teval-rmse:1567.03235\n",
      "[408]\ttrain-rmse:1527.94116\teval-rmse:1566.96570\n",
      "[409]\ttrain-rmse:1527.79358\teval-rmse:1566.86621\n",
      "[410]\ttrain-rmse:1527.47461\teval-rmse:1566.61633\n",
      "[411]\ttrain-rmse:1527.39038\teval-rmse:1566.56970\n",
      "[412]\ttrain-rmse:1527.21716\teval-rmse:1566.43799\n",
      "[413]\ttrain-rmse:1527.12109\teval-rmse:1566.40698\n",
      "[414]\ttrain-rmse:1527.02002\teval-rmse:1566.36585\n",
      "[415]\ttrain-rmse:1526.85889\teval-rmse:1566.33069\n",
      "[416]\ttrain-rmse:1526.80603\teval-rmse:1566.32080\n",
      "[417]\ttrain-rmse:1526.71497\teval-rmse:1566.21936\n",
      "[418]\ttrain-rmse:1526.54590\teval-rmse:1566.10571\n",
      "[419]\ttrain-rmse:1526.42956\teval-rmse:1566.05786\n",
      "[420]\ttrain-rmse:1526.31665\teval-rmse:1565.98914\n",
      "[421]\ttrain-rmse:1526.19873\teval-rmse:1565.89636\n",
      "[422]\ttrain-rmse:1526.08154\teval-rmse:1565.85901\n",
      "[423]\ttrain-rmse:1526.00366\teval-rmse:1565.81445\n",
      "[424]\ttrain-rmse:1525.90601\teval-rmse:1565.83398\n",
      "[425]\ttrain-rmse:1525.58691\teval-rmse:1565.64087\n",
      "[426]\ttrain-rmse:1525.48572\teval-rmse:1565.57324\n",
      "[427]\ttrain-rmse:1525.33106\teval-rmse:1565.41565\n",
      "[428]\ttrain-rmse:1525.24060\teval-rmse:1565.36255\n",
      "[429]\ttrain-rmse:1525.05652\teval-rmse:1565.30054\n",
      "[430]\ttrain-rmse:1524.95581\teval-rmse:1565.24194\n",
      "[431]\ttrain-rmse:1524.91479\teval-rmse:1565.19226\n",
      "[432]\ttrain-rmse:1524.56323\teval-rmse:1564.85779\n",
      "[433]\ttrain-rmse:1524.46069\teval-rmse:1564.82776\n",
      "[434]\ttrain-rmse:1524.29358\teval-rmse:1564.73242\n",
      "[435]\ttrain-rmse:1524.24731\teval-rmse:1564.71582\n",
      "[436]\ttrain-rmse:1524.04688\teval-rmse:1564.61328\n",
      "[437]\ttrain-rmse:1524.00708\teval-rmse:1564.60413\n",
      "[438]\ttrain-rmse:1523.89185\teval-rmse:1564.55969\n",
      "[439]\ttrain-rmse:1523.73914\teval-rmse:1564.48608\n",
      "[440]\ttrain-rmse:1523.45935\teval-rmse:1564.30420\n",
      "[441]\ttrain-rmse:1523.40247\teval-rmse:1564.26209\n",
      "[442]\ttrain-rmse:1523.19714\teval-rmse:1564.18091\n",
      "[443]\ttrain-rmse:1522.87988\teval-rmse:1563.97876\n",
      "[444]\ttrain-rmse:1522.64868\teval-rmse:1563.86316\n",
      "[445]\ttrain-rmse:1522.38757\teval-rmse:1563.64514\n",
      "[446]\ttrain-rmse:1522.21362\teval-rmse:1563.60205\n",
      "[447]\ttrain-rmse:1522.11206\teval-rmse:1563.56299\n",
      "[448]\ttrain-rmse:1522.04138\teval-rmse:1563.54688\n",
      "[449]\ttrain-rmse:1521.91540\teval-rmse:1563.43665\n",
      "[450]\ttrain-rmse:1521.86511\teval-rmse:1563.40247\n",
      "[451]\ttrain-rmse:1521.67493\teval-rmse:1563.26562\n",
      "[452]\ttrain-rmse:1521.37244\teval-rmse:1563.09558\n",
      "[453]\ttrain-rmse:1521.29956\teval-rmse:1563.06067\n",
      "[454]\ttrain-rmse:1521.26514\teval-rmse:1563.05298\n",
      "[455]\ttrain-rmse:1521.02869\teval-rmse:1562.86658\n",
      "[456]\ttrain-rmse:1520.71069\teval-rmse:1562.65723\n",
      "[457]\ttrain-rmse:1520.59814\teval-rmse:1562.63586\n",
      "[458]\ttrain-rmse:1520.36780\teval-rmse:1562.48010\n",
      "[459]\ttrain-rmse:1520.30273\teval-rmse:1562.45960\n",
      "[460]\ttrain-rmse:1520.16382\teval-rmse:1562.40906\n",
      "[461]\ttrain-rmse:1519.99231\teval-rmse:1562.30115\n",
      "[462]\ttrain-rmse:1519.95557\teval-rmse:1562.28406\n",
      "[463]\ttrain-rmse:1519.60461\teval-rmse:1562.01453\n",
      "[464]\ttrain-rmse:1519.14771\teval-rmse:1561.65405\n",
      "[465]\ttrain-rmse:1519.03503\teval-rmse:1561.56921\n",
      "[466]\ttrain-rmse:1518.91296\teval-rmse:1561.50391\n",
      "[467]\ttrain-rmse:1518.87781\teval-rmse:1561.51294\n",
      "[468]\ttrain-rmse:1518.63977\teval-rmse:1561.35547\n",
      "[469]\ttrain-rmse:1518.51050\teval-rmse:1561.27844\n",
      "[470]\ttrain-rmse:1518.45642\teval-rmse:1561.24402\n",
      "[471]\ttrain-rmse:1518.33875\teval-rmse:1561.23193\n",
      "[472]\ttrain-rmse:1518.24243\teval-rmse:1561.20606\n",
      "[473]\ttrain-rmse:1518.11804\teval-rmse:1561.12366\n",
      "[474]\ttrain-rmse:1518.04773\teval-rmse:1561.10364\n",
      "[475]\ttrain-rmse:1517.93774\teval-rmse:1561.07129\n",
      "[476]\ttrain-rmse:1517.65405\teval-rmse:1560.92493\n",
      "[477]\ttrain-rmse:1517.56445\teval-rmse:1560.89954\n",
      "[478]\ttrain-rmse:1517.53601\teval-rmse:1560.88501\n",
      "[479]\ttrain-rmse:1517.24841\teval-rmse:1560.62622\n",
      "[480]\ttrain-rmse:1516.92969\teval-rmse:1560.41980\n",
      "[481]\ttrain-rmse:1516.74268\teval-rmse:1560.29248\n",
      "[482]\ttrain-rmse:1516.64331\teval-rmse:1560.26306\n",
      "[483]\ttrain-rmse:1516.54529\teval-rmse:1560.21301\n",
      "[484]\ttrain-rmse:1516.51892\teval-rmse:1560.21313\n",
      "[485]\ttrain-rmse:1516.47070\teval-rmse:1560.17041\n",
      "[486]\ttrain-rmse:1516.19348\teval-rmse:1560.00525\n",
      "[487]\ttrain-rmse:1516.06445\teval-rmse:1559.94678\n",
      "[488]\ttrain-rmse:1516.00293\teval-rmse:1559.92969\n",
      "[489]\ttrain-rmse:1515.79761\teval-rmse:1559.75281\n",
      "[490]\ttrain-rmse:1515.67883\teval-rmse:1559.72790\n",
      "[491]\ttrain-rmse:1515.57104\teval-rmse:1559.68005\n",
      "[492]\ttrain-rmse:1515.40674\teval-rmse:1559.58154\n",
      "[493]\ttrain-rmse:1515.06177\teval-rmse:1559.37000\n",
      "[494]\ttrain-rmse:1514.82825\teval-rmse:1559.20447\n",
      "[495]\ttrain-rmse:1514.54480\teval-rmse:1559.02002\n",
      "[496]\ttrain-rmse:1514.15002\teval-rmse:1558.83020\n",
      "[497]\ttrain-rmse:1513.79883\teval-rmse:1558.56738\n",
      "[498]\ttrain-rmse:1513.77661\teval-rmse:1558.54761\n",
      "[499]\ttrain-rmse:1513.43286\teval-rmse:1558.21265\n",
      "[500]\ttrain-rmse:1513.39233\teval-rmse:1558.18311\n",
      "[501]\ttrain-rmse:1512.95044\teval-rmse:1557.88623\n",
      "[502]\ttrain-rmse:1512.85437\teval-rmse:1557.83301\n",
      "[503]\ttrain-rmse:1512.69434\teval-rmse:1557.76587\n",
      "[504]\ttrain-rmse:1512.66064\teval-rmse:1557.76428\n"
     ]
    },
    {
     "name": "stdout",
     "output_type": "stream",
     "text": [
      "[505]\ttrain-rmse:1512.55310\teval-rmse:1557.76099\n",
      "[506]\ttrain-rmse:1512.25244\teval-rmse:1557.56653\n",
      "[507]\ttrain-rmse:1512.16968\teval-rmse:1557.54688\n",
      "[508]\ttrain-rmse:1512.06799\teval-rmse:1557.51709\n",
      "[509]\ttrain-rmse:1512.00732\teval-rmse:1557.51697\n",
      "[510]\ttrain-rmse:1511.91223\teval-rmse:1557.46814\n",
      "[511]\ttrain-rmse:1511.58057\teval-rmse:1557.25537\n",
      "[512]\ttrain-rmse:1511.27295\teval-rmse:1557.01990\n",
      "[513]\ttrain-rmse:1511.05005\teval-rmse:1556.87720\n",
      "[514]\ttrain-rmse:1511.01111\teval-rmse:1556.87024\n",
      "[515]\ttrain-rmse:1510.72485\teval-rmse:1556.67090\n",
      "[516]\ttrain-rmse:1510.49475\teval-rmse:1556.53064\n",
      "[517]\ttrain-rmse:1510.23633\teval-rmse:1556.32068\n",
      "[518]\ttrain-rmse:1510.09192\teval-rmse:1556.25110\n",
      "[519]\ttrain-rmse:1510.03748\teval-rmse:1556.21387\n",
      "[520]\ttrain-rmse:1509.87964\teval-rmse:1556.13171\n",
      "[521]\ttrain-rmse:1509.81201\teval-rmse:1556.07776\n",
      "[522]\ttrain-rmse:1509.75232\teval-rmse:1556.05298\n",
      "[523]\ttrain-rmse:1509.72375\teval-rmse:1556.04663\n",
      "[524]\ttrain-rmse:1509.55652\teval-rmse:1555.94556\n",
      "[525]\ttrain-rmse:1509.34497\teval-rmse:1555.80615\n",
      "[526]\ttrain-rmse:1509.20227\teval-rmse:1555.70679\n",
      "[527]\ttrain-rmse:1509.04370\teval-rmse:1555.65503\n",
      "[528]\ttrain-rmse:1508.98023\teval-rmse:1555.60815\n",
      "[529]\ttrain-rmse:1508.68115\teval-rmse:1555.39978\n",
      "[530]\ttrain-rmse:1508.61877\teval-rmse:1555.37353\n",
      "[531]\ttrain-rmse:1508.46167\teval-rmse:1555.32068\n",
      "[532]\ttrain-rmse:1508.34338\teval-rmse:1555.23743\n",
      "[533]\ttrain-rmse:1508.22375\teval-rmse:1555.17615\n",
      "[534]\ttrain-rmse:1508.10095\teval-rmse:1555.11426\n",
      "[535]\ttrain-rmse:1507.94312\teval-rmse:1555.02393\n",
      "[536]\ttrain-rmse:1507.38684\teval-rmse:1554.63159\n",
      "[537]\ttrain-rmse:1507.08728\teval-rmse:1554.41309\n",
      "[538]\ttrain-rmse:1507.06641\teval-rmse:1554.41345\n",
      "[539]\ttrain-rmse:1507.00781\teval-rmse:1554.39758\n",
      "[540]\ttrain-rmse:1506.94995\teval-rmse:1554.39062\n",
      "[541]\ttrain-rmse:1506.87000\teval-rmse:1554.31360\n",
      "[542]\ttrain-rmse:1506.81665\teval-rmse:1554.27783\n",
      "[543]\ttrain-rmse:1506.68555\teval-rmse:1554.17712\n",
      "[544]\ttrain-rmse:1506.56384\teval-rmse:1554.06653\n",
      "[545]\ttrain-rmse:1506.31348\teval-rmse:1553.93909\n",
      "[546]\ttrain-rmse:1506.28345\teval-rmse:1553.92590\n",
      "[547]\ttrain-rmse:1506.16223\teval-rmse:1553.87488\n",
      "[548]\ttrain-rmse:1506.04468\teval-rmse:1553.81848\n",
      "[549]\ttrain-rmse:1505.86548\teval-rmse:1553.77368\n",
      "[550]\ttrain-rmse:1505.80188\teval-rmse:1553.71021\n",
      "[551]\ttrain-rmse:1505.55750\teval-rmse:1553.54187\n",
      "[552]\ttrain-rmse:1505.34412\teval-rmse:1553.47717\n",
      "[553]\ttrain-rmse:1505.29260\teval-rmse:1553.46448\n",
      "[554]\ttrain-rmse:1505.16626\teval-rmse:1553.43689\n",
      "[555]\ttrain-rmse:1504.92285\teval-rmse:1553.23059\n",
      "[556]\ttrain-rmse:1504.84741\teval-rmse:1553.20019\n",
      "[557]\ttrain-rmse:1504.58545\teval-rmse:1553.00720\n",
      "[558]\ttrain-rmse:1504.37964\teval-rmse:1552.96338\n",
      "[559]\ttrain-rmse:1504.19275\teval-rmse:1552.85547\n",
      "[560]\ttrain-rmse:1504.11255\teval-rmse:1552.83020\n",
      "[561]\ttrain-rmse:1504.08838\teval-rmse:1552.82288\n",
      "[562]\ttrain-rmse:1504.03552\teval-rmse:1552.78503\n",
      "[563]\ttrain-rmse:1503.89185\teval-rmse:1552.67725\n",
      "[564]\ttrain-rmse:1503.42041\teval-rmse:1552.30615\n",
      "[565]\ttrain-rmse:1503.08203\teval-rmse:1552.02856\n",
      "[566]\ttrain-rmse:1502.76209\teval-rmse:1551.87378\n",
      "[567]\ttrain-rmse:1502.56433\teval-rmse:1551.84192\n",
      "[568]\ttrain-rmse:1502.38415\teval-rmse:1551.81970\n",
      "[569]\ttrain-rmse:1502.09058\teval-rmse:1551.68250\n",
      "[570]\ttrain-rmse:1502.05579\teval-rmse:1551.66980\n",
      "[571]\ttrain-rmse:1501.89880\teval-rmse:1551.61536\n",
      "[572]\ttrain-rmse:1501.67371\teval-rmse:1551.44336\n",
      "[573]\ttrain-rmse:1501.58008\teval-rmse:1551.33789\n",
      "[574]\ttrain-rmse:1501.47009\teval-rmse:1551.25317\n",
      "[575]\ttrain-rmse:1501.41162\teval-rmse:1551.25928\n",
      "[576]\ttrain-rmse:1501.39331\teval-rmse:1551.26367\n",
      "[577]\ttrain-rmse:1501.09839\teval-rmse:1551.10547\n",
      "[578]\ttrain-rmse:1501.02893\teval-rmse:1551.07996\n",
      "[579]\ttrain-rmse:1500.87830\teval-rmse:1551.03809\n",
      "[580]\ttrain-rmse:1500.81555\teval-rmse:1551.01013\n",
      "[581]\ttrain-rmse:1500.77417\teval-rmse:1550.99329\n",
      "[582]\ttrain-rmse:1500.62866\teval-rmse:1550.92432\n",
      "[583]\ttrain-rmse:1500.46008\teval-rmse:1550.83875\n",
      "[584]\ttrain-rmse:1500.35901\teval-rmse:1550.79211\n",
      "[585]\ttrain-rmse:1500.34558\teval-rmse:1550.78943\n",
      "[586]\ttrain-rmse:1500.26465\teval-rmse:1550.77661\n",
      "[587]\ttrain-rmse:1500.20740\teval-rmse:1550.76819\n",
      "[588]\ttrain-rmse:1499.94031\teval-rmse:1550.54651\n",
      "[589]\ttrain-rmse:1499.85596\teval-rmse:1550.50464\n",
      "[590]\ttrain-rmse:1499.65393\teval-rmse:1550.39099\n",
      "[591]\ttrain-rmse:1499.48486\teval-rmse:1550.32935\n",
      "[592]\ttrain-rmse:1499.25073\teval-rmse:1550.19434\n",
      "[593]\ttrain-rmse:1499.20215\teval-rmse:1550.20471\n",
      "[594]\ttrain-rmse:1499.09705\teval-rmse:1550.15979\n",
      "[595]\ttrain-rmse:1498.92419\teval-rmse:1550.06616\n",
      "[596]\ttrain-rmse:1498.74255\teval-rmse:1549.95227\n",
      "[597]\ttrain-rmse:1498.66992\teval-rmse:1549.93201\n",
      "[598]\ttrain-rmse:1498.52405\teval-rmse:1549.81042\n",
      "[599]\ttrain-rmse:1498.36340\teval-rmse:1549.75867\n",
      "[600]\ttrain-rmse:1498.18335\teval-rmse:1549.74890\n",
      "[601]\ttrain-rmse:1498.12476\teval-rmse:1549.66992\n",
      "[602]\ttrain-rmse:1498.09314\teval-rmse:1549.64905\n",
      "[603]\ttrain-rmse:1498.02576\teval-rmse:1549.60815\n",
      "[604]\ttrain-rmse:1497.94580\teval-rmse:1549.58484\n",
      "[605]\ttrain-rmse:1497.81970\teval-rmse:1549.50122\n",
      "[606]\ttrain-rmse:1497.43799\teval-rmse:1549.17029\n",
      "[607]\ttrain-rmse:1497.13464\teval-rmse:1549.03381\n",
      "[608]\ttrain-rmse:1496.97790\teval-rmse:1548.95789\n",
      "[609]\ttrain-rmse:1496.87854\teval-rmse:1548.94055\n",
      "[610]\ttrain-rmse:1496.83862\teval-rmse:1548.89990\n",
      "[611]\ttrain-rmse:1496.70801\teval-rmse:1548.85461\n",
      "[612]\ttrain-rmse:1496.24853\teval-rmse:1548.57275\n",
      "[613]\ttrain-rmse:1496.23401\teval-rmse:1548.56152\n",
      "[614]\ttrain-rmse:1496.03833\teval-rmse:1548.50537\n",
      "[615]\ttrain-rmse:1496.00574\teval-rmse:1548.48608\n",
      "[616]\ttrain-rmse:1495.79968\teval-rmse:1548.38623\n",
      "[617]\ttrain-rmse:1495.69189\teval-rmse:1548.34387\n",
      "[618]\ttrain-rmse:1495.58460\teval-rmse:1548.27161\n",
      "[619]\ttrain-rmse:1495.39539\teval-rmse:1548.14624\n",
      "[620]\ttrain-rmse:1495.31714\teval-rmse:1548.06958\n",
      "[621]\ttrain-rmse:1495.00098\teval-rmse:1547.81848\n",
      "[622]\ttrain-rmse:1494.79175\teval-rmse:1547.72839\n",
      "[623]\ttrain-rmse:1494.45581\teval-rmse:1547.52734\n",
      "[624]\ttrain-rmse:1494.28625\teval-rmse:1547.49731\n",
      "[625]\ttrain-rmse:1493.92517\teval-rmse:1547.20654\n",
      "[626]\ttrain-rmse:1493.78064\teval-rmse:1547.16406\n",
      "[627]\ttrain-rmse:1493.71619\teval-rmse:1547.11731\n",
      "[628]\ttrain-rmse:1493.57385\teval-rmse:1547.07398\n",
      "[629]\ttrain-rmse:1493.31262\teval-rmse:1546.95435\n",
      "[630]\ttrain-rmse:1493.14490\teval-rmse:1546.84644\n",
      "[631]\ttrain-rmse:1492.72913\teval-rmse:1546.45105\n",
      "[632]\ttrain-rmse:1492.64197\teval-rmse:1546.42956\n",
      "[633]\ttrain-rmse:1492.52832\teval-rmse:1546.30750\n",
      "[634]\ttrain-rmse:1492.44690\teval-rmse:1546.29578\n",
      "[635]\ttrain-rmse:1492.43603\teval-rmse:1546.29981\n",
      "[636]\ttrain-rmse:1492.27417\teval-rmse:1546.23071\n",
      "[637]\ttrain-rmse:1492.21008\teval-rmse:1546.19531\n",
      "[638]\ttrain-rmse:1492.14001\teval-rmse:1546.14929\n",
      "[639]\ttrain-rmse:1492.01160\teval-rmse:1546.13208\n",
      "[640]\ttrain-rmse:1491.92505\teval-rmse:1546.10046\n",
      "[641]\ttrain-rmse:1491.71387\teval-rmse:1545.92847\n",
      "[642]\ttrain-rmse:1491.65845\teval-rmse:1545.90820\n",
      "[643]\ttrain-rmse:1491.58740\teval-rmse:1545.86572\n",
      "[644]\ttrain-rmse:1491.51990\teval-rmse:1545.80286\n",
      "[645]\ttrain-rmse:1491.51025\teval-rmse:1545.80554\n",
      "[646]\ttrain-rmse:1491.39539\teval-rmse:1545.70386\n",
      "[647]\ttrain-rmse:1491.32434\teval-rmse:1545.68311\n",
      "[648]\ttrain-rmse:1491.26904\teval-rmse:1545.67126\n",
      "[649]\ttrain-rmse:1491.14856\teval-rmse:1545.60388\n",
      "[650]\ttrain-rmse:1490.82788\teval-rmse:1545.45178\n",
      "[651]\ttrain-rmse:1490.70337\teval-rmse:1545.36621\n",
      "[652]\ttrain-rmse:1490.64661\teval-rmse:1545.34265\n",
      "[653]\ttrain-rmse:1490.55542\teval-rmse:1545.32837\n",
      "[654]\ttrain-rmse:1490.47839\teval-rmse:1545.30164\n",
      "[655]\ttrain-rmse:1490.40527\teval-rmse:1545.25940\n",
      "[656]\ttrain-rmse:1490.34546\teval-rmse:1545.23743\n",
      "[657]\ttrain-rmse:1490.16797\teval-rmse:1545.11291\n",
      "[658]\ttrain-rmse:1490.06873\teval-rmse:1545.10876\n",
      "[659]\ttrain-rmse:1489.98376\teval-rmse:1544.99768\n",
      "[660]\ttrain-rmse:1489.90137\teval-rmse:1544.97913\n",
      "[661]\ttrain-rmse:1489.78308\teval-rmse:1544.88452\n",
      "[662]\ttrain-rmse:1489.72424\teval-rmse:1544.87756\n",
      "[663]\ttrain-rmse:1489.61706\teval-rmse:1544.82324\n",
      "[664]\ttrain-rmse:1489.45459\teval-rmse:1544.68213\n",
      "[665]\ttrain-rmse:1489.37012\teval-rmse:1544.62085\n",
      "[666]\ttrain-rmse:1489.22754\teval-rmse:1544.57544\n",
      "[667]\ttrain-rmse:1489.11731\teval-rmse:1544.54236\n",
      "[668]\ttrain-rmse:1489.01172\teval-rmse:1544.51465\n",
      "[669]\ttrain-rmse:1488.94299\teval-rmse:1544.45300\n",
      "[670]\ttrain-rmse:1488.89856\teval-rmse:1544.45447\n",
      "[671]\ttrain-rmse:1488.86279\teval-rmse:1544.44275\n",
      "[672]\ttrain-rmse:1488.84497\teval-rmse:1544.43152\n"
     ]
    },
    {
     "name": "stdout",
     "output_type": "stream",
     "text": [
      "[673]\ttrain-rmse:1488.77307\teval-rmse:1544.42554\n",
      "[674]\ttrain-rmse:1488.62891\teval-rmse:1544.33106\n",
      "[675]\ttrain-rmse:1488.50964\teval-rmse:1544.28369\n",
      "[676]\ttrain-rmse:1488.41162\teval-rmse:1544.25134\n",
      "[677]\ttrain-rmse:1488.35339\teval-rmse:1544.24573\n",
      "[678]\ttrain-rmse:1488.30823\teval-rmse:1544.22888\n",
      "[679]\ttrain-rmse:1488.21570\teval-rmse:1544.17322\n",
      "[680]\ttrain-rmse:1488.07471\teval-rmse:1544.09497\n",
      "[681]\ttrain-rmse:1487.96533\teval-rmse:1544.05872\n",
      "[682]\ttrain-rmse:1487.91980\teval-rmse:1544.06299\n",
      "[683]\ttrain-rmse:1487.87708\teval-rmse:1544.02991\n",
      "[684]\ttrain-rmse:1487.78894\teval-rmse:1543.98950\n",
      "[685]\ttrain-rmse:1487.73547\teval-rmse:1543.96753\n",
      "[686]\ttrain-rmse:1487.69934\teval-rmse:1543.94861\n",
      "[687]\ttrain-rmse:1487.56860\teval-rmse:1543.91980\n",
      "[688]\ttrain-rmse:1487.50928\teval-rmse:1543.88098\n",
      "[689]\ttrain-rmse:1487.42944\teval-rmse:1543.85510\n",
      "[690]\ttrain-rmse:1487.33240\teval-rmse:1543.83191\n",
      "[691]\ttrain-rmse:1487.19873\teval-rmse:1543.80017\n",
      "[692]\ttrain-rmse:1487.17358\teval-rmse:1543.77795\n",
      "[693]\ttrain-rmse:1487.14258\teval-rmse:1543.76709\n",
      "[694]\ttrain-rmse:1487.11218\teval-rmse:1543.75574\n",
      "[695]\ttrain-rmse:1486.93665\teval-rmse:1543.62476\n",
      "[696]\ttrain-rmse:1486.82568\teval-rmse:1543.60132\n",
      "[697]\ttrain-rmse:1486.71472\teval-rmse:1543.56494\n",
      "[698]\ttrain-rmse:1486.62988\teval-rmse:1543.50794\n",
      "[699]\ttrain-rmse:1486.53101\teval-rmse:1543.42090\n",
      "[700]\ttrain-rmse:1486.39990\teval-rmse:1543.35876\n",
      "[701]\ttrain-rmse:1486.28076\teval-rmse:1543.33142\n",
      "[702]\ttrain-rmse:1486.13464\teval-rmse:1543.21765\n",
      "[703]\ttrain-rmse:1485.98523\teval-rmse:1543.14148\n",
      "[704]\ttrain-rmse:1485.95898\teval-rmse:1543.11560\n",
      "[705]\ttrain-rmse:1485.81543\teval-rmse:1543.04968\n",
      "[706]\ttrain-rmse:1485.67224\teval-rmse:1542.95068\n",
      "[707]\ttrain-rmse:1485.63354\teval-rmse:1542.94824\n",
      "[708]\ttrain-rmse:1485.50879\teval-rmse:1542.91064\n",
      "[709]\ttrain-rmse:1485.37524\teval-rmse:1542.82446\n",
      "[710]\ttrain-rmse:1485.21753\teval-rmse:1542.72546\n",
      "[711]\ttrain-rmse:1485.12866\teval-rmse:1542.70984\n",
      "[712]\ttrain-rmse:1485.04736\teval-rmse:1542.70349\n",
      "[713]\ttrain-rmse:1484.81628\teval-rmse:1542.57556\n",
      "[714]\ttrain-rmse:1484.77429\teval-rmse:1542.56567\n",
      "[715]\ttrain-rmse:1484.69519\teval-rmse:1542.53552\n",
      "[716]\ttrain-rmse:1484.57666\teval-rmse:1542.48547\n",
      "[717]\ttrain-rmse:1484.51965\teval-rmse:1542.46204\n",
      "[718]\ttrain-rmse:1484.44763\teval-rmse:1542.42554\n",
      "[719]\ttrain-rmse:1484.34680\teval-rmse:1542.41455\n",
      "[720]\ttrain-rmse:1484.30579\teval-rmse:1542.40820\n",
      "[721]\ttrain-rmse:1484.17432\teval-rmse:1542.35547\n",
      "[722]\ttrain-rmse:1484.12085\teval-rmse:1542.33276\n",
      "[723]\ttrain-rmse:1484.08203\teval-rmse:1542.34912\n",
      "[724]\ttrain-rmse:1484.01794\teval-rmse:1542.35400\n",
      "[725]\ttrain-rmse:1483.89246\teval-rmse:1542.31836\n",
      "[726]\ttrain-rmse:1483.85315\teval-rmse:1542.30750\n",
      "[727]\ttrain-rmse:1483.83008\teval-rmse:1542.28735\n",
      "[728]\ttrain-rmse:1483.72778\teval-rmse:1542.26086\n",
      "[729]\ttrain-rmse:1483.56982\teval-rmse:1542.16235\n",
      "[730]\ttrain-rmse:1483.48926\teval-rmse:1542.11401\n",
      "[731]\ttrain-rmse:1483.27588\teval-rmse:1541.93140\n",
      "[732]\ttrain-rmse:1483.07837\teval-rmse:1541.79541\n",
      "[733]\ttrain-rmse:1482.84106\teval-rmse:1541.62585\n",
      "[734]\ttrain-rmse:1482.79675\teval-rmse:1541.62402\n",
      "[735]\ttrain-rmse:1482.65076\teval-rmse:1541.55249\n",
      "[736]\ttrain-rmse:1482.48535\teval-rmse:1541.56091\n",
      "[737]\ttrain-rmse:1482.40527\teval-rmse:1541.53223\n",
      "[738]\ttrain-rmse:1482.32165\teval-rmse:1541.49182\n",
      "[739]\ttrain-rmse:1482.29895\teval-rmse:1541.49805\n",
      "[740]\ttrain-rmse:1482.17261\teval-rmse:1541.45447\n",
      "[741]\ttrain-rmse:1481.79700\teval-rmse:1541.21521\n",
      "[742]\ttrain-rmse:1481.67273\teval-rmse:1541.11328\n",
      "[743]\ttrain-rmse:1481.62158\teval-rmse:1541.10388\n",
      "[744]\ttrain-rmse:1481.38928\teval-rmse:1540.91614\n",
      "[745]\ttrain-rmse:1481.22205\teval-rmse:1540.83789\n",
      "[746]\ttrain-rmse:1480.95642\teval-rmse:1540.70178\n",
      "[747]\ttrain-rmse:1480.85413\teval-rmse:1540.67627\n",
      "[748]\ttrain-rmse:1480.71265\teval-rmse:1540.59424\n",
      "[749]\ttrain-rmse:1480.69409\teval-rmse:1540.59082\n",
      "[750]\ttrain-rmse:1480.56421\teval-rmse:1540.51843\n",
      "[751]\ttrain-rmse:1480.45679\teval-rmse:1540.52454\n",
      "[752]\ttrain-rmse:1480.33875\teval-rmse:1540.42676\n",
      "[753]\ttrain-rmse:1480.24548\teval-rmse:1540.40234\n",
      "[754]\ttrain-rmse:1480.23328\teval-rmse:1540.40552\n",
      "[755]\ttrain-rmse:1480.16382\teval-rmse:1540.38538\n",
      "[756]\ttrain-rmse:1479.96973\teval-rmse:1540.26221\n",
      "[757]\ttrain-rmse:1479.91309\teval-rmse:1540.23267\n",
      "[758]\ttrain-rmse:1479.83057\teval-rmse:1540.16699\n",
      "[759]\ttrain-rmse:1479.77661\teval-rmse:1540.17761\n",
      "[760]\ttrain-rmse:1479.70239\teval-rmse:1540.14551\n",
      "[761]\ttrain-rmse:1479.64001\teval-rmse:1540.09045\n",
      "[762]\ttrain-rmse:1479.59314\teval-rmse:1540.08081\n",
      "[763]\ttrain-rmse:1479.32837\teval-rmse:1539.98731\n",
      "[764]\ttrain-rmse:1479.08411\teval-rmse:1539.89783\n",
      "[765]\ttrain-rmse:1478.91711\teval-rmse:1539.81958\n",
      "[766]\ttrain-rmse:1478.75891\teval-rmse:1539.72522\n",
      "[767]\ttrain-rmse:1478.72839\teval-rmse:1539.71130\n",
      "[768]\ttrain-rmse:1478.60352\teval-rmse:1539.64990\n",
      "[769]\ttrain-rmse:1478.53040\teval-rmse:1539.65637\n",
      "[770]\ttrain-rmse:1478.42395\teval-rmse:1539.55933\n",
      "[771]\ttrain-rmse:1478.38769\teval-rmse:1539.55981\n",
      "[772]\ttrain-rmse:1478.34131\teval-rmse:1539.54358\n",
      "[773]\ttrain-rmse:1478.28857\teval-rmse:1539.51233\n",
      "[774]\ttrain-rmse:1478.20435\teval-rmse:1539.44971\n",
      "[775]\ttrain-rmse:1478.17126\teval-rmse:1539.45166\n",
      "[776]\ttrain-rmse:1478.03735\teval-rmse:1539.40576\n",
      "[777]\ttrain-rmse:1477.80493\teval-rmse:1539.29224\n",
      "[778]\ttrain-rmse:1477.61560\teval-rmse:1539.25293\n",
      "[779]\ttrain-rmse:1477.53564\teval-rmse:1539.21863\n",
      "[780]\ttrain-rmse:1477.51807\teval-rmse:1539.21997\n",
      "[781]\ttrain-rmse:1477.49622\teval-rmse:1539.22546\n",
      "[782]\ttrain-rmse:1477.34729\teval-rmse:1539.16968\n",
      "[783]\ttrain-rmse:1477.29382\teval-rmse:1539.14477\n",
      "[784]\ttrain-rmse:1477.01880\teval-rmse:1539.02295\n",
      "[785]\ttrain-rmse:1476.76660\teval-rmse:1538.83008\n",
      "[786]\ttrain-rmse:1476.61499\teval-rmse:1538.76477\n",
      "[787]\ttrain-rmse:1476.45227\teval-rmse:1538.69446\n",
      "[788]\ttrain-rmse:1476.25659\teval-rmse:1538.60571\n",
      "[789]\ttrain-rmse:1476.01587\teval-rmse:1538.41504\n",
      "[790]\ttrain-rmse:1475.83643\teval-rmse:1538.28845\n",
      "[791]\ttrain-rmse:1475.75562\teval-rmse:1538.26148\n",
      "[792]\ttrain-rmse:1475.60706\teval-rmse:1538.17835\n",
      "[793]\ttrain-rmse:1475.48157\teval-rmse:1538.09790\n",
      "[794]\ttrain-rmse:1475.13294\teval-rmse:1537.86499\n",
      "[795]\ttrain-rmse:1474.97986\teval-rmse:1537.79480\n",
      "[796]\ttrain-rmse:1474.68494\teval-rmse:1537.61792\n",
      "[797]\ttrain-rmse:1474.45056\teval-rmse:1537.53919\n",
      "[798]\ttrain-rmse:1474.23047\teval-rmse:1537.39685\n",
      "[799]\ttrain-rmse:1474.00964\teval-rmse:1537.29846\n",
      "[800]\ttrain-rmse:1473.78259\teval-rmse:1537.26953\n",
      "[801]\ttrain-rmse:1473.69299\teval-rmse:1537.23975\n",
      "[802]\ttrain-rmse:1473.59473\teval-rmse:1537.19898\n",
      "[803]\ttrain-rmse:1473.49548\teval-rmse:1537.16089\n",
      "[804]\ttrain-rmse:1473.33179\teval-rmse:1537.03442\n",
      "[805]\ttrain-rmse:1473.23657\teval-rmse:1536.98340\n",
      "[806]\ttrain-rmse:1473.11291\teval-rmse:1536.92871\n",
      "[807]\ttrain-rmse:1473.08057\teval-rmse:1536.92419\n",
      "[808]\ttrain-rmse:1473.01074\teval-rmse:1536.87463\n",
      "[809]\ttrain-rmse:1472.88452\teval-rmse:1536.79565\n",
      "[810]\ttrain-rmse:1472.78748\teval-rmse:1536.74902\n",
      "[811]\ttrain-rmse:1472.65112\teval-rmse:1536.69629\n",
      "[812]\ttrain-rmse:1472.57788\teval-rmse:1536.66162\n",
      "[813]\ttrain-rmse:1472.56128\teval-rmse:1536.64868\n",
      "[814]\ttrain-rmse:1472.49255\teval-rmse:1536.58472\n",
      "[815]\ttrain-rmse:1472.41540\teval-rmse:1536.55603\n",
      "[816]\ttrain-rmse:1472.28821\teval-rmse:1536.48975\n",
      "[817]\ttrain-rmse:1472.28186\teval-rmse:1536.48901\n",
      "[818]\ttrain-rmse:1472.22534\teval-rmse:1536.47351\n",
      "[819]\ttrain-rmse:1472.17310\teval-rmse:1536.43860\n",
      "[820]\ttrain-rmse:1472.13635\teval-rmse:1536.41724\n",
      "[821]\ttrain-rmse:1472.11365\teval-rmse:1536.40247\n",
      "[822]\ttrain-rmse:1472.09522\teval-rmse:1536.40161\n",
      "[823]\ttrain-rmse:1472.03015\teval-rmse:1536.37744\n",
      "[824]\ttrain-rmse:1472.00708\teval-rmse:1536.37964\n",
      "[825]\ttrain-rmse:1471.94055\teval-rmse:1536.30640\n",
      "[826]\ttrain-rmse:1471.85974\teval-rmse:1536.30298\n",
      "[827]\ttrain-rmse:1471.85620\teval-rmse:1536.29712\n",
      "[828]\ttrain-rmse:1471.83435\teval-rmse:1536.30811\n",
      "[829]\ttrain-rmse:1471.76550\teval-rmse:1536.28394\n",
      "[830]\ttrain-rmse:1471.73523\teval-rmse:1536.26538\n",
      "[831]\ttrain-rmse:1471.66296\teval-rmse:1536.25549\n",
      "[832]\ttrain-rmse:1471.64758\teval-rmse:1536.24487\n",
      "[833]\ttrain-rmse:1471.62415\teval-rmse:1536.25342\n",
      "[834]\ttrain-rmse:1471.55884\teval-rmse:1536.26819\n",
      "[835]\ttrain-rmse:1471.49206\teval-rmse:1536.29492\n",
      "[836]\ttrain-rmse:1471.42114\teval-rmse:1536.26758\n",
      "[837]\ttrain-rmse:1471.38843\teval-rmse:1536.26257\n",
      "[838]\ttrain-rmse:1471.29785\teval-rmse:1536.25586\n",
      "[839]\ttrain-rmse:1471.09241\teval-rmse:1536.15466\n",
      "[840]\ttrain-rmse:1470.96606\teval-rmse:1536.07483\n"
     ]
    },
    {
     "name": "stdout",
     "output_type": "stream",
     "text": [
      "[841]\ttrain-rmse:1470.81787\teval-rmse:1536.02551\n",
      "[842]\ttrain-rmse:1470.74976\teval-rmse:1535.98657\n",
      "[843]\ttrain-rmse:1470.71912\teval-rmse:1535.96497\n",
      "[844]\ttrain-rmse:1470.67334\teval-rmse:1535.96423\n",
      "[845]\ttrain-rmse:1470.66248\teval-rmse:1535.96179\n",
      "[846]\ttrain-rmse:1470.51733\teval-rmse:1535.87756\n",
      "[847]\ttrain-rmse:1470.32092\teval-rmse:1535.72461\n",
      "[848]\ttrain-rmse:1470.07129\teval-rmse:1535.65967\n",
      "[849]\ttrain-rmse:1469.92651\teval-rmse:1535.61023\n",
      "[850]\ttrain-rmse:1469.66760\teval-rmse:1535.46899\n",
      "[851]\ttrain-rmse:1469.48084\teval-rmse:1535.37524\n",
      "[852]\ttrain-rmse:1469.38709\teval-rmse:1535.36914\n",
      "[853]\ttrain-rmse:1469.29895\teval-rmse:1535.36963\n",
      "[854]\ttrain-rmse:1469.18005\teval-rmse:1535.38245\n",
      "[855]\ttrain-rmse:1469.05371\teval-rmse:1535.33227\n",
      "[856]\ttrain-rmse:1468.85571\teval-rmse:1535.13586\n",
      "[857]\ttrain-rmse:1468.55701\teval-rmse:1534.86291\n",
      "[858]\ttrain-rmse:1468.41882\teval-rmse:1534.84985\n",
      "[859]\ttrain-rmse:1468.29761\teval-rmse:1534.76318\n",
      "[860]\ttrain-rmse:1467.99658\teval-rmse:1534.49475\n",
      "[861]\ttrain-rmse:1467.75854\teval-rmse:1534.34204\n",
      "[862]\ttrain-rmse:1467.59888\teval-rmse:1534.25794\n",
      "[863]\ttrain-rmse:1467.59448\teval-rmse:1534.26013\n",
      "[864]\ttrain-rmse:1467.52039\teval-rmse:1534.21777\n",
      "[865]\ttrain-rmse:1467.22302\teval-rmse:1533.94324\n",
      "[866]\ttrain-rmse:1467.14404\teval-rmse:1533.93835\n",
      "[867]\ttrain-rmse:1466.92822\teval-rmse:1533.79321\n",
      "[868]\ttrain-rmse:1466.81836\teval-rmse:1533.77307\n",
      "[869]\ttrain-rmse:1466.66907\teval-rmse:1533.67053\n",
      "[870]\ttrain-rmse:1466.49695\teval-rmse:1533.61706\n",
      "[871]\ttrain-rmse:1466.23486\teval-rmse:1533.40369\n",
      "[872]\ttrain-rmse:1466.03491\teval-rmse:1533.29456\n",
      "[873]\ttrain-rmse:1465.97156\teval-rmse:1533.24146\n",
      "[874]\ttrain-rmse:1465.69324\teval-rmse:1533.00354\n",
      "[875]\ttrain-rmse:1465.61096\teval-rmse:1532.97510\n",
      "[876]\ttrain-rmse:1465.49573\teval-rmse:1532.94348\n",
      "[877]\ttrain-rmse:1465.19629\teval-rmse:1532.75635\n",
      "[878]\ttrain-rmse:1465.08716\teval-rmse:1532.68225\n",
      "[879]\ttrain-rmse:1464.81470\teval-rmse:1532.45178\n",
      "[880]\ttrain-rmse:1464.68396\teval-rmse:1532.36523\n",
      "[881]\ttrain-rmse:1464.52673\teval-rmse:1532.23230\n",
      "[882]\ttrain-rmse:1464.40247\teval-rmse:1532.20776\n",
      "[883]\ttrain-rmse:1464.25500\teval-rmse:1532.16321\n",
      "[884]\ttrain-rmse:1464.19324\teval-rmse:1532.14673\n",
      "[885]\ttrain-rmse:1463.96436\teval-rmse:1531.98267\n",
      "[886]\ttrain-rmse:1463.81519\teval-rmse:1531.96106\n",
      "[887]\ttrain-rmse:1463.73682\teval-rmse:1531.95081\n",
      "[888]\ttrain-rmse:1463.66675\teval-rmse:1531.92481\n",
      "[889]\ttrain-rmse:1463.58301\teval-rmse:1531.86548\n",
      "[890]\ttrain-rmse:1463.56165\teval-rmse:1531.84729\n",
      "[891]\ttrain-rmse:1463.37402\teval-rmse:1531.72827\n",
      "[892]\ttrain-rmse:1463.25330\teval-rmse:1531.65613\n",
      "[893]\ttrain-rmse:1463.13818\teval-rmse:1531.65930\n",
      "[894]\ttrain-rmse:1463.13403\teval-rmse:1531.66187\n",
      "[895]\ttrain-rmse:1463.03711\teval-rmse:1531.62353\n",
      "[896]\ttrain-rmse:1462.96497\teval-rmse:1531.62183\n",
      "[897]\ttrain-rmse:1462.91248\teval-rmse:1531.65283\n",
      "[898]\ttrain-rmse:1462.87769\teval-rmse:1531.65698\n",
      "[899]\ttrain-rmse:1462.81763\teval-rmse:1531.65894\n",
      "[900]\ttrain-rmse:1462.73132\teval-rmse:1531.61780\n",
      "[901]\ttrain-rmse:1462.69397\teval-rmse:1531.61365\n",
      "[902]\ttrain-rmse:1462.55273\teval-rmse:1531.58618\n",
      "[903]\ttrain-rmse:1462.54688\teval-rmse:1531.58557\n",
      "[904]\ttrain-rmse:1462.52014\teval-rmse:1531.57398\n",
      "[905]\ttrain-rmse:1462.43237\teval-rmse:1531.49206\n",
      "[906]\ttrain-rmse:1462.19800\teval-rmse:1531.39844\n",
      "[907]\ttrain-rmse:1462.04077\teval-rmse:1531.26416\n",
      "[908]\ttrain-rmse:1461.97754\teval-rmse:1531.28442\n",
      "[909]\ttrain-rmse:1461.82544\teval-rmse:1531.23267\n",
      "[910]\ttrain-rmse:1461.77869\teval-rmse:1531.21106\n",
      "[911]\ttrain-rmse:1461.67566\teval-rmse:1531.16467\n",
      "[912]\ttrain-rmse:1461.61279\teval-rmse:1531.16370\n",
      "[913]\ttrain-rmse:1461.57385\teval-rmse:1531.15991\n",
      "[914]\ttrain-rmse:1461.42395\teval-rmse:1531.10327\n",
      "[915]\ttrain-rmse:1461.33069\teval-rmse:1531.10315\n",
      "[916]\ttrain-rmse:1461.32703\teval-rmse:1531.10584\n",
      "[917]\ttrain-rmse:1461.16321\teval-rmse:1530.95288\n",
      "[918]\ttrain-rmse:1461.04370\teval-rmse:1530.91540\n",
      "[919]\ttrain-rmse:1460.86938\teval-rmse:1530.81213\n",
      "[920]\ttrain-rmse:1460.72375\teval-rmse:1530.75391\n",
      "[921]\ttrain-rmse:1460.66431\teval-rmse:1530.73267\n",
      "[922]\ttrain-rmse:1460.60840\teval-rmse:1530.74976\n",
      "[923]\ttrain-rmse:1460.57129\teval-rmse:1530.75378\n",
      "[924]\ttrain-rmse:1460.53589\teval-rmse:1530.77331\n",
      "[925]\ttrain-rmse:1460.51880\teval-rmse:1530.76587\n",
      "[926]\ttrain-rmse:1460.43921\teval-rmse:1530.71338\n",
      "[927]\ttrain-rmse:1460.31763\teval-rmse:1530.66797\n",
      "[928]\ttrain-rmse:1460.31421\teval-rmse:1530.66919\n",
      "[929]\ttrain-rmse:1460.29443\teval-rmse:1530.65344\n",
      "[930]\ttrain-rmse:1460.22742\teval-rmse:1530.61926\n",
      "[931]\ttrain-rmse:1460.12305\teval-rmse:1530.59119\n",
      "[932]\ttrain-rmse:1460.05237\teval-rmse:1530.59509\n",
      "[933]\ttrain-rmse:1460.04578\teval-rmse:1530.58472\n",
      "[934]\ttrain-rmse:1459.84253\teval-rmse:1530.49487\n",
      "[935]\ttrain-rmse:1459.83423\teval-rmse:1530.48804\n",
      "[936]\ttrain-rmse:1459.74487\teval-rmse:1530.49475\n",
      "[937]\ttrain-rmse:1459.70679\teval-rmse:1530.45544\n",
      "[938]\ttrain-rmse:1459.64673\teval-rmse:1530.44482\n",
      "[939]\ttrain-rmse:1459.54114\teval-rmse:1530.39270\n",
      "[940]\ttrain-rmse:1459.35205\teval-rmse:1530.32300\n",
      "[941]\ttrain-rmse:1459.22229\teval-rmse:1530.24304\n",
      "[942]\ttrain-rmse:1459.06604\teval-rmse:1530.17871\n",
      "[943]\ttrain-rmse:1458.96826\teval-rmse:1530.15173\n",
      "[944]\ttrain-rmse:1458.72229\teval-rmse:1529.98047\n",
      "[945]\ttrain-rmse:1458.63196\teval-rmse:1529.97022\n",
      "[946]\ttrain-rmse:1458.57666\teval-rmse:1529.95215\n",
      "[947]\ttrain-rmse:1458.53137\teval-rmse:1529.95044\n",
      "[948]\ttrain-rmse:1458.50439\teval-rmse:1529.94385\n",
      "[949]\ttrain-rmse:1458.44177\teval-rmse:1529.94226\n",
      "[950]\ttrain-rmse:1458.33752\teval-rmse:1529.89124\n",
      "[951]\ttrain-rmse:1458.24085\teval-rmse:1529.86890\n",
      "[952]\ttrain-rmse:1458.06885\teval-rmse:1529.76953\n",
      "[953]\ttrain-rmse:1457.95776\teval-rmse:1529.80102\n",
      "[954]\ttrain-rmse:1457.83508\teval-rmse:1529.76269\n",
      "[955]\ttrain-rmse:1457.83264\teval-rmse:1529.76050\n",
      "[956]\ttrain-rmse:1457.72754\teval-rmse:1529.73682\n",
      "[957]\ttrain-rmse:1457.68469\teval-rmse:1529.73877\n",
      "[958]\ttrain-rmse:1457.59705\teval-rmse:1529.69421\n",
      "[959]\ttrain-rmse:1457.46484\teval-rmse:1529.62451\n",
      "[960]\ttrain-rmse:1457.35022\teval-rmse:1529.55237\n",
      "[961]\ttrain-rmse:1457.25977\teval-rmse:1529.48718\n",
      "[962]\ttrain-rmse:1457.04480\teval-rmse:1529.37622\n",
      "[963]\ttrain-rmse:1456.97510\teval-rmse:1529.36841\n",
      "[964]\ttrain-rmse:1456.92676\teval-rmse:1529.39575\n",
      "[965]\ttrain-rmse:1456.89624\teval-rmse:1529.38403\n",
      "[966]\ttrain-rmse:1456.86267\teval-rmse:1529.35889\n",
      "[967]\ttrain-rmse:1456.64404\teval-rmse:1529.23206\n",
      "[968]\ttrain-rmse:1456.60303\teval-rmse:1529.23169\n",
      "[969]\ttrain-rmse:1456.48486\teval-rmse:1529.19348\n",
      "[970]\ttrain-rmse:1456.39294\teval-rmse:1529.19385\n",
      "[971]\ttrain-rmse:1456.20776\teval-rmse:1529.08227\n",
      "[972]\ttrain-rmse:1456.07324\teval-rmse:1528.99414\n",
      "[973]\ttrain-rmse:1455.90747\teval-rmse:1528.93518\n",
      "[974]\ttrain-rmse:1455.70142\teval-rmse:1528.88599\n",
      "[975]\ttrain-rmse:1455.56824\teval-rmse:1528.81360\n",
      "[976]\ttrain-rmse:1455.39929\teval-rmse:1528.74756\n",
      "[977]\ttrain-rmse:1455.28027\teval-rmse:1528.69043\n",
      "[978]\ttrain-rmse:1455.21680\teval-rmse:1528.71021\n",
      "[979]\ttrain-rmse:1455.10815\teval-rmse:1528.67078\n",
      "[980]\ttrain-rmse:1454.99597\teval-rmse:1528.64539\n",
      "[981]\ttrain-rmse:1454.90210\teval-rmse:1528.60815\n",
      "[982]\ttrain-rmse:1454.64648\teval-rmse:1528.48865\n",
      "[983]\ttrain-rmse:1454.45935\teval-rmse:1528.38684\n",
      "[984]\ttrain-rmse:1454.35547\teval-rmse:1528.39502\n",
      "[985]\ttrain-rmse:1454.24512\teval-rmse:1528.37891\n",
      "[986]\ttrain-rmse:1454.17029\teval-rmse:1528.35644\n",
      "[987]\ttrain-rmse:1454.04016\teval-rmse:1528.32446\n",
      "[988]\ttrain-rmse:1453.97974\teval-rmse:1528.30579\n",
      "[989]\ttrain-rmse:1453.89185\teval-rmse:1528.28052\n",
      "[990]\ttrain-rmse:1453.82019\teval-rmse:1528.28015\n",
      "[991]\ttrain-rmse:1453.71533\teval-rmse:1528.25378\n",
      "[992]\ttrain-rmse:1453.65820\teval-rmse:1528.26721\n",
      "[993]\ttrain-rmse:1453.61694\teval-rmse:1528.27820\n",
      "[994]\ttrain-rmse:1453.55371\teval-rmse:1528.25574\n",
      "[995]\ttrain-rmse:1453.49695\teval-rmse:1528.22009\n",
      "[996]\ttrain-rmse:1453.40259\teval-rmse:1528.17224\n",
      "[997]\ttrain-rmse:1453.32654\teval-rmse:1528.16626\n",
      "[998]\ttrain-rmse:1453.23462\teval-rmse:1528.10620\n",
      "[999]\ttrain-rmse:1453.11963\teval-rmse:1528.06677\n"
     ]
    }
   ],
   "source": [
    "# Entrenar el modelo\n",
    "%time\n",
    "bst_xgb = xgb.train(params_xgb, train_data_xgb, num_round, evallist, early_stopping_rounds=10)\n"
   ]
  },
  {
   "cell_type": "code",
   "execution_count": 66,
   "metadata": {},
   "outputs": [
    {
     "name": "stdout",
     "output_type": "stream",
     "text": [
      "CPU times: user 3 µs, sys: 0 ns, total: 3 µs\n",
      "Wall time: 6.2 µs\n"
     ]
    }
   ],
   "source": [
    "# Realizar predicciones\n",
    "%time\n",
    "y_pred_xgb = bst_xgb.predict(test_data_xgb)"
   ]
  },
  {
   "cell_type": "code",
   "execution_count": 67,
   "metadata": {},
   "outputs": [
    {
     "name": "stdout",
     "output_type": "stream",
     "text": [
      "RMSE XGBoost: 1528.0692402715304\n"
     ]
    }
   ],
   "source": [
    "#calcular RMSE\n",
    "rmse_xgb = np.sqrt(mean_squared_error(y_test, y_pred_xgb))\n",
    "print(f'RMSE XGBoost: {rmse_xgb}')"
   ]
  },
  {
   "cell_type": "markdown",
   "metadata": {},
   "source": [
    "## LightGBM"
   ]
  },
  {
   "cell_type": "code",
   "execution_count": 68,
   "metadata": {},
   "outputs": [],
   "source": [
    "# Crear un dataset de LightGBM\n",
    "train_data_lgb = lgb.Dataset(X_train, y_train)\n",
    "test_data_lgb = lgb.Dataset(X_test, y_test, reference=train_data_lgb)"
   ]
  },
  {
   "cell_type": "code",
   "execution_count": 69,
   "metadata": {},
   "outputs": [],
   "source": [
    "params_lgb = {\n",
    "    'objective': 'regression',\n",
    "    'metric': 'rmse',\n",
    "    'learning_rate': 0.05,\n",
    "    'max_depth': 4,\n",
    "    'num_leaves':16 \n",
    "}"
   ]
  },
  {
   "cell_type": "code",
   "execution_count": 70,
   "metadata": {},
   "outputs": [
    {
     "name": "stdout",
     "output_type": "stream",
     "text": [
      "CPU times: user 4 µs, sys: 0 ns, total: 4 µs\n",
      "Wall time: 6.68 µs\n"
     ]
    },
    {
     "name": "stderr",
     "output_type": "stream",
     "text": [
      "/opt/conda/envs/python3/lib/python3.9/site-packages/lightgbm/engine.py:181: UserWarning: 'early_stopping_rounds' argument is deprecated and will be removed in a future release of LightGBM. Pass 'early_stopping()' callback via 'callbacks' argument instead.\n",
      "  _log_warning(\"'early_stopping_rounds' argument is deprecated and will be removed in a future release of LightGBM. \"\n"
     ]
    },
    {
     "name": "stdout",
     "output_type": "stream",
     "text": [
      "[LightGBM] [Warning] Auto-choosing row-wise multi-threading, the overhead of testing was 0.087421 seconds.\n",
      "You can set `force_row_wise=true` to remove the overhead.\n",
      "And if memory is not enough, you can set `force_col_wise=true`.\n",
      "[LightGBM] [Info] Total Bins 468\n",
      "[LightGBM] [Info] Number of data points in the train set: 269172, number of used features: 62\n",
      "[LightGBM] [Info] Start training from score 3753.801904\n",
      "[1]\ttraining's rmse: 3430.19\tvalid_1's rmse: 3442.51\n",
      "Training until validation scores don't improve for 10 rounds\n",
      "[2]\ttraining's rmse: 3332.3\tvalid_1's rmse: 3344.17\n",
      "[3]\ttraining's rmse: 3241.43\tvalid_1's rmse: 3253.27\n",
      "[4]\ttraining's rmse: 3155.5\tvalid_1's rmse: 3167.32\n",
      "[5]\ttraining's rmse: 3078.34\tvalid_1's rmse: 3089.83\n",
      "[6]\ttraining's rmse: 3004.36\tvalid_1's rmse: 3015.8\n",
      "[7]\ttraining's rmse: 2930.1\tvalid_1's rmse: 2941.59\n",
      "[8]\ttraining's rmse: 2863.16\tvalid_1's rmse: 2874.56\n",
      "[9]\ttraining's rmse: 2800.41\tvalid_1's rmse: 2811.84\n",
      "[10]\ttraining's rmse: 2740.76\tvalid_1's rmse: 2752.21\n",
      "[11]\ttraining's rmse: 2685.69\tvalid_1's rmse: 2697.09\n",
      "[12]\ttraining's rmse: 2636.01\tvalid_1's rmse: 2647.23\n",
      "[13]\ttraining's rmse: 2587.33\tvalid_1's rmse: 2598.44\n",
      "[14]\ttraining's rmse: 2543.03\tvalid_1's rmse: 2554.17\n",
      "[15]\ttraining's rmse: 2502.57\tvalid_1's rmse: 2513.69\n",
      "[16]\ttraining's rmse: 2463.01\tvalid_1's rmse: 2474.06\n",
      "[17]\ttraining's rmse: 2426.89\tvalid_1's rmse: 2437.67\n",
      "[18]\ttraining's rmse: 2392.6\tvalid_1's rmse: 2403.52\n",
      "[19]\ttraining's rmse: 2361.73\tvalid_1's rmse: 2372.44\n",
      "[20]\ttraining's rmse: 2332.32\tvalid_1's rmse: 2343.27\n",
      "[21]\ttraining's rmse: 2305.46\tvalid_1's rmse: 2316.41\n",
      "[22]\ttraining's rmse: 2278.64\tvalid_1's rmse: 2289.54\n",
      "[23]\ttraining's rmse: 2254.29\tvalid_1's rmse: 2264.96\n",
      "[24]\ttraining's rmse: 2230.57\tvalid_1's rmse: 2241.24\n",
      "[25]\ttraining's rmse: 2209.26\tvalid_1's rmse: 2219.87\n",
      "[26]\ttraining's rmse: 2189.39\tvalid_1's rmse: 2199.89\n",
      "[27]\ttraining's rmse: 2170.21\tvalid_1's rmse: 2180.63\n",
      "[28]\ttraining's rmse: 2152.85\tvalid_1's rmse: 2163.07\n",
      "[29]\ttraining's rmse: 2135.24\tvalid_1's rmse: 2145.37\n",
      "[30]\ttraining's rmse: 2120.72\tvalid_1's rmse: 2130.52\n",
      "[31]\ttraining's rmse: 2105.13\tvalid_1's rmse: 2114.77\n",
      "[32]\ttraining's rmse: 2090.63\tvalid_1's rmse: 2100.09\n",
      "[33]\ttraining's rmse: 2077.78\tvalid_1's rmse: 2086.96\n",
      "[34]\ttraining's rmse: 2064.46\tvalid_1's rmse: 2073.36\n",
      "[35]\ttraining's rmse: 2053.67\tvalid_1's rmse: 2062.3\n",
      "[36]\ttraining's rmse: 2041.57\tvalid_1's rmse: 2050.04\n",
      "[37]\ttraining's rmse: 2030.39\tvalid_1's rmse: 2038.73\n",
      "[38]\ttraining's rmse: 2019.79\tvalid_1's rmse: 2028.09\n",
      "[39]\ttraining's rmse: 2009.61\tvalid_1's rmse: 2017.85\n",
      "[40]\ttraining's rmse: 1999.79\tvalid_1's rmse: 2008.02\n",
      "[41]\ttraining's rmse: 1989.96\tvalid_1's rmse: 1998.28\n",
      "[42]\ttraining's rmse: 1981.26\tvalid_1's rmse: 1989.61\n",
      "[43]\ttraining's rmse: 1972.95\tvalid_1's rmse: 1981.32\n",
      "[44]\ttraining's rmse: 1965.49\tvalid_1's rmse: 1973.78\n",
      "[45]\ttraining's rmse: 1957.74\tvalid_1's rmse: 1965.83\n",
      "[46]\ttraining's rmse: 1951\tvalid_1's rmse: 1959.19\n",
      "[47]\ttraining's rmse: 1943.13\tvalid_1's rmse: 1951.38\n",
      "[48]\ttraining's rmse: 1936.5\tvalid_1's rmse: 1944.87\n",
      "[49]\ttraining's rmse: 1928.69\tvalid_1's rmse: 1936.78\n",
      "[50]\ttraining's rmse: 1922.71\tvalid_1's rmse: 1930.9\n",
      "[LightGBM] [Warning] No further splits with positive gain, best gain: -inf\n",
      "[51]\ttraining's rmse: 1917.69\tvalid_1's rmse: 1925.89\n",
      "[52]\ttraining's rmse: 1911.68\tvalid_1's rmse: 1919.79\n",
      "[53]\ttraining's rmse: 1904.86\tvalid_1's rmse: 1913.05\n",
      "[54]\ttraining's rmse: 1899.88\tvalid_1's rmse: 1908.17\n",
      "[55]\ttraining's rmse: 1894.68\tvalid_1's rmse: 1902.85\n",
      "[56]\ttraining's rmse: 1890.11\tvalid_1's rmse: 1898.34\n",
      "[57]\ttraining's rmse: 1885.63\tvalid_1's rmse: 1893.84\n",
      "[58]\ttraining's rmse: 1881.51\tvalid_1's rmse: 1889.82\n",
      "[59]\ttraining's rmse: 1876.42\tvalid_1's rmse: 1884.86\n",
      "[60]\ttraining's rmse: 1871.23\tvalid_1's rmse: 1879.59\n",
      "[61]\ttraining's rmse: 1867.63\tvalid_1's rmse: 1876.05\n",
      "[62]\ttraining's rmse: 1861.84\tvalid_1's rmse: 1870.06\n",
      "[63]\ttraining's rmse: 1858.2\tvalid_1's rmse: 1866.31\n",
      "[64]\ttraining's rmse: 1852.4\tvalid_1's rmse: 1860.37\n",
      "[65]\ttraining's rmse: 1848.3\tvalid_1's rmse: 1856.34\n",
      "[66]\ttraining's rmse: 1845.32\tvalid_1's rmse: 1853.4\n",
      "[67]\ttraining's rmse: 1842.61\tvalid_1's rmse: 1850.66\n",
      "[68]\ttraining's rmse: 1838.31\tvalid_1's rmse: 1846.45\n",
      "[69]\ttraining's rmse: 1835.62\tvalid_1's rmse: 1843.67\n",
      "[70]\ttraining's rmse: 1832.66\tvalid_1's rmse: 1840.71\n",
      "[71]\ttraining's rmse: 1829.29\tvalid_1's rmse: 1837.25\n",
      "[72]\ttraining's rmse: 1825.94\tvalid_1's rmse: 1833.81\n",
      "[73]\ttraining's rmse: 1822.53\tvalid_1's rmse: 1830.33\n",
      "[LightGBM] [Warning] No further splits with positive gain, best gain: -inf\n",
      "[74]\ttraining's rmse: 1819.27\tvalid_1's rmse: 1827.05\n",
      "[75]\ttraining's rmse: 1816.33\tvalid_1's rmse: 1824.14\n",
      "[76]\ttraining's rmse: 1813.63\tvalid_1's rmse: 1821.37\n",
      "[LightGBM] [Warning] No further splits with positive gain, best gain: -inf\n",
      "[77]\ttraining's rmse: 1810.69\tvalid_1's rmse: 1818.4\n",
      "[78]\ttraining's rmse: 1807.64\tvalid_1's rmse: 1815.33\n",
      "[79]\ttraining's rmse: 1805.74\tvalid_1's rmse: 1813.39\n",
      "[LightGBM] [Warning] No further splits with positive gain, best gain: -inf\n",
      "[80]\ttraining's rmse: 1803.11\tvalid_1's rmse: 1810.79\n",
      "[81]\ttraining's rmse: 1800.24\tvalid_1's rmse: 1807.87\n",
      "[82]\ttraining's rmse: 1797.88\tvalid_1's rmse: 1805.55\n",
      "[LightGBM] [Warning] No further splits with positive gain, best gain: -inf\n",
      "[83]\ttraining's rmse: 1795.29\tvalid_1's rmse: 1802.95\n",
      "[84]\ttraining's rmse: 1791.67\tvalid_1's rmse: 1799.21\n",
      "[85]\ttraining's rmse: 1788.83\tvalid_1's rmse: 1796.28\n",
      "[86]\ttraining's rmse: 1786.59\tvalid_1's rmse: 1794.09\n",
      "[LightGBM] [Warning] No further splits with positive gain, best gain: -inf\n",
      "[87]\ttraining's rmse: 1784.53\tvalid_1's rmse: 1792.05\n",
      "[88]\ttraining's rmse: 1782.94\tvalid_1's rmse: 1790.42\n",
      "[89]\ttraining's rmse: 1780.75\tvalid_1's rmse: 1788.26\n",
      "[90]\ttraining's rmse: 1777.52\tvalid_1's rmse: 1784.73\n",
      "[LightGBM] [Warning] No further splits with positive gain, best gain: -inf\n",
      "[91]\ttraining's rmse: 1775.55\tvalid_1's rmse: 1782.75\n",
      "[92]\ttraining's rmse: 1772.45\tvalid_1's rmse: 1779.59\n",
      "[LightGBM] [Warning] No further splits with positive gain, best gain: -inf\n",
      "[93]\ttraining's rmse: 1770.57\tvalid_1's rmse: 1777.61\n",
      "[94]\ttraining's rmse: 1769.08\tvalid_1's rmse: 1776.25\n",
      "[95]\ttraining's rmse: 1766.69\tvalid_1's rmse: 1773.96\n",
      "[96]\ttraining's rmse: 1764.93\tvalid_1's rmse: 1772.21\n",
      "[97]\ttraining's rmse: 1763.14\tvalid_1's rmse: 1770.43\n",
      "[98]\ttraining's rmse: 1761.57\tvalid_1's rmse: 1768.82\n",
      "[LightGBM] [Warning] No further splits with positive gain, best gain: -inf\n",
      "[99]\ttraining's rmse: 1760.13\tvalid_1's rmse: 1767.46\n",
      "[100]\ttraining's rmse: 1758.9\tvalid_1's rmse: 1766.18\n",
      "[101]\ttraining's rmse: 1757.13\tvalid_1's rmse: 1764.49\n",
      "[102]\ttraining's rmse: 1755.44\tvalid_1's rmse: 1762.8\n",
      "[103]\ttraining's rmse: 1753.86\tvalid_1's rmse: 1761.26\n",
      "[104]\ttraining's rmse: 1752.52\tvalid_1's rmse: 1759.88\n",
      "[105]\ttraining's rmse: 1750.15\tvalid_1's rmse: 1757.42\n",
      "[106]\ttraining's rmse: 1748.67\tvalid_1's rmse: 1755.97\n",
      "[LightGBM] [Warning] No further splits with positive gain, best gain: -inf\n",
      "[107]\ttraining's rmse: 1747.14\tvalid_1's rmse: 1754.37\n",
      "[108]\ttraining's rmse: 1745.85\tvalid_1's rmse: 1753.14\n",
      "[109]\ttraining's rmse: 1744.71\tvalid_1's rmse: 1752.01\n",
      "[LightGBM] [Warning] No further splits with positive gain, best gain: -inf\n",
      "[110]\ttraining's rmse: 1743.46\tvalid_1's rmse: 1750.79\n",
      "[111]\ttraining's rmse: 1741.82\tvalid_1's rmse: 1749.14\n",
      "[112]\ttraining's rmse: 1740.83\tvalid_1's rmse: 1748.15\n",
      "[113]\ttraining's rmse: 1739.29\tvalid_1's rmse: 1746.73\n",
      "[LightGBM] [Warning] No further splits with positive gain, best gain: -inf\n",
      "[114]\ttraining's rmse: 1738.5\tvalid_1's rmse: 1745.9\n",
      "[115]\ttraining's rmse: 1737.63\tvalid_1's rmse: 1744.97\n",
      "[LightGBM] [Warning] No further splits with positive gain, best gain: -inf\n",
      "[116]\ttraining's rmse: 1736.6\tvalid_1's rmse: 1743.95\n",
      "[117]\ttraining's rmse: 1735.37\tvalid_1's rmse: 1742.75\n",
      "[118]\ttraining's rmse: 1733.61\tvalid_1's rmse: 1740.93\n",
      "[119]\ttraining's rmse: 1732.77\tvalid_1's rmse: 1740.09\n",
      "[120]\ttraining's rmse: 1731.54\tvalid_1's rmse: 1738.87\n",
      "[LightGBM] [Warning] No further splits with positive gain, best gain: -inf\n",
      "[121]\ttraining's rmse: 1730.67\tvalid_1's rmse: 1737.97\n",
      "[LightGBM] [Warning] No further splits with positive gain, best gain: -inf\n",
      "[122]\ttraining's rmse: 1729.93\tvalid_1's rmse: 1737.22\n",
      "[123]\ttraining's rmse: 1728.7\tvalid_1's rmse: 1736.05\n",
      "[124]\ttraining's rmse: 1727.57\tvalid_1's rmse: 1734.89\n",
      "[125]\ttraining's rmse: 1726.13\tvalid_1's rmse: 1733.41\n",
      "[LightGBM] [Warning] No further splits with positive gain, best gain: -inf\n",
      "[126]\ttraining's rmse: 1725.42\tvalid_1's rmse: 1732.71\n",
      "[LightGBM] [Warning] No further splits with positive gain, best gain: -inf\n",
      "[127]\ttraining's rmse: 1724.8\tvalid_1's rmse: 1732.09\n"
     ]
    },
    {
     "name": "stdout",
     "output_type": "stream",
     "text": [
      "[128]\ttraining's rmse: 1723.88\tvalid_1's rmse: 1731.15\n",
      "[129]\ttraining's rmse: 1723.1\tvalid_1's rmse: 1730.4\n",
      "[130]\ttraining's rmse: 1721.89\tvalid_1's rmse: 1729.28\n",
      "[LightGBM] [Warning] No further splits with positive gain, best gain: -inf\n",
      "[131]\ttraining's rmse: 1721.21\tvalid_1's rmse: 1728.6\n",
      "[LightGBM] [Warning] No further splits with positive gain, best gain: -inf\n",
      "[132]\ttraining's rmse: 1720.61\tvalid_1's rmse: 1727.99\n",
      "[133]\ttraining's rmse: 1719.15\tvalid_1's rmse: 1726.47\n",
      "[134]\ttraining's rmse: 1718.35\tvalid_1's rmse: 1725.69\n",
      "[135]\ttraining's rmse: 1717.5\tvalid_1's rmse: 1724.87\n",
      "[LightGBM] [Warning] No further splits with positive gain, best gain: -inf\n",
      "[136]\ttraining's rmse: 1716.6\tvalid_1's rmse: 1723.91\n",
      "[137]\ttraining's rmse: 1715.83\tvalid_1's rmse: 1723.14\n",
      "[LightGBM] [Warning] No further splits with positive gain, best gain: -inf\n",
      "[138]\ttraining's rmse: 1715.24\tvalid_1's rmse: 1722.56\n",
      "[LightGBM] [Warning] No further splits with positive gain, best gain: -inf\n",
      "[139]\ttraining's rmse: 1714.52\tvalid_1's rmse: 1721.85\n",
      "[140]\ttraining's rmse: 1713.95\tvalid_1's rmse: 1721.26\n",
      "[LightGBM] [Warning] No further splits with positive gain, best gain: -inf\n",
      "[141]\ttraining's rmse: 1713.27\tvalid_1's rmse: 1720.55\n",
      "[142]\ttraining's rmse: 1712.68\tvalid_1's rmse: 1719.95\n",
      "[143]\ttraining's rmse: 1711.94\tvalid_1's rmse: 1719.14\n",
      "[LightGBM] [Warning] No further splits with positive gain, best gain: -inf\n",
      "[144]\ttraining's rmse: 1711.22\tvalid_1's rmse: 1718.47\n",
      "[LightGBM] [Warning] No further splits with positive gain, best gain: -inf\n",
      "[145]\ttraining's rmse: 1710.6\tvalid_1's rmse: 1717.91\n",
      "[146]\ttraining's rmse: 1709.88\tvalid_1's rmse: 1717.19\n",
      "[147]\ttraining's rmse: 1709.28\tvalid_1's rmse: 1716.57\n",
      "[148]\ttraining's rmse: 1708.44\tvalid_1's rmse: 1715.69\n",
      "[LightGBM] [Warning] No further splits with positive gain, best gain: -inf\n",
      "[149]\ttraining's rmse: 1707.78\tvalid_1's rmse: 1715.07\n",
      "[LightGBM] [Warning] No further splits with positive gain, best gain: -inf\n",
      "[150]\ttraining's rmse: 1707.22\tvalid_1's rmse: 1714.55\n",
      "[151]\ttraining's rmse: 1706.58\tvalid_1's rmse: 1713.9\n",
      "[152]\ttraining's rmse: 1705.91\tvalid_1's rmse: 1713.23\n",
      "[LightGBM] [Warning] No further splits with positive gain, best gain: -inf\n",
      "[153]\ttraining's rmse: 1705.19\tvalid_1's rmse: 1712.51\n",
      "[LightGBM] [Warning] No further splits with positive gain, best gain: -inf\n",
      "[154]\ttraining's rmse: 1704.69\tvalid_1's rmse: 1712.06\n",
      "[LightGBM] [Warning] No further splits with positive gain, best gain: -inf\n",
      "[155]\ttraining's rmse: 1704.1\tvalid_1's rmse: 1711.49\n",
      "[156]\ttraining's rmse: 1703.45\tvalid_1's rmse: 1710.79\n",
      "[LightGBM] [Warning] No further splits with positive gain, best gain: -inf\n",
      "[157]\ttraining's rmse: 1702.78\tvalid_1's rmse: 1710.11\n",
      "[158]\ttraining's rmse: 1702.1\tvalid_1's rmse: 1709.42\n",
      "[159]\ttraining's rmse: 1701.64\tvalid_1's rmse: 1708.99\n",
      "[LightGBM] [Warning] No further splits with positive gain, best gain: -inf\n",
      "[160]\ttraining's rmse: 1701.21\tvalid_1's rmse: 1708.57\n",
      "[161]\ttraining's rmse: 1700.71\tvalid_1's rmse: 1708.09\n",
      "[162]\ttraining's rmse: 1700.17\tvalid_1's rmse: 1707.53\n",
      "[LightGBM] [Warning] No further splits with positive gain, best gain: -inf\n",
      "[163]\ttraining's rmse: 1699.59\tvalid_1's rmse: 1706.95\n",
      "[LightGBM] [Warning] No further splits with positive gain, best gain: -inf\n",
      "[164]\ttraining's rmse: 1698.97\tvalid_1's rmse: 1706.36\n",
      "[165]\ttraining's rmse: 1697.96\tvalid_1's rmse: 1705.4\n",
      "[LightGBM] [Warning] No further splits with positive gain, best gain: -inf\n",
      "[166]\ttraining's rmse: 1697.57\tvalid_1's rmse: 1704.99\n",
      "[167]\ttraining's rmse: 1697.1\tvalid_1's rmse: 1704.53\n",
      "[LightGBM] [Warning] No further splits with positive gain, best gain: -inf\n",
      "[168]\ttraining's rmse: 1696.74\tvalid_1's rmse: 1704.2\n",
      "[LightGBM] [Warning] No further splits with positive gain, best gain: -inf\n",
      "[169]\ttraining's rmse: 1696.19\tvalid_1's rmse: 1703.64\n",
      "[170]\ttraining's rmse: 1695.22\tvalid_1's rmse: 1702.63\n",
      "[171]\ttraining's rmse: 1694.6\tvalid_1's rmse: 1702.03\n",
      "[LightGBM] [Warning] No further splits with positive gain, best gain: -inf\n",
      "[172]\ttraining's rmse: 1694.2\tvalid_1's rmse: 1701.62\n",
      "[173]\ttraining's rmse: 1693.48\tvalid_1's rmse: 1700.91\n",
      "[174]\ttraining's rmse: 1692.92\tvalid_1's rmse: 1700.37\n",
      "[LightGBM] [Warning] No further splits with positive gain, best gain: -inf\n",
      "[175]\ttraining's rmse: 1692.52\tvalid_1's rmse: 1699.98\n",
      "[LightGBM] [Warning] No further splits with positive gain, best gain: -inf\n",
      "[176]\ttraining's rmse: 1692.08\tvalid_1's rmse: 1699.51\n",
      "[177]\ttraining's rmse: 1691.27\tvalid_1's rmse: 1698.63\n",
      "[LightGBM] [Warning] No further splits with positive gain, best gain: -inf\n",
      "[178]\ttraining's rmse: 1690.81\tvalid_1's rmse: 1698.16\n",
      "[179]\ttraining's rmse: 1690.41\tvalid_1's rmse: 1697.75\n",
      "[180]\ttraining's rmse: 1689.93\tvalid_1's rmse: 1697.27\n",
      "[LightGBM] [Warning] No further splits with positive gain, best gain: -inf\n",
      "[181]\ttraining's rmse: 1689.59\tvalid_1's rmse: 1697\n",
      "[182]\ttraining's rmse: 1688.87\tvalid_1's rmse: 1696.3\n",
      "[LightGBM] [Warning] No further splits with positive gain, best gain: -inf\n",
      "[183]\ttraining's rmse: 1688.57\tvalid_1's rmse: 1695.99\n",
      "[LightGBM] [Warning] No further splits with positive gain, best gain: -inf\n",
      "[184]\ttraining's rmse: 1688.01\tvalid_1's rmse: 1695.43\n",
      "[185]\ttraining's rmse: 1687.6\tvalid_1's rmse: 1695.04\n",
      "[186]\ttraining's rmse: 1687.17\tvalid_1's rmse: 1694.6\n",
      "[187]\ttraining's rmse: 1686.47\tvalid_1's rmse: 1693.85\n",
      "[LightGBM] [Warning] No further splits with positive gain, best gain: -inf\n",
      "[188]\ttraining's rmse: 1686.17\tvalid_1's rmse: 1693.53\n",
      "[189]\ttraining's rmse: 1685.75\tvalid_1's rmse: 1693.09\n",
      "[LightGBM] [Warning] No further splits with positive gain, best gain: -inf\n",
      "[190]\ttraining's rmse: 1685.44\tvalid_1's rmse: 1692.82\n",
      "[LightGBM] [Warning] No further splits with positive gain, best gain: -inf\n",
      "[191]\ttraining's rmse: 1685.18\tvalid_1's rmse: 1692.55\n",
      "[192]\ttraining's rmse: 1684.8\tvalid_1's rmse: 1692.18\n",
      "[193]\ttraining's rmse: 1684.49\tvalid_1's rmse: 1691.9\n",
      "[LightGBM] [Warning] No further splits with positive gain, best gain: -inf\n",
      "[194]\ttraining's rmse: 1683.82\tvalid_1's rmse: 1691.25\n",
      "[195]\ttraining's rmse: 1683.06\tvalid_1's rmse: 1690.45\n",
      "[196]\ttraining's rmse: 1682.68\tvalid_1's rmse: 1690.08\n",
      "[197]\ttraining's rmse: 1682.2\tvalid_1's rmse: 1689.57\n",
      "[LightGBM] [Warning] No further splits with positive gain, best gain: -inf\n",
      "[198]\ttraining's rmse: 1681.73\tvalid_1's rmse: 1689.12\n",
      "[LightGBM] [Warning] No further splits with positive gain, best gain: -inf\n",
      "[199]\ttraining's rmse: 1681.31\tvalid_1's rmse: 1688.77\n",
      "[LightGBM] [Warning] No further splits with positive gain, best gain: -inf\n",
      "[200]\ttraining's rmse: 1680.98\tvalid_1's rmse: 1688.49\n",
      "[LightGBM] [Warning] No further splits with positive gain, best gain: -inf\n",
      "[201]\ttraining's rmse: 1680.74\tvalid_1's rmse: 1688.2\n",
      "[LightGBM] [Warning] No further splits with positive gain, best gain: -inf\n",
      "[202]\ttraining's rmse: 1680.43\tvalid_1's rmse: 1687.9\n",
      "[203]\ttraining's rmse: 1679.85\tvalid_1's rmse: 1687.46\n",
      "[204]\ttraining's rmse: 1679.52\tvalid_1's rmse: 1687.16\n",
      "[205]\ttraining's rmse: 1679.06\tvalid_1's rmse: 1686.69\n",
      "[206]\ttraining's rmse: 1678.76\tvalid_1's rmse: 1686.42\n",
      "[LightGBM] [Warning] No further splits with positive gain, best gain: -inf\n",
      "[207]\ttraining's rmse: 1678.47\tvalid_1's rmse: 1686.1\n",
      "[LightGBM] [Warning] No further splits with positive gain, best gain: -inf\n",
      "[208]\ttraining's rmse: 1678.22\tvalid_1's rmse: 1685.85\n",
      "[209]\ttraining's rmse: 1677.88\tvalid_1's rmse: 1685.52\n",
      "[LightGBM] [Warning] No further splits with positive gain, best gain: -inf\n",
      "[210]\ttraining's rmse: 1677.61\tvalid_1's rmse: 1685.26\n",
      "[211]\ttraining's rmse: 1677.19\tvalid_1's rmse: 1684.83\n",
      "[212]\ttraining's rmse: 1676.24\tvalid_1's rmse: 1683.98\n",
      "[213]\ttraining's rmse: 1675.84\tvalid_1's rmse: 1683.6\n",
      "[LightGBM] [Warning] No further splits with positive gain, best gain: -inf\n",
      "[214]\ttraining's rmse: 1675.61\tvalid_1's rmse: 1683.42\n",
      "[LightGBM] [Warning] No further splits with positive gain, best gain: -inf\n",
      "[215]\ttraining's rmse: 1675.21\tvalid_1's rmse: 1682.97\n",
      "[216]\ttraining's rmse: 1674.9\tvalid_1's rmse: 1682.67\n",
      "[217]\ttraining's rmse: 1674.59\tvalid_1's rmse: 1682.34\n",
      "[218]\ttraining's rmse: 1673.82\tvalid_1's rmse: 1681.7\n",
      "[219]\ttraining's rmse: 1673.46\tvalid_1's rmse: 1681.41\n",
      "[220]\ttraining's rmse: 1673.22\tvalid_1's rmse: 1681.2\n",
      "[LightGBM] [Warning] No further splits with positive gain, best gain: -inf\n",
      "[221]\ttraining's rmse: 1672.89\tvalid_1's rmse: 1680.89\n",
      "[LightGBM] [Warning] No further splits with positive gain, best gain: -inf\n",
      "[222]\ttraining's rmse: 1672.61\tvalid_1's rmse: 1680.62\n",
      "[LightGBM] [Warning] No further splits with positive gain, best gain: -inf\n",
      "[223]\ttraining's rmse: 1672.41\tvalid_1's rmse: 1680.37\n",
      "[224]\ttraining's rmse: 1672.02\tvalid_1's rmse: 1679.97\n"
     ]
    },
    {
     "name": "stdout",
     "output_type": "stream",
     "text": [
      "[225]\ttraining's rmse: 1671.59\tvalid_1's rmse: 1679.54\n",
      "[226]\ttraining's rmse: 1671.38\tvalid_1's rmse: 1679.36\n",
      "[227]\ttraining's rmse: 1670.88\tvalid_1's rmse: 1678.9\n",
      "[228]\ttraining's rmse: 1670.61\tvalid_1's rmse: 1678.67\n",
      "[LightGBM] [Warning] No further splits with positive gain, best gain: -inf\n",
      "[229]\ttraining's rmse: 1670.37\tvalid_1's rmse: 1678.42\n",
      "[230]\ttraining's rmse: 1670.11\tvalid_1's rmse: 1678.17\n",
      "[LightGBM] [Warning] No further splits with positive gain, best gain: -inf\n",
      "[231]\ttraining's rmse: 1669.87\tvalid_1's rmse: 1677.97\n",
      "[LightGBM] [Warning] No further splits with positive gain, best gain: -inf\n",
      "[232]\ttraining's rmse: 1669.34\tvalid_1's rmse: 1677.53\n",
      "[233]\ttraining's rmse: 1668.43\tvalid_1's rmse: 1676.62\n",
      "[LightGBM] [Warning] No further splits with positive gain, best gain: -inf\n",
      "[234]\ttraining's rmse: 1668.2\tvalid_1's rmse: 1676.41\n",
      "[LightGBM] [Warning] No further splits with positive gain, best gain: -inf\n",
      "[235]\ttraining's rmse: 1667.99\tvalid_1's rmse: 1676.18\n",
      "[236]\ttraining's rmse: 1667.66\tvalid_1's rmse: 1675.83\n",
      "[237]\ttraining's rmse: 1667.48\tvalid_1's rmse: 1675.64\n",
      "[LightGBM] [Warning] No further splits with positive gain, best gain: -inf\n",
      "[238]\ttraining's rmse: 1667.16\tvalid_1's rmse: 1675.35\n",
      "[LightGBM] [Warning] No further splits with positive gain, best gain: -inf\n",
      "[239]\ttraining's rmse: 1666.9\tvalid_1's rmse: 1675.09\n",
      "[LightGBM] [Warning] No further splits with positive gain, best gain: -inf\n",
      "[240]\ttraining's rmse: 1666.42\tvalid_1's rmse: 1674.7\n",
      "[LightGBM] [Warning] No further splits with positive gain, best gain: -inf\n",
      "[241]\ttraining's rmse: 1666.16\tvalid_1's rmse: 1674.44\n",
      "[LightGBM] [Warning] No further splits with positive gain, best gain: -inf\n",
      "[242]\ttraining's rmse: 1665.95\tvalid_1's rmse: 1674.25\n",
      "[LightGBM] [Warning] No further splits with positive gain, best gain: -inf\n",
      "[243]\ttraining's rmse: 1665.73\tvalid_1's rmse: 1674.06\n",
      "[244]\ttraining's rmse: 1665.46\tvalid_1's rmse: 1673.81\n",
      "[245]\ttraining's rmse: 1665.1\tvalid_1's rmse: 1673.49\n",
      "[LightGBM] [Warning] No further splits with positive gain, best gain: -inf\n",
      "[246]\ttraining's rmse: 1664.87\tvalid_1's rmse: 1673.23\n",
      "[LightGBM] [Warning] No further splits with positive gain, best gain: -inf\n",
      "[247]\ttraining's rmse: 1664.54\tvalid_1's rmse: 1672.89\n",
      "[LightGBM] [Warning] No further splits with positive gain, best gain: -inf\n",
      "[248]\ttraining's rmse: 1664\tvalid_1's rmse: 1672.42\n",
      "[249]\ttraining's rmse: 1663.77\tvalid_1's rmse: 1672.2\n",
      "[250]\ttraining's rmse: 1663.5\tvalid_1's rmse: 1671.91\n",
      "[LightGBM] [Warning] No further splits with positive gain, best gain: -inf\n",
      "[251]\ttraining's rmse: 1663.07\tvalid_1's rmse: 1671.54\n",
      "[LightGBM] [Warning] No further splits with positive gain, best gain: -inf\n",
      "[252]\ttraining's rmse: 1662.9\tvalid_1's rmse: 1671.41\n",
      "[253]\ttraining's rmse: 1662.69\tvalid_1's rmse: 1671.19\n",
      "[LightGBM] [Warning] No further splits with positive gain, best gain: -inf\n",
      "[254]\ttraining's rmse: 1662.51\tvalid_1's rmse: 1671.01\n",
      "[255]\ttraining's rmse: 1662.26\tvalid_1's rmse: 1670.77\n",
      "[256]\ttraining's rmse: 1661.95\tvalid_1's rmse: 1670.5\n",
      "[257]\ttraining's rmse: 1661.81\tvalid_1's rmse: 1670.38\n",
      "[LightGBM] [Warning] No further splits with positive gain, best gain: -inf\n",
      "[258]\ttraining's rmse: 1661.37\tvalid_1's rmse: 1669.96\n",
      "[LightGBM] [Warning] No further splits with positive gain, best gain: -inf\n",
      "[259]\ttraining's rmse: 1660.99\tvalid_1's rmse: 1669.58\n",
      "[LightGBM] [Warning] No further splits with positive gain, best gain: -inf\n",
      "[260]\ttraining's rmse: 1660.59\tvalid_1's rmse: 1669.11\n",
      "[LightGBM] [Warning] No further splits with positive gain, best gain: -inf\n",
      "[261]\ttraining's rmse: 1660.42\tvalid_1's rmse: 1668.93\n",
      "[LightGBM] [Warning] No further splits with positive gain, best gain: -inf\n",
      "[262]\ttraining's rmse: 1660.27\tvalid_1's rmse: 1668.81\n",
      "[LightGBM] [Warning] No further splits with positive gain, best gain: -inf\n",
      "[263]\ttraining's rmse: 1660.12\tvalid_1's rmse: 1668.63\n",
      "[264]\ttraining's rmse: 1659.74\tvalid_1's rmse: 1668.29\n",
      "[LightGBM] [Warning] No further splits with positive gain, best gain: -inf\n",
      "[265]\ttraining's rmse: 1659.31\tvalid_1's rmse: 1667.94\n",
      "[LightGBM] [Warning] No further splits with positive gain, best gain: -inf\n",
      "[266]\ttraining's rmse: 1659.1\tvalid_1's rmse: 1667.73\n",
      "[LightGBM] [Warning] No further splits with positive gain, best gain: -inf\n",
      "[267]\ttraining's rmse: 1658.78\tvalid_1's rmse: 1667.45\n",
      "[LightGBM] [Warning] No further splits with positive gain, best gain: -inf\n",
      "[268]\ttraining's rmse: 1658.43\tvalid_1's rmse: 1667.15\n",
      "[269]\ttraining's rmse: 1658.14\tvalid_1's rmse: 1666.89\n",
      "[270]\ttraining's rmse: 1657.9\tvalid_1's rmse: 1666.65\n",
      "[LightGBM] [Warning] No further splits with positive gain, best gain: -inf\n",
      "[271]\ttraining's rmse: 1657.64\tvalid_1's rmse: 1666.42\n",
      "[272]\ttraining's rmse: 1657.24\tvalid_1's rmse: 1666.02\n",
      "[273]\ttraining's rmse: 1656.2\tvalid_1's rmse: 1665.02\n",
      "[274]\ttraining's rmse: 1655.9\tvalid_1's rmse: 1664.79\n",
      "[LightGBM] [Warning] No further splits with positive gain, best gain: -inf\n",
      "[275]\ttraining's rmse: 1655.51\tvalid_1's rmse: 1664.4\n",
      "[276]\ttraining's rmse: 1655.41\tvalid_1's rmse: 1664.29\n",
      "[277]\ttraining's rmse: 1654.47\tvalid_1's rmse: 1663.36\n",
      "[LightGBM] [Warning] No further splits with positive gain, best gain: -inf\n",
      "[278]\ttraining's rmse: 1654.31\tvalid_1's rmse: 1663.22\n",
      "[279]\ttraining's rmse: 1653.97\tvalid_1's rmse: 1662.88\n",
      "[280]\ttraining's rmse: 1653.6\tvalid_1's rmse: 1662.57\n",
      "[281]\ttraining's rmse: 1653.3\tvalid_1's rmse: 1662.34\n",
      "[LightGBM] [Warning] No further splits with positive gain, best gain: -inf\n",
      "[282]\ttraining's rmse: 1653.13\tvalid_1's rmse: 1662.22\n",
      "[LightGBM] [Warning] No further splits with positive gain, best gain: -inf\n",
      "[283]\ttraining's rmse: 1652.91\tvalid_1's rmse: 1662.03\n",
      "[LightGBM] [Warning] No further splits with positive gain, best gain: -inf\n",
      "[284]\ttraining's rmse: 1652.57\tvalid_1's rmse: 1661.71\n",
      "[LightGBM] [Warning] No further splits with positive gain, best gain: -inf\n",
      "[285]\ttraining's rmse: 1652.47\tvalid_1's rmse: 1661.61\n",
      "[286]\ttraining's rmse: 1652.21\tvalid_1's rmse: 1661.34\n",
      "[287]\ttraining's rmse: 1652.06\tvalid_1's rmse: 1661.19\n",
      "[LightGBM] [Warning] No further splits with positive gain, best gain: -inf\n",
      "[288]\ttraining's rmse: 1651.89\tvalid_1's rmse: 1661.02\n",
      "[LightGBM] [Warning] No further splits with positive gain, best gain: -inf\n",
      "[289]\ttraining's rmse: 1651.73\tvalid_1's rmse: 1660.9\n",
      "[LightGBM] [Warning] No further splits with positive gain, best gain: -inf\n",
      "[290]\ttraining's rmse: 1651.42\tvalid_1's rmse: 1660.58\n",
      "[LightGBM] [Warning] No further splits with positive gain, best gain: -inf\n",
      "[291]\ttraining's rmse: 1651.32\tvalid_1's rmse: 1660.5\n",
      "[292]\ttraining's rmse: 1650.98\tvalid_1's rmse: 1660.2\n",
      "[293]\ttraining's rmse: 1650.69\tvalid_1's rmse: 1659.94\n",
      "[LightGBM] [Warning] No further splits with positive gain, best gain: -inf\n",
      "[294]\ttraining's rmse: 1650.55\tvalid_1's rmse: 1659.83\n",
      "[LightGBM] [Warning] No further splits with positive gain, best gain: -inf\n",
      "[295]\ttraining's rmse: 1650.19\tvalid_1's rmse: 1659.55\n",
      "[LightGBM] [Warning] No further splits with positive gain, best gain: -inf\n",
      "[296]\ttraining's rmse: 1649.76\tvalid_1's rmse: 1659.23\n",
      "[LightGBM] [Warning] No further splits with positive gain, best gain: -inf\n",
      "[297]\ttraining's rmse: 1649.62\tvalid_1's rmse: 1659.09\n",
      "[298]\ttraining's rmse: 1649.49\tvalid_1's rmse: 1658.93\n",
      "[LightGBM] [Warning] No further splits with positive gain, best gain: -inf\n",
      "[299]\ttraining's rmse: 1649.33\tvalid_1's rmse: 1658.78\n",
      "[LightGBM] [Warning] No further splits with positive gain, best gain: -inf\n",
      "[300]\ttraining's rmse: 1649.14\tvalid_1's rmse: 1658.59\n",
      "[301]\ttraining's rmse: 1648.81\tvalid_1's rmse: 1658.28\n",
      "[302]\ttraining's rmse: 1648.41\tvalid_1's rmse: 1657.91\n",
      "[303]\ttraining's rmse: 1648.18\tvalid_1's rmse: 1657.69\n",
      "[304]\ttraining's rmse: 1647.85\tvalid_1's rmse: 1657.4\n",
      "[LightGBM] [Warning] No further splits with positive gain, best gain: -inf\n",
      "[305]\ttraining's rmse: 1647.67\tvalid_1's rmse: 1657.25\n",
      "[LightGBM] [Warning] No further splits with positive gain, best gain: -inf\n",
      "[306]\ttraining's rmse: 1647.52\tvalid_1's rmse: 1657.11\n",
      "[LightGBM] [Warning] No further splits with positive gain, best gain: -inf\n",
      "[307]\ttraining's rmse: 1647.37\tvalid_1's rmse: 1656.99\n",
      "[LightGBM] [Warning] No further splits with positive gain, best gain: -inf\n",
      "[308]\ttraining's rmse: 1647.1\tvalid_1's rmse: 1656.77\n",
      "[LightGBM] [Warning] No further splits with positive gain, best gain: -inf\n",
      "[309]\ttraining's rmse: 1646.57\tvalid_1's rmse: 1656.23\n",
      "[LightGBM] [Warning] No further splits with positive gain, best gain: -inf\n",
      "[310]\ttraining's rmse: 1646.2\tvalid_1's rmse: 1655.85\n",
      "[311]\ttraining's rmse: 1645.93\tvalid_1's rmse: 1655.6\n",
      "[312]\ttraining's rmse: 1645.76\tvalid_1's rmse: 1655.47\n",
      "[313]\ttraining's rmse: 1645.61\tvalid_1's rmse: 1655.36\n",
      "[314]\ttraining's rmse: 1645.32\tvalid_1's rmse: 1655.01\n"
     ]
    },
    {
     "name": "stdout",
     "output_type": "stream",
     "text": [
      "[315]\ttraining's rmse: 1645.25\tvalid_1's rmse: 1654.94\n",
      "[316]\ttraining's rmse: 1645.01\tvalid_1's rmse: 1654.73\n",
      "[LightGBM] [Warning] No further splits with positive gain, best gain: -inf\n",
      "[317]\ttraining's rmse: 1644.81\tvalid_1's rmse: 1654.53\n",
      "[LightGBM] [Warning] No further splits with positive gain, best gain: -inf\n",
      "[318]\ttraining's rmse: 1644.66\tvalid_1's rmse: 1654.4\n",
      "[LightGBM] [Warning] No further splits with positive gain, best gain: -inf\n",
      "[319]\ttraining's rmse: 1644.53\tvalid_1's rmse: 1654.29\n",
      "[LightGBM] [Warning] No further splits with positive gain, best gain: -inf\n",
      "[320]\ttraining's rmse: 1644.4\tvalid_1's rmse: 1654.2\n",
      "[LightGBM] [Warning] No further splits with positive gain, best gain: -inf\n",
      "[321]\ttraining's rmse: 1644.23\tvalid_1's rmse: 1654.04\n",
      "[322]\ttraining's rmse: 1644.01\tvalid_1's rmse: 1653.85\n",
      "[323]\ttraining's rmse: 1643.25\tvalid_1's rmse: 1653.12\n",
      "[324]\ttraining's rmse: 1642.75\tvalid_1's rmse: 1652.57\n",
      "[325]\ttraining's rmse: 1642.48\tvalid_1's rmse: 1652.33\n",
      "[326]\ttraining's rmse: 1642.21\tvalid_1's rmse: 1652.05\n",
      "[LightGBM] [Warning] No further splits with positive gain, best gain: -inf\n",
      "[327]\ttraining's rmse: 1642.07\tvalid_1's rmse: 1651.96\n",
      "[328]\ttraining's rmse: 1641.96\tvalid_1's rmse: 1651.87\n",
      "[LightGBM] [Warning] No further splits with positive gain, best gain: -inf\n",
      "[329]\ttraining's rmse: 1641.83\tvalid_1's rmse: 1651.73\n",
      "[LightGBM] [Warning] No further splits with positive gain, best gain: -inf\n",
      "[330]\ttraining's rmse: 1641.71\tvalid_1's rmse: 1651.62\n",
      "[LightGBM] [Warning] No further splits with positive gain, best gain: -inf\n",
      "[331]\ttraining's rmse: 1641.57\tvalid_1's rmse: 1651.49\n",
      "[LightGBM] [Warning] No further splits with positive gain, best gain: -inf\n",
      "[332]\ttraining's rmse: 1641.49\tvalid_1's rmse: 1651.41\n",
      "[LightGBM] [Warning] No further splits with positive gain, best gain: -inf\n",
      "[333]\ttraining's rmse: 1641.22\tvalid_1's rmse: 1651.24\n",
      "[334]\ttraining's rmse: 1641.08\tvalid_1's rmse: 1651.08\n",
      "[LightGBM] [Warning] No further splits with positive gain, best gain: -inf\n",
      "[335]\ttraining's rmse: 1640.82\tvalid_1's rmse: 1650.86\n",
      "[336]\ttraining's rmse: 1640.62\tvalid_1's rmse: 1650.66\n",
      "[337]\ttraining's rmse: 1640.46\tvalid_1's rmse: 1650.57\n",
      "[LightGBM] [Warning] No further splits with positive gain, best gain: -inf\n",
      "[338]\ttraining's rmse: 1640.26\tvalid_1's rmse: 1650.41\n",
      "[LightGBM] [Warning] No further splits with positive gain, best gain: -inf\n",
      "[339]\ttraining's rmse: 1640.03\tvalid_1's rmse: 1650.2\n",
      "[340]\ttraining's rmse: 1639.9\tvalid_1's rmse: 1650.1\n",
      "[341]\ttraining's rmse: 1639.63\tvalid_1's rmse: 1649.85\n",
      "[LightGBM] [Warning] No further splits with positive gain, best gain: -inf\n",
      "[342]\ttraining's rmse: 1639.52\tvalid_1's rmse: 1649.77\n",
      "[343]\ttraining's rmse: 1639.43\tvalid_1's rmse: 1649.68\n",
      "[344]\ttraining's rmse: 1639.17\tvalid_1's rmse: 1649.42\n",
      "[LightGBM] [Warning] No further splits with positive gain, best gain: -inf\n",
      "[345]\ttraining's rmse: 1638.98\tvalid_1's rmse: 1649.22\n",
      "[LightGBM] [Warning] No further splits with positive gain, best gain: -inf\n",
      "[346]\ttraining's rmse: 1638.87\tvalid_1's rmse: 1649.14\n",
      "[LightGBM] [Warning] No further splits with positive gain, best gain: -inf\n",
      "[347]\ttraining's rmse: 1638.73\tvalid_1's rmse: 1649.02\n",
      "[348]\ttraining's rmse: 1638.62\tvalid_1's rmse: 1648.91\n",
      "[349]\ttraining's rmse: 1638.1\tvalid_1's rmse: 1648.4\n",
      "[350]\ttraining's rmse: 1637.87\tvalid_1's rmse: 1648.21\n",
      "[351]\ttraining's rmse: 1637.75\tvalid_1's rmse: 1648.1\n",
      "[LightGBM] [Warning] No further splits with positive gain, best gain: -inf\n",
      "[352]\ttraining's rmse: 1637.62\tvalid_1's rmse: 1648.03\n",
      "[353]\ttraining's rmse: 1637.47\tvalid_1's rmse: 1647.87\n",
      "[LightGBM] [Warning] No further splits with positive gain, best gain: -inf\n",
      "[354]\ttraining's rmse: 1637.4\tvalid_1's rmse: 1647.79\n",
      "[LightGBM] [Warning] No further splits with positive gain, best gain: -inf\n",
      "[355]\ttraining's rmse: 1637.29\tvalid_1's rmse: 1647.7\n",
      "[356]\ttraining's rmse: 1637.12\tvalid_1's rmse: 1647.54\n",
      "[357]\ttraining's rmse: 1636.93\tvalid_1's rmse: 1647.4\n",
      "[358]\ttraining's rmse: 1636.65\tvalid_1's rmse: 1647.12\n",
      "[LightGBM] [Warning] No further splits with positive gain, best gain: -inf\n",
      "[359]\ttraining's rmse: 1636.48\tvalid_1's rmse: 1646.97\n",
      "[LightGBM] [Warning] No further splits with positive gain, best gain: -inf\n",
      "[360]\ttraining's rmse: 1636.15\tvalid_1's rmse: 1646.58\n",
      "[LightGBM] [Warning] No further splits with positive gain, best gain: -inf\n",
      "[361]\ttraining's rmse: 1636.04\tvalid_1's rmse: 1646.5\n",
      "[362]\ttraining's rmse: 1635.81\tvalid_1's rmse: 1646.28\n",
      "[363]\ttraining's rmse: 1635.58\tvalid_1's rmse: 1646.03\n",
      "[LightGBM] [Warning] No further splits with positive gain, best gain: -inf\n",
      "[364]\ttraining's rmse: 1635.46\tvalid_1's rmse: 1645.9\n",
      "[LightGBM] [Warning] No further splits with positive gain, best gain: -inf\n",
      "[365]\ttraining's rmse: 1635.36\tvalid_1's rmse: 1645.83\n",
      "[366]\ttraining's rmse: 1635.2\tvalid_1's rmse: 1645.66\n",
      "[367]\ttraining's rmse: 1635.1\tvalid_1's rmse: 1645.58\n",
      "[LightGBM] [Warning] No further splits with positive gain, best gain: -inf\n",
      "[368]\ttraining's rmse: 1634.99\tvalid_1's rmse: 1645.48\n",
      "[369]\ttraining's rmse: 1634.84\tvalid_1's rmse: 1645.3\n",
      "[370]\ttraining's rmse: 1634.26\tvalid_1's rmse: 1644.72\n",
      "[LightGBM] [Warning] No further splits with positive gain, best gain: -inf\n",
      "[371]\ttraining's rmse: 1634.15\tvalid_1's rmse: 1644.62\n",
      "[372]\ttraining's rmse: 1633.79\tvalid_1's rmse: 1644.31\n",
      "[LightGBM] [Warning] No further splits with positive gain, best gain: -inf\n",
      "[373]\ttraining's rmse: 1633.71\tvalid_1's rmse: 1644.23\n",
      "[374]\ttraining's rmse: 1633.35\tvalid_1's rmse: 1643.85\n",
      "[LightGBM] [Warning] No further splits with positive gain, best gain: -inf\n",
      "[375]\ttraining's rmse: 1633.26\tvalid_1's rmse: 1643.79\n",
      "[LightGBM] [Warning] No further splits with positive gain, best gain: -inf\n",
      "[376]\ttraining's rmse: 1633.03\tvalid_1's rmse: 1643.66\n",
      "[LightGBM] [Warning] No further splits with positive gain, best gain: -inf\n",
      "[377]\ttraining's rmse: 1632.93\tvalid_1's rmse: 1643.58\n",
      "[LightGBM] [Warning] No further splits with positive gain, best gain: -inf\n",
      "[378]\ttraining's rmse: 1632.86\tvalid_1's rmse: 1643.54\n",
      "[LightGBM] [Warning] No further splits with positive gain, best gain: -inf\n",
      "[379]\ttraining's rmse: 1632.75\tvalid_1's rmse: 1643.45\n",
      "[LightGBM] [Warning] No further splits with positive gain, best gain: -inf\n",
      "[380]\ttraining's rmse: 1632.67\tvalid_1's rmse: 1643.38\n",
      "[381]\ttraining's rmse: 1632.61\tvalid_1's rmse: 1643.31\n",
      "[LightGBM] [Warning] No further splits with positive gain, best gain: -inf\n",
      "[382]\ttraining's rmse: 1632.5\tvalid_1's rmse: 1643.19\n",
      "[383]\ttraining's rmse: 1632.19\tvalid_1's rmse: 1642.93\n",
      "[384]\ttraining's rmse: 1632.05\tvalid_1's rmse: 1642.8\n",
      "[LightGBM] [Warning] No further splits with positive gain, best gain: -inf\n",
      "[385]\ttraining's rmse: 1631.98\tvalid_1's rmse: 1642.74\n",
      "[LightGBM] [Warning] No further splits with positive gain, best gain: -inf\n",
      "[386]\ttraining's rmse: 1631.85\tvalid_1's rmse: 1642.65\n",
      "[LightGBM] [Warning] No further splits with positive gain, best gain: -inf\n",
      "[387]\ttraining's rmse: 1631.75\tvalid_1's rmse: 1642.56\n",
      "[LightGBM] [Warning] No further splits with positive gain, best gain: -inf\n",
      "[388]\ttraining's rmse: 1631.67\tvalid_1's rmse: 1642.49\n",
      "[389]\ttraining's rmse: 1631.43\tvalid_1's rmse: 1642.27\n",
      "[LightGBM] [Warning] No further splits with positive gain, best gain: -inf\n",
      "[390]\ttraining's rmse: 1631.33\tvalid_1's rmse: 1642.2\n",
      "[391]\ttraining's rmse: 1631.01\tvalid_1's rmse: 1641.79\n",
      "[392]\ttraining's rmse: 1630.65\tvalid_1's rmse: 1641.51\n",
      "[393]\ttraining's rmse: 1630.55\tvalid_1's rmse: 1641.41\n",
      "[LightGBM] [Warning] No further splits with positive gain, best gain: -inf\n",
      "[394]\ttraining's rmse: 1630.5\tvalid_1's rmse: 1641.36\n",
      "[LightGBM] [Warning] No further splits with positive gain, best gain: -inf\n",
      "[395]\ttraining's rmse: 1630.4\tvalid_1's rmse: 1641.25\n",
      "[LightGBM] [Warning] No further splits with positive gain, best gain: -inf\n",
      "[396]\ttraining's rmse: 1630.32\tvalid_1's rmse: 1641.2\n",
      "[LightGBM] [Warning] No further splits with positive gain, best gain: -inf\n",
      "[397]\ttraining's rmse: 1630.1\tvalid_1's rmse: 1640.92\n",
      "[398]\ttraining's rmse: 1630.01\tvalid_1's rmse: 1640.86\n",
      "[LightGBM] [Warning] No further splits with positive gain, best gain: -inf\n",
      "[399]\ttraining's rmse: 1629.88\tvalid_1's rmse: 1640.75\n",
      "[400]\ttraining's rmse: 1629.59\tvalid_1's rmse: 1640.51\n",
      "[401]\ttraining's rmse: 1629.28\tvalid_1's rmse: 1640.26\n",
      "[LightGBM] [Warning] No further splits with positive gain, best gain: -inf\n",
      "[402]\ttraining's rmse: 1629.2\tvalid_1's rmse: 1640.2\n"
     ]
    },
    {
     "name": "stdout",
     "output_type": "stream",
     "text": [
      "[403]\ttraining's rmse: 1629.05\tvalid_1's rmse: 1640.04\n",
      "[LightGBM] [Warning] No further splits with positive gain, best gain: -inf\n",
      "[404]\ttraining's rmse: 1628.97\tvalid_1's rmse: 1639.97\n",
      "[405]\ttraining's rmse: 1628.85\tvalid_1's rmse: 1639.86\n",
      "[406]\ttraining's rmse: 1628.4\tvalid_1's rmse: 1639.43\n",
      "[407]\ttraining's rmse: 1628.09\tvalid_1's rmse: 1639.05\n",
      "[LightGBM] [Warning] No further splits with positive gain, best gain: -inf\n",
      "[408]\ttraining's rmse: 1628.04\tvalid_1's rmse: 1639.02\n",
      "[LightGBM] [Warning] No further splits with positive gain, best gain: -inf\n",
      "[409]\ttraining's rmse: 1627.81\tvalid_1's rmse: 1638.75\n",
      "[410]\ttraining's rmse: 1627.56\tvalid_1's rmse: 1638.52\n",
      "[411]\ttraining's rmse: 1627.41\tvalid_1's rmse: 1638.37\n",
      "[LightGBM] [Warning] No further splits with positive gain, best gain: -inf\n",
      "[412]\ttraining's rmse: 1627.32\tvalid_1's rmse: 1638.26\n",
      "[LightGBM] [Warning] No further splits with positive gain, best gain: -inf\n",
      "[413]\ttraining's rmse: 1627.12\tvalid_1's rmse: 1638.08\n",
      "[LightGBM] [Warning] No further splits with positive gain, best gain: -inf\n",
      "[414]\ttraining's rmse: 1627.03\tvalid_1's rmse: 1637.98\n",
      "[LightGBM] [Warning] No further splits with positive gain, best gain: -inf\n",
      "[415]\ttraining's rmse: 1626.97\tvalid_1's rmse: 1637.95\n",
      "[LightGBM] [Warning] No further splits with positive gain, best gain: -inf\n",
      "[416]\ttraining's rmse: 1626.87\tvalid_1's rmse: 1637.89\n",
      "[417]\ttraining's rmse: 1626.79\tvalid_1's rmse: 1637.78\n",
      "[418]\ttraining's rmse: 1626.63\tvalid_1's rmse: 1637.59\n",
      "[LightGBM] [Warning] No further splits with positive gain, best gain: -inf\n",
      "[419]\ttraining's rmse: 1626.56\tvalid_1's rmse: 1637.54\n",
      "[LightGBM] [Warning] No further splits with positive gain, best gain: -inf\n",
      "[420]\ttraining's rmse: 1626.47\tvalid_1's rmse: 1637.46\n",
      "[421]\ttraining's rmse: 1626.15\tvalid_1's rmse: 1637.21\n",
      "[422]\ttraining's rmse: 1625.78\tvalid_1's rmse: 1636.87\n",
      "[LightGBM] [Warning] No further splits with positive gain, best gain: -inf\n",
      "[423]\ttraining's rmse: 1625.56\tvalid_1's rmse: 1636.63\n",
      "[LightGBM] [Warning] No further splits with positive gain, best gain: -inf\n",
      "[424]\ttraining's rmse: 1625.53\tvalid_1's rmse: 1636.6\n",
      "[425]\ttraining's rmse: 1625.15\tvalid_1's rmse: 1636.21\n",
      "[LightGBM] [Warning] No further splits with positive gain, best gain: -inf\n",
      "[426]\ttraining's rmse: 1625\tvalid_1's rmse: 1636.08\n",
      "[427]\ttraining's rmse: 1624.91\tvalid_1's rmse: 1635.99\n",
      "[428]\ttraining's rmse: 1624.81\tvalid_1's rmse: 1635.9\n",
      "[LightGBM] [Warning] No further splits with positive gain, best gain: -inf\n",
      "[429]\ttraining's rmse: 1624.73\tvalid_1's rmse: 1635.84\n",
      "[430]\ttraining's rmse: 1624.61\tvalid_1's rmse: 1635.72\n",
      "[LightGBM] [Warning] No further splits with positive gain, best gain: -inf\n",
      "[431]\ttraining's rmse: 1624.33\tvalid_1's rmse: 1635.42\n",
      "[432]\ttraining's rmse: 1624.05\tvalid_1's rmse: 1635.06\n",
      "[433]\ttraining's rmse: 1623.83\tvalid_1's rmse: 1634.87\n",
      "[434]\ttraining's rmse: 1623.68\tvalid_1's rmse: 1634.78\n",
      "[LightGBM] [Warning] No further splits with positive gain, best gain: -inf\n",
      "[435]\ttraining's rmse: 1623.62\tvalid_1's rmse: 1634.72\n",
      "[436]\ttraining's rmse: 1623.55\tvalid_1's rmse: 1634.63\n",
      "[LightGBM] [Warning] No further splits with positive gain, best gain: -inf\n",
      "[437]\ttraining's rmse: 1623.47\tvalid_1's rmse: 1634.57\n",
      "[438]\ttraining's rmse: 1623.33\tvalid_1's rmse: 1634.42\n",
      "[LightGBM] [Warning] No further splits with positive gain, best gain: -inf\n",
      "[439]\ttraining's rmse: 1623.26\tvalid_1's rmse: 1634.38\n",
      "[440]\ttraining's rmse: 1622.98\tvalid_1's rmse: 1634.14\n",
      "[441]\ttraining's rmse: 1622.86\tvalid_1's rmse: 1634.03\n",
      "[442]\ttraining's rmse: 1622.81\tvalid_1's rmse: 1634.01\n",
      "[LightGBM] [Warning] No further splits with positive gain, best gain: -inf\n",
      "[443]\ttraining's rmse: 1622.61\tvalid_1's rmse: 1633.84\n",
      "[444]\ttraining's rmse: 1622.39\tvalid_1's rmse: 1633.63\n",
      "[LightGBM] [Warning] No further splits with positive gain, best gain: -inf\n",
      "[445]\ttraining's rmse: 1622.31\tvalid_1's rmse: 1633.54\n",
      "[LightGBM] [Warning] No further splits with positive gain, best gain: -inf\n",
      "[446]\ttraining's rmse: 1622.2\tvalid_1's rmse: 1633.45\n",
      "[447]\ttraining's rmse: 1622.13\tvalid_1's rmse: 1633.35\n",
      "[LightGBM] [Warning] No further splits with positive gain, best gain: -inf\n",
      "[448]\ttraining's rmse: 1622.06\tvalid_1's rmse: 1633.3\n",
      "[LightGBM] [Warning] No further splits with positive gain, best gain: -inf\n",
      "[449]\ttraining's rmse: 1622.01\tvalid_1's rmse: 1633.23\n",
      "[LightGBM] [Warning] No further splits with positive gain, best gain: -inf\n",
      "[450]\ttraining's rmse: 1621.91\tvalid_1's rmse: 1633.12\n",
      "[451]\ttraining's rmse: 1621.83\tvalid_1's rmse: 1633.06\n",
      "[LightGBM] [Warning] No further splits with positive gain, best gain: -inf\n",
      "[452]\ttraining's rmse: 1621.78\tvalid_1's rmse: 1633.01\n",
      "[LightGBM] [Warning] No further splits with positive gain, best gain: -inf\n",
      "[453]\ttraining's rmse: 1621.74\tvalid_1's rmse: 1632.99\n",
      "[LightGBM] [Warning] No further splits with positive gain, best gain: -inf\n",
      "[454]\ttraining's rmse: 1621.58\tvalid_1's rmse: 1632.79\n",
      "[455]\ttraining's rmse: 1621.36\tvalid_1's rmse: 1632.68\n",
      "[456]\ttraining's rmse: 1620.97\tvalid_1's rmse: 1632.34\n",
      "[457]\ttraining's rmse: 1620.82\tvalid_1's rmse: 1632.1\n",
      "[LightGBM] [Warning] No further splits with positive gain, best gain: -inf\n",
      "[458]\ttraining's rmse: 1620.63\tvalid_1's rmse: 1631.94\n",
      "[459]\ttraining's rmse: 1620.3\tvalid_1's rmse: 1631.65\n",
      "[LightGBM] [Warning] No further splits with positive gain, best gain: -inf\n",
      "[460]\ttraining's rmse: 1620.21\tvalid_1's rmse: 1631.55\n",
      "[LightGBM] [Warning] No further splits with positive gain, best gain: -inf\n",
      "[461]\ttraining's rmse: 1620.16\tvalid_1's rmse: 1631.51\n",
      "[462]\ttraining's rmse: 1620.07\tvalid_1's rmse: 1631.47\n",
      "[LightGBM] [Warning] No further splits with positive gain, best gain: -inf\n",
      "[463]\ttraining's rmse: 1619.95\tvalid_1's rmse: 1631.37\n",
      "[464]\ttraining's rmse: 1619.75\tvalid_1's rmse: 1631.22\n",
      "[LightGBM] [Warning] No further splits with positive gain, best gain: -inf\n",
      "[465]\ttraining's rmse: 1619.68\tvalid_1's rmse: 1631.14\n",
      "[LightGBM] [Warning] No further splits with positive gain, best gain: -inf\n",
      "[466]\ttraining's rmse: 1619.59\tvalid_1's rmse: 1631.06\n",
      "[LightGBM] [Warning] No further splits with positive gain, best gain: -inf\n",
      "[467]\ttraining's rmse: 1619.51\tvalid_1's rmse: 1631\n",
      "[468]\ttraining's rmse: 1619.41\tvalid_1's rmse: 1630.89\n",
      "[469]\ttraining's rmse: 1619.27\tvalid_1's rmse: 1630.74\n",
      "[LightGBM] [Warning] No further splits with positive gain, best gain: -inf\n",
      "[470]\ttraining's rmse: 1619.22\tvalid_1's rmse: 1630.72\n",
      "[LightGBM] [Warning] No further splits with positive gain, best gain: -inf\n",
      "[471]\ttraining's rmse: 1619.19\tvalid_1's rmse: 1630.69\n",
      "[LightGBM] [Warning] No further splits with positive gain, best gain: -inf\n",
      "[472]\ttraining's rmse: 1619.17\tvalid_1's rmse: 1630.66\n",
      "[LightGBM] [Warning] No further splits with positive gain, best gain: -inf\n",
      "[473]\ttraining's rmse: 1619.09\tvalid_1's rmse: 1630.6\n",
      "[LightGBM] [Warning] No further splits with positive gain, best gain: -inf\n",
      "[474]\ttraining's rmse: 1619.03\tvalid_1's rmse: 1630.55\n",
      "[LightGBM] [Warning] No further splits with positive gain, best gain: -inf\n",
      "[475]\ttraining's rmse: 1618.96\tvalid_1's rmse: 1630.5\n",
      "[LightGBM] [Warning] No further splits with positive gain, best gain: -inf\n",
      "[476]\ttraining's rmse: 1618.88\tvalid_1's rmse: 1630.43\n",
      "[477]\ttraining's rmse: 1618.64\tvalid_1's rmse: 1630.12\n",
      "[478]\ttraining's rmse: 1618.36\tvalid_1's rmse: 1629.86\n",
      "[LightGBM] [Warning] No further splits with positive gain, best gain: -inf\n",
      "[479]\ttraining's rmse: 1618.3\tvalid_1's rmse: 1629.82\n",
      "[480]\ttraining's rmse: 1618.1\tvalid_1's rmse: 1629.67\n",
      "[481]\ttraining's rmse: 1617.74\tvalid_1's rmse: 1629.32\n",
      "[482]\ttraining's rmse: 1617.59\tvalid_1's rmse: 1629.26\n",
      "[LightGBM] [Warning] No further splits with positive gain, best gain: -inf\n",
      "[483]\ttraining's rmse: 1617.46\tvalid_1's rmse: 1629.11\n",
      "[LightGBM] [Warning] No further splits with positive gain, best gain: -inf\n",
      "[484]\ttraining's rmse: 1617.25\tvalid_1's rmse: 1628.89\n",
      "[LightGBM] [Warning] No further splits with positive gain, best gain: -inf\n",
      "[485]\ttraining's rmse: 1617.21\tvalid_1's rmse: 1628.86\n",
      "[486]\ttraining's rmse: 1617.12\tvalid_1's rmse: 1628.79\n",
      "[487]\ttraining's rmse: 1617.05\tvalid_1's rmse: 1628.76\n",
      "[488]\ttraining's rmse: 1616.89\tvalid_1's rmse: 1628.58\n",
      "[LightGBM] [Warning] No further splits with positive gain, best gain: -inf\n",
      "[489]\ttraining's rmse: 1616.86\tvalid_1's rmse: 1628.57\n",
      "[LightGBM] [Warning] No further splits with positive gain, best gain: -inf\n",
      "[490]\ttraining's rmse: 1616.8\tvalid_1's rmse: 1628.51\n",
      "[LightGBM] [Warning] No further splits with positive gain, best gain: -inf\n",
      "[491]\ttraining's rmse: 1616.6\tvalid_1's rmse: 1628.37\n",
      "[LightGBM] [Warning] No further splits with positive gain, best gain: -inf\n",
      "[492]\ttraining's rmse: 1616.56\tvalid_1's rmse: 1628.33\n",
      "[LightGBM] [Warning] No further splits with positive gain, best gain: -inf\n",
      "[493]\ttraining's rmse: 1616.33\tvalid_1's rmse: 1628.08\n",
      "[494]\ttraining's rmse: 1616.06\tvalid_1's rmse: 1627.83\n"
     ]
    },
    {
     "name": "stdout",
     "output_type": "stream",
     "text": [
      "[LightGBM] [Warning] No further splits with positive gain, best gain: -inf\n",
      "[495]\ttraining's rmse: 1615.92\tvalid_1's rmse: 1627.7\n",
      "[496]\ttraining's rmse: 1615.71\tvalid_1's rmse: 1627.43\n",
      "[LightGBM] [Warning] No further splits with positive gain, best gain: -inf\n",
      "[497]\ttraining's rmse: 1615.58\tvalid_1's rmse: 1627.4\n",
      "[LightGBM] [Warning] No further splits with positive gain, best gain: -inf\n",
      "[498]\ttraining's rmse: 1615.43\tvalid_1's rmse: 1627.28\n",
      "[LightGBM] [Warning] No further splits with positive gain, best gain: -inf\n",
      "[499]\ttraining's rmse: 1615.37\tvalid_1's rmse: 1627.25\n",
      "[500]\ttraining's rmse: 1615.26\tvalid_1's rmse: 1627.13\n",
      "[LightGBM] [Warning] No further splits with positive gain, best gain: -inf\n",
      "[501]\ttraining's rmse: 1615.21\tvalid_1's rmse: 1627.12\n",
      "[LightGBM] [Warning] No further splits with positive gain, best gain: -inf\n",
      "[502]\ttraining's rmse: 1615.16\tvalid_1's rmse: 1627.07\n",
      "[LightGBM] [Warning] No further splits with positive gain, best gain: -inf\n",
      "[503]\ttraining's rmse: 1615.1\tvalid_1's rmse: 1627.03\n",
      "[504]\ttraining's rmse: 1614.54\tvalid_1's rmse: 1626.55\n",
      "[505]\ttraining's rmse: 1614.2\tvalid_1's rmse: 1626.3\n",
      "[LightGBM] [Warning] No further splits with positive gain, best gain: -inf\n",
      "[506]\ttraining's rmse: 1614.06\tvalid_1's rmse: 1626.19\n",
      "[LightGBM] [Warning] No further splits with positive gain, best gain: -inf\n",
      "[507]\ttraining's rmse: 1614.03\tvalid_1's rmse: 1626.16\n",
      "[LightGBM] [Warning] No further splits with positive gain, best gain: -inf\n",
      "[508]\ttraining's rmse: 1613.95\tvalid_1's rmse: 1626.1\n",
      "[LightGBM] [Warning] No further splits with positive gain, best gain: -inf\n",
      "[509]\ttraining's rmse: 1613.79\tvalid_1's rmse: 1625.95\n",
      "[LightGBM] [Warning] No further splits with positive gain, best gain: -inf\n",
      "[510]\ttraining's rmse: 1613.57\tvalid_1's rmse: 1625.71\n",
      "[511]\ttraining's rmse: 1613.24\tvalid_1's rmse: 1625.36\n",
      "[512]\ttraining's rmse: 1613.17\tvalid_1's rmse: 1625.33\n",
      "[LightGBM] [Warning] No further splits with positive gain, best gain: -inf\n",
      "[513]\ttraining's rmse: 1613.08\tvalid_1's rmse: 1625.27\n",
      "[514]\ttraining's rmse: 1612.78\tvalid_1's rmse: 1624.98\n",
      "[515]\ttraining's rmse: 1612.7\tvalid_1's rmse: 1624.94\n",
      "[LightGBM] [Warning] No further splits with positive gain, best gain: -inf\n",
      "[516]\ttraining's rmse: 1612.64\tvalid_1's rmse: 1624.89\n",
      "[517]\ttraining's rmse: 1612.52\tvalid_1's rmse: 1624.81\n",
      "[LightGBM] [Warning] No further splits with positive gain, best gain: -inf\n",
      "[518]\ttraining's rmse: 1612.47\tvalid_1's rmse: 1624.81\n",
      "[LightGBM] [Warning] No further splits with positive gain, best gain: -inf\n",
      "[519]\ttraining's rmse: 1612.41\tvalid_1's rmse: 1624.74\n",
      "[LightGBM] [Warning] No further splits with positive gain, best gain: -inf\n",
      "[520]\ttraining's rmse: 1612.36\tvalid_1's rmse: 1624.71\n",
      "[LightGBM] [Warning] No further splits with positive gain, best gain: -inf\n",
      "[521]\ttraining's rmse: 1612.2\tvalid_1's rmse: 1624.54\n",
      "[522]\ttraining's rmse: 1612.07\tvalid_1's rmse: 1624.45\n",
      "[LightGBM] [Warning] No further splits with positive gain, best gain: -inf\n",
      "[523]\ttraining's rmse: 1612.02\tvalid_1's rmse: 1624.4\n",
      "[LightGBM] [Warning] No further splits with positive gain, best gain: -inf\n",
      "[524]\ttraining's rmse: 1611.95\tvalid_1's rmse: 1624.36\n",
      "[525]\ttraining's rmse: 1611.87\tvalid_1's rmse: 1624.3\n",
      "[LightGBM] [Warning] No further splits with positive gain, best gain: -inf\n",
      "[526]\ttraining's rmse: 1611.66\tvalid_1's rmse: 1624.1\n",
      "[LightGBM] [Warning] No further splits with positive gain, best gain: -inf\n",
      "[527]\ttraining's rmse: 1611.48\tvalid_1's rmse: 1623.86\n",
      "[LightGBM] [Warning] No further splits with positive gain, best gain: -inf\n",
      "[528]\ttraining's rmse: 1611.46\tvalid_1's rmse: 1623.83\n",
      "[529]\ttraining's rmse: 1611.3\tvalid_1's rmse: 1623.64\n",
      "[LightGBM] [Warning] No further splits with positive gain, best gain: -inf\n",
      "[530]\ttraining's rmse: 1611.2\tvalid_1's rmse: 1623.55\n",
      "[LightGBM] [Warning] No further splits with positive gain, best gain: -inf\n",
      "[531]\ttraining's rmse: 1611.16\tvalid_1's rmse: 1623.54\n",
      "[532]\ttraining's rmse: 1611.03\tvalid_1's rmse: 1623.46\n",
      "[533]\ttraining's rmse: 1610.77\tvalid_1's rmse: 1623.19\n",
      "[534]\ttraining's rmse: 1610.51\tvalid_1's rmse: 1622.93\n",
      "[LightGBM] [Warning] No further splits with positive gain, best gain: -inf\n",
      "[535]\ttraining's rmse: 1610.44\tvalid_1's rmse: 1622.88\n",
      "[LightGBM] [Warning] No further splits with positive gain, best gain: -inf\n",
      "[536]\ttraining's rmse: 1610.37\tvalid_1's rmse: 1622.84\n",
      "[LightGBM] [Warning] No further splits with positive gain, best gain: -inf\n",
      "[537]\ttraining's rmse: 1610.33\tvalid_1's rmse: 1622.83\n",
      "[538]\ttraining's rmse: 1610.3\tvalid_1's rmse: 1622.82\n",
      "[539]\ttraining's rmse: 1610.18\tvalid_1's rmse: 1622.65\n",
      "[LightGBM] [Warning] No further splits with positive gain, best gain: -inf\n",
      "[540]\ttraining's rmse: 1610.11\tvalid_1's rmse: 1622.59\n",
      "[LightGBM] [Warning] No further splits with positive gain, best gain: -inf\n",
      "[541]\ttraining's rmse: 1610.05\tvalid_1's rmse: 1622.56\n",
      "[LightGBM] [Warning] No further splits with positive gain, best gain: -inf\n",
      "[542]\ttraining's rmse: 1609.95\tvalid_1's rmse: 1622.46\n",
      "[LightGBM] [Warning] No further splits with positive gain, best gain: -inf\n",
      "[543]\ttraining's rmse: 1609.78\tvalid_1's rmse: 1622.28\n",
      "[544]\ttraining's rmse: 1609.65\tvalid_1's rmse: 1622.18\n",
      "[LightGBM] [Warning] No further splits with positive gain, best gain: -inf\n",
      "[545]\ttraining's rmse: 1609.61\tvalid_1's rmse: 1622.16\n",
      "[LightGBM] [Warning] No further splits with positive gain, best gain: -inf\n",
      "[546]\ttraining's rmse: 1609.45\tvalid_1's rmse: 1622.05\n",
      "[547]\ttraining's rmse: 1609.15\tvalid_1's rmse: 1621.78\n",
      "[LightGBM] [Warning] No further splits with positive gain, best gain: -inf\n",
      "[548]\ttraining's rmse: 1609.07\tvalid_1's rmse: 1621.66\n",
      "[LightGBM] [Warning] No further splits with positive gain, best gain: -inf\n",
      "[549]\ttraining's rmse: 1608.92\tvalid_1's rmse: 1621.56\n",
      "[LightGBM] [Warning] No further splits with positive gain, best gain: -inf\n",
      "[550]\ttraining's rmse: 1608.79\tvalid_1's rmse: 1621.47\n",
      "[551]\ttraining's rmse: 1608.71\tvalid_1's rmse: 1621.43\n",
      "[LightGBM] [Warning] No further splits with positive gain, best gain: -inf\n",
      "[552]\ttraining's rmse: 1608.65\tvalid_1's rmse: 1621.37\n",
      "[LightGBM] [Warning] No further splits with positive gain, best gain: -inf\n",
      "[553]\ttraining's rmse: 1608.59\tvalid_1's rmse: 1621.33\n",
      "[554]\ttraining's rmse: 1608.46\tvalid_1's rmse: 1621.17\n",
      "[LightGBM] [Warning] No further splits with positive gain, best gain: -inf\n",
      "[555]\ttraining's rmse: 1608.35\tvalid_1's rmse: 1621.1\n",
      "[LightGBM] [Warning] No further splits with positive gain, best gain: -inf\n",
      "[556]\ttraining's rmse: 1608.29\tvalid_1's rmse: 1621.06\n",
      "[557]\ttraining's rmse: 1608.26\tvalid_1's rmse: 1621.05\n",
      "[LightGBM] [Warning] No further splits with positive gain, best gain: -inf\n",
      "[558]\ttraining's rmse: 1608.14\tvalid_1's rmse: 1620.9\n",
      "[LightGBM] [Warning] No further splits with positive gain, best gain: -inf\n",
      "[559]\ttraining's rmse: 1608.06\tvalid_1's rmse: 1620.84\n",
      "[560]\ttraining's rmse: 1607.77\tvalid_1's rmse: 1620.55\n",
      "[561]\ttraining's rmse: 1607.55\tvalid_1's rmse: 1620.36\n",
      "[LightGBM] [Warning] No further splits with positive gain, best gain: -inf\n",
      "[562]\ttraining's rmse: 1607.45\tvalid_1's rmse: 1620.29\n",
      "[563]\ttraining's rmse: 1607.34\tvalid_1's rmse: 1620.15\n",
      "[LightGBM] [Warning] No further splits with positive gain, best gain: -inf\n",
      "[564]\ttraining's rmse: 1607.21\tvalid_1's rmse: 1620.01\n",
      "[LightGBM] [Warning] No further splits with positive gain, best gain: -inf\n",
      "[565]\ttraining's rmse: 1607.17\tvalid_1's rmse: 1619.98\n",
      "[LightGBM] [Warning] No further splits with positive gain, best gain: -inf\n",
      "[566]\ttraining's rmse: 1607.07\tvalid_1's rmse: 1619.88\n",
      "[LightGBM] [Warning] No further splits with positive gain, best gain: -inf\n",
      "[567]\ttraining's rmse: 1606.98\tvalid_1's rmse: 1619.84\n",
      "[LightGBM] [Warning] No further splits with positive gain, best gain: -inf\n",
      "[568]\ttraining's rmse: 1606.87\tvalid_1's rmse: 1619.73\n",
      "[569]\ttraining's rmse: 1606.82\tvalid_1's rmse: 1619.71\n",
      "[LightGBM] [Warning] No further splits with positive gain, best gain: -inf\n",
      "[570]\ttraining's rmse: 1606.75\tvalid_1's rmse: 1619.65\n",
      "[LightGBM] [Warning] No further splits with positive gain, best gain: -inf\n",
      "[571]\ttraining's rmse: 1606.7\tvalid_1's rmse: 1619.61\n",
      "[LightGBM] [Warning] No further splits with positive gain, best gain: -inf\n",
      "[572]\ttraining's rmse: 1606.68\tvalid_1's rmse: 1619.61\n",
      "[LightGBM] [Warning] No further splits with positive gain, best gain: -inf\n",
      "[573]\ttraining's rmse: 1606.63\tvalid_1's rmse: 1619.55\n",
      "[LightGBM] [Warning] No further splits with positive gain, best gain: -inf\n",
      "[574]\ttraining's rmse: 1606.58\tvalid_1's rmse: 1619.5\n",
      "[575]\ttraining's rmse: 1606.43\tvalid_1's rmse: 1619.38\n",
      "[576]\ttraining's rmse: 1606.3\tvalid_1's rmse: 1619.21\n",
      "[577]\ttraining's rmse: 1606.19\tvalid_1's rmse: 1619.1\n"
     ]
    },
    {
     "name": "stdout",
     "output_type": "stream",
     "text": [
      "[578]\ttraining's rmse: 1606.1\tvalid_1's rmse: 1619.02\n",
      "[579]\ttraining's rmse: 1605.96\tvalid_1's rmse: 1618.86\n",
      "[LightGBM] [Warning] No further splits with positive gain, best gain: -inf\n",
      "[580]\ttraining's rmse: 1605.88\tvalid_1's rmse: 1618.8\n",
      "[LightGBM] [Warning] No further splits with positive gain, best gain: -inf\n",
      "[581]\ttraining's rmse: 1605.7\tvalid_1's rmse: 1618.66\n",
      "[582]\ttraining's rmse: 1605.48\tvalid_1's rmse: 1618.5\n",
      "[LightGBM] [Warning] No further splits with positive gain, best gain: -inf\n",
      "[583]\ttraining's rmse: 1605.43\tvalid_1's rmse: 1618.46\n",
      "[LightGBM] [Warning] No further splits with positive gain, best gain: -inf\n",
      "[584]\ttraining's rmse: 1605.41\tvalid_1's rmse: 1618.44\n",
      "[585]\ttraining's rmse: 1605.16\tvalid_1's rmse: 1618.25\n",
      "[LightGBM] [Warning] No further splits with positive gain, best gain: -inf\n",
      "[586]\ttraining's rmse: 1605.07\tvalid_1's rmse: 1618.18\n",
      "[LightGBM] [Warning] No further splits with positive gain, best gain: -inf\n",
      "[587]\ttraining's rmse: 1605.01\tvalid_1's rmse: 1618.13\n",
      "[588]\ttraining's rmse: 1604.94\tvalid_1's rmse: 1618.08\n",
      "[589]\ttraining's rmse: 1604.66\tvalid_1's rmse: 1617.79\n",
      "[590]\ttraining's rmse: 1604.39\tvalid_1's rmse: 1617.47\n",
      "[591]\ttraining's rmse: 1604.03\tvalid_1's rmse: 1617.04\n",
      "[LightGBM] [Warning] No further splits with positive gain, best gain: -inf\n",
      "[592]\ttraining's rmse: 1603.97\tvalid_1's rmse: 1617.01\n",
      "[LightGBM] [Warning] No further splits with positive gain, best gain: -inf\n",
      "[593]\ttraining's rmse: 1603.91\tvalid_1's rmse: 1616.98\n",
      "[LightGBM] [Warning] No further splits with positive gain, best gain: -inf\n",
      "[594]\ttraining's rmse: 1603.86\tvalid_1's rmse: 1616.95\n",
      "[LightGBM] [Warning] No further splits with positive gain, best gain: -inf\n",
      "[595]\ttraining's rmse: 1603.83\tvalid_1's rmse: 1616.92\n",
      "[596]\ttraining's rmse: 1603.61\tvalid_1's rmse: 1616.66\n",
      "[597]\ttraining's rmse: 1603.55\tvalid_1's rmse: 1616.63\n",
      "[598]\ttraining's rmse: 1603.37\tvalid_1's rmse: 1616.46\n",
      "[LightGBM] [Warning] No further splits with positive gain, best gain: -inf\n",
      "[599]\ttraining's rmse: 1603.31\tvalid_1's rmse: 1616.45\n",
      "[LightGBM] [Warning] No further splits with positive gain, best gain: -inf\n",
      "[600]\ttraining's rmse: 1603.13\tvalid_1's rmse: 1616.3\n",
      "[601]\ttraining's rmse: 1602.95\tvalid_1's rmse: 1616.15\n",
      "[LightGBM] [Warning] No further splits with positive gain, best gain: -inf\n",
      "[602]\ttraining's rmse: 1602.82\tvalid_1's rmse: 1616.05\n",
      "[LightGBM] [Warning] No further splits with positive gain, best gain: -inf\n",
      "[603]\ttraining's rmse: 1602.75\tvalid_1's rmse: 1615.99\n",
      "[LightGBM] [Warning] No further splits with positive gain, best gain: -inf\n",
      "[604]\ttraining's rmse: 1602.64\tvalid_1's rmse: 1615.91\n",
      "[605]\ttraining's rmse: 1602.56\tvalid_1's rmse: 1615.85\n",
      "[606]\ttraining's rmse: 1602.5\tvalid_1's rmse: 1615.8\n",
      "[LightGBM] [Warning] No further splits with positive gain, best gain: -inf\n",
      "[607]\ttraining's rmse: 1602.42\tvalid_1's rmse: 1615.75\n",
      "[LightGBM] [Warning] No further splits with positive gain, best gain: -inf\n",
      "[608]\ttraining's rmse: 1602.34\tvalid_1's rmse: 1615.69\n",
      "[609]\ttraining's rmse: 1602.26\tvalid_1's rmse: 1615.6\n",
      "[LightGBM] [Warning] No further splits with positive gain, best gain: -inf\n",
      "[610]\ttraining's rmse: 1602.18\tvalid_1's rmse: 1615.53\n",
      "[LightGBM] [Warning] No further splits with positive gain, best gain: -inf\n",
      "[611]\ttraining's rmse: 1602.09\tvalid_1's rmse: 1615.44\n",
      "[LightGBM] [Warning] No further splits with positive gain, best gain: -inf\n",
      "[612]\ttraining's rmse: 1601.95\tvalid_1's rmse: 1615.3\n",
      "[LightGBM] [Warning] No further splits with positive gain, best gain: -inf\n",
      "[613]\ttraining's rmse: 1601.84\tvalid_1's rmse: 1615.22\n",
      "[LightGBM] [Warning] No further splits with positive gain, best gain: -inf\n",
      "[614]\ttraining's rmse: 1601.73\tvalid_1's rmse: 1615.16\n",
      "[LightGBM] [Warning] No further splits with positive gain, best gain: -inf\n",
      "[615]\ttraining's rmse: 1601.69\tvalid_1's rmse: 1615.14\n",
      "[LightGBM] [Warning] No further splits with positive gain, best gain: -inf\n",
      "[616]\ttraining's rmse: 1601.63\tvalid_1's rmse: 1615.1\n",
      "[617]\ttraining's rmse: 1601.59\tvalid_1's rmse: 1615.08\n",
      "[LightGBM] [Warning] No further splits with positive gain, best gain: -inf\n",
      "[618]\ttraining's rmse: 1601.54\tvalid_1's rmse: 1615.05\n",
      "[LightGBM] [Warning] No further splits with positive gain, best gain: -inf\n",
      "[619]\ttraining's rmse: 1601.51\tvalid_1's rmse: 1615\n",
      "[LightGBM] [Warning] No further splits with positive gain, best gain: -inf\n",
      "[620]\ttraining's rmse: 1601.46\tvalid_1's rmse: 1614.97\n",
      "[LightGBM] [Warning] No further splits with positive gain, best gain: -inf\n",
      "[621]\ttraining's rmse: 1601.42\tvalid_1's rmse: 1614.92\n",
      "[LightGBM] [Warning] No further splits with positive gain, best gain: -inf\n",
      "[622]\ttraining's rmse: 1601.26\tvalid_1's rmse: 1614.79\n",
      "[623]\ttraining's rmse: 1601.17\tvalid_1's rmse: 1614.72\n",
      "[LightGBM] [Warning] No further splits with positive gain, best gain: -inf\n",
      "[624]\ttraining's rmse: 1601.07\tvalid_1's rmse: 1614.59\n",
      "[LightGBM] [Warning] No further splits with positive gain, best gain: -inf\n",
      "[625]\ttraining's rmse: 1600.94\tvalid_1's rmse: 1614.55\n",
      "[626]\ttraining's rmse: 1600.61\tvalid_1's rmse: 1614.18\n",
      "[LightGBM] [Warning] No further splits with positive gain, best gain: -inf\n",
      "[627]\ttraining's rmse: 1600.44\tvalid_1's rmse: 1614.01\n",
      "[LightGBM] [Warning] No further splits with positive gain, best gain: -inf\n",
      "[628]\ttraining's rmse: 1600.38\tvalid_1's rmse: 1613.95\n",
      "[LightGBM] [Warning] No further splits with positive gain, best gain: -inf\n",
      "[629]\ttraining's rmse: 1600.35\tvalid_1's rmse: 1613.92\n",
      "[LightGBM] [Warning] No further splits with positive gain, best gain: -inf\n",
      "[630]\ttraining's rmse: 1600.24\tvalid_1's rmse: 1613.87\n",
      "[LightGBM] [Warning] No further splits with positive gain, best gain: -inf\n",
      "[631]\ttraining's rmse: 1600.19\tvalid_1's rmse: 1613.79\n",
      "[LightGBM] [Warning] No further splits with positive gain, best gain: -inf\n",
      "[632]\ttraining's rmse: 1600.04\tvalid_1's rmse: 1613.65\n",
      "[633]\ttraining's rmse: 1599.87\tvalid_1's rmse: 1613.51\n",
      "[LightGBM] [Warning] No further splits with positive gain, best gain: -inf\n",
      "[634]\ttraining's rmse: 1599.82\tvalid_1's rmse: 1613.49\n",
      "[635]\ttraining's rmse: 1599.73\tvalid_1's rmse: 1613.4\n",
      "[636]\ttraining's rmse: 1599.62\tvalid_1's rmse: 1613.32\n",
      "[637]\ttraining's rmse: 1599.49\tvalid_1's rmse: 1613.19\n",
      "[LightGBM] [Warning] No further splits with positive gain, best gain: -inf\n",
      "[638]\ttraining's rmse: 1599.42\tvalid_1's rmse: 1613.12\n",
      "[LightGBM] [Warning] No further splits with positive gain, best gain: -inf\n",
      "[639]\ttraining's rmse: 1599.39\tvalid_1's rmse: 1613.09\n",
      "[LightGBM] [Warning] No further splits with positive gain, best gain: -inf\n",
      "[640]\ttraining's rmse: 1599.37\tvalid_1's rmse: 1613.08\n",
      "[LightGBM] [Warning] No further splits with positive gain, best gain: -inf\n",
      "[641]\ttraining's rmse: 1599.3\tvalid_1's rmse: 1613.02\n",
      "[LightGBM] [Warning] No further splits with positive gain, best gain: -inf\n",
      "[642]\ttraining's rmse: 1599.27\tvalid_1's rmse: 1613\n",
      "[LightGBM] [Warning] No further splits with positive gain, best gain: -inf\n",
      "[643]\ttraining's rmse: 1599.22\tvalid_1's rmse: 1612.94\n",
      "[LightGBM] [Warning] No further splits with positive gain, best gain: -inf\n",
      "[644]\ttraining's rmse: 1599.16\tvalid_1's rmse: 1612.91\n",
      "[LightGBM] [Warning] No further splits with positive gain, best gain: -inf\n",
      "[645]\ttraining's rmse: 1599.14\tvalid_1's rmse: 1612.89\n",
      "[646]\ttraining's rmse: 1599.05\tvalid_1's rmse: 1612.84\n",
      "[LightGBM] [Warning] No further splits with positive gain, best gain: -inf\n",
      "[647]\ttraining's rmse: 1599.02\tvalid_1's rmse: 1612.81\n",
      "[LightGBM] [Warning] No further splits with positive gain, best gain: -inf\n",
      "[648]\ttraining's rmse: 1598.98\tvalid_1's rmse: 1612.79\n",
      "[649]\ttraining's rmse: 1598.9\tvalid_1's rmse: 1612.73\n",
      "[650]\ttraining's rmse: 1598.85\tvalid_1's rmse: 1612.69\n",
      "[LightGBM] [Warning] No further splits with positive gain, best gain: -inf\n",
      "[651]\ttraining's rmse: 1598.83\tvalid_1's rmse: 1612.66\n",
      "[LightGBM] [Warning] No further splits with positive gain, best gain: -inf\n",
      "[652]\ttraining's rmse: 1598.72\tvalid_1's rmse: 1612.56\n",
      "[653]\ttraining's rmse: 1598.67\tvalid_1's rmse: 1612.53\n",
      "[LightGBM] [Warning] No further splits with positive gain, best gain: -inf\n",
      "[654]\ttraining's rmse: 1598.57\tvalid_1's rmse: 1612.44\n",
      "[655]\ttraining's rmse: 1598.47\tvalid_1's rmse: 1612.36\n",
      "[656]\ttraining's rmse: 1598.43\tvalid_1's rmse: 1612.33\n",
      "[LightGBM] [Warning] No further splits with positive gain, best gain: -inf\n",
      "[657]\ttraining's rmse: 1598.39\tvalid_1's rmse: 1612.3\n",
      "[LightGBM] [Warning] No further splits with positive gain, best gain: -inf\n",
      "[658]\ttraining's rmse: 1598.34\tvalid_1's rmse: 1612.26\n"
     ]
    },
    {
     "name": "stdout",
     "output_type": "stream",
     "text": [
      "[LightGBM] [Warning] No further splits with positive gain, best gain: -inf\n",
      "[659]\ttraining's rmse: 1598.26\tvalid_1's rmse: 1612.21\n",
      "[LightGBM] [Warning] No further splits with positive gain, best gain: -inf\n",
      "[660]\ttraining's rmse: 1598.16\tvalid_1's rmse: 1612.11\n",
      "[LightGBM] [Warning] No further splits with positive gain, best gain: -inf\n",
      "[661]\ttraining's rmse: 1598.12\tvalid_1's rmse: 1612.08\n",
      "[662]\ttraining's rmse: 1598.05\tvalid_1's rmse: 1612.02\n",
      "[663]\ttraining's rmse: 1597.94\tvalid_1's rmse: 1611.93\n",
      "[LightGBM] [Warning] No further splits with positive gain, best gain: -inf\n",
      "[664]\ttraining's rmse: 1597.88\tvalid_1's rmse: 1611.9\n",
      "[LightGBM] [Warning] No further splits with positive gain, best gain: -inf\n",
      "[665]\ttraining's rmse: 1597.79\tvalid_1's rmse: 1611.83\n",
      "[666]\ttraining's rmse: 1597.74\tvalid_1's rmse: 1611.78\n",
      "[LightGBM] [Warning] No further splits with positive gain, best gain: -inf\n",
      "[667]\ttraining's rmse: 1597.66\tvalid_1's rmse: 1611.64\n",
      "[LightGBM] [Warning] No further splits with positive gain, best gain: -inf\n",
      "[668]\ttraining's rmse: 1597.64\tvalid_1's rmse: 1611.63\n",
      "[LightGBM] [Warning] No further splits with positive gain, best gain: -inf\n",
      "[669]\ttraining's rmse: 1597.61\tvalid_1's rmse: 1611.59\n",
      "[670]\ttraining's rmse: 1597.56\tvalid_1's rmse: 1611.57\n",
      "[LightGBM] [Warning] No further splits with positive gain, best gain: -inf\n",
      "[671]\ttraining's rmse: 1597.52\tvalid_1's rmse: 1611.54\n",
      "[LightGBM] [Warning] No further splits with positive gain, best gain: -inf\n",
      "[672]\ttraining's rmse: 1597.47\tvalid_1's rmse: 1611.49\n",
      "[LightGBM] [Warning] No further splits with positive gain, best gain: -inf\n",
      "[673]\ttraining's rmse: 1597.37\tvalid_1's rmse: 1611.37\n",
      "[LightGBM] [Warning] No further splits with positive gain, best gain: -inf\n",
      "[674]\ttraining's rmse: 1597.32\tvalid_1's rmse: 1611.32\n",
      "[LightGBM] [Warning] No further splits with positive gain, best gain: -inf\n",
      "[675]\ttraining's rmse: 1597.3\tvalid_1's rmse: 1611.3\n",
      "[676]\ttraining's rmse: 1597.06\tvalid_1's rmse: 1611.09\n",
      "[677]\ttraining's rmse: 1596.99\tvalid_1's rmse: 1611.01\n",
      "[678]\ttraining's rmse: 1596.89\tvalid_1's rmse: 1610.96\n",
      "[LightGBM] [Warning] No further splits with positive gain, best gain: -inf\n",
      "[679]\ttraining's rmse: 1596.74\tvalid_1's rmse: 1610.85\n",
      "[LightGBM] [Warning] No further splits with positive gain, best gain: -inf\n",
      "[680]\ttraining's rmse: 1596.65\tvalid_1's rmse: 1610.77\n",
      "[LightGBM] [Warning] No further splits with positive gain, best gain: -inf\n",
      "[681]\ttraining's rmse: 1596.62\tvalid_1's rmse: 1610.73\n",
      "[LightGBM] [Warning] No further splits with positive gain, best gain: -inf\n",
      "[682]\ttraining's rmse: 1596.53\tvalid_1's rmse: 1610.7\n",
      "[LightGBM] [Warning] No further splits with positive gain, best gain: -inf\n",
      "[683]\ttraining's rmse: 1596.43\tvalid_1's rmse: 1610.61\n",
      "[LightGBM] [Warning] No further splits with positive gain, best gain: -inf\n",
      "[684]\ttraining's rmse: 1596.37\tvalid_1's rmse: 1610.56\n",
      "[LightGBM] [Warning] No further splits with positive gain, best gain: -inf\n",
      "[685]\ttraining's rmse: 1596.34\tvalid_1's rmse: 1610.53\n",
      "[LightGBM] [Warning] No further splits with positive gain, best gain: -inf\n",
      "[686]\ttraining's rmse: 1596.29\tvalid_1's rmse: 1610.48\n",
      "[LightGBM] [Warning] No further splits with positive gain, best gain: -inf\n",
      "[687]\ttraining's rmse: 1596.24\tvalid_1's rmse: 1610.44\n",
      "[LightGBM] [Warning] No further splits with positive gain, best gain: -inf\n",
      "[688]\ttraining's rmse: 1596.18\tvalid_1's rmse: 1610.41\n",
      "[LightGBM] [Warning] No further splits with positive gain, best gain: -inf\n",
      "[689]\ttraining's rmse: 1596.11\tvalid_1's rmse: 1610.34\n",
      "[LightGBM] [Warning] No further splits with positive gain, best gain: -inf\n",
      "[690]\ttraining's rmse: 1596.07\tvalid_1's rmse: 1610.31\n",
      "[LightGBM] [Warning] No further splits with positive gain, best gain: -inf\n",
      "[691]\ttraining's rmse: 1595.97\tvalid_1's rmse: 1610.19\n",
      "[692]\ttraining's rmse: 1595.87\tvalid_1's rmse: 1610.1\n",
      "[693]\ttraining's rmse: 1595.73\tvalid_1's rmse: 1609.91\n",
      "[694]\ttraining's rmse: 1595.36\tvalid_1's rmse: 1609.65\n",
      "[LightGBM] [Warning] No further splits with positive gain, best gain: -inf\n",
      "[695]\ttraining's rmse: 1595.3\tvalid_1's rmse: 1609.61\n",
      "[696]\ttraining's rmse: 1595.25\tvalid_1's rmse: 1609.54\n",
      "[697]\ttraining's rmse: 1595.04\tvalid_1's rmse: 1609.35\n",
      "[LightGBM] [Warning] No further splits with positive gain, best gain: -inf\n",
      "[698]\ttraining's rmse: 1594.82\tvalid_1's rmse: 1609.14\n",
      "[699]\ttraining's rmse: 1594.65\tvalid_1's rmse: 1608.96\n",
      "[700]\ttraining's rmse: 1594.45\tvalid_1's rmse: 1608.8\n",
      "[LightGBM] [Warning] No further splits with positive gain, best gain: -inf\n",
      "[701]\ttraining's rmse: 1594.27\tvalid_1's rmse: 1608.63\n",
      "[702]\ttraining's rmse: 1593.94\tvalid_1's rmse: 1608.24\n",
      "[703]\ttraining's rmse: 1593.72\tvalid_1's rmse: 1608.02\n",
      "[704]\ttraining's rmse: 1593.51\tvalid_1's rmse: 1607.78\n",
      "[LightGBM] [Warning] No further splits with positive gain, best gain: -inf\n",
      "[705]\ttraining's rmse: 1593.45\tvalid_1's rmse: 1607.74\n",
      "[LightGBM] [Warning] No further splits with positive gain, best gain: -inf\n",
      "[706]\ttraining's rmse: 1593.28\tvalid_1's rmse: 1607.58\n",
      "[707]\ttraining's rmse: 1592.97\tvalid_1's rmse: 1607.31\n",
      "[708]\ttraining's rmse: 1592.83\tvalid_1's rmse: 1607.12\n",
      "[709]\ttraining's rmse: 1592.56\tvalid_1's rmse: 1606.87\n",
      "[710]\ttraining's rmse: 1592.34\tvalid_1's rmse: 1606.62\n",
      "[LightGBM] [Warning] No further splits with positive gain, best gain: -inf\n",
      "[711]\ttraining's rmse: 1592.29\tvalid_1's rmse: 1606.58\n",
      "[LightGBM] [Warning] No further splits with positive gain, best gain: -inf\n",
      "[712]\ttraining's rmse: 1592.24\tvalid_1's rmse: 1606.51\n",
      "[713]\ttraining's rmse: 1592.1\tvalid_1's rmse: 1606.4\n",
      "[LightGBM] [Warning] No further splits with positive gain, best gain: -inf\n",
      "[714]\ttraining's rmse: 1592.04\tvalid_1's rmse: 1606.35\n",
      "[LightGBM] [Warning] No further splits with positive gain, best gain: -inf\n",
      "[715]\ttraining's rmse: 1592.01\tvalid_1's rmse: 1606.32\n",
      "[LightGBM] [Warning] No further splits with positive gain, best gain: -inf\n",
      "[716]\ttraining's rmse: 1592\tvalid_1's rmse: 1606.31\n",
      "[LightGBM] [Warning] No further splits with positive gain, best gain: -inf\n",
      "[717]\ttraining's rmse: 1591.97\tvalid_1's rmse: 1606.28\n",
      "[718]\ttraining's rmse: 1591.87\tvalid_1's rmse: 1606.21\n",
      "[LightGBM] [Warning] No further splits with positive gain, best gain: -inf\n",
      "[719]\ttraining's rmse: 1591.8\tvalid_1's rmse: 1606.1\n",
      "[720]\ttraining's rmse: 1591.6\tvalid_1's rmse: 1605.88\n",
      "[LightGBM] [Warning] No further splits with positive gain, best gain: -inf\n",
      "[721]\ttraining's rmse: 1591.56\tvalid_1's rmse: 1605.86\n",
      "[LightGBM] [Warning] No further splits with positive gain, best gain: -inf\n",
      "[722]\ttraining's rmse: 1591.51\tvalid_1's rmse: 1605.8\n",
      "[723]\ttraining's rmse: 1591.39\tvalid_1's rmse: 1605.7\n",
      "[LightGBM] [Warning] No further splits with positive gain, best gain: -inf\n",
      "[724]\ttraining's rmse: 1591.35\tvalid_1's rmse: 1605.7\n",
      "[LightGBM] [Warning] No further splits with positive gain, best gain: -inf\n",
      "[725]\ttraining's rmse: 1591.34\tvalid_1's rmse: 1605.69\n",
      "[LightGBM] [Warning] No further splits with positive gain, best gain: -inf\n",
      "[726]\ttraining's rmse: 1591.31\tvalid_1's rmse: 1605.69\n",
      "[LightGBM] [Warning] No further splits with positive gain, best gain: -inf\n",
      "[727]\ttraining's rmse: 1591.26\tvalid_1's rmse: 1605.65\n",
      "[LightGBM] [Warning] No further splits with positive gain, best gain: -inf\n",
      "[728]\ttraining's rmse: 1591.17\tvalid_1's rmse: 1605.56\n",
      "[LightGBM] [Warning] No further splits with positive gain, best gain: -inf\n",
      "[729]\ttraining's rmse: 1591.14\tvalid_1's rmse: 1605.53\n",
      "[LightGBM] [Warning] No further splits with positive gain, best gain: -inf\n",
      "[730]\ttraining's rmse: 1591.09\tvalid_1's rmse: 1605.5\n",
      "[LightGBM] [Warning] No further splits with positive gain, best gain: -inf\n",
      "[731]\ttraining's rmse: 1590.99\tvalid_1's rmse: 1605.4\n",
      "[732]\ttraining's rmse: 1590.95\tvalid_1's rmse: 1605.36\n",
      "[LightGBM] [Warning] No further splits with positive gain, best gain: -inf\n",
      "[733]\ttraining's rmse: 1590.83\tvalid_1's rmse: 1605.28\n",
      "[734]\ttraining's rmse: 1590.74\tvalid_1's rmse: 1605.18\n",
      "[735]\ttraining's rmse: 1590.56\tvalid_1's rmse: 1605.04\n",
      "[736]\ttraining's rmse: 1590.32\tvalid_1's rmse: 1604.76\n",
      "[LightGBM] [Warning] No further splits with positive gain, best gain: -inf\n",
      "[737]\ttraining's rmse: 1590.24\tvalid_1's rmse: 1604.65\n",
      "[LightGBM] [Warning] No further splits with positive gain, best gain: -inf\n",
      "[738]\ttraining's rmse: 1590.2\tvalid_1's rmse: 1604.63\n"
     ]
    },
    {
     "name": "stdout",
     "output_type": "stream",
     "text": [
      "[739]\ttraining's rmse: 1590.14\tvalid_1's rmse: 1604.59\n",
      "[LightGBM] [Warning] No further splits with positive gain, best gain: -inf\n",
      "[740]\ttraining's rmse: 1590.1\tvalid_1's rmse: 1604.58\n",
      "[LightGBM] [Warning] No further splits with positive gain, best gain: -inf\n",
      "[741]\ttraining's rmse: 1590.07\tvalid_1's rmse: 1604.55\n",
      "[742]\ttraining's rmse: 1590.05\tvalid_1's rmse: 1604.52\n",
      "[LightGBM] [Warning] No further splits with positive gain, best gain: -inf\n",
      "[743]\ttraining's rmse: 1589.95\tvalid_1's rmse: 1604.43\n",
      "[744]\ttraining's rmse: 1589.88\tvalid_1's rmse: 1604.39\n",
      "[745]\ttraining's rmse: 1589.79\tvalid_1's rmse: 1604.32\n",
      "[LightGBM] [Warning] No further splits with positive gain, best gain: -inf\n",
      "[746]\ttraining's rmse: 1589.73\tvalid_1's rmse: 1604.28\n",
      "[LightGBM] [Warning] No further splits with positive gain, best gain: -inf\n",
      "[747]\ttraining's rmse: 1589.69\tvalid_1's rmse: 1604.25\n",
      "[748]\ttraining's rmse: 1589.62\tvalid_1's rmse: 1604.19\n",
      "[LightGBM] [Warning] No further splits with positive gain, best gain: -inf\n",
      "[749]\ttraining's rmse: 1589.55\tvalid_1's rmse: 1604.14\n",
      "[LightGBM] [Warning] No further splits with positive gain, best gain: -inf\n",
      "[750]\ttraining's rmse: 1589.51\tvalid_1's rmse: 1604.11\n",
      "[LightGBM] [Warning] No further splits with positive gain, best gain: -inf\n",
      "[751]\ttraining's rmse: 1589.47\tvalid_1's rmse: 1604.09\n",
      "[LightGBM] [Warning] No further splits with positive gain, best gain: -inf\n",
      "[752]\ttraining's rmse: 1589.45\tvalid_1's rmse: 1604.08\n",
      "[LightGBM] [Warning] No further splits with positive gain, best gain: -inf\n",
      "[753]\ttraining's rmse: 1589.41\tvalid_1's rmse: 1604.04\n",
      "[LightGBM] [Warning] No further splits with positive gain, best gain: -inf\n",
      "[754]\ttraining's rmse: 1589.36\tvalid_1's rmse: 1604.01\n",
      "[LightGBM] [Warning] No further splits with positive gain, best gain: -inf\n",
      "[755]\ttraining's rmse: 1589.31\tvalid_1's rmse: 1603.97\n",
      "[LightGBM] [Warning] No further splits with positive gain, best gain: -inf\n",
      "[756]\ttraining's rmse: 1589.28\tvalid_1's rmse: 1603.95\n",
      "[LightGBM] [Warning] No further splits with positive gain, best gain: -inf\n",
      "[757]\ttraining's rmse: 1589.18\tvalid_1's rmse: 1603.84\n",
      "[758]\ttraining's rmse: 1589\tvalid_1's rmse: 1603.7\n",
      "[LightGBM] [Warning] No further splits with positive gain, best gain: -inf\n",
      "[759]\ttraining's rmse: 1588.94\tvalid_1's rmse: 1603.66\n",
      "[760]\ttraining's rmse: 1588.84\tvalid_1's rmse: 1603.58\n",
      "[LightGBM] [Warning] No further splits with positive gain, best gain: -inf\n",
      "[761]\ttraining's rmse: 1588.82\tvalid_1's rmse: 1603.57\n",
      "[762]\ttraining's rmse: 1588.65\tvalid_1's rmse: 1603.44\n",
      "[LightGBM] [Warning] No further splits with positive gain, best gain: -inf\n",
      "[763]\ttraining's rmse: 1588.59\tvalid_1's rmse: 1603.35\n",
      "[LightGBM] [Warning] No further splits with positive gain, best gain: -inf\n",
      "[764]\ttraining's rmse: 1588.55\tvalid_1's rmse: 1603.31\n",
      "[LightGBM] [Warning] No further splits with positive gain, best gain: -inf\n",
      "[765]\ttraining's rmse: 1588.52\tvalid_1's rmse: 1603.27\n",
      "[LightGBM] [Warning] No further splits with positive gain, best gain: -inf\n",
      "[766]\ttraining's rmse: 1588.5\tvalid_1's rmse: 1603.23\n",
      "[LightGBM] [Warning] No further splits with positive gain, best gain: -inf\n",
      "[767]\ttraining's rmse: 1588.47\tvalid_1's rmse: 1603.2\n",
      "[LightGBM] [Warning] No further splits with positive gain, best gain: -inf\n",
      "[768]\ttraining's rmse: 1588.23\tvalid_1's rmse: 1603.03\n",
      "[769]\ttraining's rmse: 1587.92\tvalid_1's rmse: 1602.59\n",
      "[770]\ttraining's rmse: 1587.84\tvalid_1's rmse: 1602.55\n",
      "[771]\ttraining's rmse: 1587.55\tvalid_1's rmse: 1602.16\n",
      "[LightGBM] [Warning] No further splits with positive gain, best gain: -inf\n",
      "[772]\ttraining's rmse: 1587.53\tvalid_1's rmse: 1602.15\n",
      "[LightGBM] [Warning] No further splits with positive gain, best gain: -inf\n",
      "[773]\ttraining's rmse: 1587.51\tvalid_1's rmse: 1602.12\n",
      "[LightGBM] [Warning] No further splits with positive gain, best gain: -inf\n",
      "[774]\ttraining's rmse: 1587.43\tvalid_1's rmse: 1602.1\n",
      "[LightGBM] [Warning] No further splits with positive gain, best gain: -inf\n",
      "[775]\ttraining's rmse: 1587.38\tvalid_1's rmse: 1602.07\n",
      "[776]\ttraining's rmse: 1587.1\tvalid_1's rmse: 1601.88\n",
      "[LightGBM] [Warning] No further splits with positive gain, best gain: -inf\n",
      "[777]\ttraining's rmse: 1587.02\tvalid_1's rmse: 1601.79\n",
      "[LightGBM] [Warning] No further splits with positive gain, best gain: -inf\n",
      "[778]\ttraining's rmse: 1586.95\tvalid_1's rmse: 1601.78\n",
      "[LightGBM] [Warning] No further splits with positive gain, best gain: -inf\n",
      "[779]\ttraining's rmse: 1586.92\tvalid_1's rmse: 1601.75\n",
      "[780]\ttraining's rmse: 1586.77\tvalid_1's rmse: 1601.61\n",
      "[LightGBM] [Warning] No further splits with positive gain, best gain: -inf\n",
      "[781]\ttraining's rmse: 1586.73\tvalid_1's rmse: 1601.56\n",
      "[LightGBM] [Warning] No further splits with positive gain, best gain: -inf\n",
      "[782]\ttraining's rmse: 1586.71\tvalid_1's rmse: 1601.55\n",
      "[LightGBM] [Warning] No further splits with positive gain, best gain: -inf\n",
      "[783]\ttraining's rmse: 1586.64\tvalid_1's rmse: 1601.47\n",
      "[LightGBM] [Warning] No further splits with positive gain, best gain: -inf\n",
      "[784]\ttraining's rmse: 1586.58\tvalid_1's rmse: 1601.44\n",
      "[785]\ttraining's rmse: 1586.5\tvalid_1's rmse: 1601.39\n",
      "[786]\ttraining's rmse: 1586.39\tvalid_1's rmse: 1601.26\n",
      "[LightGBM] [Warning] No further splits with positive gain, best gain: -inf\n",
      "[787]\ttraining's rmse: 1586.36\tvalid_1's rmse: 1601.23\n",
      "[788]\ttraining's rmse: 1586.23\tvalid_1's rmse: 1601.13\n",
      "[LightGBM] [Warning] No further splits with positive gain, best gain: -inf\n",
      "[789]\ttraining's rmse: 1586.23\tvalid_1's rmse: 1601.12\n",
      "[LightGBM] [Warning] No further splits with positive gain, best gain: -inf\n",
      "[790]\ttraining's rmse: 1586.12\tvalid_1's rmse: 1601.03\n",
      "[LightGBM] [Warning] No further splits with positive gain, best gain: -inf\n",
      "[791]\ttraining's rmse: 1586.09\tvalid_1's rmse: 1601.04\n",
      "[792]\ttraining's rmse: 1586.02\tvalid_1's rmse: 1600.98\n",
      "[793]\ttraining's rmse: 1585.98\tvalid_1's rmse: 1600.94\n",
      "[LightGBM] [Warning] No further splits with positive gain, best gain: -inf\n",
      "[794]\ttraining's rmse: 1585.85\tvalid_1's rmse: 1600.8\n",
      "[795]\ttraining's rmse: 1585.72\tvalid_1's rmse: 1600.65\n",
      "[796]\ttraining's rmse: 1585.47\tvalid_1's rmse: 1600.48\n",
      "[LightGBM] [Warning] No further splits with positive gain, best gain: -inf\n",
      "[797]\ttraining's rmse: 1585.33\tvalid_1's rmse: 1600.34\n",
      "[798]\ttraining's rmse: 1585.14\tvalid_1's rmse: 1600.16\n",
      "[799]\ttraining's rmse: 1585.07\tvalid_1's rmse: 1600.1\n",
      "[LightGBM] [Warning] No further splits with positive gain, best gain: -inf\n",
      "[800]\ttraining's rmse: 1584.98\tvalid_1's rmse: 1600.06\n",
      "[801]\ttraining's rmse: 1584.9\tvalid_1's rmse: 1600.03\n",
      "[LightGBM] [Warning] No further splits with positive gain, best gain: -inf\n",
      "[802]\ttraining's rmse: 1584.73\tvalid_1's rmse: 1599.89\n",
      "[803]\ttraining's rmse: 1584.66\tvalid_1's rmse: 1599.85\n",
      "[LightGBM] [Warning] No further splits with positive gain, best gain: -inf\n",
      "[804]\ttraining's rmse: 1584.63\tvalid_1's rmse: 1599.84\n",
      "[805]\ttraining's rmse: 1584.58\tvalid_1's rmse: 1599.85\n",
      "[LightGBM] [Warning] No further splits with positive gain, best gain: -inf\n",
      "[806]\ttraining's rmse: 1584.56\tvalid_1's rmse: 1599.84\n",
      "[807]\ttraining's rmse: 1584.39\tvalid_1's rmse: 1599.67\n",
      "[808]\ttraining's rmse: 1584.16\tvalid_1's rmse: 1599.47\n",
      "[809]\ttraining's rmse: 1584.07\tvalid_1's rmse: 1599.4\n",
      "[810]\ttraining's rmse: 1584\tvalid_1's rmse: 1599.35\n",
      "[811]\ttraining's rmse: 1583.87\tvalid_1's rmse: 1599.29\n",
      "[LightGBM] [Warning] No further splits with positive gain, best gain: -inf\n",
      "[812]\ttraining's rmse: 1583.84\tvalid_1's rmse: 1599.25\n",
      "[LightGBM] [Warning] No further splits with positive gain, best gain: -inf\n",
      "[813]\ttraining's rmse: 1583.76\tvalid_1's rmse: 1599.12\n",
      "[LightGBM] [Warning] No further splits with positive gain, best gain: -inf\n",
      "[814]\ttraining's rmse: 1583.67\tvalid_1's rmse: 1599.09\n",
      "[LightGBM] [Warning] No further splits with positive gain, best gain: -inf\n",
      "[815]\ttraining's rmse: 1583.64\tvalid_1's rmse: 1599.06\n",
      "[LightGBM] [Warning] No further splits with positive gain, best gain: -inf\n",
      "[816]\ttraining's rmse: 1583.62\tvalid_1's rmse: 1599.05\n",
      "[817]\ttraining's rmse: 1583.55\tvalid_1's rmse: 1599.02\n",
      "[LightGBM] [Warning] No further splits with positive gain, best gain: -inf\n",
      "[818]\ttraining's rmse: 1583.49\tvalid_1's rmse: 1598.98\n",
      "[LightGBM] [Warning] No further splits with positive gain, best gain: -inf\n",
      "[819]\ttraining's rmse: 1583.46\tvalid_1's rmse: 1598.95\n",
      "[LightGBM] [Warning] No further splits with positive gain, best gain: -inf\n",
      "[820]\ttraining's rmse: 1583.39\tvalid_1's rmse: 1598.93\n",
      "[LightGBM] [Warning] No further splits with positive gain, best gain: -inf\n",
      "[821]\ttraining's rmse: 1583.32\tvalid_1's rmse: 1598.86\n",
      "[LightGBM] [Warning] No further splits with positive gain, best gain: -inf\n",
      "[822]\ttraining's rmse: 1583.28\tvalid_1's rmse: 1598.82\n",
      "[LightGBM] [Warning] No further splits with positive gain, best gain: -inf\n",
      "[823]\ttraining's rmse: 1583.18\tvalid_1's rmse: 1598.8\n",
      "[LightGBM] [Warning] No further splits with positive gain, best gain: -inf\n",
      "[824]\ttraining's rmse: 1583.14\tvalid_1's rmse: 1598.78\n",
      "[LightGBM] [Warning] No further splits with positive gain, best gain: -inf\n",
      "[825]\ttraining's rmse: 1583.12\tvalid_1's rmse: 1598.76\n",
      "[LightGBM] [Warning] No further splits with positive gain, best gain: -inf\n",
      "[826]\ttraining's rmse: 1583.1\tvalid_1's rmse: 1598.74\n",
      "[LightGBM] [Warning] No further splits with positive gain, best gain: -inf\n",
      "[827]\ttraining's rmse: 1583.07\tvalid_1's rmse: 1598.71\n",
      "[828]\ttraining's rmse: 1582.86\tvalid_1's rmse: 1598.55\n"
     ]
    },
    {
     "name": "stdout",
     "output_type": "stream",
     "text": [
      "[LightGBM] [Warning] No further splits with positive gain, best gain: -inf\n",
      "[829]\ttraining's rmse: 1582.84\tvalid_1's rmse: 1598.53\n",
      "[830]\ttraining's rmse: 1582.63\tvalid_1's rmse: 1598.32\n",
      "[831]\ttraining's rmse: 1582.49\tvalid_1's rmse: 1598.19\n",
      "[832]\ttraining's rmse: 1582.36\tvalid_1's rmse: 1598.03\n",
      "[LightGBM] [Warning] No further splits with positive gain, best gain: -inf\n",
      "[833]\ttraining's rmse: 1582.33\tvalid_1's rmse: 1598\n",
      "[834]\ttraining's rmse: 1582.25\tvalid_1's rmse: 1597.96\n",
      "[LightGBM] [Warning] No further splits with positive gain, best gain: -inf\n",
      "[835]\ttraining's rmse: 1582.22\tvalid_1's rmse: 1597.95\n",
      "[LightGBM] [Warning] No further splits with positive gain, best gain: -inf\n",
      "[836]\ttraining's rmse: 1582.17\tvalid_1's rmse: 1597.92\n",
      "[LightGBM] [Warning] No further splits with positive gain, best gain: -inf\n",
      "[837]\ttraining's rmse: 1582.15\tvalid_1's rmse: 1597.91\n",
      "[838]\ttraining's rmse: 1582.09\tvalid_1's rmse: 1597.85\n",
      "[839]\ttraining's rmse: 1581.84\tvalid_1's rmse: 1597.58\n",
      "[LightGBM] [Warning] No further splits with positive gain, best gain: -inf\n",
      "[840]\ttraining's rmse: 1581.74\tvalid_1's rmse: 1597.49\n",
      "[841]\ttraining's rmse: 1581.64\tvalid_1's rmse: 1597.39\n",
      "[LightGBM] [Warning] No further splits with positive gain, best gain: -inf\n",
      "[842]\ttraining's rmse: 1581.43\tvalid_1's rmse: 1597.25\n",
      "[843]\ttraining's rmse: 1581.34\tvalid_1's rmse: 1597.18\n",
      "[844]\ttraining's rmse: 1581.3\tvalid_1's rmse: 1597.16\n",
      "[LightGBM] [Warning] No further splits with positive gain, best gain: -inf\n",
      "[845]\ttraining's rmse: 1581.27\tvalid_1's rmse: 1597.14\n",
      "[846]\ttraining's rmse: 1581.05\tvalid_1's rmse: 1596.95\n",
      "[847]\ttraining's rmse: 1580.91\tvalid_1's rmse: 1596.77\n",
      "[848]\ttraining's rmse: 1580.77\tvalid_1's rmse: 1596.65\n",
      "[LightGBM] [Warning] No further splits with positive gain, best gain: -inf\n",
      "[849]\ttraining's rmse: 1580.75\tvalid_1's rmse: 1596.63\n",
      "[850]\ttraining's rmse: 1580.69\tvalid_1's rmse: 1596.59\n",
      "[LightGBM] [Warning] No further splits with positive gain, best gain: -inf\n",
      "[851]\ttraining's rmse: 1580.67\tvalid_1's rmse: 1596.58\n",
      "[LightGBM] [Warning] No further splits with positive gain, best gain: -inf\n",
      "[852]\ttraining's rmse: 1580.64\tvalid_1's rmse: 1596.57\n",
      "[LightGBM] [Warning] No further splits with positive gain, best gain: -inf\n",
      "[853]\ttraining's rmse: 1580.6\tvalid_1's rmse: 1596.53\n",
      "[LightGBM] [Warning] No further splits with positive gain, best gain: -inf\n",
      "[854]\ttraining's rmse: 1580.52\tvalid_1's rmse: 1596.46\n",
      "[LightGBM] [Warning] No further splits with positive gain, best gain: -inf\n",
      "[855]\ttraining's rmse: 1580.48\tvalid_1's rmse: 1596.41\n",
      "[LightGBM] [Warning] No further splits with positive gain, best gain: -inf\n",
      "[856]\ttraining's rmse: 1580.46\tvalid_1's rmse: 1596.4\n",
      "[LightGBM] [Warning] No further splits with positive gain, best gain: -inf\n",
      "[857]\ttraining's rmse: 1580.32\tvalid_1's rmse: 1596.27\n",
      "[858]\ttraining's rmse: 1580.18\tvalid_1's rmse: 1596.17\n",
      "[LightGBM] [Warning] No further splits with positive gain, best gain: -inf\n",
      "[859]\ttraining's rmse: 1580.15\tvalid_1's rmse: 1596.16\n",
      "[LightGBM] [Warning] No further splits with positive gain, best gain: -inf\n",
      "[860]\ttraining's rmse: 1580.1\tvalid_1's rmse: 1596.13\n",
      "[861]\ttraining's rmse: 1580.01\tvalid_1's rmse: 1596.08\n",
      "[862]\ttraining's rmse: 1579.9\tvalid_1's rmse: 1595.97\n",
      "[863]\ttraining's rmse: 1579.75\tvalid_1's rmse: 1595.85\n",
      "[LightGBM] [Warning] No further splits with positive gain, best gain: -inf\n",
      "[864]\ttraining's rmse: 1579.59\tvalid_1's rmse: 1595.74\n",
      "[LightGBM] [Warning] No further splits with positive gain, best gain: -inf\n",
      "[865]\ttraining's rmse: 1579.54\tvalid_1's rmse: 1595.7\n",
      "[LightGBM] [Warning] No further splits with positive gain, best gain: -inf\n",
      "[866]\ttraining's rmse: 1579.46\tvalid_1's rmse: 1595.65\n",
      "[LightGBM] [Warning] No further splits with positive gain, best gain: -inf\n",
      "[867]\ttraining's rmse: 1579.41\tvalid_1's rmse: 1595.6\n",
      "[LightGBM] [Warning] No further splits with positive gain, best gain: -inf\n",
      "[868]\ttraining's rmse: 1579.4\tvalid_1's rmse: 1595.58\n",
      "[LightGBM] [Warning] No further splits with positive gain, best gain: -inf\n",
      "[869]\ttraining's rmse: 1579.37\tvalid_1's rmse: 1595.6\n",
      "[LightGBM] [Warning] No further splits with positive gain, best gain: -inf\n",
      "[870]\ttraining's rmse: 1579.34\tvalid_1's rmse: 1595.54\n",
      "[LightGBM] [Warning] No further splits with positive gain, best gain: -inf\n",
      "[871]\ttraining's rmse: 1579.28\tvalid_1's rmse: 1595.49\n",
      "[872]\ttraining's rmse: 1579.15\tvalid_1's rmse: 1595.39\n",
      "[873]\ttraining's rmse: 1579.09\tvalid_1's rmse: 1595.37\n",
      "[LightGBM] [Warning] No further splits with positive gain, best gain: -inf\n",
      "[874]\ttraining's rmse: 1579\tvalid_1's rmse: 1595.35\n",
      "[LightGBM] [Warning] No further splits with positive gain, best gain: -inf\n",
      "[875]\ttraining's rmse: 1578.97\tvalid_1's rmse: 1595.35\n",
      "[LightGBM] [Warning] No further splits with positive gain, best gain: -inf\n",
      "[876]\ttraining's rmse: 1578.85\tvalid_1's rmse: 1595.27\n",
      "[LightGBM] [Warning] No further splits with positive gain, best gain: -inf\n",
      "[877]\ttraining's rmse: 1578.67\tvalid_1's rmse: 1595.14\n",
      "[878]\ttraining's rmse: 1578.48\tvalid_1's rmse: 1594.98\n",
      "[LightGBM] [Warning] No further splits with positive gain, best gain: -inf\n",
      "[879]\ttraining's rmse: 1578.45\tvalid_1's rmse: 1594.98\n",
      "[LightGBM] [Warning] No further splits with positive gain, best gain: -inf\n",
      "[880]\ttraining's rmse: 1578.41\tvalid_1's rmse: 1594.97\n",
      "[881]\ttraining's rmse: 1578.36\tvalid_1's rmse: 1594.94\n",
      "[LightGBM] [Warning] No further splits with positive gain, best gain: -inf\n",
      "[882]\ttraining's rmse: 1578.34\tvalid_1's rmse: 1594.92\n",
      "[LightGBM] [Warning] No further splits with positive gain, best gain: -inf\n",
      "[883]\ttraining's rmse: 1578.29\tvalid_1's rmse: 1594.88\n",
      "[884]\ttraining's rmse: 1578.14\tvalid_1's rmse: 1594.74\n",
      "[LightGBM] [Warning] No further splits with positive gain, best gain: -inf\n",
      "[885]\ttraining's rmse: 1578.11\tvalid_1's rmse: 1594.72\n",
      "[LightGBM] [Warning] No further splits with positive gain, best gain: -inf\n",
      "[886]\ttraining's rmse: 1578.08\tvalid_1's rmse: 1594.69\n",
      "[LightGBM] [Warning] No further splits with positive gain, best gain: -inf\n",
      "[887]\ttraining's rmse: 1578.01\tvalid_1's rmse: 1594.68\n",
      "[888]\ttraining's rmse: 1577.96\tvalid_1's rmse: 1594.66\n",
      "[889]\ttraining's rmse: 1577.9\tvalid_1's rmse: 1594.61\n",
      "[890]\ttraining's rmse: 1577.77\tvalid_1's rmse: 1594.45\n",
      "[LightGBM] [Warning] No further splits with positive gain, best gain: -inf\n",
      "[891]\ttraining's rmse: 1577.75\tvalid_1's rmse: 1594.44\n",
      "[LightGBM] [Warning] No further splits with positive gain, best gain: -inf\n",
      "[892]\ttraining's rmse: 1577.72\tvalid_1's rmse: 1594.43\n",
      "[893]\ttraining's rmse: 1577.53\tvalid_1's rmse: 1594.3\n",
      "[894]\ttraining's rmse: 1577.41\tvalid_1's rmse: 1594.2\n",
      "[LightGBM] [Warning] No further splits with positive gain, best gain: -inf\n",
      "[895]\ttraining's rmse: 1577.26\tvalid_1's rmse: 1594.14\n",
      "[LightGBM] [Warning] No further splits with positive gain, best gain: -inf\n",
      "[896]\ttraining's rmse: 1577.2\tvalid_1's rmse: 1594.1\n",
      "[897]\ttraining's rmse: 1577.16\tvalid_1's rmse: 1594.06\n",
      "[LightGBM] [Warning] No further splits with positive gain, best gain: -inf\n",
      "[898]\ttraining's rmse: 1577.04\tvalid_1's rmse: 1593.94\n",
      "[899]\ttraining's rmse: 1576.89\tvalid_1's rmse: 1593.77\n",
      "[LightGBM] [Warning] No further splits with positive gain, best gain: -inf\n",
      "[900]\ttraining's rmse: 1576.84\tvalid_1's rmse: 1593.71\n",
      "[901]\ttraining's rmse: 1576.77\tvalid_1's rmse: 1593.65\n",
      "[LightGBM] [Warning] No further splits with positive gain, best gain: -inf\n",
      "[902]\ttraining's rmse: 1576.73\tvalid_1's rmse: 1593.6\n",
      "[LightGBM] [Warning] No further splits with positive gain, best gain: -inf\n",
      "[903]\ttraining's rmse: 1576.7\tvalid_1's rmse: 1593.59\n",
      "[LightGBM] [Warning] No further splits with positive gain, best gain: -inf\n",
      "[904]\ttraining's rmse: 1576.63\tvalid_1's rmse: 1593.56\n",
      "[LightGBM] [Warning] No further splits with positive gain, best gain: -inf\n",
      "[905]\ttraining's rmse: 1576.59\tvalid_1's rmse: 1593.51\n",
      "[906]\ttraining's rmse: 1576.51\tvalid_1's rmse: 1593.45\n",
      "[LightGBM] [Warning] No further splits with positive gain, best gain: -inf\n",
      "[907]\ttraining's rmse: 1576.42\tvalid_1's rmse: 1593.39\n",
      "[LightGBM] [Warning] No further splits with positive gain, best gain: -inf\n",
      "[908]\ttraining's rmse: 1576.41\tvalid_1's rmse: 1593.37\n",
      "[LightGBM] [Warning] No further splits with positive gain, best gain: -inf\n",
      "[909]\ttraining's rmse: 1576.4\tvalid_1's rmse: 1593.37\n",
      "[910]\ttraining's rmse: 1576.2\tvalid_1's rmse: 1593.06\n",
      "[LightGBM] [Warning] No further splits with positive gain, best gain: -inf\n",
      "[911]\ttraining's rmse: 1576.18\tvalid_1's rmse: 1593.04\n",
      "[912]\ttraining's rmse: 1576.14\tvalid_1's rmse: 1593.02\n"
     ]
    },
    {
     "name": "stdout",
     "output_type": "stream",
     "text": [
      "[LightGBM] [Warning] No further splits with positive gain, best gain: -inf\n",
      "[913]\ttraining's rmse: 1576.12\tvalid_1's rmse: 1593.01\n",
      "[LightGBM] [Warning] No further splits with positive gain, best gain: -inf\n",
      "[914]\ttraining's rmse: 1576.07\tvalid_1's rmse: 1592.94\n",
      "[LightGBM] [Warning] No further splits with positive gain, best gain: -inf\n",
      "[915]\ttraining's rmse: 1576.05\tvalid_1's rmse: 1592.93\n",
      "[LightGBM] [Warning] No further splits with positive gain, best gain: -inf\n",
      "[916]\ttraining's rmse: 1575.98\tvalid_1's rmse: 1592.83\n",
      "[917]\ttraining's rmse: 1575.88\tvalid_1's rmse: 1592.75\n",
      "[LightGBM] [Warning] No further splits with positive gain, best gain: -inf\n",
      "[918]\ttraining's rmse: 1575.85\tvalid_1's rmse: 1592.71\n",
      "[919]\ttraining's rmse: 1575.76\tvalid_1's rmse: 1592.65\n",
      "[LightGBM] [Warning] No further splits with positive gain, best gain: -inf\n",
      "[920]\ttraining's rmse: 1575.63\tvalid_1's rmse: 1592.55\n",
      "[LightGBM] [Warning] No further splits with positive gain, best gain: -inf\n",
      "[921]\ttraining's rmse: 1575.56\tvalid_1's rmse: 1592.51\n",
      "[922]\ttraining's rmse: 1575.39\tvalid_1's rmse: 1592.35\n",
      "[LightGBM] [Warning] No further splits with positive gain, best gain: -inf\n",
      "[923]\ttraining's rmse: 1575.37\tvalid_1's rmse: 1592.33\n",
      "[LightGBM] [Warning] No further splits with positive gain, best gain: -inf\n",
      "[924]\ttraining's rmse: 1575.35\tvalid_1's rmse: 1592.32\n",
      "[925]\ttraining's rmse: 1575.31\tvalid_1's rmse: 1592.3\n",
      "[926]\ttraining's rmse: 1575.24\tvalid_1's rmse: 1592.26\n",
      "[LightGBM] [Warning] No further splits with positive gain, best gain: -inf\n",
      "[927]\ttraining's rmse: 1575.21\tvalid_1's rmse: 1592.23\n",
      "[LightGBM] [Warning] No further splits with positive gain, best gain: -inf\n",
      "[928]\ttraining's rmse: 1575.15\tvalid_1's rmse: 1592.2\n",
      "[LightGBM] [Warning] No further splits with positive gain, best gain: -inf\n",
      "[929]\ttraining's rmse: 1575.1\tvalid_1's rmse: 1592.13\n",
      "[LightGBM] [Warning] No further splits with positive gain, best gain: -inf\n",
      "[930]\ttraining's rmse: 1575.02\tvalid_1's rmse: 1592.09\n",
      "[LightGBM] [Warning] No further splits with positive gain, best gain: -inf\n",
      "[931]\ttraining's rmse: 1574.94\tvalid_1's rmse: 1592.03\n",
      "[LightGBM] [Warning] No further splits with positive gain, best gain: -inf\n",
      "[932]\ttraining's rmse: 1574.85\tvalid_1's rmse: 1591.96\n",
      "[LightGBM] [Warning] No further splits with positive gain, best gain: -inf\n",
      "[933]\ttraining's rmse: 1574.83\tvalid_1's rmse: 1591.95\n",
      "[LightGBM] [Warning] No further splits with positive gain, best gain: -inf\n",
      "[934]\ttraining's rmse: 1574.83\tvalid_1's rmse: 1591.94\n",
      "[LightGBM] [Warning] No further splits with positive gain, best gain: -inf\n",
      "[935]\ttraining's rmse: 1574.78\tvalid_1's rmse: 1591.9\n",
      "[936]\ttraining's rmse: 1574.61\tvalid_1's rmse: 1591.77\n",
      "[937]\ttraining's rmse: 1574.58\tvalid_1's rmse: 1591.74\n",
      "[938]\ttraining's rmse: 1574.54\tvalid_1's rmse: 1591.69\n",
      "[939]\ttraining's rmse: 1574.51\tvalid_1's rmse: 1591.67\n",
      "[LightGBM] [Warning] No further splits with positive gain, best gain: -inf\n",
      "[940]\ttraining's rmse: 1574.48\tvalid_1's rmse: 1591.65\n",
      "[LightGBM] [Warning] No further splits with positive gain, best gain: -inf\n",
      "[941]\ttraining's rmse: 1574.28\tvalid_1's rmse: 1591.51\n",
      "[LightGBM] [Warning] No further splits with positive gain, best gain: -inf\n",
      "[942]\ttraining's rmse: 1574.15\tvalid_1's rmse: 1591.4\n",
      "[943]\ttraining's rmse: 1573.99\tvalid_1's rmse: 1591.27\n",
      "[LightGBM] [Warning] No further splits with positive gain, best gain: -inf\n",
      "[944]\ttraining's rmse: 1573.91\tvalid_1's rmse: 1591.24\n",
      "[945]\ttraining's rmse: 1573.78\tvalid_1's rmse: 1591.14\n",
      "[946]\ttraining's rmse: 1573.55\tvalid_1's rmse: 1590.9\n",
      "[LightGBM] [Warning] No further splits with positive gain, best gain: -inf\n",
      "[947]\ttraining's rmse: 1573.49\tvalid_1's rmse: 1590.86\n",
      "[LightGBM] [Warning] No further splits with positive gain, best gain: -inf\n",
      "[948]\ttraining's rmse: 1573.4\tvalid_1's rmse: 1590.79\n",
      "[949]\ttraining's rmse: 1573.29\tvalid_1's rmse: 1590.73\n",
      "[LightGBM] [Warning] No further splits with positive gain, best gain: -inf\n",
      "[950]\ttraining's rmse: 1573.21\tvalid_1's rmse: 1590.69\n",
      "[LightGBM] [Warning] No further splits with positive gain, best gain: -inf\n",
      "[951]\ttraining's rmse: 1573.19\tvalid_1's rmse: 1590.68\n",
      "[LightGBM] [Warning] No further splits with positive gain, best gain: -inf\n",
      "[952]\ttraining's rmse: 1573.16\tvalid_1's rmse: 1590.66\n",
      "[LightGBM] [Warning] No further splits with positive gain, best gain: -inf\n",
      "[953]\ttraining's rmse: 1573.16\tvalid_1's rmse: 1590.65\n",
      "[LightGBM] [Warning] No further splits with positive gain, best gain: -inf\n",
      "[954]\ttraining's rmse: 1572.98\tvalid_1's rmse: 1590.47\n",
      "[955]\ttraining's rmse: 1572.88\tvalid_1's rmse: 1590.4\n",
      "[956]\ttraining's rmse: 1572.73\tvalid_1's rmse: 1590.27\n",
      "[957]\ttraining's rmse: 1572.52\tvalid_1's rmse: 1590.04\n",
      "[958]\ttraining's rmse: 1572.46\tvalid_1's rmse: 1590\n",
      "[LightGBM] [Warning] No further splits with positive gain, best gain: -inf\n",
      "[959]\ttraining's rmse: 1572.43\tvalid_1's rmse: 1589.98\n",
      "[LightGBM] [Warning] No further splits with positive gain, best gain: -inf\n",
      "[960]\ttraining's rmse: 1572.42\tvalid_1's rmse: 1589.97\n",
      "[LightGBM] [Warning] No further splits with positive gain, best gain: -inf\n",
      "[961]\ttraining's rmse: 1572.25\tvalid_1's rmse: 1589.92\n",
      "[LightGBM] [Warning] No further splits with positive gain, best gain: -inf\n",
      "[962]\ttraining's rmse: 1572.2\tvalid_1's rmse: 1589.87\n",
      "[LightGBM] [Warning] No further splits with positive gain, best gain: -inf\n",
      "[963]\ttraining's rmse: 1572.18\tvalid_1's rmse: 1589.86\n",
      "[964]\ttraining's rmse: 1572.15\tvalid_1's rmse: 1589.82\n",
      "[LightGBM] [Warning] No further splits with positive gain, best gain: -inf\n",
      "[965]\ttraining's rmse: 1572.14\tvalid_1's rmse: 1589.81\n",
      "[LightGBM] [Warning] No further splits with positive gain, best gain: -inf\n",
      "[966]\ttraining's rmse: 1572.09\tvalid_1's rmse: 1589.79\n",
      "[967]\ttraining's rmse: 1571.96\tvalid_1's rmse: 1589.67\n",
      "[LightGBM] [Warning] No further splits with positive gain, best gain: -inf\n",
      "[968]\ttraining's rmse: 1571.78\tvalid_1's rmse: 1589.49\n",
      "[969]\ttraining's rmse: 1571.66\tvalid_1's rmse: 1589.39\n",
      "[LightGBM] [Warning] No further splits with positive gain, best gain: -inf\n",
      "[970]\ttraining's rmse: 1571.51\tvalid_1's rmse: 1589.31\n",
      "[971]\ttraining's rmse: 1571.41\tvalid_1's rmse: 1589.2\n",
      "[972]\ttraining's rmse: 1571.34\tvalid_1's rmse: 1589.18\n",
      "[LightGBM] [Warning] No further splits with positive gain, best gain: -inf\n",
      "[973]\ttraining's rmse: 1571.28\tvalid_1's rmse: 1589.1\n",
      "[LightGBM] [Warning] No further splits with positive gain, best gain: -inf\n",
      "[974]\ttraining's rmse: 1571.21\tvalid_1's rmse: 1589.06\n",
      "[975]\ttraining's rmse: 1571.08\tvalid_1's rmse: 1588.94\n",
      "[LightGBM] [Warning] No further splits with positive gain, best gain: -inf\n",
      "[976]\ttraining's rmse: 1571.01\tvalid_1's rmse: 1588.88\n",
      "[LightGBM] [Warning] No further splits with positive gain, best gain: -inf\n",
      "[977]\ttraining's rmse: 1570.86\tvalid_1's rmse: 1588.78\n",
      "[LightGBM] [Warning] No further splits with positive gain, best gain: -inf\n",
      "[978]\ttraining's rmse: 1570.84\tvalid_1's rmse: 1588.76\n",
      "[LightGBM] [Warning] No further splits with positive gain, best gain: -inf\n",
      "[979]\ttraining's rmse: 1570.79\tvalid_1's rmse: 1588.76\n",
      "[LightGBM] [Warning] No further splits with positive gain, best gain: -inf\n",
      "[980]\ttraining's rmse: 1570.75\tvalid_1's rmse: 1588.73\n",
      "[LightGBM] [Warning] No further splits with positive gain, best gain: -inf\n",
      "[981]\ttraining's rmse: 1570.73\tvalid_1's rmse: 1588.72\n",
      "[LightGBM] [Warning] No further splits with positive gain, best gain: -inf\n",
      "[982]\ttraining's rmse: 1570.65\tvalid_1's rmse: 1588.7\n",
      "[983]\ttraining's rmse: 1570.57\tvalid_1's rmse: 1588.63\n",
      "[984]\ttraining's rmse: 1570.4\tvalid_1's rmse: 1588.52\n",
      "[985]\ttraining's rmse: 1570.28\tvalid_1's rmse: 1588.42\n",
      "[986]\ttraining's rmse: 1570.15\tvalid_1's rmse: 1588.31\n",
      "[LightGBM] [Warning] No further splits with positive gain, best gain: -inf\n",
      "[987]\ttraining's rmse: 1570.08\tvalid_1's rmse: 1588.3\n",
      "[988]\ttraining's rmse: 1569.98\tvalid_1's rmse: 1588.23\n",
      "[LightGBM] [Warning] No further splits with positive gain, best gain: -inf\n",
      "[989]\ttraining's rmse: 1569.97\tvalid_1's rmse: 1588.22\n",
      "[LightGBM] [Warning] No further splits with positive gain, best gain: -inf\n",
      "[990]\ttraining's rmse: 1569.87\tvalid_1's rmse: 1588.14\n",
      "[991]\ttraining's rmse: 1569.79\tvalid_1's rmse: 1588.07\n",
      "[LightGBM] [Warning] No further splits with positive gain, best gain: -inf\n",
      "[992]\ttraining's rmse: 1569.77\tvalid_1's rmse: 1588.06\n",
      "[LightGBM] [Warning] No further splits with positive gain, best gain: -inf\n",
      "[993]\ttraining's rmse: 1569.76\tvalid_1's rmse: 1588.05\n",
      "[994]\ttraining's rmse: 1569.69\tvalid_1's rmse: 1588.04\n",
      "[LightGBM] [Warning] No further splits with positive gain, best gain: -inf\n",
      "[995]\ttraining's rmse: 1569.66\tvalid_1's rmse: 1588.01\n",
      "[996]\ttraining's rmse: 1569.64\tvalid_1's rmse: 1588.01\n",
      "[997]\ttraining's rmse: 1569.6\tvalid_1's rmse: 1588\n"
     ]
    },
    {
     "name": "stdout",
     "output_type": "stream",
     "text": [
      "[LightGBM] [Warning] No further splits with positive gain, best gain: -inf\n",
      "[998]\ttraining's rmse: 1569.59\tvalid_1's rmse: 1588\n",
      "[LightGBM] [Warning] No further splits with positive gain, best gain: -inf\n",
      "[999]\ttraining's rmse: 1569.58\tvalid_1's rmse: 1587.99\n",
      "[1000]\ttraining's rmse: 1569.44\tvalid_1's rmse: 1587.91\n",
      "Did not meet early stopping. Best iteration is:\n",
      "[1000]\ttraining's rmse: 1569.44\tvalid_1's rmse: 1587.91\n"
     ]
    }
   ],
   "source": [
    "# Entrenar el modelo\n",
    "%time\n",
    "bst_lgb = lgb.train(params_lgb, train_data_lgb, num_boost_round=1000, valid_sets=[train_data_lgb, test_data_lgb], early_stopping_rounds=10)"
   ]
  },
  {
   "cell_type": "code",
   "execution_count": 71,
   "metadata": {},
   "outputs": [
    {
     "name": "stdout",
     "output_type": "stream",
     "text": [
      "CPU times: user 4 µs, sys: 0 ns, total: 4 µs\n",
      "Wall time: 6.91 µs\n"
     ]
    }
   ],
   "source": [
    "# Realizar predicciones \n",
    "%time\n",
    "y_pred_lgb = bst_lgb.predict(X_test, num_iteration=bst_lgb.best_iteration)"
   ]
  },
  {
   "cell_type": "code",
   "execution_count": 72,
   "metadata": {},
   "outputs": [
    {
     "name": "stdout",
     "output_type": "stream",
     "text": [
      "RMSE LightGBM: 1587.91152971557\n"
     ]
    }
   ],
   "source": [
    "#calcular RMSE\n",
    "rmse_lgb = np.sqrt(mean_squared_error(y_test, y_pred_lgb))\n",
    "print(f'RMSE LightGBM: {rmse_lgb}')"
   ]
  },
  {
   "cell_type": "markdown",
   "metadata": {},
   "source": [
    "## CatBoost"
   ]
  },
  {
   "cell_type": "code",
   "execution_count": 73,
   "metadata": {},
   "outputs": [],
   "source": [
    "# Configuración de los parámetros del modelo\n",
    "params_cat = {\n",
    "    'iterations': 1000,\n",
    "    'learning_rate': 0.05,\n",
    "    'depth': 6,\n",
    "    'eval_metric': 'RMSE',\n",
    "    'random_seed': 42,\n",
    "    'logging_level': 'Silent',\n",
    "    'od_type': 'Iter',\n",
    "    'od_wait': 10,\n",
    "    'subsample': 0.8,\n",
    "}"
   ]
  },
  {
   "cell_type": "code",
   "execution_count": 76,
   "metadata": {},
   "outputs": [],
   "source": [
    "bst_cat = CatBoostRegressor(**params_cat)"
   ]
  },
  {
   "cell_type": "code",
   "execution_count": 77,
   "metadata": {},
   "outputs": [
    {
     "name": "stdout",
     "output_type": "stream",
     "text": [
      "CPU times: user 3 µs, sys: 0 ns, total: 3 µs\n",
      "Wall time: 6.44 µs\n"
     ]
    },
    {
     "data": {
      "text/plain": [
       "<catboost.core.CatBoostRegressor at 0x7fd86f5ddc70>"
      ]
     },
     "execution_count": 77,
     "metadata": {},
     "output_type": "execute_result"
    }
   ],
   "source": [
    "%time\n",
    "bst_cat.fit(X_train, y_train, eval_set=(X_test, y_test), verbose=True)"
   ]
  },
  {
   "cell_type": "code",
   "execution_count": 78,
   "metadata": {},
   "outputs": [
    {
     "name": "stdout",
     "output_type": "stream",
     "text": [
      "CPU times: user 4 µs, sys: 0 ns, total: 4 µs\n",
      "Wall time: 8.11 µs\n"
     ]
    }
   ],
   "source": [
    "# Realizar predicciones\n",
    "%time\n",
    "y_pred_cat = bst_cat.predict(X_test)"
   ]
  },
  {
   "cell_type": "code",
   "execution_count": 79,
   "metadata": {},
   "outputs": [
    {
     "name": "stdout",
     "output_type": "stream",
     "text": [
      "RMSE CatBoost: 1563.1776095422283\n"
     ]
    }
   ],
   "source": [
    "# calcular RMSE\n",
    "rmse_cat = np.sqrt(mean_squared_error(y_test, y_pred_cat))\n",
    "print(f'RMSE CatBoost: {rmse_cat}')"
   ]
  },
  {
   "cell_type": "markdown",
   "metadata": {},
   "source": [
    "# Análisis del modelo"
   ]
  },
  {
   "cell_type": "markdown",
   "metadata": {},
   "source": [
    "### Comparación de Resultados"
   ]
  },
  {
   "cell_type": "code",
   "execution_count": 80,
   "metadata": {},
   "outputs": [
    {
     "name": "stdout",
     "output_type": "stream",
     "text": [
      "RMSE XGBoost: 1528.0692402715304\n",
      "RMSE LightGBM: 1587.91152971557\n",
      "RMSE CatBoost: 1563.1776095422283\n",
      "RMSE RandomForest: 1527.1081011319188\n",
      "RMSE DecisionTree: 1746.1536295078208\n",
      "RMSE LinearRegression: 2630.941334106587\n"
     ]
    }
   ],
   "source": [
    "print(f'RMSE XGBoost: {rmse_xgb}')\n",
    "print(f'RMSE LightGBM: {rmse_lgb}')\n",
    "print(f'RMSE CatBoost: {rmse_cat}')\n",
    "print(f'RMSE RandomForest: {rmse_rf}')\n",
    "print(f'RMSE DecisionTree: {rmse_dt}')\n",
    "print(f'RMSE LinearRegression: {rmse_lr}')\n"
   ]
  },
  {
   "cell_type": "markdown",
   "metadata": {},
   "source": [
    "# Conclusiones:"
   ]
  },
  {
   "cell_type": "markdown",
   "metadata": {},
   "source": [
    "## Comparativa de Modelos:\n",
    "\n",
    "**1.Calidad del Modelo:**\n",
    "\n",
    "- **Random Forest:** RMSE de 1527.11\n",
    "\n",
    "- **XGBoost:** RMSE de 1528.07 (una unidad de diferencia)\n",
    "\n",
    "**2.Tiempo de Entrenamiento:**\n",
    "\n",
    "- **Random Forest:** 6.44 ms\n",
    "\n",
    "- **XGBoost:** 6.44 ms\n",
    "\n",
    "**3.Velocidad de Predicción:**\n",
    "\n",
    "- Random Forest: 6.68 ms\n",
    "\n",
    "- XGBoost: 6.2 ms (0.66 ms más rápido)\n",
    "\n",
    "**4.Otros Modelos por Calidad:**\n",
    "\n",
    "- CatBoost\n",
    "\n",
    "- LightGBM\n",
    "\n",
    "- DecisionTree\n",
    "\n",
    "- LinearRegression\n",
    "\n",
    "En resumen, **Random Forest** fue el mejor en términos de calidad con un RMSE más bajo, mientras que **XGBoost** fue más rápido en la predicción. CatBoost, LightGBM, DecisionTree y LinearRegression le siguieron en calidad, respectivamente."
   ]
  }
 ],
 "metadata": {
  "ExecuteTimeLog": [
   {
    "duration": 442,
    "start_time": "2024-06-05T22:39:07.359Z"
   },
   {
    "duration": 775,
    "start_time": "2024-06-05T22:39:09.329Z"
   },
   {
    "duration": 31,
    "start_time": "2024-06-05T22:39:20.770Z"
   },
   {
    "duration": 143,
    "start_time": "2024-06-05T22:42:30.286Z"
   },
   {
    "duration": 148,
    "start_time": "2024-06-05T22:42:44.112Z"
   },
   {
    "duration": 416,
    "start_time": "2024-06-05T22:50:00.387Z"
   },
   {
    "duration": 388,
    "start_time": "2024-06-05T22:50:07.259Z"
   },
   {
    "duration": 391,
    "start_time": "2024-06-05T22:50:20.064Z"
   },
   {
    "duration": 445,
    "start_time": "2024-06-05T22:50:33.662Z"
   },
   {
    "duration": 588,
    "start_time": "2024-06-05T22:53:23.187Z"
   },
   {
    "duration": 802,
    "start_time": "2024-06-05T22:53:38.869Z"
   },
   {
    "duration": 431,
    "start_time": "2024-06-05T22:53:43.706Z"
   },
   {
    "duration": 439,
    "start_time": "2024-06-05T23:01:53.390Z"
   },
   {
    "duration": 439,
    "start_time": "2024-06-05T23:02:12.762Z"
   },
   {
    "duration": 490,
    "start_time": "2024-06-05T23:02:37.773Z"
   },
   {
    "duration": 873,
    "start_time": "2024-06-05T23:43:14.844Z"
   },
   {
    "duration": 77,
    "start_time": "2024-06-05T23:43:47.876Z"
   },
   {
    "duration": 257,
    "start_time": "2024-06-05T23:44:50.744Z"
   },
   {
    "duration": 60,
    "start_time": "2024-06-05T23:46:25.045Z"
   },
   {
    "duration": 60,
    "start_time": "2024-06-05T23:48:05.403Z"
   },
   {
    "duration": 0,
    "start_time": "2024-06-05T23:50:34.009Z"
   },
   {
    "duration": 0,
    "start_time": "2024-06-05T23:50:34.011Z"
   },
   {
    "duration": 0,
    "start_time": "2024-06-05T23:50:34.013Z"
   },
   {
    "duration": 4,
    "start_time": "2024-06-05T23:50:45.860Z"
   },
   {
    "duration": 708,
    "start_time": "2024-06-05T23:50:46.153Z"
   },
   {
    "duration": 19,
    "start_time": "2024-06-05T23:50:46.864Z"
   },
   {
    "duration": 158,
    "start_time": "2024-06-05T23:50:46.886Z"
   },
   {
    "duration": 369,
    "start_time": "2024-06-05T23:50:49.779Z"
   },
   {
    "duration": 451,
    "start_time": "2024-06-05T23:50:50.151Z"
   },
   {
    "duration": 0,
    "start_time": "2024-06-05T23:52:54.050Z"
   },
   {
    "duration": 0,
    "start_time": "2024-06-05T23:52:54.055Z"
   },
   {
    "duration": 0,
    "start_time": "2024-06-05T23:52:54.104Z"
   },
   {
    "duration": 138,
    "start_time": "2024-06-05T23:52:54.108Z"
   },
   {
    "duration": 265,
    "start_time": "2024-06-05T23:52:54.809Z"
   },
   {
    "duration": 322,
    "start_time": "2024-06-05T23:52:55.109Z"
   },
   {
    "duration": 26,
    "start_time": "2024-06-05T23:52:56.023Z"
   },
   {
    "duration": 157,
    "start_time": "2024-06-05T23:53:15.863Z"
   },
   {
    "duration": 10,
    "start_time": "2024-06-05T23:53:33.005Z"
   },
   {
    "duration": 19,
    "start_time": "2024-06-05T23:53:56.432Z"
   },
   {
    "duration": 0,
    "start_time": "2024-06-05T23:55:48.582Z"
   },
   {
    "duration": 8,
    "start_time": "2024-06-05T23:55:56.019Z"
   },
   {
    "duration": 85,
    "start_time": "2024-06-05T23:56:36.694Z"
   },
   {
    "duration": 9,
    "start_time": "2024-06-05T23:56:41.656Z"
   },
   {
    "duration": 27,
    "start_time": "2024-06-06T00:21:07.850Z"
   },
   {
    "duration": 648,
    "start_time": "2024-06-06T00:38:37.479Z"
   },
   {
    "duration": 23,
    "start_time": "2024-06-06T00:39:57.603Z"
   },
   {
    "duration": 44,
    "start_time": "2024-06-06T00:40:27.390Z"
   },
   {
    "duration": 19,
    "start_time": "2024-06-06T00:41:57.847Z"
   },
   {
    "duration": 8,
    "start_time": "2024-06-06T00:42:36.648Z"
   },
   {
    "duration": 41,
    "start_time": "2024-06-06T00:43:49.972Z"
   },
   {
    "duration": 3,
    "start_time": "2024-06-06T00:44:55.306Z"
   },
   {
    "duration": 809,
    "start_time": "2024-06-06T00:44:55.671Z"
   },
   {
    "duration": 35,
    "start_time": "2024-06-06T00:44:56.484Z"
   },
   {
    "duration": 157,
    "start_time": "2024-06-06T00:44:56.576Z"
   },
   {
    "duration": 393,
    "start_time": "2024-06-06T00:44:57.574Z"
   },
   {
    "duration": 554,
    "start_time": "2024-06-06T00:44:58.366Z"
   },
   {
    "duration": 3,
    "start_time": "2024-06-06T00:52:11.348Z"
   },
   {
    "duration": 759,
    "start_time": "2024-06-06T00:52:11.944Z"
   },
   {
    "duration": 22,
    "start_time": "2024-06-06T00:52:12.707Z"
   },
   {
    "duration": 146,
    "start_time": "2024-06-06T00:52:20.927Z"
   },
   {
    "duration": 359,
    "start_time": "2024-06-06T00:52:28.537Z"
   },
   {
    "duration": 567,
    "start_time": "2024-06-06T00:52:29.953Z"
   },
   {
    "duration": 466,
    "start_time": "2024-06-06T00:53:14.281Z"
   },
   {
    "duration": 762,
    "start_time": "2024-06-06T00:53:14.750Z"
   },
   {
    "duration": 28,
    "start_time": "2024-06-06T00:53:15.515Z"
   },
   {
    "duration": 217,
    "start_time": "2024-06-06T00:53:15.547Z"
   },
   {
    "duration": 460,
    "start_time": "2024-06-06T00:53:15.771Z"
   },
   {
    "duration": 647,
    "start_time": "2024-06-06T00:53:16.234Z"
   },
   {
    "duration": 85775,
    "start_time": "2024-06-06T00:53:16.886Z"
   },
   {
    "duration": 10,
    "start_time": "2024-06-06T00:54:42.664Z"
   },
   {
    "duration": 363,
    "start_time": "2024-06-06T00:54:42.740Z"
   },
   {
    "duration": 0,
    "start_time": "2024-06-06T00:54:43.107Z"
   },
   {
    "duration": 0,
    "start_time": "2024-06-06T00:54:43.204Z"
   },
   {
    "duration": 45,
    "start_time": "2024-06-06T00:55:38.038Z"
   },
   {
    "duration": 45,
    "start_time": "2024-06-06T00:55:57.363Z"
   },
   {
    "duration": 21,
    "start_time": "2024-06-06T01:02:39.236Z"
   },
   {
    "duration": 19,
    "start_time": "2024-06-06T01:06:40.498Z"
   },
   {
    "duration": 19,
    "start_time": "2024-06-06T01:06:55.226Z"
   },
   {
    "duration": 20,
    "start_time": "2024-06-06T01:07:11.119Z"
   },
   {
    "duration": 21,
    "start_time": "2024-06-06T01:07:17.355Z"
   },
   {
    "duration": 21,
    "start_time": "2024-06-06T01:07:26.364Z"
   },
   {
    "duration": 21,
    "start_time": "2024-06-06T01:07:39.766Z"
   },
   {
    "duration": 19,
    "start_time": "2024-06-06T01:09:30.854Z"
   },
   {
    "duration": 20,
    "start_time": "2024-06-06T01:27:43.687Z"
   },
   {
    "duration": 36,
    "start_time": "2024-06-06T01:28:48.048Z"
   },
   {
    "duration": 19,
    "start_time": "2024-06-06T01:28:59.916Z"
   },
   {
    "duration": 846,
    "start_time": "2024-06-06T01:30:18.164Z"
   },
   {
    "duration": 19,
    "start_time": "2024-06-06T01:30:44.414Z"
   },
   {
    "duration": 41,
    "start_time": "2024-06-06T01:43:35.649Z"
   },
   {
    "duration": 6,
    "start_time": "2024-06-06T01:44:12.156Z"
   },
   {
    "duration": 40,
    "start_time": "2024-06-06T01:45:12.223Z"
   },
   {
    "duration": 51,
    "start_time": "2024-06-06T01:54:58.663Z"
   },
   {
    "duration": 40,
    "start_time": "2024-06-06T01:55:16.332Z"
   },
   {
    "duration": 22,
    "start_time": "2024-06-06T01:56:24.678Z"
   },
   {
    "duration": 21,
    "start_time": "2024-06-06T01:56:30.217Z"
   },
   {
    "duration": 59,
    "start_time": "2024-06-06T01:57:48.412Z"
   },
   {
    "duration": 26,
    "start_time": "2024-06-06T01:57:56.252Z"
   },
   {
    "duration": 56,
    "start_time": "2024-06-06T01:58:39.407Z"
   },
   {
    "duration": 24,
    "start_time": "2024-06-06T01:58:40.160Z"
   },
   {
    "duration": 19,
    "start_time": "2024-06-06T01:58:51.982Z"
   },
   {
    "duration": 23,
    "start_time": "2024-06-06T02:01:07.952Z"
   },
   {
    "duration": 19,
    "start_time": "2024-06-06T02:01:11.011Z"
   },
   {
    "duration": 21,
    "start_time": "2024-06-06T02:01:48.066Z"
   },
   {
    "duration": 20,
    "start_time": "2024-06-06T02:01:52.984Z"
   },
   {
    "duration": 29,
    "start_time": "2024-06-06T02:04:46.831Z"
   },
   {
    "duration": 41,
    "start_time": "2024-06-06T02:05:31.187Z"
   },
   {
    "duration": 20,
    "start_time": "2024-06-06T02:08:25.376Z"
   },
   {
    "duration": 21,
    "start_time": "2024-06-06T02:08:56.588Z"
   },
   {
    "duration": 31,
    "start_time": "2024-06-06T02:11:45.740Z"
   },
   {
    "duration": 31,
    "start_time": "2024-06-06T02:11:47.286Z"
   },
   {
    "duration": 27,
    "start_time": "2024-06-06T02:12:48.665Z"
   },
   {
    "duration": 39,
    "start_time": "2024-06-06T02:13:09.290Z"
   },
   {
    "duration": 20,
    "start_time": "2024-06-06T02:14:38.262Z"
   },
   {
    "duration": 20,
    "start_time": "2024-06-06T02:14:59.573Z"
   },
   {
    "duration": 26,
    "start_time": "2024-06-06T02:16:42.208Z"
   },
   {
    "duration": 44,
    "start_time": "2024-06-06T02:17:01.555Z"
   },
   {
    "duration": 20,
    "start_time": "2024-06-06T02:18:32.104Z"
   },
   {
    "duration": 33,
    "start_time": "2024-06-06T02:18:56.097Z"
   },
   {
    "duration": 28,
    "start_time": "2024-06-06T02:19:48.709Z"
   },
   {
    "duration": 81,
    "start_time": "2024-06-06T02:20:31.406Z"
   },
   {
    "duration": 43,
    "start_time": "2024-06-06T02:20:39.852Z"
   },
   {
    "duration": 27,
    "start_time": "2024-06-06T02:20:46.315Z"
   },
   {
    "duration": 47,
    "start_time": "2024-06-06T02:21:06.364Z"
   },
   {
    "duration": 22,
    "start_time": "2024-06-06T02:24:04.491Z"
   },
   {
    "duration": 30,
    "start_time": "2024-06-06T02:24:25.525Z"
   },
   {
    "duration": 97,
    "start_time": "2024-06-06T02:24:51.524Z"
   },
   {
    "duration": 468,
    "start_time": "2024-06-06T07:36:11.198Z"
   },
   {
    "duration": 833,
    "start_time": "2024-06-06T07:36:11.670Z"
   },
   {
    "duration": 30,
    "start_time": "2024-06-06T07:36:12.506Z"
   },
   {
    "duration": 158,
    "start_time": "2024-06-06T07:36:12.539Z"
   },
   {
    "duration": 455,
    "start_time": "2024-06-06T07:36:12.701Z"
   },
   {
    "duration": 513,
    "start_time": "2024-06-06T07:36:13.160Z"
   },
   {
    "duration": 4,
    "start_time": "2024-06-06T07:37:36.763Z"
   },
   {
    "duration": 793,
    "start_time": "2024-06-06T07:37:36.879Z"
   },
   {
    "duration": 17,
    "start_time": "2024-06-06T07:37:38.425Z"
   },
   {
    "duration": 147,
    "start_time": "2024-06-06T07:37:55.217Z"
   },
   {
    "duration": 394,
    "start_time": "2024-06-06T07:37:57.950Z"
   },
   {
    "duration": 475,
    "start_time": "2024-06-06T07:37:59.212Z"
   },
   {
    "duration": 543,
    "start_time": "2024-06-06T20:34:31.245Z"
   },
   {
    "duration": 1193,
    "start_time": "2024-06-06T20:34:32.350Z"
   },
   {
    "duration": 40,
    "start_time": "2024-06-06T20:34:33.551Z"
   },
   {
    "duration": 144,
    "start_time": "2024-06-06T20:34:38.174Z"
   },
   {
    "duration": 471,
    "start_time": "2024-06-06T20:34:39.323Z"
   },
   {
    "duration": 561,
    "start_time": "2024-06-06T20:34:39.798Z"
   },
   {
    "duration": 512,
    "start_time": "2024-06-06T20:36:14.391Z"
   },
   {
    "duration": 973,
    "start_time": "2024-06-06T20:36:14.907Z"
   },
   {
    "duration": 44,
    "start_time": "2024-06-06T20:36:15.883Z"
   },
   {
    "duration": 231,
    "start_time": "2024-06-06T20:36:15.933Z"
   },
   {
    "duration": 587,
    "start_time": "2024-06-06T20:36:16.168Z"
   },
   {
    "duration": 611,
    "start_time": "2024-06-06T20:36:16.762Z"
   },
   {
    "duration": 91873,
    "start_time": "2024-06-06T20:36:17.380Z"
   },
   {
    "duration": 9,
    "start_time": "2024-06-06T20:37:49.257Z"
   },
   {
    "duration": 23,
    "start_time": "2024-06-06T20:37:49.270Z"
   },
   {
    "duration": 40,
    "start_time": "2024-06-06T20:37:49.322Z"
   },
   {
    "duration": 23,
    "start_time": "2024-06-06T20:37:49.365Z"
   },
   {
    "duration": 46,
    "start_time": "2024-06-06T20:37:49.391Z"
   },
   {
    "duration": 31,
    "start_time": "2024-06-06T20:37:49.441Z"
   },
   {
    "duration": 77,
    "start_time": "2024-06-06T20:37:49.476Z"
   },
   {
    "duration": 23,
    "start_time": "2024-06-06T20:37:49.557Z"
   },
   {
    "duration": 39,
    "start_time": "2024-06-06T20:37:49.589Z"
   },
   {
    "duration": 35,
    "start_time": "2024-06-06T20:37:49.631Z"
   },
   {
    "duration": 92,
    "start_time": "2024-06-06T20:37:49.671Z"
   },
   {
    "duration": 25,
    "start_time": "2024-06-06T20:37:49.770Z"
   },
   {
    "duration": 43,
    "start_time": "2024-06-06T20:37:49.799Z"
   },
   {
    "duration": 40,
    "start_time": "2024-06-06T20:37:49.849Z"
   },
   {
    "duration": 45,
    "start_time": "2024-06-06T20:37:49.893Z"
   },
   {
    "duration": 24,
    "start_time": "2024-06-06T20:37:49.942Z"
   },
   {
    "duration": 23,
    "start_time": "2024-06-06T20:37:49.969Z"
   },
   {
    "duration": 68,
    "start_time": "2024-06-06T20:37:49.996Z"
   },
   {
    "duration": 71,
    "start_time": "2024-06-06T20:37:50.067Z"
   },
   {
    "duration": 30,
    "start_time": "2024-06-06T20:37:50.143Z"
   },
   {
    "duration": 44,
    "start_time": "2024-06-06T20:37:50.182Z"
   },
   {
    "duration": 48,
    "start_time": "2024-06-06T20:37:50.230Z"
   },
   {
    "duration": 68,
    "start_time": "2024-06-06T20:37:50.282Z"
   },
   {
    "duration": 24,
    "start_time": "2024-06-06T20:37:50.354Z"
   },
   {
    "duration": 20,
    "start_time": "2024-06-06T20:37:50.381Z"
   },
   {
    "duration": 142,
    "start_time": "2024-06-06T20:37:50.424Z"
   },
   {
    "duration": 59,
    "start_time": "2024-06-06T20:37:50.570Z"
   },
   {
    "duration": 8,
    "start_time": "2024-06-06T20:37:50.638Z"
   },
   {
    "duration": 858,
    "start_time": "2024-06-06T20:37:50.650Z"
   },
   {
    "duration": 34,
    "start_time": "2024-06-06T20:37:51.512Z"
   },
   {
    "duration": 181,
    "start_time": "2024-06-06T20:37:51.549Z"
   },
   {
    "duration": 465,
    "start_time": "2024-06-06T20:37:51.734Z"
   },
   {
    "duration": 7,
    "start_time": "2024-06-06T20:41:55.020Z"
   },
   {
    "duration": 5721,
    "start_time": "2024-06-06T21:26:49.262Z"
   },
   {
    "duration": 415,
    "start_time": "2024-06-06T21:27:07.350Z"
   },
   {
    "duration": 490,
    "start_time": "2024-06-06T21:29:14.834Z"
   },
   {
    "duration": 23,
    "start_time": "2024-06-06T21:29:25.974Z"
   },
   {
    "duration": 32,
    "start_time": "2024-06-06T21:30:21.108Z"
   },
   {
    "duration": 32,
    "start_time": "2024-06-06T21:30:32.276Z"
   },
   {
    "duration": 11,
    "start_time": "2024-06-06T21:31:03.086Z"
   },
   {
    "duration": 34,
    "start_time": "2024-06-06T21:32:07.473Z"
   },
   {
    "duration": 7,
    "start_time": "2024-06-06T21:32:29.281Z"
   },
   {
    "duration": 5,
    "start_time": "2024-06-06T21:32:37.814Z"
   },
   {
    "duration": 325,
    "start_time": "2024-06-06T21:33:03.374Z"
   },
   {
    "duration": 7,
    "start_time": "2024-06-06T21:33:04.728Z"
   },
   {
    "duration": 6,
    "start_time": "2024-06-06T21:33:09.226Z"
   },
   {
    "duration": 7,
    "start_time": "2024-06-06T21:33:09.976Z"
   },
   {
    "duration": 980,
    "start_time": "2024-06-06T21:34:13.392Z"
   },
   {
    "duration": 40,
    "start_time": "2024-06-06T21:34:25.506Z"
   },
   {
    "duration": 26,
    "start_time": "2024-06-06T21:34:53.382Z"
   },
   {
    "duration": 81,
    "start_time": "2024-06-06T21:35:04.813Z"
   },
   {
    "duration": 8,
    "start_time": "2024-06-06T21:35:20.653Z"
   },
   {
    "duration": 37,
    "start_time": "2024-06-06T21:35:51.233Z"
   },
   {
    "duration": 45,
    "start_time": "2024-06-06T21:36:37.327Z"
   },
   {
    "duration": 5,
    "start_time": "2024-06-06T21:37:20.812Z"
   },
   {
    "duration": 6,
    "start_time": "2024-06-06T21:37:46.662Z"
   },
   {
    "duration": 14,
    "start_time": "2024-06-06T21:37:58.424Z"
   },
   {
    "duration": 4,
    "start_time": "2024-06-06T21:39:06.318Z"
   },
   {
    "duration": 122,
    "start_time": "2024-06-06T21:42:15.171Z"
   },
   {
    "duration": 38,
    "start_time": "2024-06-06T22:40:39.779Z"
   },
   {
    "duration": 12,
    "start_time": "2024-06-06T22:40:48.083Z"
   },
   {
    "duration": 783,
    "start_time": "2024-06-06T22:41:49.012Z"
   },
   {
    "duration": 7,
    "start_time": "2024-06-06T22:41:49.871Z"
   },
   {
    "duration": 98,
    "start_time": "2024-06-06T22:42:00.105Z"
   },
   {
    "duration": 330,
    "start_time": "2024-06-06T23:27:42.545Z"
   },
   {
    "duration": 5173,
    "start_time": "2024-06-06T23:27:52.402Z"
   },
   {
    "duration": 876,
    "start_time": "2024-06-06T23:27:57.579Z"
   },
   {
    "duration": 22,
    "start_time": "2024-06-06T23:27:58.459Z"
   },
   {
    "duration": 163,
    "start_time": "2024-06-06T23:27:58.485Z"
   },
   {
    "duration": 430,
    "start_time": "2024-06-06T23:27:58.651Z"
   },
   {
    "duration": 510,
    "start_time": "2024-06-06T23:27:59.083Z"
   },
   {
    "duration": 25,
    "start_time": "2024-06-06T23:27:59.595Z"
   },
   {
    "duration": 19,
    "start_time": "2024-06-06T23:27:59.623Z"
   },
   {
    "duration": 55,
    "start_time": "2024-06-06T23:27:59.646Z"
   },
   {
    "duration": 19,
    "start_time": "2024-06-06T23:27:59.708Z"
   },
   {
    "duration": 19,
    "start_time": "2024-06-06T23:27:59.730Z"
   },
   {
    "duration": 69,
    "start_time": "2024-06-06T23:27:59.753Z"
   },
   {
    "duration": 27,
    "start_time": "2024-06-06T23:27:59.825Z"
   },
   {
    "duration": 47,
    "start_time": "2024-06-06T23:27:59.856Z"
   },
   {
    "duration": 27,
    "start_time": "2024-06-06T23:27:59.907Z"
   },
   {
    "duration": 65,
    "start_time": "2024-06-06T23:27:59.938Z"
   },
   {
    "duration": 20,
    "start_time": "2024-06-06T23:28:00.006Z"
   },
   {
    "duration": 19,
    "start_time": "2024-06-06T23:28:00.029Z"
   },
   {
    "duration": 55,
    "start_time": "2024-06-06T23:28:00.052Z"
   },
   {
    "duration": 39,
    "start_time": "2024-06-06T23:28:00.111Z"
   },
   {
    "duration": 51,
    "start_time": "2024-06-06T23:28:00.153Z"
   },
   {
    "duration": 20,
    "start_time": "2024-06-06T23:28:00.208Z"
   },
   {
    "duration": 26,
    "start_time": "2024-06-06T23:28:00.230Z"
   },
   {
    "duration": 65,
    "start_time": "2024-06-06T23:28:00.260Z"
   },
   {
    "duration": 21,
    "start_time": "2024-06-06T23:28:00.328Z"
   },
   {
    "duration": 51,
    "start_time": "2024-06-06T23:28:00.352Z"
   },
   {
    "duration": 28,
    "start_time": "2024-06-06T23:28:00.406Z"
   },
   {
    "duration": 64,
    "start_time": "2024-06-06T23:28:00.440Z"
   },
   {
    "duration": 22,
    "start_time": "2024-06-06T23:28:00.507Z"
   },
   {
    "duration": 20,
    "start_time": "2024-06-06T23:28:00.532Z"
   },
   {
    "duration": 177,
    "start_time": "2024-06-06T23:28:00.555Z"
   },
   {
    "duration": 43,
    "start_time": "2024-06-06T23:28:00.734Z"
   },
   {
    "duration": 8,
    "start_time": "2024-06-06T23:28:00.801Z"
   },
   {
    "duration": 42,
    "start_time": "2024-06-06T23:28:12.743Z"
   },
   {
    "duration": 5,
    "start_time": "2024-06-06T23:28:16.587Z"
   },
   {
    "duration": 46,
    "start_time": "2024-06-06T23:28:23.784Z"
   },
   {
    "duration": 6,
    "start_time": "2024-06-06T23:28:24.413Z"
   },
   {
    "duration": 5,
    "start_time": "2024-06-06T23:28:32.922Z"
   },
   {
    "duration": 197,
    "start_time": "2024-06-06T23:28:39.683Z"
   },
   {
    "duration": 704,
    "start_time": "2024-06-06T23:31:15.723Z"
   },
   {
    "duration": 6,
    "start_time": "2024-06-06T23:32:29.559Z"
   },
   {
    "duration": 12,
    "start_time": "2024-06-06T23:33:48.778Z"
   },
   {
    "duration": 1450,
    "start_time": "2024-06-06T23:36:12.780Z"
   },
   {
    "duration": 6,
    "start_time": "2024-06-06T23:36:15.977Z"
   },
   {
    "duration": 310,
    "start_time": "2024-06-06T23:36:58.799Z"
   },
   {
    "duration": 1552,
    "start_time": "2024-06-06T23:37:26.622Z"
   },
   {
    "duration": 134,
    "start_time": "2024-06-06T23:37:33.751Z"
   },
   {
    "duration": 27,
    "start_time": "2024-06-06T23:37:42.355Z"
   },
   {
    "duration": 6,
    "start_time": "2024-06-06T23:37:49.704Z"
   },
   {
    "duration": 792,
    "start_time": "2024-06-06T23:37:49.984Z"
   },
   {
    "duration": 32,
    "start_time": "2024-06-06T23:37:50.780Z"
   },
   {
    "duration": 174,
    "start_time": "2024-06-06T23:37:50.815Z"
   },
   {
    "duration": 417,
    "start_time": "2024-06-06T23:37:51.001Z"
   },
   {
    "duration": 515,
    "start_time": "2024-06-06T23:37:51.421Z"
   },
   {
    "duration": 25,
    "start_time": "2024-06-06T23:37:51.939Z"
   },
   {
    "duration": 41,
    "start_time": "2024-06-06T23:37:51.968Z"
   },
   {
    "duration": 19,
    "start_time": "2024-06-06T23:37:52.013Z"
   },
   {
    "duration": 19,
    "start_time": "2024-06-06T23:37:52.035Z"
   },
   {
    "duration": 51,
    "start_time": "2024-06-06T23:37:52.058Z"
   },
   {
    "duration": 39,
    "start_time": "2024-06-06T23:37:52.112Z"
   },
   {
    "duration": 48,
    "start_time": "2024-06-06T23:37:52.154Z"
   },
   {
    "duration": 20,
    "start_time": "2024-06-06T23:37:52.205Z"
   },
   {
    "duration": 26,
    "start_time": "2024-06-06T23:37:52.232Z"
   },
   {
    "duration": 70,
    "start_time": "2024-06-06T23:37:52.262Z"
   },
   {
    "duration": 21,
    "start_time": "2024-06-06T23:37:52.984Z"
   },
   {
    "duration": 19,
    "start_time": "2024-06-06T23:37:53.443Z"
   },
   {
    "duration": 26,
    "start_time": "2024-06-06T23:37:53.596Z"
   },
   {
    "duration": 41,
    "start_time": "2024-06-06T23:37:53.722Z"
   },
   {
    "duration": 22,
    "start_time": "2024-06-06T23:37:53.857Z"
   },
   {
    "duration": 20,
    "start_time": "2024-06-06T23:37:54.002Z"
   },
   {
    "duration": 38,
    "start_time": "2024-06-06T23:37:54.139Z"
   },
   {
    "duration": 46,
    "start_time": "2024-06-06T23:37:54.264Z"
   },
   {
    "duration": 21,
    "start_time": "2024-06-06T23:37:54.776Z"
   },
   {
    "duration": 20,
    "start_time": "2024-06-06T23:37:54.800Z"
   },
   {
    "duration": 27,
    "start_time": "2024-06-06T23:37:54.834Z"
   },
   {
    "duration": 47,
    "start_time": "2024-06-06T23:37:54.868Z"
   },
   {
    "duration": 20,
    "start_time": "2024-06-06T23:37:54.918Z"
   },
   {
    "duration": 21,
    "start_time": "2024-06-06T23:37:54.941Z"
   },
   {
    "duration": 173,
    "start_time": "2024-06-06T23:37:54.965Z"
   },
   {
    "duration": 61,
    "start_time": "2024-06-06T23:37:55.141Z"
   },
   {
    "duration": 6,
    "start_time": "2024-06-06T23:37:55.205Z"
   },
   {
    "duration": 721,
    "start_time": "2024-06-06T23:37:55.773Z"
   },
   {
    "duration": 11,
    "start_time": "2024-06-06T23:37:56.498Z"
   },
   {
    "duration": 1473,
    "start_time": "2024-06-06T23:37:56.515Z"
   },
   {
    "duration": 6,
    "start_time": "2024-06-06T23:37:57.991Z"
   },
   {
    "duration": 317,
    "start_time": "2024-06-06T23:38:02.429Z"
   },
   {
    "duration": 24,
    "start_time": "2024-06-06T23:38:13.852Z"
   },
   {
    "duration": 26,
    "start_time": "2024-06-06T23:38:18.400Z"
   },
   {
    "duration": 26,
    "start_time": "2024-06-06T23:38:18.572Z"
   },
   {
    "duration": 25,
    "start_time": "2024-06-06T23:38:18.719Z"
   },
   {
    "duration": 24,
    "start_time": "2024-06-06T23:38:18.852Z"
   },
   {
    "duration": 25,
    "start_time": "2024-06-06T23:38:19.362Z"
   },
   {
    "duration": 57,
    "start_time": "2024-06-06T23:38:19.790Z"
   },
   {
    "duration": 24,
    "start_time": "2024-06-06T23:38:19.936Z"
   },
   {
    "duration": 23,
    "start_time": "2024-06-06T23:38:20.072Z"
   },
   {
    "duration": 1533,
    "start_time": "2024-06-06T23:38:25.492Z"
   },
   {
    "duration": 133,
    "start_time": "2024-06-06T23:38:30.160Z"
   },
   {
    "duration": 27,
    "start_time": "2024-06-06T23:38:35.786Z"
   },
   {
    "duration": 25,
    "start_time": "2024-06-06T23:38:40.359Z"
   },
   {
    "duration": 25,
    "start_time": "2024-06-06T23:38:48.585Z"
   },
   {
    "duration": 1406,
    "start_time": "2024-06-06T23:43:39.666Z"
   },
   {
    "duration": 806,
    "start_time": "2024-06-06T23:43:41.076Z"
   },
   {
    "duration": 31,
    "start_time": "2024-06-06T23:43:41.884Z"
   },
   {
    "duration": 161,
    "start_time": "2024-06-06T23:43:41.918Z"
   },
   {
    "duration": 435,
    "start_time": "2024-06-06T23:43:42.085Z"
   },
   {
    "duration": 550,
    "start_time": "2024-06-06T23:43:42.523Z"
   },
   {
    "duration": 28,
    "start_time": "2024-06-06T23:43:43.076Z"
   },
   {
    "duration": 20,
    "start_time": "2024-06-06T23:43:43.107Z"
   },
   {
    "duration": 21,
    "start_time": "2024-06-06T23:43:43.130Z"
   },
   {
    "duration": 51,
    "start_time": "2024-06-06T23:43:43.154Z"
   },
   {
    "duration": 20,
    "start_time": "2024-06-06T23:43:43.209Z"
   },
   {
    "duration": 39,
    "start_time": "2024-06-06T23:43:43.232Z"
   },
   {
    "duration": 22,
    "start_time": "2024-06-06T23:43:43.303Z"
   },
   {
    "duration": 21,
    "start_time": "2024-06-06T23:43:43.333Z"
   },
   {
    "duration": 61,
    "start_time": "2024-06-06T23:43:43.357Z"
   },
   {
    "duration": 39,
    "start_time": "2024-06-06T23:43:43.422Z"
   },
   {
    "duration": 46,
    "start_time": "2024-06-06T23:43:43.464Z"
   },
   {
    "duration": 25,
    "start_time": "2024-06-06T23:43:43.512Z"
   },
   {
    "duration": 27,
    "start_time": "2024-06-06T23:43:43.540Z"
   },
   {
    "duration": 83,
    "start_time": "2024-06-06T23:43:43.570Z"
   },
   {
    "duration": 23,
    "start_time": "2024-06-06T23:43:43.656Z"
   },
   {
    "duration": 37,
    "start_time": "2024-06-06T23:43:43.683Z"
   },
   {
    "duration": 35,
    "start_time": "2024-06-06T23:43:43.723Z"
   },
   {
    "duration": 79,
    "start_time": "2024-06-06T23:43:43.761Z"
   },
   {
    "duration": 20,
    "start_time": "2024-06-06T23:43:43.843Z"
   },
   {
    "duration": 44,
    "start_time": "2024-06-06T23:43:43.870Z"
   },
   {
    "duration": 32,
    "start_time": "2024-06-06T23:43:43.918Z"
   },
   {
    "duration": 77,
    "start_time": "2024-06-06T23:43:43.954Z"
   },
   {
    "duration": 22,
    "start_time": "2024-06-06T23:43:44.034Z"
   },
   {
    "duration": 54,
    "start_time": "2024-06-06T23:43:44.060Z"
   },
   {
    "duration": 154,
    "start_time": "2024-06-06T23:43:44.117Z"
   },
   {
    "duration": 56,
    "start_time": "2024-06-06T23:43:44.274Z"
   },
   {
    "duration": 5,
    "start_time": "2024-06-06T23:43:44.334Z"
   },
   {
    "duration": 729,
    "start_time": "2024-06-06T23:43:44.342Z"
   },
   {
    "duration": 7,
    "start_time": "2024-06-06T23:43:45.074Z"
   },
   {
    "duration": 1488,
    "start_time": "2024-06-06T23:43:45.102Z"
   },
   {
    "duration": 16,
    "start_time": "2024-06-06T23:43:46.593Z"
   },
   {
    "duration": 1225,
    "start_time": "2024-06-06T23:54:28.266Z"
   },
   {
    "duration": 895,
    "start_time": "2024-06-06T23:54:31.325Z"
   },
   {
    "duration": 24,
    "start_time": "2024-06-06T23:54:32.224Z"
   },
   {
    "duration": 167,
    "start_time": "2024-06-06T23:54:32.252Z"
   },
   {
    "duration": 451,
    "start_time": "2024-06-06T23:54:32.422Z"
   },
   {
    "duration": 512,
    "start_time": "2024-06-06T23:54:32.877Z"
   },
   {
    "duration": 24,
    "start_time": "2024-06-06T23:54:33.392Z"
   },
   {
    "duration": 19,
    "start_time": "2024-06-06T23:54:33.420Z"
   },
   {
    "duration": 20,
    "start_time": "2024-06-06T23:54:33.442Z"
   },
   {
    "duration": 53,
    "start_time": "2024-06-06T23:54:33.465Z"
   },
   {
    "duration": 19,
    "start_time": "2024-06-06T23:54:33.522Z"
   },
   {
    "duration": 39,
    "start_time": "2024-06-06T23:54:33.652Z"
   },
   {
    "duration": 21,
    "start_time": "2024-06-06T23:54:33.785Z"
   },
   {
    "duration": 19,
    "start_time": "2024-06-06T23:54:33.907Z"
   },
   {
    "duration": 26,
    "start_time": "2024-06-06T23:54:34.039Z"
   },
   {
    "duration": 40,
    "start_time": "2024-06-06T23:54:34.169Z"
   },
   {
    "duration": 20,
    "start_time": "2024-06-06T23:54:34.309Z"
   },
   {
    "duration": 20,
    "start_time": "2024-06-06T23:54:34.443Z"
   },
   {
    "duration": 27,
    "start_time": "2024-06-06T23:54:34.573Z"
   },
   {
    "duration": 39,
    "start_time": "2024-06-06T23:54:34.714Z"
   },
   {
    "duration": 21,
    "start_time": "2024-06-06T23:54:34.845Z"
   },
   {
    "duration": 20,
    "start_time": "2024-06-06T23:54:34.973Z"
   },
   {
    "duration": 25,
    "start_time": "2024-06-06T23:54:35.129Z"
   },
   {
    "duration": 40,
    "start_time": "2024-06-06T23:54:35.244Z"
   },
   {
    "duration": 20,
    "start_time": "2024-06-06T23:54:35.375Z"
   },
   {
    "duration": 21,
    "start_time": "2024-06-06T23:54:35.506Z"
   },
   {
    "duration": 28,
    "start_time": "2024-06-06T23:54:35.638Z"
   },
   {
    "duration": 46,
    "start_time": "2024-06-06T23:54:35.770Z"
   },
   {
    "duration": 25,
    "start_time": "2024-06-06T23:54:35.933Z"
   },
   {
    "duration": 20,
    "start_time": "2024-06-06T23:54:36.037Z"
   },
   {
    "duration": 147,
    "start_time": "2024-06-06T23:54:36.206Z"
   },
   {
    "duration": 66,
    "start_time": "2024-06-06T23:54:36.357Z"
   },
   {
    "duration": 6,
    "start_time": "2024-06-06T23:54:36.474Z"
   },
   {
    "duration": 712,
    "start_time": "2024-06-06T23:54:37.040Z"
   },
   {
    "duration": 6,
    "start_time": "2024-06-06T23:54:37.755Z"
   },
   {
    "duration": 574,
    "start_time": "2024-06-06T23:54:37.764Z"
   },
   {
    "duration": 0,
    "start_time": "2024-06-06T23:54:38.341Z"
   },
   {
    "duration": 92,
    "start_time": "2024-06-07T00:00:40.379Z"
   },
   {
    "duration": 25,
    "start_time": "2024-06-07T00:01:12.297Z"
   },
   {
    "duration": 5,
    "start_time": "2024-06-07T00:01:38.523Z"
   },
   {
    "duration": 105,
    "start_time": "2024-06-07T00:01:44.048Z"
   },
   {
    "duration": 23,
    "start_time": "2024-06-07T00:01:44.482Z"
   },
   {
    "duration": 962,
    "start_time": "2024-06-07T00:02:00.530Z"
   },
   {
    "duration": 29,
    "start_time": "2024-06-07T00:03:33.666Z"
   },
   {
    "duration": 4,
    "start_time": "2024-06-07T00:03:49.251Z"
   },
   {
    "duration": 26,
    "start_time": "2024-06-07T00:03:50.254Z"
   },
   {
    "duration": 1267,
    "start_time": "2024-06-07T00:18:32.405Z"
   },
   {
    "duration": 4,
    "start_time": "2024-06-07T00:18:50.007Z"
   },
   {
    "duration": 774,
    "start_time": "2024-06-07T00:18:50.308Z"
   },
   {
    "duration": 33,
    "start_time": "2024-06-07T00:18:51.085Z"
   },
   {
    "duration": 150,
    "start_time": "2024-06-07T00:18:53.900Z"
   },
   {
    "duration": 432,
    "start_time": "2024-06-07T00:18:54.187Z"
   },
   {
    "duration": 505,
    "start_time": "2024-06-07T00:18:54.735Z"
   },
   {
    "duration": 21,
    "start_time": "2024-06-07T00:18:55.246Z"
   },
   {
    "duration": 35,
    "start_time": "2024-06-07T00:18:55.269Z"
   },
   {
    "duration": 18,
    "start_time": "2024-06-07T00:18:55.787Z"
   },
   {
    "duration": 24,
    "start_time": "2024-06-07T00:18:55.918Z"
   },
   {
    "duration": 20,
    "start_time": "2024-06-07T00:18:58.316Z"
   },
   {
    "duration": 40,
    "start_time": "2024-06-07T00:18:59.126Z"
   },
   {
    "duration": 23,
    "start_time": "2024-06-07T00:19:01.004Z"
   },
   {
    "duration": 20,
    "start_time": "2024-06-07T00:19:01.137Z"
   },
   {
    "duration": 26,
    "start_time": "2024-06-07T00:19:01.257Z"
   },
   {
    "duration": 41,
    "start_time": "2024-06-07T00:19:01.363Z"
   },
   {
    "duration": 21,
    "start_time": "2024-06-07T00:19:03.357Z"
   },
   {
    "duration": 19,
    "start_time": "2024-06-07T00:19:03.494Z"
   },
   {
    "duration": 26,
    "start_time": "2024-06-07T00:19:03.632Z"
   },
   {
    "duration": 40,
    "start_time": "2024-06-07T00:19:04.219Z"
   },
   {
    "duration": 26,
    "start_time": "2024-06-07T00:19:07.091Z"
   },
   {
    "duration": 20,
    "start_time": "2024-06-07T00:19:07.239Z"
   },
   {
    "duration": 27,
    "start_time": "2024-06-07T00:19:07.365Z"
   },
   {
    "duration": 41,
    "start_time": "2024-06-07T00:19:07.536Z"
   },
   {
    "duration": 20,
    "start_time": "2024-06-07T00:19:09.383Z"
   },
   {
    "duration": 21,
    "start_time": "2024-06-07T00:19:09.518Z"
   },
   {
    "duration": 28,
    "start_time": "2024-06-07T00:19:09.649Z"
   },
   {
    "duration": 44,
    "start_time": "2024-06-07T00:19:10.222Z"
   },
   {
    "duration": 20,
    "start_time": "2024-06-07T00:19:10.807Z"
   },
   {
    "duration": 22,
    "start_time": "2024-06-07T00:19:12.954Z"
   },
   {
    "duration": 157,
    "start_time": "2024-06-07T00:19:13.581Z"
   },
   {
    "duration": 43,
    "start_time": "2024-06-07T00:19:14.606Z"
   },
   {
    "duration": 6,
    "start_time": "2024-06-07T00:19:21.451Z"
   },
   {
    "duration": 712,
    "start_time": "2024-06-07T00:19:29.569Z"
   },
   {
    "duration": 6,
    "start_time": "2024-06-07T00:19:33.326Z"
   },
   {
    "duration": 11,
    "start_time": "2024-06-07T00:21:12.765Z"
   },
   {
    "duration": 1265,
    "start_time": "2024-06-07T00:23:16.047Z"
   },
   {
    "duration": 777,
    "start_time": "2024-06-07T00:23:17.316Z"
   },
   {
    "duration": 25,
    "start_time": "2024-06-07T00:23:18.095Z"
   },
   {
    "duration": 179,
    "start_time": "2024-06-07T00:23:18.124Z"
   },
   {
    "duration": 419,
    "start_time": "2024-06-07T00:23:18.306Z"
   },
   {
    "duration": 498,
    "start_time": "2024-06-07T00:23:18.728Z"
   },
   {
    "duration": 33,
    "start_time": "2024-06-07T00:23:19.229Z"
   },
   {
    "duration": 36,
    "start_time": "2024-06-07T00:23:19.265Z"
   },
   {
    "duration": 19,
    "start_time": "2024-06-07T00:23:19.305Z"
   },
   {
    "duration": 19,
    "start_time": "2024-06-07T00:23:19.330Z"
   },
   {
    "duration": 49,
    "start_time": "2024-06-07T00:23:19.352Z"
   },
   {
    "duration": 41,
    "start_time": "2024-06-07T00:23:19.405Z"
   },
   {
    "duration": 52,
    "start_time": "2024-06-07T00:23:19.449Z"
   },
   {
    "duration": 22,
    "start_time": "2024-06-07T00:23:19.504Z"
   },
   {
    "duration": 25,
    "start_time": "2024-06-07T00:23:23.046Z"
   },
   {
    "duration": 39,
    "start_time": "2024-06-07T00:23:23.196Z"
   },
   {
    "duration": 21,
    "start_time": "2024-06-07T00:23:23.329Z"
   },
   {
    "duration": 20,
    "start_time": "2024-06-07T00:23:23.456Z"
   },
   {
    "duration": 27,
    "start_time": "2024-06-07T00:23:24.116Z"
   },
   {
    "duration": 45,
    "start_time": "2024-06-07T00:23:24.573Z"
   },
   {
    "duration": 25,
    "start_time": "2024-06-07T00:23:24.695Z"
   },
   {
    "duration": 20,
    "start_time": "2024-06-07T00:23:24.827Z"
   },
   {
    "duration": 28,
    "start_time": "2024-06-07T00:23:24.937Z"
   },
   {
    "duration": 42,
    "start_time": "2024-06-07T00:23:25.084Z"
   },
   {
    "duration": 21,
    "start_time": "2024-06-07T00:23:25.212Z"
   },
   {
    "duration": 20,
    "start_time": "2024-06-07T00:23:25.326Z"
   },
   {
    "duration": 27,
    "start_time": "2024-06-07T00:23:25.461Z"
   },
   {
    "duration": 42,
    "start_time": "2024-06-07T00:23:25.606Z"
   },
   {
    "duration": 20,
    "start_time": "2024-06-07T00:23:25.748Z"
   },
   {
    "duration": 36,
    "start_time": "2024-06-07T00:23:26.243Z"
   },
   {
    "duration": 234,
    "start_time": "2024-06-07T00:23:26.284Z"
   },
   {
    "duration": 45,
    "start_time": "2024-06-07T00:23:26.522Z"
   },
   {
    "duration": 315,
    "start_time": "2024-06-07T00:23:30.573Z"
   },
   {
    "duration": 26,
    "start_time": "2024-06-07T00:23:36.758Z"
   },
   {
    "duration": 24,
    "start_time": "2024-06-07T00:23:44.360Z"
   },
   {
    "duration": 21,
    "start_time": "2024-06-07T00:24:12.555Z"
   },
   {
    "duration": 1213,
    "start_time": "2024-06-07T00:24:27.671Z"
   },
   {
    "duration": 841,
    "start_time": "2024-06-07T00:24:28.888Z"
   },
   {
    "duration": 27,
    "start_time": "2024-06-07T00:24:29.731Z"
   },
   {
    "duration": 180,
    "start_time": "2024-06-07T00:24:29.763Z"
   },
   {
    "duration": 434,
    "start_time": "2024-06-07T00:24:29.947Z"
   },
   {
    "duration": 520,
    "start_time": "2024-06-07T00:24:30.385Z"
   },
   {
    "duration": 21,
    "start_time": "2024-06-07T00:24:30.907Z"
   },
   {
    "duration": 20,
    "start_time": "2024-06-07T00:24:30.930Z"
   },
   {
    "duration": 51,
    "start_time": "2024-06-07T00:24:30.954Z"
   },
   {
    "duration": 18,
    "start_time": "2024-06-07T00:24:31.010Z"
   },
   {
    "duration": 20,
    "start_time": "2024-06-07T00:24:31.031Z"
   },
   {
    "duration": 75,
    "start_time": "2024-06-07T00:24:31.055Z"
   },
   {
    "duration": 22,
    "start_time": "2024-06-07T00:24:31.133Z"
   },
   {
    "duration": 44,
    "start_time": "2024-06-07T00:24:31.159Z"
   },
   {
    "duration": 26,
    "start_time": "2024-06-07T00:24:31.206Z"
   },
   {
    "duration": 66,
    "start_time": "2024-06-07T00:24:31.235Z"
   },
   {
    "duration": 20,
    "start_time": "2024-06-07T00:24:31.304Z"
   },
   {
    "duration": 21,
    "start_time": "2024-06-07T00:24:31.327Z"
   },
   {
    "duration": 57,
    "start_time": "2024-06-07T00:24:31.351Z"
   },
   {
    "duration": 41,
    "start_time": "2024-06-07T00:24:31.411Z"
   },
   {
    "duration": 47,
    "start_time": "2024-06-07T00:24:31.456Z"
   },
   {
    "duration": 22,
    "start_time": "2024-06-07T00:24:31.506Z"
   },
   {
    "duration": 27,
    "start_time": "2024-06-07T00:24:31.530Z"
   },
   {
    "duration": 68,
    "start_time": "2024-06-07T00:24:31.564Z"
   },
   {
    "duration": 21,
    "start_time": "2024-06-07T00:24:31.636Z"
   },
   {
    "duration": 45,
    "start_time": "2024-06-07T00:24:31.660Z"
   },
   {
    "duration": 28,
    "start_time": "2024-06-07T00:24:31.871Z"
   },
   {
    "duration": 43,
    "start_time": "2024-06-07T00:24:32.043Z"
   },
   {
    "duration": 20,
    "start_time": "2024-06-07T00:24:32.213Z"
   },
   {
    "duration": 19,
    "start_time": "2024-06-07T00:24:32.386Z"
   },
   {
    "duration": 137,
    "start_time": "2024-06-07T00:24:32.534Z"
   },
   {
    "duration": 41,
    "start_time": "2024-06-07T00:24:33.039Z"
   },
   {
    "duration": 10,
    "start_time": "2024-06-07T00:24:37.386Z"
   },
   {
    "duration": 7,
    "start_time": "2024-06-07T00:25:09.495Z"
   },
   {
    "duration": 7,
    "start_time": "2024-06-07T00:26:00.210Z"
   },
   {
    "duration": 12,
    "start_time": "2024-06-07T00:26:11.743Z"
   },
   {
    "duration": 10,
    "start_time": "2024-06-07T00:28:55.950Z"
   },
   {
    "duration": 3,
    "start_time": "2024-06-07T00:30:33.169Z"
   },
   {
    "duration": 5,
    "start_time": "2024-06-07T00:30:42.501Z"
   },
   {
    "duration": 8,
    "start_time": "2024-06-07T00:31:14.860Z"
   },
   {
    "duration": 9,
    "start_time": "2024-06-07T00:31:20.432Z"
   },
   {
    "duration": 7,
    "start_time": "2024-06-07T00:31:36.570Z"
   },
   {
    "duration": 6,
    "start_time": "2024-06-07T00:31:49.646Z"
   },
   {
    "duration": 9,
    "start_time": "2024-06-07T00:31:59.600Z"
   },
   {
    "duration": 9,
    "start_time": "2024-06-07T00:34:20.379Z"
   },
   {
    "duration": 7,
    "start_time": "2024-06-07T00:34:33.116Z"
   },
   {
    "duration": 17,
    "start_time": "2024-06-07T00:34:46.007Z"
   },
   {
    "duration": 7,
    "start_time": "2024-06-07T00:35:27.831Z"
   },
   {
    "duration": 6,
    "start_time": "2024-06-07T00:37:08.545Z"
   },
   {
    "duration": 6,
    "start_time": "2024-06-07T00:37:14.092Z"
   },
   {
    "duration": 12,
    "start_time": "2024-06-07T00:37:19.741Z"
   },
   {
    "duration": 11,
    "start_time": "2024-06-07T00:37:28.067Z"
   },
   {
    "duration": 7,
    "start_time": "2024-06-07T00:39:39.832Z"
   },
   {
    "duration": 10,
    "start_time": "2024-06-07T00:39:46.091Z"
   },
   {
    "duration": 5,
    "start_time": "2024-06-07T00:39:49.337Z"
   },
   {
    "duration": 7,
    "start_time": "2024-06-07T00:39:51.312Z"
   },
   {
    "duration": 11,
    "start_time": "2024-06-07T00:40:40.122Z"
   },
   {
    "duration": 8,
    "start_time": "2024-06-07T00:45:04.015Z"
   },
   {
    "duration": 6,
    "start_time": "2024-06-07T00:47:48.464Z"
   },
   {
    "duration": 9,
    "start_time": "2024-06-07T00:47:53.150Z"
   },
   {
    "duration": 7,
    "start_time": "2024-06-07T00:48:14.394Z"
   },
   {
    "duration": 8,
    "start_time": "2024-06-07T00:48:24.151Z"
   },
   {
    "duration": 8,
    "start_time": "2024-06-07T00:48:26.857Z"
   },
   {
    "duration": 44,
    "start_time": "2024-06-07T00:54:26.082Z"
   },
   {
    "duration": 4,
    "start_time": "2024-06-07T00:56:58.708Z"
   },
   {
    "duration": 134,
    "start_time": "2024-06-07T00:56:59.362Z"
   },
   {
    "duration": 25,
    "start_time": "2024-06-07T00:57:12.932Z"
   },
   {
    "duration": 4,
    "start_time": "2024-06-07T00:57:39.115Z"
   },
   {
    "duration": 951,
    "start_time": "2024-06-07T00:57:49.408Z"
   },
   {
    "duration": 221,
    "start_time": "2024-06-07T00:59:02.614Z"
   },
   {
    "duration": 137,
    "start_time": "2024-06-07T00:59:20.202Z"
   },
   {
    "duration": 1484,
    "start_time": "2024-06-07T00:59:38.608Z"
   },
   {
    "duration": 37,
    "start_time": "2024-06-07T01:00:07.387Z"
   },
   {
    "duration": 4,
    "start_time": "2024-06-07T01:00:13.863Z"
   },
   {
    "duration": 1244,
    "start_time": "2024-06-07T01:00:37.625Z"
   },
   {
    "duration": 790,
    "start_time": "2024-06-07T01:00:38.873Z"
   },
   {
    "duration": 38,
    "start_time": "2024-06-07T01:00:39.665Z"
   },
   {
    "duration": 148,
    "start_time": "2024-06-07T01:00:39.708Z"
   },
   {
    "duration": 420,
    "start_time": "2024-06-07T01:00:39.858Z"
   },
   {
    "duration": 513,
    "start_time": "2024-06-07T01:00:40.282Z"
   },
   {
    "duration": 20,
    "start_time": "2024-06-07T01:00:40.829Z"
   },
   {
    "duration": 21,
    "start_time": "2024-06-07T01:00:41.351Z"
   },
   {
    "duration": 19,
    "start_time": "2024-06-07T01:00:41.664Z"
   },
   {
    "duration": 21,
    "start_time": "2024-06-07T01:00:41.810Z"
   },
   {
    "duration": 19,
    "start_time": "2024-06-07T01:00:41.924Z"
   },
   {
    "duration": 40,
    "start_time": "2024-06-07T01:00:42.281Z"
   },
   {
    "duration": 22,
    "start_time": "2024-06-07T01:00:42.413Z"
   },
   {
    "duration": 20,
    "start_time": "2024-06-07T01:00:42.529Z"
   },
   {
    "duration": 26,
    "start_time": "2024-06-07T01:00:43.029Z"
   },
   {
    "duration": 40,
    "start_time": "2024-06-07T01:00:43.073Z"
   },
   {
    "duration": 21,
    "start_time": "2024-06-07T01:00:43.116Z"
   },
   {
    "duration": 20,
    "start_time": "2024-06-07T01:00:43.141Z"
   },
   {
    "duration": 26,
    "start_time": "2024-06-07T01:00:43.253Z"
   },
   {
    "duration": 40,
    "start_time": "2024-06-07T01:00:43.379Z"
   },
   {
    "duration": 21,
    "start_time": "2024-06-07T01:00:43.506Z"
   },
   {
    "duration": 20,
    "start_time": "2024-06-07T01:00:43.619Z"
   },
   {
    "duration": 27,
    "start_time": "2024-06-07T01:00:43.750Z"
   },
   {
    "duration": 47,
    "start_time": "2024-06-07T01:00:43.880Z"
   },
   {
    "duration": 20,
    "start_time": "2024-06-07T01:00:43.992Z"
   },
   {
    "duration": 20,
    "start_time": "2024-06-07T01:00:44.103Z"
   },
   {
    "duration": 27,
    "start_time": "2024-06-07T01:00:44.224Z"
   },
   {
    "duration": 45,
    "start_time": "2024-06-07T01:00:44.354Z"
   },
   {
    "duration": 20,
    "start_time": "2024-06-07T01:00:44.460Z"
   },
   {
    "duration": 19,
    "start_time": "2024-06-07T01:00:44.588Z"
   },
   {
    "duration": 142,
    "start_time": "2024-06-07T01:00:44.716Z"
   },
   {
    "duration": 56,
    "start_time": "2024-06-07T01:00:44.864Z"
   },
   {
    "duration": 6,
    "start_time": "2024-06-07T01:00:44.966Z"
   },
   {
    "duration": 16,
    "start_time": "2024-06-07T01:00:45.072Z"
   },
   {
    "duration": 13,
    "start_time": "2024-06-07T01:00:45.193Z"
   },
   {
    "duration": 33,
    "start_time": "2024-06-07T01:00:45.331Z"
   },
   {
    "duration": 9,
    "start_time": "2024-06-07T01:00:45.466Z"
   },
   {
    "duration": 5,
    "start_time": "2024-06-07T01:00:45.706Z"
   },
   {
    "duration": 3,
    "start_time": "2024-06-07T01:00:49.315Z"
   },
   {
    "duration": 753,
    "start_time": "2024-06-07T01:00:49.720Z"
   },
   {
    "duration": 167,
    "start_time": "2024-06-07T01:00:50.747Z"
   },
   {
    "duration": 1126,
    "start_time": "2024-06-07T01:00:51.067Z"
   },
   {
    "duration": 7,
    "start_time": "2024-06-07T01:00:52.196Z"
   },
   {
    "duration": 18966,
    "start_time": "2024-06-07T01:00:52.206Z"
   },
   {
    "duration": 0,
    "start_time": "2024-06-07T01:01:11.176Z"
   },
   {
    "duration": 4,
    "start_time": "2024-06-07T01:01:30.270Z"
   },
   {
    "duration": 1437,
    "start_time": "2024-06-07T19:16:29.475Z"
   },
   {
    "duration": 800,
    "start_time": "2024-06-07T19:16:30.915Z"
   },
   {
    "duration": 26,
    "start_time": "2024-06-07T19:16:31.718Z"
   },
   {
    "duration": 144,
    "start_time": "2024-06-07T19:16:35.680Z"
   },
   {
    "duration": 393,
    "start_time": "2024-06-07T19:16:36.757Z"
   },
   {
    "duration": 490,
    "start_time": "2024-06-07T19:16:37.306Z"
   },
   {
    "duration": 21,
    "start_time": "2024-06-07T19:16:38.541Z"
   },
   {
    "duration": 19,
    "start_time": "2024-06-07T19:16:40.818Z"
   },
   {
    "duration": 19,
    "start_time": "2024-06-07T19:16:41.395Z"
   },
   {
    "duration": 18,
    "start_time": "2024-06-07T19:16:41.564Z"
   },
   {
    "duration": 18,
    "start_time": "2024-06-07T19:16:41.713Z"
   },
   {
    "duration": 39,
    "start_time": "2024-06-07T19:17:04.514Z"
   },
   {
    "duration": 23,
    "start_time": "2024-06-07T19:17:05.248Z"
   },
   {
    "duration": 20,
    "start_time": "2024-06-07T19:17:05.808Z"
   },
   {
    "duration": 26,
    "start_time": "2024-06-07T19:17:06.654Z"
   },
   {
    "duration": 41,
    "start_time": "2024-06-07T19:17:07.343Z"
   },
   {
    "duration": 20,
    "start_time": "2024-06-07T19:17:07.916Z"
   },
   {
    "duration": 20,
    "start_time": "2024-06-07T19:17:08.395Z"
   },
   {
    "duration": 29,
    "start_time": "2024-06-07T19:17:09.091Z"
   },
   {
    "duration": 40,
    "start_time": "2024-06-07T19:17:09.595Z"
   },
   {
    "duration": 20,
    "start_time": "2024-06-07T19:17:09.785Z"
   },
   {
    "duration": 19,
    "start_time": "2024-06-07T19:17:09.945Z"
   },
   {
    "duration": 26,
    "start_time": "2024-06-07T19:17:11.423Z"
   },
   {
    "duration": 40,
    "start_time": "2024-06-07T19:17:11.586Z"
   },
   {
    "duration": 21,
    "start_time": "2024-06-07T19:17:11.725Z"
   },
   {
    "duration": 20,
    "start_time": "2024-06-07T19:17:11.877Z"
   },
   {
    "duration": 27,
    "start_time": "2024-06-07T19:17:12.038Z"
   },
   {
    "duration": 27,
    "start_time": "2024-06-07T19:18:54.784Z"
   },
   {
    "duration": 42,
    "start_time": "2024-06-07T19:19:00.300Z"
   },
   {
    "duration": 20,
    "start_time": "2024-06-07T19:19:02.597Z"
   },
   {
    "duration": 20,
    "start_time": "2024-06-07T19:19:02.931Z"
   },
   {
    "duration": 139,
    "start_time": "2024-06-07T19:19:04.307Z"
   },
   {
    "duration": 33,
    "start_time": "2024-06-07T19:26:53.020Z"
   },
   {
    "duration": 20,
    "start_time": "2024-06-07T19:26:53.680Z"
   },
   {
    "duration": 158,
    "start_time": "2024-06-07T19:27:12.866Z"
   },
   {
    "duration": 40,
    "start_time": "2024-06-07T19:27:20.604Z"
   },
   {
    "duration": 54,
    "start_time": "2024-06-07T19:29:58.189Z"
   },
   {
    "duration": 19,
    "start_time": "2024-06-07T19:30:06.926Z"
   },
   {
    "duration": 20,
    "start_time": "2024-06-07T19:30:07.510Z"
   },
   {
    "duration": 43,
    "start_time": "2024-06-07T19:33:46.643Z"
   },
   {
    "duration": 18,
    "start_time": "2024-06-07T19:34:09.708Z"
   },
   {
    "duration": 20,
    "start_time": "2024-06-07T19:34:10.008Z"
   },
   {
    "duration": 138,
    "start_time": "2024-06-07T19:34:11.694Z"
   },
   {
    "duration": 39,
    "start_time": "2024-06-07T19:34:21.354Z"
   },
   {
    "duration": 5,
    "start_time": "2024-06-07T19:34:42.409Z"
   },
   {
    "duration": 12,
    "start_time": "2024-06-07T19:34:51.655Z"
   },
   {
    "duration": 16,
    "start_time": "2024-06-07T19:43:41.509Z"
   },
   {
    "duration": 16,
    "start_time": "2024-06-07T19:43:56.725Z"
   },
   {
    "duration": 8,
    "start_time": "2024-06-07T19:45:20.479Z"
   },
   {
    "duration": 9,
    "start_time": "2024-06-07T19:45:33.305Z"
   },
   {
    "duration": 7,
    "start_time": "2024-06-07T19:45:44.475Z"
   },
   {
    "duration": 10,
    "start_time": "2024-06-07T19:45:48.606Z"
   },
   {
    "duration": 7,
    "start_time": "2024-06-07T19:46:12.253Z"
   },
   {
    "duration": 5,
    "start_time": "2024-06-07T19:46:30.393Z"
   },
   {
    "duration": 7,
    "start_time": "2024-06-07T19:49:46.943Z"
   },
   {
    "duration": 7,
    "start_time": "2024-06-07T19:50:51.752Z"
   },
   {
    "duration": 7,
    "start_time": "2024-06-07T19:50:52.520Z"
   },
   {
    "duration": 9,
    "start_time": "2024-06-07T20:46:42.749Z"
   },
   {
    "duration": 511,
    "start_time": "2024-06-07T21:14:51.509Z"
   },
   {
    "duration": 4,
    "start_time": "2024-06-07T21:14:58.506Z"
   },
   {
    "duration": 23,
    "start_time": "2024-06-07T21:15:07.850Z"
   },
   {
    "duration": 747,
    "start_time": "2024-06-07T21:16:04.721Z"
   },
   {
    "duration": 3,
    "start_time": "2024-06-07T21:17:37.340Z"
   },
   {
    "duration": 29,
    "start_time": "2024-06-07T21:17:52.417Z"
   },
   {
    "duration": 178,
    "start_time": "2024-06-07T21:18:12.882Z"
   },
   {
    "duration": 30,
    "start_time": "2024-06-07T21:25:10.274Z"
   },
   {
    "duration": 683,
    "start_time": "2024-06-07T21:25:15.859Z"
   },
   {
    "duration": 24,
    "start_time": "2024-06-07T21:25:16.546Z"
   },
   {
    "duration": 20,
    "start_time": "2024-06-07T21:26:33.378Z"
   },
   {
    "duration": 8,
    "start_time": "2024-06-07T21:28:59.254Z"
   },
   {
    "duration": 31,
    "start_time": "2024-06-07T21:29:08.070Z"
   },
   {
    "duration": 142,
    "start_time": "2024-06-07T21:29:12.516Z"
   },
   {
    "duration": 8,
    "start_time": "2024-06-07T21:29:12.862Z"
   },
   {
    "duration": 4,
    "start_time": "2024-06-07T21:29:51.276Z"
   },
   {
    "duration": 314,
    "start_time": "2024-06-07T21:31:42.262Z"
   },
   {
    "duration": 23,
    "start_time": "2024-06-07T21:31:49.465Z"
   },
   {
    "duration": 30,
    "start_time": "2024-06-07T21:31:56.536Z"
   },
   {
    "duration": 1519,
    "start_time": "2024-06-07T21:32:47.742Z"
   },
   {
    "duration": 804,
    "start_time": "2024-06-07T21:32:49.264Z"
   },
   {
    "duration": 25,
    "start_time": "2024-06-07T21:32:50.070Z"
   },
   {
    "duration": 147,
    "start_time": "2024-06-07T21:32:50.112Z"
   },
   {
    "duration": 416,
    "start_time": "2024-06-07T21:32:51.713Z"
   },
   {
    "duration": 517,
    "start_time": "2024-06-07T21:32:52.133Z"
   },
   {
    "duration": 21,
    "start_time": "2024-06-07T21:32:54.371Z"
   },
   {
    "duration": 19,
    "start_time": "2024-06-07T21:32:54.710Z"
   },
   {
    "duration": 19,
    "start_time": "2024-06-07T21:32:55.325Z"
   },
   {
    "duration": 19,
    "start_time": "2024-06-07T21:32:55.889Z"
   },
   {
    "duration": 20,
    "start_time": "2024-06-07T21:32:56.433Z"
   },
   {
    "duration": 41,
    "start_time": "2024-06-07T21:32:58.504Z"
   },
   {
    "duration": 22,
    "start_time": "2024-06-07T21:32:59.322Z"
   },
   {
    "duration": 20,
    "start_time": "2024-06-07T21:32:59.523Z"
   },
   {
    "duration": 30,
    "start_time": "2024-06-07T21:32:59.669Z"
   },
   {
    "duration": 41,
    "start_time": "2024-06-07T21:32:59.819Z"
   },
   {
    "duration": 20,
    "start_time": "2024-06-07T21:32:59.978Z"
   },
   {
    "duration": 19,
    "start_time": "2024-06-07T21:33:00.121Z"
   },
   {
    "duration": 26,
    "start_time": "2024-06-07T21:33:00.270Z"
   },
   {
    "duration": 39,
    "start_time": "2024-06-07T21:33:00.431Z"
   },
   {
    "duration": 21,
    "start_time": "2024-06-07T21:33:00.579Z"
   },
   {
    "duration": 21,
    "start_time": "2024-06-07T21:33:00.726Z"
   },
   {
    "duration": 25,
    "start_time": "2024-06-07T21:33:00.858Z"
   },
   {
    "duration": 41,
    "start_time": "2024-06-07T21:33:01.006Z"
   },
   {
    "duration": 20,
    "start_time": "2024-06-07T21:33:01.138Z"
   },
   {
    "duration": 20,
    "start_time": "2024-06-07T21:33:01.281Z"
   },
   {
    "duration": 28,
    "start_time": "2024-06-07T21:33:01.413Z"
   },
   {
    "duration": 42,
    "start_time": "2024-06-07T21:33:01.572Z"
   },
   {
    "duration": 21,
    "start_time": "2024-06-07T21:33:01.740Z"
   },
   {
    "duration": 20,
    "start_time": "2024-06-07T21:33:01.852Z"
   },
   {
    "duration": 139,
    "start_time": "2024-06-07T21:33:01.987Z"
   },
   {
    "duration": 40,
    "start_time": "2024-06-07T21:33:02.140Z"
   },
   {
    "duration": 9,
    "start_time": "2024-06-07T21:33:02.304Z"
   },
   {
    "duration": 5,
    "start_time": "2024-06-07T21:33:02.458Z"
   },
   {
    "duration": 12,
    "start_time": "2024-06-07T21:33:02.585Z"
   },
   {
    "duration": 11,
    "start_time": "2024-06-07T21:33:02.737Z"
   },
   {
    "duration": 8,
    "start_time": "2024-06-07T21:33:02.873Z"
   },
   {
    "duration": 12,
    "start_time": "2024-06-07T21:33:03.029Z"
   },
   {
    "duration": 6,
    "start_time": "2024-06-07T21:33:03.170Z"
   },
   {
    "duration": 4,
    "start_time": "2024-06-07T21:33:04.273Z"
   },
   {
    "duration": 817,
    "start_time": "2024-06-07T21:33:04.437Z"
   },
   {
    "duration": 24,
    "start_time": "2024-06-07T21:33:05.257Z"
   },
   {
    "duration": 182,
    "start_time": "2024-06-07T21:33:05.287Z"
   },
   {
    "duration": 4,
    "start_time": "2024-06-07T21:33:05.474Z"
   },
   {
    "duration": 5,
    "start_time": "2024-06-07T21:33:05.481Z"
   },
   {
    "duration": 1148,
    "start_time": "2024-06-07T21:33:05.638Z"
   },
   {
    "duration": 0,
    "start_time": "2024-06-07T21:33:06.790Z"
   },
   {
    "duration": 0,
    "start_time": "2024-06-07T21:33:06.793Z"
   },
   {
    "duration": 4,
    "start_time": "2024-06-07T21:40:42.430Z"
   },
   {
    "duration": 4,
    "start_time": "2024-06-07T21:40:44.017Z"
   },
   {
    "duration": 1552,
    "start_time": "2024-06-07T21:40:58.932Z"
   },
   {
    "duration": 940,
    "start_time": "2024-06-07T21:41:00.488Z"
   },
   {
    "duration": 32,
    "start_time": "2024-06-07T21:41:01.431Z"
   },
   {
    "duration": 188,
    "start_time": "2024-06-07T21:41:01.467Z"
   },
   {
    "duration": 445,
    "start_time": "2024-06-07T21:41:03.920Z"
   },
   {
    "duration": 546,
    "start_time": "2024-06-07T21:41:04.370Z"
   },
   {
    "duration": 23,
    "start_time": "2024-06-07T21:41:04.919Z"
   },
   {
    "duration": 20,
    "start_time": "2024-06-07T21:41:04.946Z"
   },
   {
    "duration": 49,
    "start_time": "2024-06-07T21:41:04.970Z"
   },
   {
    "duration": 30,
    "start_time": "2024-06-07T21:41:05.023Z"
   },
   {
    "duration": 20,
    "start_time": "2024-06-07T21:41:05.091Z"
   },
   {
    "duration": 44,
    "start_time": "2024-06-07T21:41:06.350Z"
   },
   {
    "duration": 30,
    "start_time": "2024-06-07T21:41:06.528Z"
   },
   {
    "duration": 20,
    "start_time": "2024-06-07T21:41:06.661Z"
   },
   {
    "duration": 27,
    "start_time": "2024-06-07T21:41:06.803Z"
   },
   {
    "duration": 45,
    "start_time": "2024-06-07T21:41:06.932Z"
   },
   {
    "duration": 21,
    "start_time": "2024-06-07T21:41:07.083Z"
   },
   {
    "duration": 20,
    "start_time": "2024-06-07T21:41:07.223Z"
   },
   {
    "duration": 28,
    "start_time": "2024-06-07T21:41:07.354Z"
   },
   {
    "duration": 42,
    "start_time": "2024-06-07T21:41:07.492Z"
   },
   {
    "duration": 21,
    "start_time": "2024-06-07T21:41:07.629Z"
   },
   {
    "duration": 30,
    "start_time": "2024-06-07T21:41:07.755Z"
   },
   {
    "duration": 34,
    "start_time": "2024-06-07T21:41:07.903Z"
   },
   {
    "duration": 46,
    "start_time": "2024-06-07T21:41:08.046Z"
   },
   {
    "duration": 23,
    "start_time": "2024-06-07T21:41:08.195Z"
   },
   {
    "duration": 20,
    "start_time": "2024-06-07T21:41:08.338Z"
   },
   {
    "duration": 39,
    "start_time": "2024-06-07T21:41:08.482Z"
   },
   {
    "duration": 48,
    "start_time": "2024-06-07T21:41:08.647Z"
   },
   {
    "duration": 21,
    "start_time": "2024-06-07T21:41:08.804Z"
   },
   {
    "duration": 20,
    "start_time": "2024-06-07T21:41:08.968Z"
   },
   {
    "duration": 147,
    "start_time": "2024-06-07T21:41:09.166Z"
   },
   {
    "duration": 42,
    "start_time": "2024-06-07T21:41:09.338Z"
   },
   {
    "duration": 9,
    "start_time": "2024-06-07T21:41:09.481Z"
   },
   {
    "duration": 5,
    "start_time": "2024-06-07T21:41:09.614Z"
   },
   {
    "duration": 12,
    "start_time": "2024-06-07T21:41:09.772Z"
   },
   {
    "duration": 14,
    "start_time": "2024-06-07T21:41:10.129Z"
   },
   {
    "duration": 8,
    "start_time": "2024-06-07T21:41:10.488Z"
   },
   {
    "duration": 8,
    "start_time": "2024-06-07T21:41:10.638Z"
   },
   {
    "duration": 7,
    "start_time": "2024-06-07T21:41:10.784Z"
   },
   {
    "duration": 4,
    "start_time": "2024-06-07T21:41:11.358Z"
   },
   {
    "duration": 695,
    "start_time": "2024-06-07T21:41:11.508Z"
   },
   {
    "duration": 20,
    "start_time": "2024-06-07T21:41:12.212Z"
   },
   {
    "duration": 159,
    "start_time": "2024-06-07T21:41:12.982Z"
   },
   {
    "duration": 4,
    "start_time": "2024-06-07T21:41:13.364Z"
   },
   {
    "duration": 4,
    "start_time": "2024-06-07T21:41:13.783Z"
   },
   {
    "duration": 96763,
    "start_time": "2024-06-07T21:41:14.175Z"
   },
   {
    "duration": 4640,
    "start_time": "2024-06-07T21:42:55.528Z"
   },
   {
    "duration": 7,
    "start_time": "2024-06-07T21:43:00.212Z"
   },
   {
    "duration": 4560,
    "start_time": "2024-06-07T21:50:48.040Z"
   },
   {
    "duration": 4562,
    "start_time": "2024-06-07T21:50:58.752Z"
   },
   {
    "duration": 478,
    "start_time": "2024-06-07T21:54:48.323Z"
   },
   {
    "duration": 3796,
    "start_time": "2024-06-07T21:55:25.348Z"
   },
   {
    "duration": 287,
    "start_time": "2024-06-07T21:55:31.472Z"
   },
   {
    "duration": 258,
    "start_time": "2024-06-07T21:55:48.116Z"
   },
   {
    "duration": 254,
    "start_time": "2024-06-07T21:55:54.387Z"
   },
   {
    "duration": 248,
    "start_time": "2024-06-07T21:56:00.903Z"
   },
   {
    "duration": 5286,
    "start_time": "2024-06-08T20:59:23.106Z"
   },
   {
    "duration": 769,
    "start_time": "2024-06-08T20:59:28.396Z"
   },
   {
    "duration": 96,
    "start_time": "2024-06-08T20:59:29.168Z"
   },
   {
    "duration": 163,
    "start_time": "2024-06-08T20:59:29.268Z"
   },
   {
    "duration": 405,
    "start_time": "2024-06-08T20:59:29.434Z"
   },
   {
    "duration": 468,
    "start_time": "2024-06-08T20:59:43.508Z"
   },
   {
    "duration": 6,
    "start_time": "2024-06-08T20:59:51.077Z"
   },
   {
    "duration": 718,
    "start_time": "2024-06-08T20:59:51.395Z"
   },
   {
    "duration": 17,
    "start_time": "2024-06-08T20:59:52.276Z"
   },
   {
    "duration": 146,
    "start_time": "2024-06-08T20:59:55.531Z"
   },
   {
    "duration": 369,
    "start_time": "2024-06-08T20:59:59.570Z"
   },
   {
    "duration": 440,
    "start_time": "2024-06-08T21:00:00.588Z"
   },
   {
    "duration": 22,
    "start_time": "2024-06-08T21:00:06.884Z"
   },
   {
    "duration": 19,
    "start_time": "2024-06-08T21:00:07.266Z"
   },
   {
    "duration": 20,
    "start_time": "2024-06-08T21:00:07.775Z"
   },
   {
    "duration": 19,
    "start_time": "2024-06-08T21:00:08.035Z"
   },
   {
    "duration": 18,
    "start_time": "2024-06-08T21:00:08.649Z"
   },
   {
    "duration": 40,
    "start_time": "2024-06-08T21:00:09.496Z"
   },
   {
    "duration": 22,
    "start_time": "2024-06-08T21:00:09.651Z"
   },
   {
    "duration": 19,
    "start_time": "2024-06-08T21:00:09.805Z"
   },
   {
    "duration": 27,
    "start_time": "2024-06-08T21:00:10.160Z"
   },
   {
    "duration": 39,
    "start_time": "2024-06-08T21:00:10.478Z"
   },
   {
    "duration": 21,
    "start_time": "2024-06-08T21:00:10.638Z"
   },
   {
    "duration": 19,
    "start_time": "2024-06-08T21:00:10.782Z"
   },
   {
    "duration": 26,
    "start_time": "2024-06-08T21:00:10.910Z"
   },
   {
    "duration": 41,
    "start_time": "2024-06-08T21:00:11.077Z"
   },
   {
    "duration": 21,
    "start_time": "2024-06-08T21:00:11.234Z"
   },
   {
    "duration": 19,
    "start_time": "2024-06-08T21:00:11.411Z"
   },
   {
    "duration": 26,
    "start_time": "2024-06-08T21:00:11.575Z"
   },
   {
    "duration": 41,
    "start_time": "2024-06-08T21:00:11.753Z"
   },
   {
    "duration": 20,
    "start_time": "2024-06-08T21:00:11.894Z"
   },
   {
    "duration": 20,
    "start_time": "2024-06-08T21:00:12.044Z"
   },
   {
    "duration": 28,
    "start_time": "2024-06-08T21:00:12.228Z"
   },
   {
    "duration": 43,
    "start_time": "2024-06-08T21:00:12.496Z"
   },
   {
    "duration": 20,
    "start_time": "2024-06-08T21:00:12.889Z"
   },
   {
    "duration": 21,
    "start_time": "2024-06-08T21:00:13.051Z"
   },
   {
    "duration": 141,
    "start_time": "2024-06-08T21:00:13.201Z"
   },
   {
    "duration": 33,
    "start_time": "2024-06-08T21:00:13.360Z"
   },
   {
    "duration": 8,
    "start_time": "2024-06-08T21:00:13.515Z"
   },
   {
    "duration": 5,
    "start_time": "2024-06-08T21:00:13.673Z"
   },
   {
    "duration": 11,
    "start_time": "2024-06-08T21:00:13.828Z"
   },
   {
    "duration": 9,
    "start_time": "2024-06-08T21:00:13.994Z"
   },
   {
    "duration": 8,
    "start_time": "2024-06-08T21:00:14.344Z"
   },
   {
    "duration": 8,
    "start_time": "2024-06-08T21:00:14.741Z"
   },
   {
    "duration": 5,
    "start_time": "2024-06-08T21:00:15.204Z"
   },
   {
    "duration": 665,
    "start_time": "2024-06-08T21:02:42.354Z"
   },
   {
    "duration": 22,
    "start_time": "2024-06-08T21:02:43.297Z"
   },
   {
    "duration": 153,
    "start_time": "2024-06-08T21:02:58.080Z"
   },
   {
    "duration": 3,
    "start_time": "2024-06-08T21:02:58.553Z"
   },
   {
    "duration": 4,
    "start_time": "2024-06-08T21:02:59.206Z"
   },
   {
    "duration": 1671,
    "start_time": "2024-06-08T21:03:52.819Z"
   },
   {
    "duration": 842,
    "start_time": "2024-06-08T21:03:54.494Z"
   },
   {
    "duration": 22,
    "start_time": "2024-06-08T21:03:55.338Z"
   },
   {
    "duration": 157,
    "start_time": "2024-06-08T21:03:55.363Z"
   },
   {
    "duration": 415,
    "start_time": "2024-06-08T21:03:56.593Z"
   },
   {
    "duration": 488,
    "start_time": "2024-06-08T21:03:57.753Z"
   },
   {
    "duration": 19,
    "start_time": "2024-06-08T21:03:59.140Z"
   },
   {
    "duration": 20,
    "start_time": "2024-06-08T21:03:59.291Z"
   },
   {
    "duration": 20,
    "start_time": "2024-06-08T21:03:59.426Z"
   },
   {
    "duration": 19,
    "start_time": "2024-06-08T21:03:59.571Z"
   },
   {
    "duration": 20,
    "start_time": "2024-06-08T21:03:59.695Z"
   },
   {
    "duration": 39,
    "start_time": "2024-06-08T21:04:00.145Z"
   },
   {
    "duration": 22,
    "start_time": "2024-06-08T21:04:00.283Z"
   },
   {
    "duration": 19,
    "start_time": "2024-06-08T21:04:00.587Z"
   },
   {
    "duration": 25,
    "start_time": "2024-06-08T21:04:00.611Z"
   },
   {
    "duration": 41,
    "start_time": "2024-06-08T21:04:00.751Z"
   },
   {
    "duration": 21,
    "start_time": "2024-06-08T21:04:00.921Z"
   },
   {
    "duration": 20,
    "start_time": "2024-06-08T21:04:01.075Z"
   },
   {
    "duration": 26,
    "start_time": "2024-06-08T21:04:01.232Z"
   },
   {
    "duration": 39,
    "start_time": "2024-06-08T21:04:01.392Z"
   },
   {
    "duration": 24,
    "start_time": "2024-06-08T21:04:01.545Z"
   },
   {
    "duration": 20,
    "start_time": "2024-06-08T21:04:01.707Z"
   },
   {
    "duration": 26,
    "start_time": "2024-06-08T21:04:01.848Z"
   },
   {
    "duration": 39,
    "start_time": "2024-06-08T21:04:01.999Z"
   },
   {
    "duration": 20,
    "start_time": "2024-06-08T21:04:02.145Z"
   },
   {
    "duration": 23,
    "start_time": "2024-06-08T21:04:02.315Z"
   },
   {
    "duration": 27,
    "start_time": "2024-06-08T21:04:02.451Z"
   },
   {
    "duration": 50,
    "start_time": "2024-06-08T21:04:02.589Z"
   },
   {
    "duration": 21,
    "start_time": "2024-06-08T21:04:02.749Z"
   },
   {
    "duration": 19,
    "start_time": "2024-06-08T21:04:02.903Z"
   },
   {
    "duration": 138,
    "start_time": "2024-06-08T21:04:03.076Z"
   },
   {
    "duration": 42,
    "start_time": "2024-06-08T21:04:03.217Z"
   },
   {
    "duration": 10,
    "start_time": "2024-06-08T21:04:03.362Z"
   },
   {
    "duration": 5,
    "start_time": "2024-06-08T21:04:03.519Z"
   },
   {
    "duration": 13,
    "start_time": "2024-06-08T21:04:03.669Z"
   },
   {
    "duration": 10,
    "start_time": "2024-06-08T21:04:03.840Z"
   },
   {
    "duration": 8,
    "start_time": "2024-06-08T21:04:03.990Z"
   },
   {
    "duration": 7,
    "start_time": "2024-06-08T21:04:04.136Z"
   },
   {
    "duration": 6,
    "start_time": "2024-06-08T21:04:04.288Z"
   },
   {
    "duration": 3,
    "start_time": "2024-06-08T21:04:04.878Z"
   },
   {
    "duration": 676,
    "start_time": "2024-06-08T21:04:05.035Z"
   },
   {
    "duration": 21,
    "start_time": "2024-06-08T21:04:05.714Z"
   },
   {
    "duration": 179,
    "start_time": "2024-06-08T21:04:05.738Z"
   },
   {
    "duration": 4,
    "start_time": "2024-06-08T21:04:05.921Z"
   },
   {
    "duration": 4,
    "start_time": "2024-06-08T21:04:06.032Z"
   },
   {
    "duration": 12840,
    "start_time": "2024-06-08T21:04:06.381Z"
   },
   {
    "duration": 4508,
    "start_time": "2024-06-08T21:04:19.225Z"
   },
   {
    "duration": 8,
    "start_time": "2024-06-08T21:04:23.736Z"
   },
   {
    "duration": 304,
    "start_time": "2024-06-08T21:04:23.748Z"
   },
   {
    "duration": 1047,
    "start_time": "2024-06-08T21:04:24.055Z"
   },
   {
    "duration": 5,
    "start_time": "2024-06-08T21:04:25.104Z"
   },
   {
    "duration": 284,
    "start_time": "2024-06-08T21:21:11.302Z"
   },
   {
    "duration": 237,
    "start_time": "2024-06-08T21:21:35.342Z"
   },
   {
    "duration": 279,
    "start_time": "2024-06-08T21:22:04.469Z"
   },
   {
    "duration": 267,
    "start_time": "2024-06-08T21:22:12.703Z"
   },
   {
    "duration": 1378,
    "start_time": "2024-06-08T21:24:50.415Z"
   },
   {
    "duration": 648,
    "start_time": "2024-06-08T21:26:44.177Z"
   },
   {
    "duration": 21,
    "start_time": "2024-06-08T21:26:45.594Z"
   },
   {
    "duration": 140,
    "start_time": "2024-06-08T21:26:51.684Z"
   },
   {
    "duration": 4,
    "start_time": "2024-06-08T21:26:52.380Z"
   },
   {
    "duration": 4,
    "start_time": "2024-06-08T21:26:53.075Z"
   },
   {
    "duration": 317,
    "start_time": "2024-06-08T21:26:57.023Z"
   },
   {
    "duration": 1703,
    "start_time": "2024-06-08T21:33:13.533Z"
   },
   {
    "duration": 823,
    "start_time": "2024-06-08T21:33:15.240Z"
   },
   {
    "duration": 23,
    "start_time": "2024-06-08T21:33:16.066Z"
   },
   {
    "duration": 164,
    "start_time": "2024-06-08T21:33:16.105Z"
   },
   {
    "duration": 409,
    "start_time": "2024-06-08T21:33:21.070Z"
   },
   {
    "duration": 512,
    "start_time": "2024-06-08T21:33:21.483Z"
   },
   {
    "duration": 20,
    "start_time": "2024-06-08T21:33:22.276Z"
   },
   {
    "duration": 19,
    "start_time": "2024-06-08T21:33:23.173Z"
   },
   {
    "duration": 23,
    "start_time": "2024-06-08T21:33:24.169Z"
   },
   {
    "duration": 19,
    "start_time": "2024-06-08T21:33:24.887Z"
   },
   {
    "duration": 19,
    "start_time": "2024-06-08T21:33:25.806Z"
   },
   {
    "duration": 44,
    "start_time": "2024-06-08T21:33:26.728Z"
   },
   {
    "duration": 22,
    "start_time": "2024-06-08T21:33:26.867Z"
   },
   {
    "duration": 26,
    "start_time": "2024-06-08T21:33:27.022Z"
   },
   {
    "duration": 26,
    "start_time": "2024-06-08T21:33:27.225Z"
   },
   {
    "duration": 62,
    "start_time": "2024-06-08T21:33:27.378Z"
   },
   {
    "duration": 20,
    "start_time": "2024-06-08T21:33:27.514Z"
   },
   {
    "duration": 21,
    "start_time": "2024-06-08T21:33:27.644Z"
   },
   {
    "duration": 27,
    "start_time": "2024-06-08T21:33:27.795Z"
   },
   {
    "duration": 40,
    "start_time": "2024-06-08T21:33:27.933Z"
   },
   {
    "duration": 20,
    "start_time": "2024-06-08T21:33:28.078Z"
   },
   {
    "duration": 21,
    "start_time": "2024-06-08T21:33:28.217Z"
   },
   {
    "duration": 31,
    "start_time": "2024-06-08T21:33:28.363Z"
   },
   {
    "duration": 41,
    "start_time": "2024-06-08T21:33:28.523Z"
   },
   {
    "duration": 20,
    "start_time": "2024-06-08T21:33:28.667Z"
   },
   {
    "duration": 19,
    "start_time": "2024-06-08T21:33:28.820Z"
   },
   {
    "duration": 32,
    "start_time": "2024-06-08T21:33:28.964Z"
   },
   {
    "duration": 44,
    "start_time": "2024-06-08T21:33:29.119Z"
   },
   {
    "duration": 21,
    "start_time": "2024-06-08T21:33:30.122Z"
   },
   {
    "duration": 20,
    "start_time": "2024-06-08T21:33:30.877Z"
   },
   {
    "duration": 142,
    "start_time": "2024-06-08T21:33:31.077Z"
   },
   {
    "duration": 34,
    "start_time": "2024-06-08T21:33:31.232Z"
   },
   {
    "duration": 10,
    "start_time": "2024-06-08T21:33:32.361Z"
   },
   {
    "duration": 5,
    "start_time": "2024-06-08T21:33:32.964Z"
   },
   {
    "duration": 11,
    "start_time": "2024-06-08T21:33:33.498Z"
   },
   {
    "duration": 9,
    "start_time": "2024-06-08T21:33:33.816Z"
   },
   {
    "duration": 7,
    "start_time": "2024-06-08T21:33:34.179Z"
   },
   {
    "duration": 8,
    "start_time": "2024-06-08T21:33:34.518Z"
   },
   {
    "duration": 252,
    "start_time": "2024-06-08T21:33:35.483Z"
   },
   {
    "duration": 270,
    "start_time": "2024-06-08T21:33:37.456Z"
   },
   {
    "duration": 5,
    "start_time": "2024-06-08T21:33:41.154Z"
   },
   {
    "duration": 235,
    "start_time": "2024-06-08T21:34:22.133Z"
   },
   {
    "duration": 206,
    "start_time": "2024-06-08T21:34:38.775Z"
   },
   {
    "duration": 198,
    "start_time": "2024-06-08T21:34:48.729Z"
   },
   {
    "duration": 318,
    "start_time": "2024-06-08T21:35:13.658Z"
   },
   {
    "duration": 6,
    "start_time": "2024-06-08T21:35:22.672Z"
   },
   {
    "duration": 650,
    "start_time": "2024-06-08T21:35:49.628Z"
   },
   {
    "duration": 24,
    "start_time": "2024-06-08T21:35:50.338Z"
   },
   {
    "duration": 134,
    "start_time": "2024-06-08T21:35:54.283Z"
   },
   {
    "duration": 3,
    "start_time": "2024-06-08T21:35:56.143Z"
   },
   {
    "duration": 4,
    "start_time": "2024-06-08T21:35:56.727Z"
   },
   {
    "duration": 9844,
    "start_time": "2024-06-08T21:35:58.576Z"
   },
   {
    "duration": 4483,
    "start_time": "2024-06-08T21:36:08.424Z"
   },
   {
    "duration": 7,
    "start_time": "2024-06-08T21:36:12.997Z"
   },
   {
    "duration": 5302,
    "start_time": "2024-06-08T23:08:01.416Z"
   },
   {
    "duration": 786,
    "start_time": "2024-06-08T23:08:06.721Z"
   },
   {
    "duration": 99,
    "start_time": "2024-06-08T23:08:07.510Z"
   },
   {
    "duration": 154,
    "start_time": "2024-06-08T23:08:07.613Z"
   },
   {
    "duration": 410,
    "start_time": "2024-06-08T23:08:07.769Z"
   },
   {
    "duration": 483,
    "start_time": "2024-06-08T23:08:08.182Z"
   },
   {
    "duration": 20,
    "start_time": "2024-06-08T23:08:09.661Z"
   },
   {
    "duration": 21,
    "start_time": "2024-06-08T23:08:09.803Z"
   },
   {
    "duration": 20,
    "start_time": "2024-06-08T23:08:09.990Z"
   },
   {
    "duration": 19,
    "start_time": "2024-06-08T23:08:10.095Z"
   },
   {
    "duration": 18,
    "start_time": "2024-06-08T23:08:10.247Z"
   },
   {
    "duration": 38,
    "start_time": "2024-06-08T23:08:11.568Z"
   },
   {
    "duration": 22,
    "start_time": "2024-06-08T23:08:11.651Z"
   },
   {
    "duration": 21,
    "start_time": "2024-06-08T23:08:11.790Z"
   },
   {
    "duration": 30,
    "start_time": "2024-06-08T23:08:11.932Z"
   },
   {
    "duration": 39,
    "start_time": "2024-06-08T23:08:12.080Z"
   },
   {
    "duration": 22,
    "start_time": "2024-06-08T23:08:12.203Z"
   },
   {
    "duration": 20,
    "start_time": "2024-06-08T23:08:12.353Z"
   },
   {
    "duration": 26,
    "start_time": "2024-06-08T23:08:12.488Z"
   },
   {
    "duration": 39,
    "start_time": "2024-06-08T23:08:12.662Z"
   },
   {
    "duration": 19,
    "start_time": "2024-06-08T23:08:12.822Z"
   },
   {
    "duration": 19,
    "start_time": "2024-06-08T23:08:12.955Z"
   },
   {
    "duration": 26,
    "start_time": "2024-06-08T23:08:13.101Z"
   },
   {
    "duration": 40,
    "start_time": "2024-06-08T23:08:13.305Z"
   },
   {
    "duration": 21,
    "start_time": "2024-06-08T23:08:13.386Z"
   },
   {
    "duration": 20,
    "start_time": "2024-06-08T23:08:13.715Z"
   },
   {
    "duration": 27,
    "start_time": "2024-06-08T23:08:13.872Z"
   },
   {
    "duration": 43,
    "start_time": "2024-06-08T23:08:14.020Z"
   },
   {
    "duration": 24,
    "start_time": "2024-06-08T23:08:14.170Z"
   },
   {
    "duration": 19,
    "start_time": "2024-06-08T23:08:14.324Z"
   },
   {
    "duration": 144,
    "start_time": "2024-06-08T23:08:14.528Z"
   },
   {
    "duration": 33,
    "start_time": "2024-06-08T23:08:14.733Z"
   },
   {
    "duration": 10,
    "start_time": "2024-06-08T23:08:15.207Z"
   },
   {
    "duration": 8,
    "start_time": "2024-06-08T23:08:15.233Z"
   },
   {
    "duration": 14,
    "start_time": "2024-06-08T23:08:15.278Z"
   },
   {
    "duration": 11,
    "start_time": "2024-06-08T23:08:15.302Z"
   },
   {
    "duration": 7,
    "start_time": "2024-06-08T23:08:15.330Z"
   },
   {
    "duration": 7,
    "start_time": "2024-06-08T23:08:15.363Z"
   },
   {
    "duration": 217,
    "start_time": "2024-06-08T23:08:15.524Z"
   },
   {
    "duration": 233,
    "start_time": "2024-06-08T23:08:16.831Z"
   },
   {
    "duration": 6,
    "start_time": "2024-06-08T23:08:17.124Z"
   },
   {
    "duration": 3,
    "start_time": "2024-06-08T23:08:27.029Z"
   },
   {
    "duration": 635,
    "start_time": "2024-06-08T23:08:28.252Z"
   },
   {
    "duration": 21,
    "start_time": "2024-06-08T23:08:29.211Z"
   },
   {
    "duration": 131,
    "start_time": "2024-06-08T23:08:30.213Z"
   },
   {
    "duration": 4,
    "start_time": "2024-06-08T23:08:31.878Z"
   },
   {
    "duration": 647,
    "start_time": "2024-06-08T23:09:11.711Z"
   },
   {
    "duration": 20,
    "start_time": "2024-06-08T23:09:12.361Z"
   },
   {
    "duration": 132,
    "start_time": "2024-06-08T23:09:13.744Z"
   },
   {
    "duration": 940,
    "start_time": "2024-06-08T23:09:48.511Z"
   },
   {
    "duration": 1667,
    "start_time": "2024-06-08T23:36:09.550Z"
   },
   {
    "duration": 808,
    "start_time": "2024-06-08T23:36:11.221Z"
   },
   {
    "duration": 23,
    "start_time": "2024-06-08T23:36:12.034Z"
   },
   {
    "duration": 161,
    "start_time": "2024-06-08T23:36:12.060Z"
   },
   {
    "duration": 393,
    "start_time": "2024-06-08T23:36:13.085Z"
   },
   {
    "duration": 486,
    "start_time": "2024-06-08T23:36:13.482Z"
   },
   {
    "duration": 20,
    "start_time": "2024-06-08T23:36:13.972Z"
   },
   {
    "duration": 39,
    "start_time": "2024-06-08T23:36:13.995Z"
   },
   {
    "duration": 19,
    "start_time": "2024-06-08T23:36:14.038Z"
   },
   {
    "duration": 25,
    "start_time": "2024-06-08T23:36:14.072Z"
   },
   {
    "duration": 19,
    "start_time": "2024-06-08T23:36:14.225Z"
   },
   {
    "duration": 39,
    "start_time": "2024-06-08T23:36:14.667Z"
   },
   {
    "duration": 22,
    "start_time": "2024-06-08T23:36:14.807Z"
   },
   {
    "duration": 20,
    "start_time": "2024-06-08T23:36:14.962Z"
   },
   {
    "duration": 25,
    "start_time": "2024-06-08T23:36:15.120Z"
   },
   {
    "duration": 45,
    "start_time": "2024-06-08T23:36:15.268Z"
   },
   {
    "duration": 20,
    "start_time": "2024-06-08T23:36:15.401Z"
   },
   {
    "duration": 20,
    "start_time": "2024-06-08T23:36:15.551Z"
   },
   {
    "duration": 26,
    "start_time": "2024-06-08T23:36:15.694Z"
   },
   {
    "duration": 40,
    "start_time": "2024-06-08T23:36:15.835Z"
   },
   {
    "duration": 20,
    "start_time": "2024-06-08T23:36:15.985Z"
   },
   {
    "duration": 19,
    "start_time": "2024-06-08T23:36:16.127Z"
   },
   {
    "duration": 25,
    "start_time": "2024-06-08T23:36:16.272Z"
   },
   {
    "duration": 41,
    "start_time": "2024-06-08T23:36:16.411Z"
   },
   {
    "duration": 19,
    "start_time": "2024-06-08T23:36:16.558Z"
   },
   {
    "duration": 21,
    "start_time": "2024-06-08T23:36:16.704Z"
   },
   {
    "duration": 27,
    "start_time": "2024-06-08T23:36:16.846Z"
   },
   {
    "duration": 42,
    "start_time": "2024-06-08T23:36:16.985Z"
   },
   {
    "duration": 23,
    "start_time": "2024-06-08T23:36:17.130Z"
   },
   {
    "duration": 19,
    "start_time": "2024-06-08T23:36:17.280Z"
   },
   {
    "duration": 140,
    "start_time": "2024-06-08T23:36:17.420Z"
   },
   {
    "duration": 38,
    "start_time": "2024-06-08T23:36:17.569Z"
   },
   {
    "duration": 9,
    "start_time": "2024-06-08T23:36:17.719Z"
   },
   {
    "duration": 5,
    "start_time": "2024-06-08T23:36:17.871Z"
   },
   {
    "duration": 10,
    "start_time": "2024-06-08T23:36:18.071Z"
   },
   {
    "duration": 10,
    "start_time": "2024-06-08T23:36:18.204Z"
   },
   {
    "duration": 7,
    "start_time": "2024-06-08T23:36:18.356Z"
   },
   {
    "duration": 8,
    "start_time": "2024-06-08T23:36:18.497Z"
   },
   {
    "duration": 208,
    "start_time": "2024-06-08T23:36:18.655Z"
   },
   {
    "duration": 231,
    "start_time": "2024-06-08T23:36:18.942Z"
   },
   {
    "duration": 7,
    "start_time": "2024-06-08T23:36:19.176Z"
   },
   {
    "duration": 664,
    "start_time": "2024-06-08T23:36:21.271Z"
   },
   {
    "duration": 24,
    "start_time": "2024-06-08T23:36:21.939Z"
   },
   {
    "duration": 133,
    "start_time": "2024-06-08T23:36:22.690Z"
   },
   {
    "duration": 953,
    "start_time": "2024-06-08T23:36:23.067Z"
   },
   {
    "duration": 346,
    "start_time": "2024-06-08T23:36:29.047Z"
   },
   {
    "duration": 5232,
    "start_time": "2024-06-09T00:52:26.697Z"
   },
   {
    "duration": 801,
    "start_time": "2024-06-09T00:52:31.934Z"
   },
   {
    "duration": 25,
    "start_time": "2024-06-09T00:52:32.738Z"
   },
   {
    "duration": 167,
    "start_time": "2024-06-09T00:52:32.766Z"
   },
   {
    "duration": 387,
    "start_time": "2024-06-09T00:52:36.278Z"
   },
   {
    "duration": 513,
    "start_time": "2024-06-09T00:52:36.668Z"
   },
   {
    "duration": 22,
    "start_time": "2024-06-09T00:52:37.185Z"
   },
   {
    "duration": 36,
    "start_time": "2024-06-09T00:52:37.210Z"
   },
   {
    "duration": 19,
    "start_time": "2024-06-09T00:52:37.251Z"
   },
   {
    "duration": 19,
    "start_time": "2024-06-09T00:52:37.273Z"
   },
   {
    "duration": 19,
    "start_time": "2024-06-09T00:52:37.390Z"
   },
   {
    "duration": 39,
    "start_time": "2024-06-09T00:52:37.910Z"
   },
   {
    "duration": 22,
    "start_time": "2024-06-09T00:52:38.093Z"
   },
   {
    "duration": 18,
    "start_time": "2024-06-09T00:52:38.273Z"
   },
   {
    "duration": 25,
    "start_time": "2024-06-09T00:52:38.462Z"
   },
   {
    "duration": 41,
    "start_time": "2024-06-09T00:52:38.622Z"
   },
   {
    "duration": 19,
    "start_time": "2024-06-09T00:52:38.819Z"
   },
   {
    "duration": 23,
    "start_time": "2024-06-09T00:52:38.999Z"
   },
   {
    "duration": 26,
    "start_time": "2024-06-09T00:52:39.176Z"
   },
   {
    "duration": 39,
    "start_time": "2024-06-09T00:52:39.396Z"
   },
   {
    "duration": 20,
    "start_time": "2024-06-09T00:52:39.654Z"
   },
   {
    "duration": 20,
    "start_time": "2024-06-09T00:52:39.867Z"
   },
   {
    "duration": 32,
    "start_time": "2024-06-09T00:52:40.036Z"
   },
   {
    "duration": 40,
    "start_time": "2024-06-09T00:52:40.205Z"
   },
   {
    "duration": 23,
    "start_time": "2024-06-09T00:52:40.377Z"
   },
   {
    "duration": 19,
    "start_time": "2024-06-09T00:52:40.575Z"
   },
   {
    "duration": 26,
    "start_time": "2024-06-09T00:52:40.857Z"
   },
   {
    "duration": 45,
    "start_time": "2024-06-09T00:52:41.369Z"
   },
   {
    "duration": 21,
    "start_time": "2024-06-09T00:52:41.417Z"
   },
   {
    "duration": 20,
    "start_time": "2024-06-09T00:52:41.446Z"
   },
   {
    "duration": 182,
    "start_time": "2024-06-09T00:52:41.469Z"
   },
   {
    "duration": 38,
    "start_time": "2024-06-09T00:52:41.657Z"
   },
   {
    "duration": 10,
    "start_time": "2024-06-09T00:52:41.783Z"
   },
   {
    "duration": 5,
    "start_time": "2024-06-09T00:52:41.950Z"
   },
   {
    "duration": 11,
    "start_time": "2024-06-09T00:52:42.121Z"
   },
   {
    "duration": 9,
    "start_time": "2024-06-09T00:52:42.308Z"
   },
   {
    "duration": 7,
    "start_time": "2024-06-09T00:52:42.506Z"
   },
   {
    "duration": 6,
    "start_time": "2024-06-09T00:52:42.698Z"
   },
   {
    "duration": 209,
    "start_time": "2024-06-09T00:52:42.863Z"
   },
   {
    "duration": 305,
    "start_time": "2024-06-09T00:52:43.252Z"
   },
   {
    "duration": 5,
    "start_time": "2024-06-09T00:52:43.561Z"
   },
   {
    "duration": 629,
    "start_time": "2024-06-09T00:52:44.780Z"
   },
   {
    "duration": 33,
    "start_time": "2024-06-09T00:52:45.412Z"
   },
   {
    "duration": 133,
    "start_time": "2024-06-09T00:52:45.577Z"
   },
   {
    "duration": 927,
    "start_time": "2024-06-09T00:52:45.929Z"
   },
   {
    "duration": 313,
    "start_time": "2024-06-09T00:53:03.790Z"
   },
   {
    "duration": 1739,
    "start_time": "2024-06-09T00:56:20.018Z"
   },
   {
    "duration": 834,
    "start_time": "2024-06-09T00:56:21.760Z"
   },
   {
    "duration": 35,
    "start_time": "2024-06-09T00:56:22.597Z"
   },
   {
    "duration": 147,
    "start_time": "2024-06-09T00:56:22.635Z"
   },
   {
    "duration": 393,
    "start_time": "2024-06-09T00:56:24.788Z"
   },
   {
    "duration": 480,
    "start_time": "2024-06-09T00:56:25.987Z"
   },
   {
    "duration": 22,
    "start_time": "2024-06-09T00:56:31.643Z"
   },
   {
    "duration": 19,
    "start_time": "2024-06-09T00:56:31.841Z"
   },
   {
    "duration": 21,
    "start_time": "2024-06-09T00:56:32.022Z"
   },
   {
    "duration": 19,
    "start_time": "2024-06-09T00:56:32.184Z"
   },
   {
    "duration": 19,
    "start_time": "2024-06-09T00:56:32.331Z"
   },
   {
    "duration": 46,
    "start_time": "2024-06-09T00:56:32.996Z"
   },
   {
    "duration": 21,
    "start_time": "2024-06-09T00:56:33.179Z"
   },
   {
    "duration": 20,
    "start_time": "2024-06-09T00:56:33.342Z"
   },
   {
    "duration": 25,
    "start_time": "2024-06-09T00:56:33.496Z"
   },
   {
    "duration": 40,
    "start_time": "2024-06-09T00:56:33.634Z"
   },
   {
    "duration": 20,
    "start_time": "2024-06-09T00:56:33.810Z"
   },
   {
    "duration": 19,
    "start_time": "2024-06-09T00:56:34.014Z"
   },
   {
    "duration": 27,
    "start_time": "2024-06-09T00:56:34.194Z"
   },
   {
    "duration": 43,
    "start_time": "2024-06-09T00:56:34.378Z"
   },
   {
    "duration": 21,
    "start_time": "2024-06-09T00:56:34.521Z"
   },
   {
    "duration": 20,
    "start_time": "2024-06-09T00:56:34.703Z"
   },
   {
    "duration": 28,
    "start_time": "2024-06-09T00:56:34.886Z"
   },
   {
    "duration": 39,
    "start_time": "2024-06-09T00:56:35.033Z"
   },
   {
    "duration": 20,
    "start_time": "2024-06-09T00:56:35.258Z"
   },
   {
    "duration": 19,
    "start_time": "2024-06-09T00:56:35.452Z"
   },
   {
    "duration": 27,
    "start_time": "2024-06-09T00:56:35.662Z"
   },
   {
    "duration": 42,
    "start_time": "2024-06-09T00:56:36.001Z"
   },
   {
    "duration": 19,
    "start_time": "2024-06-09T00:56:36.194Z"
   },
   {
    "duration": 20,
    "start_time": "2024-06-09T00:56:36.365Z"
   },
   {
    "duration": 187,
    "start_time": "2024-06-09T00:56:36.655Z"
   },
   {
    "duration": 44,
    "start_time": "2024-06-09T00:56:36.846Z"
   },
   {
    "duration": 9,
    "start_time": "2024-06-09T00:56:36.979Z"
   },
   {
    "duration": 5,
    "start_time": "2024-06-09T00:56:37.162Z"
   },
   {
    "duration": 12,
    "start_time": "2024-06-09T00:56:37.350Z"
   },
   {
    "duration": 8,
    "start_time": "2024-06-09T00:56:37.539Z"
   },
   {
    "duration": 8,
    "start_time": "2024-06-09T00:56:37.705Z"
   },
   {
    "duration": 7,
    "start_time": "2024-06-09T00:56:37.875Z"
   },
   {
    "duration": 208,
    "start_time": "2024-06-09T00:56:38.048Z"
   },
   {
    "duration": 252,
    "start_time": "2024-06-09T00:56:38.362Z"
   },
   {
    "duration": 6,
    "start_time": "2024-06-09T00:56:38.617Z"
   },
   {
    "duration": 636,
    "start_time": "2024-06-09T00:56:41.871Z"
   },
   {
    "duration": 35,
    "start_time": "2024-06-09T00:56:42.510Z"
   },
   {
    "duration": 133,
    "start_time": "2024-06-09T00:56:42.723Z"
   },
   {
    "duration": 941,
    "start_time": "2024-06-09T00:56:43.278Z"
   },
   {
    "duration": 1688,
    "start_time": "2024-06-09T01:07:18.706Z"
   },
   {
    "duration": 787,
    "start_time": "2024-06-09T01:07:20.397Z"
   },
   {
    "duration": 25,
    "start_time": "2024-06-09T01:07:21.186Z"
   },
   {
    "duration": 172,
    "start_time": "2024-06-09T01:07:21.215Z"
   },
   {
    "duration": 386,
    "start_time": "2024-06-09T01:07:22.268Z"
   },
   {
    "duration": 505,
    "start_time": "2024-06-09T01:07:23.349Z"
   },
   {
    "duration": 31,
    "start_time": "2024-06-09T01:07:24.884Z"
   },
   {
    "duration": 27,
    "start_time": "2024-06-09T01:07:25.135Z"
   },
   {
    "duration": 19,
    "start_time": "2024-06-09T01:07:25.329Z"
   },
   {
    "duration": 18,
    "start_time": "2024-06-09T01:07:25.502Z"
   },
   {
    "duration": 19,
    "start_time": "2024-06-09T01:07:25.678Z"
   },
   {
    "duration": 53,
    "start_time": "2024-06-09T01:07:26.176Z"
   },
   {
    "duration": 23,
    "start_time": "2024-06-09T01:07:26.339Z"
   },
   {
    "duration": 19,
    "start_time": "2024-06-09T01:07:26.534Z"
   },
   {
    "duration": 25,
    "start_time": "2024-06-09T01:07:26.725Z"
   },
   {
    "duration": 42,
    "start_time": "2024-06-09T01:07:26.903Z"
   },
   {
    "duration": 37,
    "start_time": "2024-06-09T01:07:27.116Z"
   },
   {
    "duration": 20,
    "start_time": "2024-06-09T01:07:27.337Z"
   },
   {
    "duration": 26,
    "start_time": "2024-06-09T01:07:27.604Z"
   },
   {
    "duration": 50,
    "start_time": "2024-06-09T01:07:27.837Z"
   },
   {
    "duration": 22,
    "start_time": "2024-06-09T01:07:28.112Z"
   },
   {
    "duration": 23,
    "start_time": "2024-06-09T01:07:28.390Z"
   },
   {
    "duration": 26,
    "start_time": "2024-06-09T01:07:28.653Z"
   },
   {
    "duration": 39,
    "start_time": "2024-06-09T01:07:28.902Z"
   },
   {
    "duration": 21,
    "start_time": "2024-06-09T01:07:29.102Z"
   },
   {
    "duration": 25,
    "start_time": "2024-06-09T01:07:29.311Z"
   },
   {
    "duration": 29,
    "start_time": "2024-06-09T01:07:29.518Z"
   },
   {
    "duration": 42,
    "start_time": "2024-06-09T01:07:29.750Z"
   },
   {
    "duration": 24,
    "start_time": "2024-06-09T01:07:30.101Z"
   },
   {
    "duration": 24,
    "start_time": "2024-06-09T01:07:30.423Z"
   },
   {
    "duration": 137,
    "start_time": "2024-06-09T01:07:30.765Z"
   },
   {
    "duration": 39,
    "start_time": "2024-06-09T01:07:30.986Z"
   },
   {
    "duration": 9,
    "start_time": "2024-06-09T01:07:31.251Z"
   },
   {
    "duration": 6,
    "start_time": "2024-06-09T01:07:31.516Z"
   },
   {
    "duration": 12,
    "start_time": "2024-06-09T01:07:31.799Z"
   },
   {
    "duration": 8,
    "start_time": "2024-06-09T01:07:32.062Z"
   },
   {
    "duration": 8,
    "start_time": "2024-06-09T01:07:32.317Z"
   },
   {
    "duration": 7,
    "start_time": "2024-06-09T01:07:32.591Z"
   },
   {
    "duration": 209,
    "start_time": "2024-06-09T01:07:32.854Z"
   },
   {
    "duration": 239,
    "start_time": "2024-06-09T01:07:33.434Z"
   },
   {
    "duration": 6,
    "start_time": "2024-06-09T01:07:33.677Z"
   },
   {
    "duration": 631,
    "start_time": "2024-06-09T01:07:35.317Z"
   },
   {
    "duration": 25,
    "start_time": "2024-06-09T01:07:35.951Z"
   },
   {
    "duration": 131,
    "start_time": "2024-06-09T01:07:38.861Z"
   },
   {
    "duration": 930,
    "start_time": "2024-06-09T01:07:39.653Z"
   },
   {
    "duration": 1710,
    "start_time": "2024-06-09T01:20:42.605Z"
   },
   {
    "duration": 820,
    "start_time": "2024-06-09T01:20:44.318Z"
   },
   {
    "duration": 22,
    "start_time": "2024-06-09T01:20:45.142Z"
   },
   {
    "duration": 167,
    "start_time": "2024-06-09T01:20:45.167Z"
   },
   {
    "duration": 392,
    "start_time": "2024-06-09T01:20:45.336Z"
   },
   {
    "duration": 464,
    "start_time": "2024-06-09T01:20:46.241Z"
   },
   {
    "duration": 21,
    "start_time": "2024-06-09T01:20:47.643Z"
   },
   {
    "duration": 19,
    "start_time": "2024-06-09T01:20:47.815Z"
   },
   {
    "duration": 19,
    "start_time": "2024-06-09T01:20:47.971Z"
   },
   {
    "duration": 19,
    "start_time": "2024-06-09T01:20:48.123Z"
   },
   {
    "duration": 19,
    "start_time": "2024-06-09T01:20:48.263Z"
   },
   {
    "duration": 40,
    "start_time": "2024-06-09T01:20:48.962Z"
   },
   {
    "duration": 22,
    "start_time": "2024-06-09T01:20:50.886Z"
   },
   {
    "duration": 21,
    "start_time": "2024-06-09T01:20:51.471Z"
   },
   {
    "duration": 26,
    "start_time": "2024-06-09T01:20:51.982Z"
   },
   {
    "duration": 40,
    "start_time": "2024-06-09T01:20:53.432Z"
   },
   {
    "duration": 20,
    "start_time": "2024-06-09T01:20:53.728Z"
   },
   {
    "duration": 22,
    "start_time": "2024-06-09T01:20:54.546Z"
   },
   {
    "duration": 26,
    "start_time": "2024-06-09T01:20:55.072Z"
   },
   {
    "duration": 39,
    "start_time": "2024-06-09T01:20:55.526Z"
   },
   {
    "duration": 20,
    "start_time": "2024-06-09T01:20:55.946Z"
   },
   {
    "duration": 19,
    "start_time": "2024-06-09T01:20:56.491Z"
   },
   {
    "duration": 24,
    "start_time": "2024-06-09T01:20:56.963Z"
   },
   {
    "duration": 43,
    "start_time": "2024-06-09T01:20:57.575Z"
   },
   {
    "duration": 20,
    "start_time": "2024-06-09T01:21:00.988Z"
   },
   {
    "duration": 23,
    "start_time": "2024-06-09T01:21:01.317Z"
   },
   {
    "duration": 30,
    "start_time": "2024-06-09T01:21:02.116Z"
   },
   {
    "duration": 42,
    "start_time": "2024-06-09T01:21:02.747Z"
   },
   {
    "duration": 19,
    "start_time": "2024-06-09T01:21:03.685Z"
   },
   {
    "duration": 19,
    "start_time": "2024-06-09T01:21:05.888Z"
   },
   {
    "duration": 139,
    "start_time": "2024-06-09T01:21:06.585Z"
   },
   {
    "duration": 42,
    "start_time": "2024-06-09T01:21:32.405Z"
   },
   {
    "duration": 14,
    "start_time": "2024-06-09T01:21:47.021Z"
   },
   {
    "duration": 9,
    "start_time": "2024-06-09T01:21:51.270Z"
   },
   {
    "duration": 433,
    "start_time": "2024-06-09T01:22:01.582Z"
   },
   {
    "duration": 6,
    "start_time": "2024-06-09T01:22:12.466Z"
   },
   {
    "duration": 12,
    "start_time": "2024-06-09T01:22:13.235Z"
   },
   {
    "duration": 15,
    "start_time": "2024-06-09T01:22:13.881Z"
   },
   {
    "duration": 7,
    "start_time": "2024-06-09T01:22:14.238Z"
   },
   {
    "duration": 8,
    "start_time": "2024-06-09T01:22:16.413Z"
   },
   {
    "duration": 213,
    "start_time": "2024-06-09T01:22:17.214Z"
   },
   {
    "duration": 235,
    "start_time": "2024-06-09T01:22:27.306Z"
   },
   {
    "duration": 13,
    "start_time": "2024-06-09T01:22:28.766Z"
   },
   {
    "duration": 5,
    "start_time": "2024-06-09T01:23:21.538Z"
   },
   {
    "duration": 24,
    "start_time": "2024-06-09T01:23:32.785Z"
   },
   {
    "duration": 622,
    "start_time": "2024-06-09T01:23:50.082Z"
   },
   {
    "duration": 22,
    "start_time": "2024-06-09T01:23:53.990Z"
   },
   {
    "duration": 7,
    "start_time": "2024-06-09T01:24:10.485Z"
   },
   {
    "duration": 25,
    "start_time": "2024-06-09T01:24:21.903Z"
   },
   {
    "duration": 131,
    "start_time": "2024-06-09T01:24:32.599Z"
   },
   {
    "duration": 97,
    "start_time": "2024-06-09T01:25:35.568Z"
   },
   {
    "duration": 928,
    "start_time": "2024-06-09T01:25:36.159Z"
   },
   {
    "duration": 39,
    "start_time": "2024-06-09T01:26:04.922Z"
   },
   {
    "duration": 4,
    "start_time": "2024-06-09T01:26:27.120Z"
   },
   {
    "duration": 42,
    "start_time": "2024-06-09T01:26:35.182Z"
   },
   {
    "duration": 1686,
    "start_time": "2024-06-09T01:39:22.046Z"
   },
   {
    "duration": 782,
    "start_time": "2024-06-09T01:39:23.736Z"
   },
   {
    "duration": 25,
    "start_time": "2024-06-09T01:39:24.521Z"
   },
   {
    "duration": 152,
    "start_time": "2024-06-09T01:39:24.550Z"
   },
   {
    "duration": 407,
    "start_time": "2024-06-09T01:39:24.705Z"
   },
   {
    "duration": 497,
    "start_time": "2024-06-09T01:39:25.115Z"
   },
   {
    "duration": 27,
    "start_time": "2024-06-09T01:39:25.615Z"
   },
   {
    "duration": 19,
    "start_time": "2024-06-09T01:39:25.646Z"
   },
   {
    "duration": 19,
    "start_time": "2024-06-09T01:39:25.668Z"
   },
   {
    "duration": 18,
    "start_time": "2024-06-09T01:39:25.775Z"
   },
   {
    "duration": 18,
    "start_time": "2024-06-09T01:39:26.773Z"
   },
   {
    "duration": 42,
    "start_time": "2024-06-09T01:39:28.552Z"
   },
   {
    "duration": 22,
    "start_time": "2024-06-09T01:39:28.710Z"
   },
   {
    "duration": 19,
    "start_time": "2024-06-09T01:39:28.896Z"
   },
   {
    "duration": 26,
    "start_time": "2024-06-09T01:39:29.057Z"
   },
   {
    "duration": 49,
    "start_time": "2024-06-09T01:39:29.248Z"
   },
   {
    "duration": 25,
    "start_time": "2024-06-09T01:39:29.397Z"
   },
   {
    "duration": 20,
    "start_time": "2024-06-09T01:39:29.935Z"
   },
   {
    "duration": 26,
    "start_time": "2024-06-09T01:39:30.107Z"
   },
   {
    "duration": 40,
    "start_time": "2024-06-09T01:39:30.266Z"
   },
   {
    "duration": 20,
    "start_time": "2024-06-09T01:39:30.460Z"
   },
   {
    "duration": 19,
    "start_time": "2024-06-09T01:39:30.604Z"
   },
   {
    "duration": 26,
    "start_time": "2024-06-09T01:39:30.755Z"
   },
   {
    "duration": 39,
    "start_time": "2024-06-09T01:39:30.912Z"
   },
   {
    "duration": 20,
    "start_time": "2024-06-09T01:39:31.070Z"
   },
   {
    "duration": 19,
    "start_time": "2024-06-09T01:39:31.227Z"
   },
   {
    "duration": 28,
    "start_time": "2024-06-09T01:39:31.392Z"
   },
   {
    "duration": 42,
    "start_time": "2024-06-09T01:39:31.546Z"
   },
   {
    "duration": 19,
    "start_time": "2024-06-09T01:39:31.703Z"
   },
   {
    "duration": 20,
    "start_time": "2024-06-09T01:39:31.902Z"
   },
   {
    "duration": 143,
    "start_time": "2024-06-09T01:39:32.124Z"
   },
   {
    "duration": 40,
    "start_time": "2024-06-09T01:39:32.333Z"
   },
   {
    "duration": 13,
    "start_time": "2024-06-09T01:39:32.697Z"
   },
   {
    "duration": 9,
    "start_time": "2024-06-09T01:39:33.470Z"
   },
   {
    "duration": 6,
    "start_time": "2024-06-09T01:39:33.984Z"
   },
   {
    "duration": 12,
    "start_time": "2024-06-09T01:39:34.405Z"
   },
   {
    "duration": 9,
    "start_time": "2024-06-09T01:39:34.743Z"
   },
   {
    "duration": 7,
    "start_time": "2024-06-09T01:39:34.952Z"
   },
   {
    "duration": 8,
    "start_time": "2024-06-09T01:39:35.112Z"
   },
   {
    "duration": 215,
    "start_time": "2024-06-09T01:39:35.260Z"
   },
   {
    "duration": 233,
    "start_time": "2024-06-09T01:39:35.665Z"
   },
   {
    "duration": 5,
    "start_time": "2024-06-09T01:39:35.911Z"
   },
   {
    "duration": 4,
    "start_time": "2024-06-09T01:39:36.569Z"
   },
   {
    "duration": 626,
    "start_time": "2024-06-09T01:39:37.489Z"
   },
   {
    "duration": 28,
    "start_time": "2024-06-09T01:39:38.118Z"
   },
   {
    "duration": 8,
    "start_time": "2024-06-09T01:39:38.149Z"
   },
   {
    "duration": 135,
    "start_time": "2024-06-09T01:39:38.345Z"
   },
   {
    "duration": 928,
    "start_time": "2024-06-09T01:39:43.324Z"
   },
   {
    "duration": 5,
    "start_time": "2024-06-09T01:39:48.452Z"
   },
   {
    "duration": 1647,
    "start_time": "2024-06-09T01:43:24.363Z"
   },
   {
    "duration": 755,
    "start_time": "2024-06-09T01:43:26.014Z"
   },
   {
    "duration": 21,
    "start_time": "2024-06-09T01:43:26.772Z"
   },
   {
    "duration": 173,
    "start_time": "2024-06-09T01:43:26.796Z"
   },
   {
    "duration": 388,
    "start_time": "2024-06-09T01:43:27.589Z"
   },
   {
    "duration": 496,
    "start_time": "2024-06-09T01:43:27.980Z"
   },
   {
    "duration": 19,
    "start_time": "2024-06-09T01:43:29.211Z"
   },
   {
    "duration": 20,
    "start_time": "2024-06-09T01:43:29.370Z"
   },
   {
    "duration": 18,
    "start_time": "2024-06-09T01:43:29.509Z"
   },
   {
    "duration": 19,
    "start_time": "2024-06-09T01:43:29.662Z"
   },
   {
    "duration": 20,
    "start_time": "2024-06-09T01:43:29.822Z"
   },
   {
    "duration": 45,
    "start_time": "2024-06-09T01:43:30.893Z"
   },
   {
    "duration": 22,
    "start_time": "2024-06-09T01:43:31.069Z"
   },
   {
    "duration": 22,
    "start_time": "2024-06-09T01:43:31.207Z"
   },
   {
    "duration": 28,
    "start_time": "2024-06-09T01:43:31.361Z"
   },
   {
    "duration": 48,
    "start_time": "2024-06-09T01:43:31.502Z"
   },
   {
    "duration": 20,
    "start_time": "2024-06-09T01:43:31.651Z"
   },
   {
    "duration": 21,
    "start_time": "2024-06-09T01:43:31.804Z"
   },
   {
    "duration": 25,
    "start_time": "2024-06-09T01:43:31.958Z"
   },
   {
    "duration": 41,
    "start_time": "2024-06-09T01:43:32.092Z"
   },
   {
    "duration": 24,
    "start_time": "2024-06-09T01:43:32.229Z"
   },
   {
    "duration": 20,
    "start_time": "2024-06-09T01:43:32.409Z"
   },
   {
    "duration": 26,
    "start_time": "2024-06-09T01:43:32.538Z"
   },
   {
    "duration": 39,
    "start_time": "2024-06-09T01:43:32.702Z"
   },
   {
    "duration": 20,
    "start_time": "2024-06-09T01:43:32.848Z"
   },
   {
    "duration": 19,
    "start_time": "2024-06-09T01:43:33.006Z"
   },
   {
    "duration": 26,
    "start_time": "2024-06-09T01:43:33.171Z"
   },
   {
    "duration": 42,
    "start_time": "2024-06-09T01:43:33.342Z"
   },
   {
    "duration": 19,
    "start_time": "2024-06-09T01:43:33.512Z"
   },
   {
    "duration": 20,
    "start_time": "2024-06-09T01:43:33.684Z"
   },
   {
    "duration": 138,
    "start_time": "2024-06-09T01:43:33.855Z"
   },
   {
    "duration": 38,
    "start_time": "2024-06-09T01:43:34.047Z"
   },
   {
    "duration": 14,
    "start_time": "2024-06-09T01:43:34.254Z"
   },
   {
    "duration": 9,
    "start_time": "2024-06-09T01:43:34.443Z"
   },
   {
    "duration": 5,
    "start_time": "2024-06-09T01:43:34.624Z"
   },
   {
    "duration": 11,
    "start_time": "2024-06-09T01:43:34.812Z"
   },
   {
    "duration": 9,
    "start_time": "2024-06-09T01:43:35.054Z"
   },
   {
    "duration": 6,
    "start_time": "2024-06-09T01:43:35.357Z"
   },
   {
    "duration": 6,
    "start_time": "2024-06-09T01:43:35.709Z"
   },
   {
    "duration": 206,
    "start_time": "2024-06-09T01:43:36.873Z"
   },
   {
    "duration": 255,
    "start_time": "2024-06-09T01:43:37.083Z"
   },
   {
    "duration": 6,
    "start_time": "2024-06-09T01:43:37.340Z"
   },
   {
    "duration": 3,
    "start_time": "2024-06-09T01:43:38.054Z"
   },
   {
    "duration": 631,
    "start_time": "2024-06-09T01:43:39.090Z"
   },
   {
    "duration": 27,
    "start_time": "2024-06-09T01:43:39.725Z"
   },
   {
    "duration": 7,
    "start_time": "2024-06-09T01:43:42.050Z"
   },
   {
    "duration": 136,
    "start_time": "2024-06-09T01:43:43.296Z"
   },
   {
    "duration": 910,
    "start_time": "2024-06-09T01:43:45.971Z"
   },
   {
    "duration": 1684,
    "start_time": "2024-06-09T01:44:24.901Z"
   },
   {
    "duration": 798,
    "start_time": "2024-06-09T01:44:26.588Z"
   },
   {
    "duration": 24,
    "start_time": "2024-06-09T01:44:27.389Z"
   },
   {
    "duration": 149,
    "start_time": "2024-06-09T01:44:27.432Z"
   },
   {
    "duration": 396,
    "start_time": "2024-06-09T01:44:28.753Z"
   },
   {
    "duration": 477,
    "start_time": "2024-06-09T01:44:29.153Z"
   },
   {
    "duration": 20,
    "start_time": "2024-06-09T01:44:30.585Z"
   },
   {
    "duration": 19,
    "start_time": "2024-06-09T01:44:30.761Z"
   },
   {
    "duration": 19,
    "start_time": "2024-06-09T01:44:30.910Z"
   },
   {
    "duration": 19,
    "start_time": "2024-06-09T01:44:31.077Z"
   },
   {
    "duration": 20,
    "start_time": "2024-06-09T01:44:31.230Z"
   },
   {
    "duration": 41,
    "start_time": "2024-06-09T01:44:32.023Z"
   },
   {
    "duration": 23,
    "start_time": "2024-06-09T01:44:32.184Z"
   },
   {
    "duration": 21,
    "start_time": "2024-06-09T01:44:32.346Z"
   },
   {
    "duration": 27,
    "start_time": "2024-06-09T01:44:32.529Z"
   },
   {
    "duration": 39,
    "start_time": "2024-06-09T01:44:32.703Z"
   },
   {
    "duration": 21,
    "start_time": "2024-06-09T01:44:32.869Z"
   },
   {
    "duration": 21,
    "start_time": "2024-06-09T01:44:33.039Z"
   },
   {
    "duration": 26,
    "start_time": "2024-06-09T01:44:33.207Z"
   },
   {
    "duration": 47,
    "start_time": "2024-06-09T01:44:33.369Z"
   },
   {
    "duration": 20,
    "start_time": "2024-06-09T01:44:33.532Z"
   },
   {
    "duration": 19,
    "start_time": "2024-06-09T01:44:33.691Z"
   },
   {
    "duration": 25,
    "start_time": "2024-06-09T01:44:33.832Z"
   },
   {
    "duration": 39,
    "start_time": "2024-06-09T01:44:33.996Z"
   },
   {
    "duration": 20,
    "start_time": "2024-06-09T01:44:34.115Z"
   },
   {
    "duration": 21,
    "start_time": "2024-06-09T01:44:34.278Z"
   },
   {
    "duration": 27,
    "start_time": "2024-06-09T01:44:34.435Z"
   },
   {
    "duration": 43,
    "start_time": "2024-06-09T01:44:34.591Z"
   },
   {
    "duration": 19,
    "start_time": "2024-06-09T01:44:34.752Z"
   },
   {
    "duration": 20,
    "start_time": "2024-06-09T01:44:34.929Z"
   },
   {
    "duration": 141,
    "start_time": "2024-06-09T01:44:35.080Z"
   },
   {
    "duration": 33,
    "start_time": "2024-06-09T01:44:35.246Z"
   },
   {
    "duration": 13,
    "start_time": "2024-06-09T01:44:35.407Z"
   },
   {
    "duration": 10,
    "start_time": "2024-06-09T01:44:35.574Z"
   },
   {
    "duration": 5,
    "start_time": "2024-06-09T01:44:35.763Z"
   },
   {
    "duration": 11,
    "start_time": "2024-06-09T01:44:35.923Z"
   },
   {
    "duration": 10,
    "start_time": "2024-06-09T01:44:36.117Z"
   },
   {
    "duration": 9,
    "start_time": "2024-06-09T01:44:36.457Z"
   },
   {
    "duration": 7,
    "start_time": "2024-06-09T01:44:36.815Z"
   },
   {
    "duration": 225,
    "start_time": "2024-06-09T01:44:37.057Z"
   },
   {
    "duration": 232,
    "start_time": "2024-06-09T01:44:37.738Z"
   },
   {
    "duration": 5,
    "start_time": "2024-06-09T01:44:38.040Z"
   },
   {
    "duration": 4,
    "start_time": "2024-06-09T01:44:38.943Z"
   },
   {
    "duration": 652,
    "start_time": "2024-06-09T01:44:39.622Z"
   },
   {
    "duration": 21,
    "start_time": "2024-06-09T01:44:40.278Z"
   },
   {
    "duration": 31,
    "start_time": "2024-06-09T01:44:40.301Z"
   },
   {
    "duration": 132,
    "start_time": "2024-06-09T01:44:43.746Z"
   },
   {
    "duration": 925,
    "start_time": "2024-06-09T01:44:45.023Z"
   },
   {
    "duration": 1708,
    "start_time": "2024-06-09T02:02:48.572Z"
   },
   {
    "duration": 788,
    "start_time": "2024-06-09T02:02:50.284Z"
   },
   {
    "duration": 22,
    "start_time": "2024-06-09T02:02:51.075Z"
   },
   {
    "duration": 153,
    "start_time": "2024-06-09T02:02:51.101Z"
   },
   {
    "duration": 457,
    "start_time": "2024-06-09T02:02:51.257Z"
   },
   {
    "duration": 496,
    "start_time": "2024-06-09T02:02:51.717Z"
   },
   {
    "duration": 19,
    "start_time": "2024-06-09T02:02:52.701Z"
   },
   {
    "duration": 18,
    "start_time": "2024-06-09T02:02:53.060Z"
   },
   {
    "duration": 19,
    "start_time": "2024-06-09T02:02:53.261Z"
   },
   {
    "duration": 33,
    "start_time": "2024-06-09T02:02:53.400Z"
   },
   {
    "duration": 18,
    "start_time": "2024-06-09T02:02:53.530Z"
   },
   {
    "duration": 39,
    "start_time": "2024-06-09T02:02:54.115Z"
   },
   {
    "duration": 21,
    "start_time": "2024-06-09T02:02:54.258Z"
   },
   {
    "duration": 20,
    "start_time": "2024-06-09T02:02:54.396Z"
   },
   {
    "duration": 26,
    "start_time": "2024-06-09T02:02:54.529Z"
   },
   {
    "duration": 49,
    "start_time": "2024-06-09T02:02:54.683Z"
   },
   {
    "duration": 20,
    "start_time": "2024-06-09T02:02:54.832Z"
   },
   {
    "duration": 19,
    "start_time": "2024-06-09T02:02:54.976Z"
   },
   {
    "duration": 26,
    "start_time": "2024-06-09T02:02:55.132Z"
   },
   {
    "duration": 40,
    "start_time": "2024-06-09T02:02:55.275Z"
   },
   {
    "duration": 20,
    "start_time": "2024-06-09T02:02:55.433Z"
   },
   {
    "duration": 19,
    "start_time": "2024-06-09T02:02:55.581Z"
   },
   {
    "duration": 26,
    "start_time": "2024-06-09T02:02:55.741Z"
   },
   {
    "duration": 40,
    "start_time": "2024-06-09T02:02:55.889Z"
   },
   {
    "duration": 21,
    "start_time": "2024-06-09T02:02:56.045Z"
   },
   {
    "duration": 21,
    "start_time": "2024-06-09T02:02:56.189Z"
   },
   {
    "duration": 28,
    "start_time": "2024-06-09T02:02:56.344Z"
   },
   {
    "duration": 42,
    "start_time": "2024-06-09T02:02:56.499Z"
   },
   {
    "duration": 20,
    "start_time": "2024-06-09T02:02:56.663Z"
   },
   {
    "duration": 21,
    "start_time": "2024-06-09T02:02:56.821Z"
   },
   {
    "duration": 141,
    "start_time": "2024-06-09T02:02:56.973Z"
   },
   {
    "duration": 42,
    "start_time": "2024-06-09T02:02:57.130Z"
   },
   {
    "duration": 16,
    "start_time": "2024-06-09T02:02:57.284Z"
   },
   {
    "duration": 9,
    "start_time": "2024-06-09T02:02:57.435Z"
   },
   {
    "duration": 5,
    "start_time": "2024-06-09T02:02:57.601Z"
   },
   {
    "duration": 11,
    "start_time": "2024-06-09T02:02:57.759Z"
   },
   {
    "duration": 11,
    "start_time": "2024-06-09T02:02:57.923Z"
   },
   {
    "duration": 7,
    "start_time": "2024-06-09T02:02:58.065Z"
   },
   {
    "duration": 7,
    "start_time": "2024-06-09T02:02:58.223Z"
   },
   {
    "duration": 207,
    "start_time": "2024-06-09T02:02:58.389Z"
   },
   {
    "duration": 230,
    "start_time": "2024-06-09T02:02:58.688Z"
   },
   {
    "duration": 15,
    "start_time": "2024-06-09T02:02:58.921Z"
   },
   {
    "duration": 4,
    "start_time": "2024-06-09T02:03:01.829Z"
   },
   {
    "duration": 637,
    "start_time": "2024-06-09T02:03:02.337Z"
   },
   {
    "duration": 22,
    "start_time": "2024-06-09T02:03:02.978Z"
   },
   {
    "duration": 7,
    "start_time": "2024-06-09T02:03:05.432Z"
   },
   {
    "duration": 137,
    "start_time": "2024-06-09T02:03:06.750Z"
   },
   {
    "duration": 922,
    "start_time": "2024-06-09T02:03:07.278Z"
   },
   {
    "duration": 1636,
    "start_time": "2024-06-09T02:13:54.656Z"
   },
   {
    "duration": 784,
    "start_time": "2024-06-09T02:13:56.296Z"
   },
   {
    "duration": 23,
    "start_time": "2024-06-09T02:13:57.082Z"
   },
   {
    "duration": 174,
    "start_time": "2024-06-09T02:13:57.110Z"
   },
   {
    "duration": 400,
    "start_time": "2024-06-09T02:13:57.287Z"
   },
   {
    "duration": 473,
    "start_time": "2024-06-09T02:13:58.216Z"
   },
   {
    "duration": 21,
    "start_time": "2024-06-09T02:13:58.900Z"
   },
   {
    "duration": 19,
    "start_time": "2024-06-09T02:13:59.074Z"
   },
   {
    "duration": 19,
    "start_time": "2024-06-09T02:13:59.672Z"
   },
   {
    "duration": 18,
    "start_time": "2024-06-09T02:13:59.824Z"
   },
   {
    "duration": 19,
    "start_time": "2024-06-09T02:13:59.969Z"
   },
   {
    "duration": 39,
    "start_time": "2024-06-09T02:14:00.430Z"
   },
   {
    "duration": 22,
    "start_time": "2024-06-09T02:14:00.600Z"
   },
   {
    "duration": 19,
    "start_time": "2024-06-09T02:14:00.737Z"
   },
   {
    "duration": 26,
    "start_time": "2024-06-09T02:14:00.894Z"
   },
   {
    "duration": 46,
    "start_time": "2024-06-09T02:14:01.058Z"
   },
   {
    "duration": 20,
    "start_time": "2024-06-09T02:14:01.185Z"
   },
   {
    "duration": 26,
    "start_time": "2024-06-09T02:14:01.356Z"
   },
   {
    "duration": 30,
    "start_time": "2024-06-09T02:14:01.531Z"
   },
   {
    "duration": 40,
    "start_time": "2024-06-09T02:14:01.657Z"
   },
   {
    "duration": 21,
    "start_time": "2024-06-09T02:14:01.809Z"
   },
   {
    "duration": 20,
    "start_time": "2024-06-09T02:14:01.960Z"
   },
   {
    "duration": 29,
    "start_time": "2024-06-09T02:14:02.120Z"
   },
   {
    "duration": 39,
    "start_time": "2024-06-09T02:14:02.269Z"
   },
   {
    "duration": 21,
    "start_time": "2024-06-09T02:14:02.426Z"
   },
   {
    "duration": 19,
    "start_time": "2024-06-09T02:14:02.575Z"
   },
   {
    "duration": 26,
    "start_time": "2024-06-09T02:14:02.737Z"
   },
   {
    "duration": 42,
    "start_time": "2024-06-09T02:14:02.878Z"
   },
   {
    "duration": 20,
    "start_time": "2024-06-09T02:14:03.032Z"
   },
   {
    "duration": 22,
    "start_time": "2024-06-09T02:14:03.223Z"
   },
   {
    "duration": 150,
    "start_time": "2024-06-09T02:14:03.430Z"
   },
   {
    "duration": 39,
    "start_time": "2024-06-09T02:14:03.691Z"
   },
   {
    "duration": 12,
    "start_time": "2024-06-09T02:14:03.916Z"
   },
   {
    "duration": 10,
    "start_time": "2024-06-09T02:14:04.063Z"
   },
   {
    "duration": 5,
    "start_time": "2024-06-09T02:14:04.211Z"
   },
   {
    "duration": 18,
    "start_time": "2024-06-09T02:14:04.349Z"
   },
   {
    "duration": 10,
    "start_time": "2024-06-09T02:14:04.489Z"
   },
   {
    "duration": 8,
    "start_time": "2024-06-09T02:14:04.646Z"
   },
   {
    "duration": 7,
    "start_time": "2024-06-09T02:14:04.786Z"
   },
   {
    "duration": 213,
    "start_time": "2024-06-09T02:14:04.919Z"
   },
   {
    "duration": 230,
    "start_time": "2024-06-09T02:14:05.224Z"
   },
   {
    "duration": 6,
    "start_time": "2024-06-09T02:14:05.458Z"
   },
   {
    "duration": 3,
    "start_time": "2024-06-09T02:14:06.928Z"
   },
   {
    "duration": 627,
    "start_time": "2024-06-09T02:14:07.987Z"
   },
   {
    "duration": 30,
    "start_time": "2024-06-09T02:14:08.618Z"
   },
   {
    "duration": 7,
    "start_time": "2024-06-09T02:14:08.652Z"
   },
   {
    "duration": 131,
    "start_time": "2024-06-09T02:14:09.977Z"
   },
   {
    "duration": 925,
    "start_time": "2024-06-09T02:14:10.327Z"
   },
   {
    "duration": 7,
    "start_time": "2024-06-09T02:14:16.035Z"
   },
   {
    "duration": 1625,
    "start_time": "2024-06-09T02:15:29.150Z"
   },
   {
    "duration": 752,
    "start_time": "2024-06-09T02:15:30.778Z"
   },
   {
    "duration": 24,
    "start_time": "2024-06-09T02:15:31.533Z"
   },
   {
    "duration": 160,
    "start_time": "2024-06-09T02:15:31.562Z"
   },
   {
    "duration": 399,
    "start_time": "2024-06-09T02:15:31.734Z"
   },
   {
    "duration": 485,
    "start_time": "2024-06-09T02:15:32.136Z"
   },
   {
    "duration": 26,
    "start_time": "2024-06-09T02:15:32.624Z"
   },
   {
    "duration": 19,
    "start_time": "2024-06-09T02:15:32.653Z"
   },
   {
    "duration": 19,
    "start_time": "2024-06-09T02:15:32.676Z"
   },
   {
    "duration": 48,
    "start_time": "2024-06-09T02:15:32.701Z"
   },
   {
    "duration": 20,
    "start_time": "2024-06-09T02:15:32.751Z"
   },
   {
    "duration": 65,
    "start_time": "2024-06-09T02:15:32.774Z"
   },
   {
    "duration": 22,
    "start_time": "2024-06-09T02:15:32.843Z"
   },
   {
    "duration": 19,
    "start_time": "2024-06-09T02:15:32.868Z"
   },
   {
    "duration": 58,
    "start_time": "2024-06-09T02:15:32.890Z"
   },
   {
    "duration": 39,
    "start_time": "2024-06-09T02:15:32.952Z"
   },
   {
    "duration": 41,
    "start_time": "2024-06-09T02:15:32.994Z"
   },
   {
    "duration": 19,
    "start_time": "2024-06-09T02:15:33.039Z"
   },
   {
    "duration": 26,
    "start_time": "2024-06-09T02:15:33.061Z"
   },
   {
    "duration": 71,
    "start_time": "2024-06-09T02:15:33.090Z"
   },
   {
    "duration": 20,
    "start_time": "2024-06-09T02:15:33.164Z"
   },
   {
    "duration": 46,
    "start_time": "2024-06-09T02:15:33.187Z"
   },
   {
    "duration": 26,
    "start_time": "2024-06-09T02:15:33.236Z"
   },
   {
    "duration": 68,
    "start_time": "2024-06-09T02:15:33.266Z"
   },
   {
    "duration": 21,
    "start_time": "2024-06-09T02:15:33.340Z"
   },
   {
    "duration": 19,
    "start_time": "2024-06-09T02:15:33.364Z"
   },
   {
    "duration": 57,
    "start_time": "2024-06-09T02:15:33.386Z"
   },
   {
    "duration": 43,
    "start_time": "2024-06-09T02:15:33.454Z"
   },
   {
    "duration": 44,
    "start_time": "2024-06-09T02:15:33.500Z"
   },
   {
    "duration": 20,
    "start_time": "2024-06-09T02:15:33.547Z"
   },
   {
    "duration": 164,
    "start_time": "2024-06-09T02:15:33.570Z"
   },
   {
    "duration": 37,
    "start_time": "2024-06-09T02:15:33.737Z"
   },
   {
    "duration": 15,
    "start_time": "2024-06-09T02:15:33.777Z"
   },
   {
    "duration": 41,
    "start_time": "2024-06-09T02:15:33.795Z"
   },
   {
    "duration": 7,
    "start_time": "2024-06-09T02:15:33.839Z"
   },
   {
    "duration": 10,
    "start_time": "2024-06-09T02:15:33.849Z"
   },
   {
    "duration": 9,
    "start_time": "2024-06-09T02:15:33.862Z"
   },
   {
    "duration": 6,
    "start_time": "2024-06-09T02:15:33.874Z"
   },
   {
    "duration": 54,
    "start_time": "2024-06-09T02:15:33.883Z"
   },
   {
    "duration": 225,
    "start_time": "2024-06-09T02:15:33.940Z"
   },
   {
    "duration": 245,
    "start_time": "2024-06-09T02:15:34.168Z"
   },
   {
    "duration": 15,
    "start_time": "2024-06-09T02:15:34.417Z"
   },
   {
    "duration": 4,
    "start_time": "2024-06-09T02:15:34.436Z"
   },
   {
    "duration": 647,
    "start_time": "2024-06-09T02:15:34.445Z"
   },
   {
    "duration": 22,
    "start_time": "2024-06-09T02:15:35.095Z"
   },
   {
    "duration": 7,
    "start_time": "2024-06-09T02:15:35.133Z"
   },
   {
    "duration": 149,
    "start_time": "2024-06-09T02:15:35.143Z"
   },
   {
    "duration": 932,
    "start_time": "2024-06-09T02:15:35.294Z"
   },
   {
    "duration": 5,
    "start_time": "2024-06-09T02:15:36.228Z"
   },
   {
    "duration": 1684,
    "start_time": "2024-06-09T02:16:42.707Z"
   },
   {
    "duration": 734,
    "start_time": "2024-06-09T02:16:44.395Z"
   },
   {
    "duration": 22,
    "start_time": "2024-06-09T02:16:45.131Z"
   },
   {
    "duration": 158,
    "start_time": "2024-06-09T02:16:45.157Z"
   },
   {
    "duration": 411,
    "start_time": "2024-06-09T02:16:45.319Z"
   },
   {
    "duration": 482,
    "start_time": "2024-06-09T02:16:45.734Z"
   },
   {
    "duration": 33,
    "start_time": "2024-06-09T02:16:46.218Z"
   },
   {
    "duration": 20,
    "start_time": "2024-06-09T02:16:46.254Z"
   },
   {
    "duration": 20,
    "start_time": "2024-06-09T02:16:46.277Z"
   },
   {
    "duration": 19,
    "start_time": "2024-06-09T02:16:46.334Z"
   },
   {
    "duration": 19,
    "start_time": "2024-06-09T02:16:46.356Z"
   },
   {
    "duration": 60,
    "start_time": "2024-06-09T02:16:46.379Z"
   },
   {
    "duration": 22,
    "start_time": "2024-06-09T02:16:46.442Z"
   },
   {
    "duration": 19,
    "start_time": "2024-06-09T02:16:46.469Z"
   },
   {
    "duration": 59,
    "start_time": "2024-06-09T02:16:46.491Z"
   },
   {
    "duration": 41,
    "start_time": "2024-06-09T02:16:46.552Z"
   },
   {
    "duration": 41,
    "start_time": "2024-06-09T02:16:46.596Z"
   },
   {
    "duration": 19,
    "start_time": "2024-06-09T02:16:46.640Z"
   },
   {
    "duration": 27,
    "start_time": "2024-06-09T02:16:46.662Z"
   },
   {
    "duration": 72,
    "start_time": "2024-06-09T02:16:46.692Z"
   },
   {
    "duration": 20,
    "start_time": "2024-06-09T02:16:46.767Z"
   },
   {
    "duration": 44,
    "start_time": "2024-06-09T02:16:46.790Z"
   },
   {
    "duration": 25,
    "start_time": "2024-06-09T02:16:46.838Z"
   },
   {
    "duration": 67,
    "start_time": "2024-06-09T02:16:46.867Z"
   },
   {
    "duration": 23,
    "start_time": "2024-06-09T02:16:46.940Z"
   },
   {
    "duration": 20,
    "start_time": "2024-06-09T02:16:46.967Z"
   },
   {
    "duration": 48,
    "start_time": "2024-06-09T02:16:46.990Z"
   },
   {
    "duration": 43,
    "start_time": "2024-06-09T02:16:47.047Z"
   },
   {
    "duration": 46,
    "start_time": "2024-06-09T02:16:47.093Z"
   },
   {
    "duration": 31,
    "start_time": "2024-06-09T02:16:47.144Z"
   },
   {
    "duration": 158,
    "start_time": "2024-06-09T02:16:47.178Z"
   },
   {
    "duration": 40,
    "start_time": "2024-06-09T02:16:47.339Z"
   },
   {
    "duration": 13,
    "start_time": "2024-06-09T02:16:47.382Z"
   },
   {
    "duration": 41,
    "start_time": "2024-06-09T02:16:47.398Z"
   },
   {
    "duration": 8,
    "start_time": "2024-06-09T02:16:47.442Z"
   },
   {
    "duration": 11,
    "start_time": "2024-06-09T02:16:47.454Z"
   },
   {
    "duration": 9,
    "start_time": "2024-06-09T02:16:47.467Z"
   },
   {
    "duration": 7,
    "start_time": "2024-06-09T02:16:47.479Z"
   },
   {
    "duration": 7,
    "start_time": "2024-06-09T02:16:47.533Z"
   },
   {
    "duration": 233,
    "start_time": "2024-06-09T02:16:47.543Z"
   },
   {
    "duration": 249,
    "start_time": "2024-06-09T02:16:47.780Z"
   },
   {
    "duration": 9,
    "start_time": "2024-06-09T02:16:48.034Z"
   },
   {
    "duration": 4,
    "start_time": "2024-06-09T02:16:48.047Z"
   },
   {
    "duration": 660,
    "start_time": "2024-06-09T02:16:48.055Z"
   },
   {
    "duration": 24,
    "start_time": "2024-06-09T02:16:48.723Z"
   },
   {
    "duration": 8,
    "start_time": "2024-06-09T02:16:48.750Z"
   },
   {
    "duration": 155,
    "start_time": "2024-06-09T02:16:48.761Z"
   },
   {
    "duration": 943,
    "start_time": "2024-06-09T02:16:48.919Z"
   },
   {
    "duration": 4,
    "start_time": "2024-06-09T02:16:49.865Z"
   },
   {
    "duration": 5431,
    "start_time": "2024-06-09T03:10:19.046Z"
   },
   {
    "duration": 995,
    "start_time": "2024-06-09T03:10:24.482Z"
   },
   {
    "duration": 33,
    "start_time": "2024-06-09T03:10:25.480Z"
   },
   {
    "duration": 197,
    "start_time": "2024-06-09T03:10:25.517Z"
   },
   {
    "duration": 460,
    "start_time": "2024-06-09T03:10:25.718Z"
   },
   {
    "duration": 489,
    "start_time": "2024-06-09T03:10:29.257Z"
   },
   {
    "duration": 23,
    "start_time": "2024-06-09T03:10:29.750Z"
   },
   {
    "duration": 41,
    "start_time": "2024-06-09T03:10:29.777Z"
   },
   {
    "duration": 21,
    "start_time": "2024-06-09T03:10:29.908Z"
   },
   {
    "duration": 29,
    "start_time": "2024-06-09T03:10:30.064Z"
   },
   {
    "duration": 20,
    "start_time": "2024-06-09T03:10:30.209Z"
   },
   {
    "duration": 43,
    "start_time": "2024-06-09T03:10:31.052Z"
   },
   {
    "duration": 21,
    "start_time": "2024-06-09T03:10:31.196Z"
   },
   {
    "duration": 20,
    "start_time": "2024-06-09T03:10:31.315Z"
   },
   {
    "duration": 27,
    "start_time": "2024-06-09T03:10:31.445Z"
   },
   {
    "duration": 40,
    "start_time": "2024-06-09T03:10:31.604Z"
   },
   {
    "duration": 21,
    "start_time": "2024-06-09T03:10:31.759Z"
   },
   {
    "duration": 20,
    "start_time": "2024-06-09T03:10:31.893Z"
   },
   {
    "duration": 25,
    "start_time": "2024-06-09T03:10:32.042Z"
   },
   {
    "duration": 39,
    "start_time": "2024-06-09T03:10:32.211Z"
   },
   {
    "duration": 22,
    "start_time": "2024-06-09T03:10:32.344Z"
   },
   {
    "duration": 19,
    "start_time": "2024-06-09T03:10:32.498Z"
   },
   {
    "duration": 26,
    "start_time": "2024-06-09T03:10:32.641Z"
   },
   {
    "duration": 39,
    "start_time": "2024-06-09T03:10:32.800Z"
   },
   {
    "duration": 22,
    "start_time": "2024-06-09T03:10:32.948Z"
   },
   {
    "duration": 33,
    "start_time": "2024-06-09T03:10:33.103Z"
   },
   {
    "duration": 27,
    "start_time": "2024-06-09T03:10:33.248Z"
   },
   {
    "duration": 46,
    "start_time": "2024-06-09T03:10:33.398Z"
   },
   {
    "duration": 19,
    "start_time": "2024-06-09T03:10:33.561Z"
   },
   {
    "duration": 21,
    "start_time": "2024-06-09T03:10:33.721Z"
   },
   {
    "duration": 143,
    "start_time": "2024-06-09T03:10:33.888Z"
   },
   {
    "duration": 39,
    "start_time": "2024-06-09T03:10:34.050Z"
   },
   {
    "duration": 13,
    "start_time": "2024-06-09T03:10:34.201Z"
   },
   {
    "duration": 10,
    "start_time": "2024-06-09T03:10:34.352Z"
   },
   {
    "duration": 6,
    "start_time": "2024-06-09T03:10:34.519Z"
   },
   {
    "duration": 10,
    "start_time": "2024-06-09T03:10:34.685Z"
   },
   {
    "duration": 9,
    "start_time": "2024-06-09T03:10:34.860Z"
   },
   {
    "duration": 7,
    "start_time": "2024-06-09T03:10:35.004Z"
   },
   {
    "duration": 7,
    "start_time": "2024-06-09T03:10:35.161Z"
   },
   {
    "duration": 224,
    "start_time": "2024-06-09T03:10:35.324Z"
   },
   {
    "duration": 242,
    "start_time": "2024-06-09T03:10:35.612Z"
   },
   {
    "duration": 5,
    "start_time": "2024-06-09T03:10:35.858Z"
   },
   {
    "duration": 4,
    "start_time": "2024-06-09T03:10:47.521Z"
   },
   {
    "duration": 646,
    "start_time": "2024-06-09T03:10:52.567Z"
   },
   {
    "duration": 23,
    "start_time": "2024-06-09T03:10:53.218Z"
   },
   {
    "duration": 8,
    "start_time": "2024-06-09T03:10:54.188Z"
   },
   {
    "duration": 137,
    "start_time": "2024-06-09T03:10:54.990Z"
   },
   {
    "duration": 958,
    "start_time": "2024-06-09T03:10:55.348Z"
   },
   {
    "duration": 3,
    "start_time": "2024-06-09T03:10:56.611Z"
   },
   {
    "duration": 1658,
    "start_time": "2024-06-09T03:12:41.158Z"
   },
   {
    "duration": 750,
    "start_time": "2024-06-09T03:12:42.820Z"
   },
   {
    "duration": 22,
    "start_time": "2024-06-09T03:12:43.573Z"
   },
   {
    "duration": 157,
    "start_time": "2024-06-09T03:12:43.614Z"
   },
   {
    "duration": 410,
    "start_time": "2024-06-09T03:12:43.775Z"
   },
   {
    "duration": 505,
    "start_time": "2024-06-09T03:12:44.187Z"
   },
   {
    "duration": 24,
    "start_time": "2024-06-09T03:12:44.695Z"
   },
   {
    "duration": 19,
    "start_time": "2024-06-09T03:12:44.723Z"
   },
   {
    "duration": 21,
    "start_time": "2024-06-09T03:12:44.745Z"
   },
   {
    "duration": 53,
    "start_time": "2024-06-09T03:12:44.768Z"
   },
   {
    "duration": 20,
    "start_time": "2024-06-09T03:12:44.824Z"
   },
   {
    "duration": 68,
    "start_time": "2024-06-09T03:12:44.847Z"
   },
   {
    "duration": 22,
    "start_time": "2024-06-09T03:12:44.918Z"
   },
   {
    "duration": 21,
    "start_time": "2024-06-09T03:12:44.947Z"
   },
   {
    "duration": 54,
    "start_time": "2024-06-09T03:12:44.971Z"
   },
   {
    "duration": 40,
    "start_time": "2024-06-09T03:12:45.029Z"
   },
   {
    "duration": 50,
    "start_time": "2024-06-09T03:12:45.073Z"
   },
   {
    "duration": 19,
    "start_time": "2024-06-09T03:12:45.126Z"
   },
   {
    "duration": 26,
    "start_time": "2024-06-09T03:12:45.149Z"
   },
   {
    "duration": 64,
    "start_time": "2024-06-09T03:12:45.178Z"
   },
   {
    "duration": 20,
    "start_time": "2024-06-09T03:12:45.245Z"
   },
   {
    "duration": 46,
    "start_time": "2024-06-09T03:12:45.268Z"
   },
   {
    "duration": 28,
    "start_time": "2024-06-09T03:12:45.317Z"
   },
   {
    "duration": 68,
    "start_time": "2024-06-09T03:12:45.349Z"
   },
   {
    "duration": 20,
    "start_time": "2024-06-09T03:12:45.421Z"
   },
   {
    "duration": 20,
    "start_time": "2024-06-09T03:12:45.443Z"
   },
   {
    "duration": 55,
    "start_time": "2024-06-09T03:12:45.466Z"
   },
   {
    "duration": 46,
    "start_time": "2024-06-09T03:12:45.524Z"
   },
   {
    "duration": 43,
    "start_time": "2024-06-09T03:12:45.572Z"
   },
   {
    "duration": 20,
    "start_time": "2024-06-09T03:12:45.618Z"
   },
   {
    "duration": 171,
    "start_time": "2024-06-09T03:12:45.641Z"
   },
   {
    "duration": 48,
    "start_time": "2024-06-09T03:12:45.816Z"
   },
   {
    "duration": 15,
    "start_time": "2024-06-09T03:12:45.867Z"
   },
   {
    "duration": 31,
    "start_time": "2024-06-09T03:12:45.887Z"
   },
   {
    "duration": 6,
    "start_time": "2024-06-09T03:12:45.921Z"
   },
   {
    "duration": 12,
    "start_time": "2024-06-09T03:12:45.931Z"
   },
   {
    "duration": 10,
    "start_time": "2024-06-09T03:12:45.946Z"
   },
   {
    "duration": 55,
    "start_time": "2024-06-09T03:12:45.960Z"
   },
   {
    "duration": 8,
    "start_time": "2024-06-09T03:12:46.018Z"
   },
   {
    "duration": 289,
    "start_time": "2024-06-09T03:12:46.029Z"
   },
   {
    "duration": 318,
    "start_time": "2024-06-09T03:12:46.333Z"
   },
   {
    "duration": 7,
    "start_time": "2024-06-09T03:12:46.654Z"
   },
   {
    "duration": 5,
    "start_time": "2024-06-09T03:12:46.664Z"
   },
   {
    "duration": 673,
    "start_time": "2024-06-09T03:12:46.672Z"
   },
   {
    "duration": 26,
    "start_time": "2024-06-09T03:12:47.347Z"
   },
   {
    "duration": 9,
    "start_time": "2024-06-09T03:12:47.376Z"
   },
   {
    "duration": 142,
    "start_time": "2024-06-09T03:12:47.412Z"
   },
   {
    "duration": 922,
    "start_time": "2024-06-09T03:12:47.557Z"
   },
   {
    "duration": 5,
    "start_time": "2024-06-09T03:12:48.481Z"
   },
   {
    "duration": 5529,
    "start_time": "2024-06-10T21:37:44.529Z"
   },
   {
    "duration": 894,
    "start_time": "2024-06-10T21:37:50.062Z"
   },
   {
    "duration": 27,
    "start_time": "2024-06-10T21:37:50.960Z"
   },
   {
    "duration": 144,
    "start_time": "2024-06-10T21:37:54.815Z"
   },
   {
    "duration": 434,
    "start_time": "2024-06-10T21:38:00.269Z"
   },
   {
    "duration": 497,
    "start_time": "2024-06-10T21:38:04.308Z"
   },
   {
    "duration": 20,
    "start_time": "2024-06-10T21:38:16.537Z"
   },
   {
    "duration": 30,
    "start_time": "2024-06-10T21:38:17.436Z"
   },
   {
    "duration": 30,
    "start_time": "2024-06-10T21:38:17.965Z"
   },
   {
    "duration": 20,
    "start_time": "2024-06-10T21:38:18.632Z"
   },
   {
    "duration": 31,
    "start_time": "2024-06-10T21:38:19.079Z"
   },
   {
    "duration": 45,
    "start_time": "2024-06-10T21:38:39.347Z"
   },
   {
    "duration": 24,
    "start_time": "2024-06-10T21:38:40.078Z"
   },
   {
    "duration": 27,
    "start_time": "2024-06-10T21:38:56.514Z"
   },
   {
    "duration": 26,
    "start_time": "2024-06-10T21:39:01.047Z"
   },
   {
    "duration": 48,
    "start_time": "2024-06-10T21:39:08.232Z"
   },
   {
    "duration": 23,
    "start_time": "2024-06-10T21:39:09.483Z"
   },
   {
    "duration": 21,
    "start_time": "2024-06-10T21:39:10.489Z"
   },
   {
    "duration": 35,
    "start_time": "2024-06-10T21:39:11.136Z"
   },
   {
    "duration": 41,
    "start_time": "2024-06-10T21:39:13.453Z"
   },
   {
    "duration": 35,
    "start_time": "2024-06-10T21:39:18.198Z"
   },
   {
    "duration": 21,
    "start_time": "2024-06-10T21:39:18.917Z"
   },
   {
    "duration": 26,
    "start_time": "2024-06-10T21:39:20.636Z"
   },
   {
    "duration": 62,
    "start_time": "2024-06-10T21:39:21.234Z"
   },
   {
    "duration": 31,
    "start_time": "2024-06-10T21:39:21.654Z"
   },
   {
    "duration": 21,
    "start_time": "2024-06-10T21:39:26.457Z"
   },
   {
    "duration": 57,
    "start_time": "2024-06-10T21:39:37.598Z"
   },
   {
    "duration": 31,
    "start_time": "2024-06-10T21:39:38.236Z"
   },
   {
    "duration": 23,
    "start_time": "2024-06-10T21:39:38.569Z"
   },
   {
    "duration": 152,
    "start_time": "2024-06-10T21:39:39.763Z"
   },
   {
    "duration": 42,
    "start_time": "2024-06-10T21:40:17.976Z"
   },
   {
    "duration": 14,
    "start_time": "2024-06-10T21:40:48.845Z"
   },
   {
    "duration": 11,
    "start_time": "2024-06-10T21:41:43.404Z"
   },
   {
    "duration": 6,
    "start_time": "2024-06-10T21:41:44.068Z"
   },
   {
    "duration": 12,
    "start_time": "2024-06-10T21:41:44.954Z"
   },
   {
    "duration": 15,
    "start_time": "2024-06-10T21:41:45.836Z"
   },
   {
    "duration": 13,
    "start_time": "2024-06-10T21:42:10.581Z"
   },
   {
    "duration": 9,
    "start_time": "2024-06-10T21:42:11.774Z"
   },
   {
    "duration": 10,
    "start_time": "2024-06-10T21:42:17.513Z"
   },
   {
    "duration": 8,
    "start_time": "2024-06-10T21:42:17.861Z"
   },
   {
    "duration": 8,
    "start_time": "2024-06-10T21:42:27.124Z"
   },
   {
    "duration": 224,
    "start_time": "2024-06-10T21:43:11.645Z"
   },
   {
    "duration": 318,
    "start_time": "2024-06-10T21:43:12.805Z"
   },
   {
    "duration": 14,
    "start_time": "2024-06-10T21:43:13.130Z"
   },
   {
    "duration": 4,
    "start_time": "2024-06-10T21:44:41.704Z"
   },
   {
    "duration": 242,
    "start_time": "2024-06-10T21:46:32.705Z"
   },
   {
    "duration": 26,
    "start_time": "2024-06-10T21:46:37.049Z"
   },
   {
    "duration": 8,
    "start_time": "2024-06-10T21:47:14.447Z"
   },
   {
    "duration": 32,
    "start_time": "2024-06-10T21:47:24.089Z"
   },
   {
    "duration": 265,
    "start_time": "2024-06-10T21:47:25.799Z"
   },
   {
    "duration": 4,
    "start_time": "2024-06-10T21:47:29.094Z"
   },
   {
    "duration": 785,
    "start_time": "2024-06-10T21:47:30.591Z"
   },
   {
    "duration": 27,
    "start_time": "2024-06-10T21:50:38.097Z"
   },
   {
    "duration": 237,
    "start_time": "2024-06-10T21:50:44.569Z"
   },
   {
    "duration": 26,
    "start_time": "2024-06-10T21:51:13.320Z"
   },
   {
    "duration": 222,
    "start_time": "2024-06-10T21:51:13.904Z"
   },
   {
    "duration": 4,
    "start_time": "2024-06-10T21:51:15.296Z"
   },
   {
    "duration": 646,
    "start_time": "2024-06-10T21:51:16.010Z"
   },
   {
    "duration": 21,
    "start_time": "2024-06-10T21:51:35.855Z"
   },
   {
    "duration": 24,
    "start_time": "2024-06-10T21:51:39.363Z"
   },
   {
    "duration": 199,
    "start_time": "2024-06-10T21:51:39.672Z"
   },
   {
    "duration": 6,
    "start_time": "2024-06-10T21:51:40.311Z"
   },
   {
    "duration": 7,
    "start_time": "2024-06-10T21:55:44.022Z"
   },
   {
    "duration": 1842,
    "start_time": "2024-06-10T21:56:58.024Z"
   },
   {
    "duration": 878,
    "start_time": "2024-06-10T21:56:59.870Z"
   },
   {
    "duration": 22,
    "start_time": "2024-06-10T21:57:00.752Z"
   },
   {
    "duration": 174,
    "start_time": "2024-06-10T21:57:00.778Z"
   },
   {
    "duration": 515,
    "start_time": "2024-06-10T21:57:00.955Z"
   },
   {
    "duration": 590,
    "start_time": "2024-06-10T21:57:01.473Z"
   },
   {
    "duration": 40,
    "start_time": "2024-06-10T21:57:02.066Z"
   },
   {
    "duration": 36,
    "start_time": "2024-06-10T21:57:02.118Z"
   },
   {
    "duration": 23,
    "start_time": "2024-06-10T21:57:02.158Z"
   },
   {
    "duration": 31,
    "start_time": "2024-06-10T21:57:02.202Z"
   },
   {
    "duration": 26,
    "start_time": "2024-06-10T21:57:02.236Z"
   },
   {
    "duration": 76,
    "start_time": "2024-06-10T21:57:02.265Z"
   },
   {
    "duration": 26,
    "start_time": "2024-06-10T21:57:02.345Z"
   },
   {
    "duration": 54,
    "start_time": "2024-06-10T21:57:02.375Z"
   },
   {
    "duration": 29,
    "start_time": "2024-06-10T21:57:02.432Z"
   },
   {
    "duration": 75,
    "start_time": "2024-06-10T21:57:02.464Z"
   },
   {
    "duration": 24,
    "start_time": "2024-06-10T21:57:02.542Z"
   },
   {
    "duration": 44,
    "start_time": "2024-06-10T21:57:02.569Z"
   },
   {
    "duration": 35,
    "start_time": "2024-06-10T21:57:02.616Z"
   },
   {
    "duration": 63,
    "start_time": "2024-06-10T21:57:02.654Z"
   },
   {
    "duration": 25,
    "start_time": "2024-06-10T21:57:02.720Z"
   },
   {
    "duration": 54,
    "start_time": "2024-06-10T21:57:02.751Z"
   },
   {
    "duration": 39,
    "start_time": "2024-06-10T21:57:02.808Z"
   },
   {
    "duration": 59,
    "start_time": "2024-06-10T21:57:02.849Z"
   },
   {
    "duration": 23,
    "start_time": "2024-06-10T21:57:02.913Z"
   },
   {
    "duration": 21,
    "start_time": "2024-06-10T21:57:02.940Z"
   },
   {
    "duration": 60,
    "start_time": "2024-06-10T21:57:02.965Z"
   },
   {
    "duration": 74,
    "start_time": "2024-06-10T21:57:03.037Z"
   },
   {
    "duration": 26,
    "start_time": "2024-06-10T21:57:03.114Z"
   },
   {
    "duration": 21,
    "start_time": "2024-06-10T21:57:03.144Z"
   },
   {
    "duration": 198,
    "start_time": "2024-06-10T21:57:03.168Z"
   },
   {
    "duration": 55,
    "start_time": "2024-06-10T21:57:03.369Z"
   },
   {
    "duration": 17,
    "start_time": "2024-06-10T21:57:03.428Z"
   },
   {
    "duration": 13,
    "start_time": "2024-06-10T21:57:03.448Z"
   },
   {
    "duration": 37,
    "start_time": "2024-06-10T21:57:03.464Z"
   },
   {
    "duration": 14,
    "start_time": "2024-06-10T21:57:03.504Z"
   },
   {
    "duration": 12,
    "start_time": "2024-06-10T21:57:03.522Z"
   },
   {
    "duration": 8,
    "start_time": "2024-06-10T21:57:03.538Z"
   },
   {
    "duration": 53,
    "start_time": "2024-06-10T21:57:03.550Z"
   },
   {
    "duration": 233,
    "start_time": "2024-06-10T21:57:03.609Z"
   },
   {
    "duration": 276,
    "start_time": "2024-06-10T21:57:03.846Z"
   },
   {
    "duration": 11,
    "start_time": "2024-06-10T21:57:04.126Z"
   },
   {
    "duration": 4,
    "start_time": "2024-06-10T21:57:04.141Z"
   },
   {
    "duration": 308,
    "start_time": "2024-06-10T21:57:04.149Z"
   },
   {
    "duration": 28,
    "start_time": "2024-06-10T21:57:04.460Z"
   },
   {
    "duration": 37,
    "start_time": "2024-06-10T21:57:04.503Z"
   },
   {
    "duration": 10,
    "start_time": "2024-06-10T21:57:04.543Z"
   },
   {
    "duration": 48,
    "start_time": "2024-06-10T21:57:04.557Z"
   },
   {
    "duration": 218,
    "start_time": "2024-06-10T21:57:04.608Z"
   },
   {
    "duration": 5,
    "start_time": "2024-06-10T21:57:04.829Z"
   },
   {
    "duration": 236900,
    "start_time": "2024-06-10T21:57:04.839Z"
   },
   {
    "duration": 3712,
    "start_time": "2024-06-10T22:01:01.743Z"
   },
   {
    "duration": 6,
    "start_time": "2024-06-10T22:01:05.459Z"
   },
   {
    "duration": 3,
    "start_time": "2024-06-10T22:01:05.469Z"
   },
   {
    "duration": 3660,
    "start_time": "2024-06-10T22:01:05.475Z"
   },
   {
    "duration": 72,
    "start_time": "2024-06-10T22:01:09.138Z"
   },
   {
    "duration": 10,
    "start_time": "2024-06-10T22:01:09.214Z"
   },
   {
    "duration": 16,
    "start_time": "2024-06-10T22:01:09.228Z"
   },
   {
    "duration": 2890,
    "start_time": "2024-06-10T22:01:09.252Z"
   },
   {
    "duration": 109,
    "start_time": "2024-06-10T22:01:12.203Z"
   },
   {
    "duration": 8,
    "start_time": "2024-06-10T22:01:12.317Z"
   },
   {
    "duration": 789,
    "start_time": "2024-06-10T22:01:12.329Z"
   },
   {
    "duration": 5,
    "start_time": "2024-06-10T22:01:13.122Z"
   },
   {
    "duration": 191,
    "start_time": "2024-06-10T22:01:13.131Z"
   },
   {
    "duration": 7,
    "start_time": "2024-06-10T22:01:13.324Z"
   },
   {
    "duration": 11,
    "start_time": "2024-06-10T22:01:13.335Z"
   },
   {
    "duration": 0,
    "start_time": "2024-06-10T22:01:13.355Z"
   },
   {
    "duration": 0,
    "start_time": "2024-06-10T22:01:13.401Z"
   },
   {
    "duration": 0,
    "start_time": "2024-06-10T22:01:13.406Z"
   },
   {
    "duration": 0,
    "start_time": "2024-06-10T22:01:13.408Z"
   },
   {
    "duration": 0,
    "start_time": "2024-06-10T22:01:13.411Z"
   },
   {
    "duration": 0,
    "start_time": "2024-06-10T22:01:13.413Z"
   },
   {
    "duration": 0,
    "start_time": "2024-06-10T22:01:13.415Z"
   },
   {
    "duration": 0,
    "start_time": "2024-06-10T22:01:13.418Z"
   },
   {
    "duration": 0,
    "start_time": "2024-06-10T22:01:13.420Z"
   },
   {
    "duration": 0,
    "start_time": "2024-06-10T22:01:13.422Z"
   },
   {
    "duration": 1,
    "start_time": "2024-06-10T22:01:13.424Z"
   },
   {
    "duration": 0,
    "start_time": "2024-06-10T22:01:13.427Z"
   },
   {
    "duration": 8,
    "start_time": "2024-06-10T22:46:29.255Z"
   },
   {
    "duration": 1425777,
    "start_time": "2024-06-10T22:46:42.754Z"
   },
   {
    "duration": 5,
    "start_time": "2024-06-10T23:18:38.331Z"
   },
   {
    "duration": 2943,
    "start_time": "2024-06-10T23:19:40.115Z"
   },
   {
    "duration": 6,
    "start_time": "2024-06-10T23:20:01.129Z"
   },
   {
    "duration": 589,
    "start_time": "2024-06-10T23:22:20.668Z"
   },
   {
    "duration": 30,
    "start_time": "2024-06-10T23:22:55.305Z"
   },
   {
    "duration": 251,
    "start_time": "2024-06-10T23:22:55.986Z"
   },
   {
    "duration": 7,
    "start_time": "2024-06-10T23:23:10.137Z"
   },
   {
    "duration": 8,
    "start_time": "2024-06-10T23:23:36.367Z"
   },
   {
    "duration": 1690,
    "start_time": "2024-06-10T23:30:43.551Z"
   },
   {
    "duration": 763,
    "start_time": "2024-06-10T23:30:45.247Z"
   },
   {
    "duration": 27,
    "start_time": "2024-06-10T23:30:46.014Z"
   },
   {
    "duration": 216,
    "start_time": "2024-06-10T23:30:46.047Z"
   },
   {
    "duration": 438,
    "start_time": "2024-06-10T23:30:46.269Z"
   },
   {
    "duration": 542,
    "start_time": "2024-06-10T23:30:46.716Z"
   },
   {
    "duration": 20,
    "start_time": "2024-06-10T23:30:47.262Z"
   },
   {
    "duration": 19,
    "start_time": "2024-06-10T23:30:47.301Z"
   },
   {
    "duration": 21,
    "start_time": "2024-06-10T23:30:47.323Z"
   },
   {
    "duration": 52,
    "start_time": "2024-06-10T23:30:47.351Z"
   },
   {
    "duration": 32,
    "start_time": "2024-06-10T23:30:47.407Z"
   },
   {
    "duration": 84,
    "start_time": "2024-06-10T23:30:47.443Z"
   },
   {
    "duration": 25,
    "start_time": "2024-06-10T23:30:47.534Z"
   },
   {
    "duration": 38,
    "start_time": "2024-06-10T23:30:47.565Z"
   },
   {
    "duration": 27,
    "start_time": "2024-06-10T23:30:47.606Z"
   },
   {
    "duration": 79,
    "start_time": "2024-06-10T23:30:47.636Z"
   },
   {
    "duration": 21,
    "start_time": "2024-06-10T23:30:47.718Z"
   },
   {
    "duration": 21,
    "start_time": "2024-06-10T23:30:47.743Z"
   },
   {
    "duration": 55,
    "start_time": "2024-06-10T23:30:47.767Z"
   },
   {
    "duration": 76,
    "start_time": "2024-06-10T23:30:47.827Z"
   },
   {
    "duration": 21,
    "start_time": "2024-06-10T23:30:47.906Z"
   },
   {
    "duration": 33,
    "start_time": "2024-06-10T23:30:47.931Z"
   },
   {
    "duration": 51,
    "start_time": "2024-06-10T23:30:47.969Z"
   },
   {
    "duration": 52,
    "start_time": "2024-06-10T23:30:48.023Z"
   },
   {
    "duration": 41,
    "start_time": "2024-06-10T23:30:48.078Z"
   },
   {
    "duration": 21,
    "start_time": "2024-06-10T23:30:48.123Z"
   },
   {
    "duration": 51,
    "start_time": "2024-06-10T23:30:48.151Z"
   },
   {
    "duration": 54,
    "start_time": "2024-06-10T23:30:48.215Z"
   },
   {
    "duration": 32,
    "start_time": "2024-06-10T23:30:48.274Z"
   },
   {
    "duration": 21,
    "start_time": "2024-06-10T23:30:48.311Z"
   },
   {
    "duration": 167,
    "start_time": "2024-06-10T23:30:48.335Z"
   },
   {
    "duration": 43,
    "start_time": "2024-06-10T23:30:48.505Z"
   },
   {
    "duration": 17,
    "start_time": "2024-06-10T23:30:48.551Z"
   },
   {
    "duration": 35,
    "start_time": "2024-06-10T23:30:48.573Z"
   },
   {
    "duration": 7,
    "start_time": "2024-06-10T23:30:48.613Z"
   },
   {
    "duration": 14,
    "start_time": "2024-06-10T23:30:48.623Z"
   },
   {
    "duration": 14,
    "start_time": "2024-06-10T23:30:48.640Z"
   },
   {
    "duration": 45,
    "start_time": "2024-06-10T23:30:48.657Z"
   },
   {
    "duration": 8,
    "start_time": "2024-06-10T23:30:48.705Z"
   },
   {
    "duration": 230,
    "start_time": "2024-06-10T23:30:48.719Z"
   },
   {
    "duration": 238,
    "start_time": "2024-06-10T23:30:48.954Z"
   },
   {
    "duration": 6,
    "start_time": "2024-06-10T23:30:49.203Z"
   },
   {
    "duration": 4,
    "start_time": "2024-06-10T23:30:49.213Z"
   },
   {
    "duration": 271,
    "start_time": "2024-06-10T23:30:49.220Z"
   },
   {
    "duration": 32,
    "start_time": "2024-06-10T23:30:49.493Z"
   },
   {
    "duration": 31,
    "start_time": "2024-06-10T23:30:49.530Z"
   },
   {
    "duration": 8,
    "start_time": "2024-06-10T23:30:49.564Z"
   },
   {
    "duration": 16,
    "start_time": "2024-06-10T23:30:49.601Z"
   },
   {
    "duration": 289,
    "start_time": "2024-06-10T23:30:49.619Z"
   },
   {
    "duration": 4,
    "start_time": "2024-06-10T23:30:49.912Z"
   },
   {
    "duration": 209502,
    "start_time": "2024-06-10T23:30:49.919Z"
   },
   {
    "duration": 3264,
    "start_time": "2024-06-10T23:34:19.426Z"
   },
   {
    "duration": 13,
    "start_time": "2024-06-10T23:34:22.693Z"
   },
   {
    "duration": 3,
    "start_time": "2024-06-10T23:34:22.710Z"
   },
   {
    "duration": 3260,
    "start_time": "2024-06-10T23:34:22.716Z"
   },
   {
    "duration": 74,
    "start_time": "2024-06-10T23:34:25.979Z"
   },
   {
    "duration": 6,
    "start_time": "2024-06-10T23:34:26.056Z"
   },
   {
    "duration": 5,
    "start_time": "2024-06-10T23:34:26.065Z"
   },
   {
    "duration": 2632,
    "start_time": "2024-06-10T23:34:26.073Z"
   },
   {
    "duration": 110,
    "start_time": "2024-06-10T23:34:28.712Z"
   },
   {
    "duration": 8,
    "start_time": "2024-06-10T23:34:28.826Z"
   },
   {
    "duration": 966,
    "start_time": "2024-06-10T23:34:28.837Z"
   },
   {
    "duration": 4,
    "start_time": "2024-06-10T23:34:29.806Z"
   },
   {
    "duration": 3,
    "start_time": "2024-06-10T23:34:29.814Z"
   },
   {
    "duration": 7,
    "start_time": "2024-06-10T23:34:29.821Z"
   },
   {
    "duration": 0,
    "start_time": "2024-06-10T23:34:29.831Z"
   },
   {
    "duration": 0,
    "start_time": "2024-06-10T23:34:29.833Z"
   },
   {
    "duration": 0,
    "start_time": "2024-06-10T23:34:29.835Z"
   },
   {
    "duration": 0,
    "start_time": "2024-06-10T23:34:29.837Z"
   },
   {
    "duration": 0,
    "start_time": "2024-06-10T23:34:29.838Z"
   },
   {
    "duration": 0,
    "start_time": "2024-06-10T23:34:29.841Z"
   },
   {
    "duration": 0,
    "start_time": "2024-06-10T23:34:29.843Z"
   },
   {
    "duration": 0,
    "start_time": "2024-06-10T23:34:29.845Z"
   },
   {
    "duration": 0,
    "start_time": "2024-06-10T23:34:29.902Z"
   },
   {
    "duration": 5282,
    "start_time": "2024-06-11T05:41:30.156Z"
   },
   {
    "duration": 810,
    "start_time": "2024-06-11T05:41:35.442Z"
   },
   {
    "duration": 23,
    "start_time": "2024-06-11T05:41:36.255Z"
   },
   {
    "duration": 174,
    "start_time": "2024-06-11T05:41:36.282Z"
   },
   {
    "duration": 427,
    "start_time": "2024-06-11T05:41:36.459Z"
   },
   {
    "duration": 477,
    "start_time": "2024-06-11T05:41:36.890Z"
   },
   {
    "duration": 20,
    "start_time": "2024-06-11T05:41:37.370Z"
   },
   {
    "duration": 40,
    "start_time": "2024-06-11T05:41:37.394Z"
   },
   {
    "duration": 19,
    "start_time": "2024-06-11T05:41:37.437Z"
   },
   {
    "duration": 20,
    "start_time": "2024-06-11T05:41:37.463Z"
   },
   {
    "duration": 51,
    "start_time": "2024-06-11T05:41:37.486Z"
   },
   {
    "duration": 40,
    "start_time": "2024-06-11T05:41:37.540Z"
   },
   {
    "duration": 22,
    "start_time": "2024-06-11T05:41:37.583Z"
   },
   {
    "duration": 45,
    "start_time": "2024-06-11T05:41:37.607Z"
   },
   {
    "duration": 26,
    "start_time": "2024-06-11T05:41:37.656Z"
   },
   {
    "duration": 68,
    "start_time": "2024-06-11T05:41:37.685Z"
   },
   {
    "duration": 20,
    "start_time": "2024-06-11T05:41:37.756Z"
   },
   {
    "duration": 20,
    "start_time": "2024-06-11T05:41:37.779Z"
   },
   {
    "duration": 57,
    "start_time": "2024-06-11T05:41:37.803Z"
   },
   {
    "duration": 45,
    "start_time": "2024-06-11T05:41:37.863Z"
   },
   {
    "duration": 21,
    "start_time": "2024-06-11T05:41:37.935Z"
   },
   {
    "duration": 19,
    "start_time": "2024-06-11T05:41:37.960Z"
   },
   {
    "duration": 56,
    "start_time": "2024-06-11T05:41:37.982Z"
   },
   {
    "duration": 41,
    "start_time": "2024-06-11T05:41:38.040Z"
   },
   {
    "duration": 22,
    "start_time": "2024-06-11T05:41:38.084Z"
   },
   {
    "duration": 23,
    "start_time": "2024-06-11T05:41:38.135Z"
   },
   {
    "duration": 28,
    "start_time": "2024-06-11T05:41:38.161Z"
   },
   {
    "duration": 67,
    "start_time": "2024-06-11T05:41:38.198Z"
   },
   {
    "duration": 20,
    "start_time": "2024-06-11T05:41:38.268Z"
   },
   {
    "duration": 46,
    "start_time": "2024-06-11T05:41:38.292Z"
   },
   {
    "duration": 152,
    "start_time": "2024-06-11T05:41:38.341Z"
   },
   {
    "duration": 57,
    "start_time": "2024-06-11T05:41:38.495Z"
   },
   {
    "duration": 12,
    "start_time": "2024-06-11T05:41:38.556Z"
   },
   {
    "duration": 10,
    "start_time": "2024-06-11T05:41:38.572Z"
   },
   {
    "duration": 5,
    "start_time": "2024-06-11T05:41:38.585Z"
   },
   {
    "duration": 52,
    "start_time": "2024-06-11T05:41:38.593Z"
   },
   {
    "duration": 10,
    "start_time": "2024-06-11T05:41:38.648Z"
   },
   {
    "duration": 7,
    "start_time": "2024-06-11T05:41:38.661Z"
   },
   {
    "duration": 8,
    "start_time": "2024-06-11T05:41:38.671Z"
   },
   {
    "duration": 267,
    "start_time": "2024-06-11T05:41:38.682Z"
   },
   {
    "duration": 249,
    "start_time": "2024-06-11T05:41:38.954Z"
   },
   {
    "duration": 6,
    "start_time": "2024-06-11T05:41:39.206Z"
   },
   {
    "duration": 19,
    "start_time": "2024-06-11T05:41:39.216Z"
   },
   {
    "duration": 245,
    "start_time": "2024-06-11T05:41:39.239Z"
   },
   {
    "duration": 23,
    "start_time": "2024-06-11T05:41:39.487Z"
   },
   {
    "duration": 48,
    "start_time": "2024-06-11T05:41:39.512Z"
   },
   {
    "duration": 9,
    "start_time": "2024-06-11T05:41:39.563Z"
   },
   {
    "duration": 22,
    "start_time": "2024-06-11T05:41:39.575Z"
   },
   {
    "duration": 230,
    "start_time": "2024-06-11T05:41:39.601Z"
   },
   {
    "duration": 5,
    "start_time": "2024-06-11T05:41:39.833Z"
   },
   {
    "duration": 202845,
    "start_time": "2024-06-11T05:41:39.842Z"
   },
   {
    "duration": 3129,
    "start_time": "2024-06-11T05:45:02.690Z"
   },
   {
    "duration": 13,
    "start_time": "2024-06-11T05:45:05.822Z"
   },
   {
    "duration": 4,
    "start_time": "2024-06-11T05:45:05.839Z"
   },
   {
    "duration": 3159,
    "start_time": "2024-06-11T05:45:05.846Z"
   },
   {
    "duration": 69,
    "start_time": "2024-06-11T05:45:09.009Z"
   },
   {
    "duration": 6,
    "start_time": "2024-06-11T05:45:09.081Z"
   },
   {
    "duration": 4,
    "start_time": "2024-06-11T05:45:09.090Z"
   },
   {
    "duration": 2447,
    "start_time": "2024-06-11T05:45:09.097Z"
   },
   {
    "duration": 198,
    "start_time": "2024-06-11T05:45:11.547Z"
   },
   {
    "duration": 5,
    "start_time": "2024-06-11T05:45:11.833Z"
   },
   {
    "duration": 798,
    "start_time": "2024-06-11T05:45:11.842Z"
   },
   {
    "duration": 4,
    "start_time": "2024-06-11T05:45:12.643Z"
   },
   {
    "duration": 4,
    "start_time": "2024-06-11T05:45:12.651Z"
   },
   {
    "duration": 7,
    "start_time": "2024-06-11T05:45:12.658Z"
   },
   {
    "duration": 0,
    "start_time": "2024-06-11T05:45:12.668Z"
   },
   {
    "duration": 1,
    "start_time": "2024-06-11T05:45:12.671Z"
   },
   {
    "duration": 0,
    "start_time": "2024-06-11T05:45:12.673Z"
   },
   {
    "duration": 0,
    "start_time": "2024-06-11T05:45:12.733Z"
   },
   {
    "duration": 0,
    "start_time": "2024-06-11T05:45:12.735Z"
   },
   {
    "duration": 0,
    "start_time": "2024-06-11T05:45:12.737Z"
   },
   {
    "duration": 0,
    "start_time": "2024-06-11T05:45:12.739Z"
   },
   {
    "duration": 0,
    "start_time": "2024-06-11T05:45:12.740Z"
   },
   {
    "duration": 0,
    "start_time": "2024-06-11T05:45:12.743Z"
   },
   {
    "duration": 4,
    "start_time": "2024-06-11T05:46:01.676Z"
   },
   {
    "duration": 5,
    "start_time": "2024-06-11T05:46:02.867Z"
   },
   {
    "duration": 31356,
    "start_time": "2024-06-11T05:46:05.087Z"
   },
   {
    "duration": 4901,
    "start_time": "2024-06-11T05:47:17.254Z"
   },
   {
    "duration": 5,
    "start_time": "2024-06-11T05:47:47.299Z"
   },
   {
    "duration": 1742,
    "start_time": "2024-06-11T06:04:35.417Z"
   },
   {
    "duration": 724,
    "start_time": "2024-06-11T06:04:37.163Z"
   },
   {
    "duration": 23,
    "start_time": "2024-06-11T06:04:37.890Z"
   },
   {
    "duration": 153,
    "start_time": "2024-06-11T06:04:37.934Z"
   },
   {
    "duration": 403,
    "start_time": "2024-06-11T06:04:38.090Z"
   },
   {
    "duration": 506,
    "start_time": "2024-06-11T06:04:38.495Z"
   },
   {
    "duration": 32,
    "start_time": "2024-06-11T06:04:39.004Z"
   },
   {
    "duration": 20,
    "start_time": "2024-06-11T06:04:39.039Z"
   },
   {
    "duration": 19,
    "start_time": "2024-06-11T06:04:39.063Z"
   },
   {
    "duration": 49,
    "start_time": "2024-06-11T06:04:39.090Z"
   },
   {
    "duration": 19,
    "start_time": "2024-06-11T06:04:39.142Z"
   },
   {
    "duration": 71,
    "start_time": "2024-06-11T06:04:39.164Z"
   },
   {
    "duration": 21,
    "start_time": "2024-06-11T06:04:39.239Z"
   },
   {
    "duration": 20,
    "start_time": "2024-06-11T06:04:39.263Z"
   },
   {
    "duration": 51,
    "start_time": "2024-06-11T06:04:39.286Z"
   },
   {
    "duration": 41,
    "start_time": "2024-06-11T06:04:39.339Z"
   },
   {
    "duration": 20,
    "start_time": "2024-06-11T06:04:39.385Z"
   },
   {
    "duration": 46,
    "start_time": "2024-06-11T06:04:39.408Z"
   },
   {
    "duration": 26,
    "start_time": "2024-06-11T06:04:39.457Z"
   },
   {
    "duration": 76,
    "start_time": "2024-06-11T06:04:39.486Z"
   },
   {
    "duration": 23,
    "start_time": "2024-06-11T06:04:39.566Z"
   },
   {
    "duration": 21,
    "start_time": "2024-06-11T06:04:39.593Z"
   },
   {
    "duration": 26,
    "start_time": "2024-06-11T06:04:39.635Z"
   },
   {
    "duration": 40,
    "start_time": "2024-06-11T06:04:39.665Z"
   },
   {
    "duration": 19,
    "start_time": "2024-06-11T06:04:39.734Z"
   },
   {
    "duration": 19,
    "start_time": "2024-06-11T06:04:39.757Z"
   },
   {
    "duration": 55,
    "start_time": "2024-06-11T06:04:39.779Z"
   },
   {
    "duration": 41,
    "start_time": "2024-06-11T06:04:39.844Z"
   },
   {
    "duration": 20,
    "start_time": "2024-06-11T06:04:39.889Z"
   },
   {
    "duration": 20,
    "start_time": "2024-06-11T06:04:39.936Z"
   },
   {
    "duration": 156,
    "start_time": "2024-06-11T06:04:39.958Z"
   },
   {
    "duration": 50,
    "start_time": "2024-06-11T06:04:40.117Z"
   },
   {
    "duration": 12,
    "start_time": "2024-06-11T06:04:40.171Z"
   },
   {
    "duration": 13,
    "start_time": "2024-06-11T06:04:40.187Z"
   },
   {
    "duration": 34,
    "start_time": "2024-06-11T06:04:40.203Z"
   },
   {
    "duration": 12,
    "start_time": "2024-06-11T06:04:40.240Z"
   },
   {
    "duration": 9,
    "start_time": "2024-06-11T06:04:40.254Z"
   },
   {
    "duration": 8,
    "start_time": "2024-06-11T06:04:40.266Z"
   },
   {
    "duration": 59,
    "start_time": "2024-06-11T06:04:40.277Z"
   },
   {
    "duration": 221,
    "start_time": "2024-06-11T06:04:40.339Z"
   },
   {
    "duration": 237,
    "start_time": "2024-06-11T06:04:40.563Z"
   },
   {
    "duration": 6,
    "start_time": "2024-06-11T06:04:40.803Z"
   },
   {
    "duration": 22,
    "start_time": "2024-06-11T06:04:40.812Z"
   },
   {
    "duration": 239,
    "start_time": "2024-06-11T06:04:40.837Z"
   },
   {
    "duration": 25,
    "start_time": "2024-06-11T06:04:41.079Z"
   },
   {
    "duration": 50,
    "start_time": "2024-06-11T06:04:41.107Z"
   },
   {
    "duration": 7,
    "start_time": "2024-06-11T06:04:41.160Z"
   },
   {
    "duration": 18,
    "start_time": "2024-06-11T06:04:41.170Z"
   },
   {
    "duration": 249,
    "start_time": "2024-06-11T06:04:41.191Z"
   },
   {
    "duration": 5,
    "start_time": "2024-06-11T06:04:41.442Z"
   },
   {
    "duration": 202520,
    "start_time": "2024-06-11T06:04:41.450Z"
   },
   {
    "duration": 3156,
    "start_time": "2024-06-11T06:08:03.973Z"
   },
   {
    "duration": 7,
    "start_time": "2024-06-11T06:08:07.132Z"
   },
   {
    "duration": 4,
    "start_time": "2024-06-11T06:08:07.143Z"
   },
   {
    "duration": 3126,
    "start_time": "2024-06-11T06:08:07.151Z"
   },
   {
    "duration": 71,
    "start_time": "2024-06-11T06:08:10.280Z"
   },
   {
    "duration": 6,
    "start_time": "2024-06-11T06:08:10.354Z"
   },
   {
    "duration": 4,
    "start_time": "2024-06-11T06:08:10.363Z"
   },
   {
    "duration": 2569,
    "start_time": "2024-06-11T06:08:10.370Z"
   },
   {
    "duration": 99,
    "start_time": "2024-06-11T06:08:12.942Z"
   },
   {
    "duration": 85,
    "start_time": "2024-06-11T06:08:13.049Z"
   },
   {
    "duration": 820,
    "start_time": "2024-06-11T06:08:13.137Z"
   },
   {
    "duration": 4,
    "start_time": "2024-06-11T06:08:13.960Z"
   },
   {
    "duration": 68,
    "start_time": "2024-06-11T06:08:13.967Z"
   },
   {
    "duration": 1244110,
    "start_time": "2024-06-11T06:08:14.037Z"
   },
   {
    "duration": 3194,
    "start_time": "2024-06-11T06:28:58.149Z"
   },
   {
    "duration": 6,
    "start_time": "2024-06-11T06:29:01.346Z"
   },
   {
    "duration": 4,
    "start_time": "2024-06-11T06:29:01.355Z"
   },
   {
    "duration": 4,
    "start_time": "2024-06-11T06:29:01.362Z"
   },
   {
    "duration": 38875,
    "start_time": "2024-06-11T06:29:01.370Z"
   },
   {
    "duration": 5001,
    "start_time": "2024-06-11T06:29:40.248Z"
   },
   {
    "duration": 6,
    "start_time": "2024-06-11T06:29:45.251Z"
   },
   {
    "duration": 4,
    "start_time": "2024-06-11T06:29:45.260Z"
   },
   {
    "duration": 464,
    "start_time": "2024-06-11T06:29:45.267Z"
   },
   {
    "duration": 0,
    "start_time": "2024-06-11T06:29:45.735Z"
   },
   {
    "duration": 0,
    "start_time": "2024-06-11T06:29:45.738Z"
   },
   {
    "duration": 0,
    "start_time": "2024-06-11T06:29:45.739Z"
   },
   {
    "duration": 0,
    "start_time": "2024-06-11T06:29:45.742Z"
   },
   {
    "duration": 6,
    "start_time": "2024-06-11T06:35:19.149Z"
   },
   {
    "duration": 9,
    "start_time": "2024-06-11T06:35:30.359Z"
   },
   {
    "duration": 46659,
    "start_time": "2024-06-11T06:35:37.678Z"
   },
   {
    "duration": 148,
    "start_time": "2024-06-11T06:36:24.341Z"
   },
   {
    "duration": 6,
    "start_time": "2024-06-11T06:36:24.494Z"
   },
   {
    "duration": 4,
    "start_time": "2024-06-11T06:36:49.460Z"
   }
  ],
  "kernelspec": {
   "display_name": "Python 3 (ipykernel)",
   "language": "python",
   "name": "python3"
  },
  "language_info": {
   "codemirror_mode": {
    "name": "ipython",
    "version": 3
   },
   "file_extension": ".py",
   "mimetype": "text/x-python",
   "name": "python",
   "nbconvert_exporter": "python",
   "pygments_lexer": "ipython3",
   "version": "3.11.5"
  },
  "toc": {
   "base_numbering": 1,
   "nav_menu": {},
   "number_sections": true,
   "sideBar": true,
   "skip_h1_title": true,
   "title_cell": "Table of Contents",
   "title_sidebar": "Contents",
   "toc_cell": false,
   "toc_position": {},
   "toc_section_display": true,
   "toc_window_display": false
  }
 },
 "nbformat": 4,
 "nbformat_minor": 2
}
